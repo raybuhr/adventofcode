{
 "cells": [
  {
   "cell_type": "markdown",
   "metadata": {},
   "source": [
    "--- Day 15: Dueling Generators ---\n",
    "\n",
    "Here, you encounter a pair of dueling generators. The generators, called generator A and generator B, are trying to agree on a sequence of numbers. However, one of them is malfunctioning, and so the sequences don't always match.\n",
    "\n",
    "As they do this, a judge waits for each of them to generate its next value, compares the lowest 16 bits of both values, and keeps track of the number of times those parts of the values match.\n",
    "\n",
    "The generators both work on the same principle. To create its next value, a generator will take the previous value it produced, multiply it by a factor (generator A uses `16807`; generator B uses `48271`), and then keep the remainder of dividing that resulting product by `2147483647`. That final remainder is the value it produces next.\n",
    "\n",
    "To calculate each generator's first value, it instead uses a specific starting value as its \"previous value\" (as listed in your puzzle input).\n",
    "\n",
    "For example, suppose that for starting values, generator A uses 65, while generator B uses 8921. Then, the first five pairs of generated values are:\n",
    "\n",
    "```\n",
    "--Gen. A--  --Gen. B--\n",
    "   1092455   430625591\n",
    "1181022009  1233683848\n",
    " 245556042  1431495498\n",
    "1744312007   137874439\n",
    "1352636452   285222916\n",
    "```\n",
    "\n",
    "In binary, these pairs are (with generator A's value first in each pair):\n",
    "\n",
    "```\n",
    "00000000000100001010101101100111\n",
    "00011001101010101101001100110111\n",
    "\n",
    "01000110011001001111011100111001\n",
    "01001001100010001000010110001000\n",
    "\n",
    "00001110101000101110001101001010\n",
    "01010101010100101110001101001010\n",
    "\n",
    "01100111111110000001011011000111\n",
    "00001000001101111100110000000111\n",
    "\n",
    "01010000100111111001100000100100\n",
    "00010001000000000010100000000100\n",
    "```\n",
    "\n",
    "Here, you can see that the lowest (here, rightmost) 16 bits of the third value match: `1110001101001010`. Because of this one match, after processing these five pairs, the judge would have added only 1 to its total.\n",
    "\n",
    "To get a significant sample, the judge would like to consider 40 million pairs. (In the example above, the judge would eventually find a total of 588 pairs that match in their lowest 16 bits.)\n",
    "\n",
    "After 40 million pairs, what is the judge's final count?"
   ]
  },
  {
   "cell_type": "markdown",
   "metadata": {},
   "source": [
    "Generator A starts with 516\n",
    "\n",
    "Generator B starts with 190"
   ]
  },
  {
   "cell_type": "code",
   "execution_count": 8,
   "metadata": {},
   "outputs": [],
   "source": [
    "divisor = 2147483647\n",
    "a_factor = 16807\n",
    "b_factor = 48271\n",
    "test_a_out = [1092455, 1181022009, 245556042, 1744312007, 1352636452]\n",
    "test_b_out = [430625591, 1233683848, 1431495498, 137874439, 285222916]"
   ]
  },
  {
   "cell_type": "code",
   "execution_count": 45,
   "metadata": {},
   "outputs": [],
   "source": [
    "def gen_values(iterations, start_a=65, start_b=8921):\n",
    "    steps = 0\n",
    "    a = (a_factor * start_a) % divisor\n",
    "    b = (b_factor * start_b) % divisor\n",
    "    bin_a = bin(a)[-16:]\n",
    "    bin_b = bin(b)[-16:]\n",
    "    while steps < iterations:\n",
    "        yield bin_a == bin_b #, a, b, bin_a, bin_b\n",
    "        a = (a_factor * a) % divisor\n",
    "        b = (b_factor * b) % divisor\n",
    "        bin_a = bin(a)[-16:]\n",
    "        bin_b = bin(b)[-16:]\n",
    "        steps += 1"
   ]
  },
  {
   "cell_type": "code",
   "execution_count": 46,
   "metadata": {},
   "outputs": [
    {
     "name": "stdout",
     "output_type": "stream",
     "text": [
      "False\n",
      "False\n",
      "True\n",
      "False\n",
      "False\n"
     ]
    }
   ],
   "source": [
    "for x in gen_values(5):\n",
    "    print(x)"
   ]
  },
  {
   "cell_type": "code",
   "execution_count": 48,
   "metadata": {},
   "outputs": [
    {
     "data": {
      "text/plain": [
       "1"
      ]
     },
     "execution_count": 48,
     "metadata": {},
     "output_type": "execute_result"
    }
   ],
   "source": [
    "sum([False, False, True, False, False])"
   ]
  },
  {
   "cell_type": "code",
   "execution_count": 49,
   "metadata": {},
   "outputs": [
    {
     "data": {
      "text/plain": [
       "588"
      ]
     },
     "execution_count": 49,
     "metadata": {},
     "output_type": "execute_result"
    }
   ],
   "source": [
    "sum([x for x in gen_values(40000000) if x is True])"
   ]
  },
  {
   "cell_type": "code",
   "execution_count": 50,
   "metadata": {},
   "outputs": [
    {
     "data": {
      "text/plain": [
       "597"
      ]
     },
     "execution_count": 50,
     "metadata": {},
     "output_type": "execute_result"
    }
   ],
   "source": [
    "sum([x for x in gen_values(40000000, 516, 190)])"
   ]
  },
  {
   "cell_type": "markdown",
   "metadata": {},
   "source": [
    "That's the right answer! You are one gold star closer to debugging the printer. "
   ]
  },
  {
   "cell_type": "markdown",
   "metadata": {},
   "source": [
    "--- Part Two ---\n",
    "\n",
    "In the interest of trying to align a little better, the generators get more picky about the numbers they actually give to the judge.\n",
    "\n",
    "They still generate values in the same way, but now they only hand a value to the judge when it meets their criteria:\n",
    "\n",
    "Generator A looks for values that are multiples of 4.\n",
    "Generator B looks for values that are multiples of 8.\n",
    "Each generator functions completely independently: they both go through values entirely on their own, only occasionally handing an acceptable value to the judge, and otherwise working through the same sequence of values as before until they find one.\n",
    "\n",
    "The judge still waits for each generator to provide it with a value before comparing them (using the same comparison method as before). It keeps track of the order it receives values; the first values from each generator are compared, then the second values from each generator, then the third values, and so on.\n",
    "\n",
    "Using the example starting values given above, the generators now produce the following first five values each:\n",
    "```\n",
    "--Gen. A--  --Gen. B--\n",
    "1352636452  1233683848\n",
    "1992081072   862516352\n",
    " 530830436  1159784568\n",
    "1980017072  1616057672\n",
    " 740335192   412269392\n",
    "```\n",
    "These values have the following corresponding binary values:\n",
    "```\n",
    "01010000100111111001100000100100\n",
    "01001001100010001000010110001000\n",
    "\n",
    "01110110101111001011111010110000\n",
    "00110011011010001111010010000000\n",
    "\n",
    "00011111101000111101010001100100\n",
    "01000101001000001110100001111000\n",
    "\n",
    "01110110000001001010100110110000\n",
    "01100000010100110001010101001000\n",
    "\n",
    "00101100001000001001111001011000\n",
    "00011000100100101011101101010000\n",
    "```\n",
    "Unfortunately, even though this change makes more bits similar on average, none of these values' lowest 16 bits match. Now, it's not until the 1056th pair that the judge finds the first match:\n",
    "```\n",
    "--Gen. A--  --Gen. B--\n",
    "1023762912   896885216\n",
    "\n",
    "00111101000001010110000111100000\n",
    "00110101011101010110000111100000\n",
    "```\n",
    "This change makes the generators much slower, and the judge is getting impatient; it is now only willing to consider 5 million pairs. (Using the values from the example above, after five million pairs, the judge would eventually find a total of 309 pairs that match in their lowest 16 bits.)\n",
    "\n",
    "After 5 million pairs, but using this new generator logic, what is the judge's final count?"
   ]
  },
  {
   "cell_type": "code",
   "execution_count": 65,
   "metadata": {},
   "outputs": [],
   "source": [
    "def gen_values_stringent(iterations, start_val, factor, criteria):\n",
    "    steps = 0\n",
    "    a = (factor * start_val) % divisor\n",
    "    while steps < iterations:\n",
    "        if a % criteria == 0:\n",
    "#             yield a, bin(a)[-16:]\n",
    "            yield bin(a)[-16:]\n",
    "            steps += 1\n",
    "        a = (factor * a) % divisor"
   ]
  },
  {
   "cell_type": "code",
   "execution_count": 63,
   "metadata": {},
   "outputs": [
    {
     "name": "stdout",
     "output_type": "stream",
     "text": [
      "(1352636452, '1001100000100100')\n",
      "(1992081072, '1011111010110000')\n",
      "(530830436, '1101010001100100')\n",
      "(1980017072, '1010100110110000')\n",
      "(740335192, '1001111001011000')\n"
     ]
    }
   ],
   "source": [
    "for x in gen_values_stringent(5, 65, factor=a_factor, criteria=4):\n",
    "    print(x)"
   ]
  },
  {
   "cell_type": "code",
   "execution_count": 64,
   "metadata": {},
   "outputs": [
    {
     "name": "stdout",
     "output_type": "stream",
     "text": [
      "(1233683848, '1000010110001000')\n",
      "(862516352, '1111010010000000')\n",
      "(1159784568, '1110100001111000')\n",
      "(1616057672, '0001010101001000')\n",
      "(412269392, '1011101101010000')\n"
     ]
    }
   ],
   "source": [
    "for x in gen_values_stringent(5, 8921, factor=b_factor, criteria=8):\n",
    "    print(x)"
   ]
  },
  {
   "cell_type": "code",
   "execution_count": 69,
   "metadata": {},
   "outputs": [
    {
     "name": "stdout",
     "output_type": "stream",
     "text": [
      "1055 0110000111100000\n"
     ]
    }
   ],
   "source": [
    "test_a = [x for x in gen_values_stringent(1056, 65, a_factor, 4)]\n",
    "test_b = [x for x in gen_values_stringent(1056, 8921, b_factor, 8)]\n",
    "for x in range(len(test_a)):\n",
    "    if test_a[x] == test_b[x]:\n",
    "        print(x, test_a[x])"
   ]
  },
  {
   "cell_type": "code",
   "execution_count": 71,
   "metadata": {},
   "outputs": [],
   "source": [
    "test_a = [x for x in gen_values_stringent(5000000, 65, a_factor, 4)]\n",
    "test_b = [x for x in gen_values_stringent(5000000, 8921, b_factor, 8)]\n",
    "matches = 0\n",
    "for x in range(len(test_a)):\n",
    "    if test_a[x] == test_b[x]:\n",
    "        matches += 1"
   ]
  },
  {
   "cell_type": "code",
   "execution_count": 72,
   "metadata": {},
   "outputs": [
    {
     "data": {
      "text/plain": [
       "309"
      ]
     },
     "execution_count": 72,
     "metadata": {},
     "output_type": "execute_result"
    }
   ],
   "source": [
    "matches"
   ]
  },
  {
   "cell_type": "code",
   "execution_count": 73,
   "metadata": {},
   "outputs": [
    {
     "data": {
      "text/plain": [
       "303"
      ]
     },
     "execution_count": 73,
     "metadata": {},
     "output_type": "execute_result"
    }
   ],
   "source": [
    "a = [x for x in gen_values_stringent(5000000, 516, a_factor, 4)]\n",
    "b = [x for x in gen_values_stringent(5000000, 190, b_factor, 8)]\n",
    "matches = 0\n",
    "for x in range(len(a)):\n",
    "    if a[x] == b[x]:\n",
    "        matches += 1\n",
    "matches"
   ]
  },
  {
   "cell_type": "markdown",
   "metadata": {},
   "source": [
    "That's the right answer! You are one gold star closer to debugging the printer."
   ]
  },
  {
   "cell_type": "code",
   "execution_count": null,
   "metadata": {},
   "outputs": [],
   "source": []
  }
 ],
 "metadata": {
  "kernelspec": {
   "display_name": "Python 3",
   "language": "python",
   "name": "python3"
  },
  "language_info": {
   "codemirror_mode": {
    "name": "ipython",
    "version": 3
   },
   "file_extension": ".py",
   "mimetype": "text/x-python",
   "name": "python",
   "nbconvert_exporter": "python",
   "pygments_lexer": "ipython3",
   "version": "3.6.3"
  }
 },
 "nbformat": 4,
 "nbformat_minor": 2
}
