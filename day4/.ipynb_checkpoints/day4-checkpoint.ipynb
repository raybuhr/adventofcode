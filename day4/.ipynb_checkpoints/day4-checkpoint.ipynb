{
 "cells": [
  {
   "cell_type": "code",
   "execution_count": 28,
   "metadata": {},
   "outputs": [
    {
     "name": "stdout",
     "output_type": "stream",
     "text": [
      "/Users/raymond.buhr/Projects/advent_of_code_2017/day4/day4.txt\n"
     ]
    }
   ],
   "source": [
    "import os\n",
    "\n",
    "pwd = os.path.abspath(os.curdir)\n",
    "filename = pwd + \"/day4.txt\"\n",
    "print(filename)\n",
    "\n",
    "with open(filename) as f:\n",
    "    lines = f.readlines()"
   ]
  },
  {
   "cell_type": "code",
   "execution_count": 29,
   "metadata": {},
   "outputs": [],
   "source": [
    "line_lengths = [len(x.strip(\"\\n\").split(\" \")) for x in lines]\n",
    "uniq_lengths = [len(set(x.strip(\"\\n\").split(\" \"))) for x in lines]"
   ]
  },
  {
   "cell_type": "code",
   "execution_count": 30,
   "metadata": {},
   "outputs": [
    {
     "data": {
      "text/plain": [
       "[7, 8, 9, 9, 8]"
      ]
     },
     "execution_count": 30,
     "metadata": {},
     "output_type": "execute_result"
    }
   ],
   "source": [
    "line_lengths[0:5]"
   ]
  },
  {
   "cell_type": "code",
   "execution_count": 31,
   "metadata": {},
   "outputs": [
    {
     "data": {
      "text/plain": [
       "[7, 8, 9, 9, 7]"
      ]
     },
     "execution_count": 31,
     "metadata": {},
     "output_type": "execute_result"
    }
   ],
   "source": [
    "uniq_lengths[0:5]"
   ]
  },
  {
   "cell_type": "code",
   "execution_count": 32,
   "metadata": {},
   "outputs": [
    {
     "name": "stdout",
     "output_type": "stream",
     "text": [
      "451\n"
     ]
    }
   ],
   "source": [
    "valid_passwords = [1 for x in range(len(line_lengths)) if line_lengths[x] == uniq_lengths[x]]\n",
    "print(sum(valid_passwords))"
   ]
  },
  {
   "cell_type": "markdown",
   "metadata": {},
   "source": [
    "That's the right answer! You are one gold star closer to debugging the printer."
   ]
  },
  {
   "cell_type": "markdown",
   "metadata": {},
   "source": [
    "--- Part Two ---\n",
    "\n",
    "For added security, yet another system policy has been put in place. Now, a valid passphrase must contain no two words that are anagrams of each other - that is, a passphrase is invalid if any word's letters can be rearranged to form any other word in the passphrase.\n",
    "\n",
    "For example:\n",
    "\n",
    "abcde fghij is a valid passphrase.\n",
    "abcde xyz ecdab is not valid - the letters from the third word can be rearranged to form the first word.\n",
    "a ab abc abd abf abj is a valid passphrase, because all letters need to be used when forming another word.\n",
    "iiii oiii ooii oooi oooo is valid.\n",
    "oiii ioii iioi iiio is not valid - any of these words can be rearranged to form any other word.\n",
    "Under this new system policy, how many passphrases are valid?"
   ]
  },
  {
   "cell_type": "code",
   "execution_count": 33,
   "metadata": {
    "collapsed": true
   },
   "outputs": [],
   "source": [
    "import pandas as pd"
   ]
  },
  {
   "cell_type": "code",
   "execution_count": 38,
   "metadata": {},
   "outputs": [],
   "source": [
    "passwords = [x.strip(\"\\n\").split(\" \") for x in lines]\n",
    "df = pd.DataFrame({\"words\": passwords})"
   ]
  },
  {
   "cell_type": "code",
   "execution_count": 50,
   "metadata": {
    "collapsed": true
   },
   "outputs": [],
   "source": [
    "def has_anagram(word_list):\n",
    "    new_list = [''.join(sorted(x)) for x in word_list]\n",
    "    if len(set(new_list)) == len(word_list):\n",
    "        return False\n",
    "    else:\n",
    "        return True"
   ]
  },
  {
   "cell_type": "code",
   "execution_count": 47,
   "metadata": {},
   "outputs": [
    {
     "data": {
      "text/plain": [
       "['jntvwx', 'jntvwx', 'bisvvx', 'mmsw', 'jntvwx', 'acdinw', 'hprr']"
      ]
     },
     "execution_count": 47,
     "metadata": {},
     "output_type": "execute_result"
    }
   ],
   "source": [
    "test_list = [''.join(sorted(x)) for x in passwords[0]]\n",
    "test_list"
   ]
  },
  {
   "cell_type": "code",
   "execution_count": 51,
   "metadata": {},
   "outputs": [
    {
     "data": {
      "text/plain": [
       "True"
      ]
     },
     "execution_count": 51,
     "metadata": {},
     "output_type": "execute_result"
    }
   ],
   "source": [
    "has_anagram(passwords[0])"
   ]
  },
  {
   "cell_type": "code",
   "execution_count": 52,
   "metadata": {
    "collapsed": true
   },
   "outputs": [],
   "source": [
    "df['has_anagram'] = df.words.apply(has_anagram)"
   ]
  },
  {
   "cell_type": "code",
   "execution_count": 53,
   "metadata": {},
   "outputs": [
    {
     "data": {
      "text/html": [
       "<div>\n",
       "<style>\n",
       "    .dataframe thead tr:only-child th {\n",
       "        text-align: right;\n",
       "    }\n",
       "\n",
       "    .dataframe thead th {\n",
       "        text-align: left;\n",
       "    }\n",
       "\n",
       "    .dataframe tbody tr th {\n",
       "        vertical-align: top;\n",
       "    }\n",
       "</style>\n",
       "<table border=\"1\" class=\"dataframe\">\n",
       "  <thead>\n",
       "    <tr style=\"text-align: right;\">\n",
       "      <th></th>\n",
       "      <th>words</th>\n",
       "      <th>has_anagram</th>\n",
       "    </tr>\n",
       "  </thead>\n",
       "  <tbody>\n",
       "    <tr>\n",
       "      <th>128</th>\n",
       "      <td>[kogq, okhd, mivmivb, mivmivb, okhd]</td>\n",
       "      <td>True</td>\n",
       "    </tr>\n",
       "    <tr>\n",
       "      <th>260</th>\n",
       "      <td>[loupd, nwsc, yytvuqo, ltcqxnf]</td>\n",
       "      <td>False</td>\n",
       "    </tr>\n",
       "    <tr>\n",
       "      <th>42</th>\n",
       "      <td>[mdhezgv, lelzy, kzfvsqu, hvmvaxw, pxiqjc, hvm...</td>\n",
       "      <td>True</td>\n",
       "    </tr>\n",
       "    <tr>\n",
       "      <th>454</th>\n",
       "      <td>[jsviu, sraw, imsj, fujm, cdf, xwqhl, lhz, oje...</td>\n",
       "      <td>False</td>\n",
       "    </tr>\n",
       "    <tr>\n",
       "      <th>235</th>\n",
       "      <td>[qcu, fii, axmgijj, ifi, oixjfsg, jxagijm]</td>\n",
       "      <td>True</td>\n",
       "    </tr>\n",
       "    <tr>\n",
       "      <th>248</th>\n",
       "      <td>[alzdrk, tsxbuld, mdbq, pgbdtoo, xwf, vzalric,...</td>\n",
       "      <td>True</td>\n",
       "    </tr>\n",
       "    <tr>\n",
       "      <th>436</th>\n",
       "      <td>[skcprn, yns, sao, ghlq, vftezvc, aaryahy, telt]</td>\n",
       "      <td>False</td>\n",
       "    </tr>\n",
       "    <tr>\n",
       "      <th>159</th>\n",
       "      <td>[irytjab, mdzm, qbb, kkjt, gofiwo, xgbovg, kye...</td>\n",
       "      <td>False</td>\n",
       "    </tr>\n",
       "    <tr>\n",
       "      <th>117</th>\n",
       "      <td>[vil, zjz, xkqrvni, uay, ystq]</td>\n",
       "      <td>False</td>\n",
       "    </tr>\n",
       "    <tr>\n",
       "      <th>73</th>\n",
       "      <td>[oydkmib, oydkmib, yefts, gbl, gbl]</td>\n",
       "      <td>True</td>\n",
       "    </tr>\n",
       "  </tbody>\n",
       "</table>\n",
       "</div>"
      ],
      "text/plain": [
       "                                                 words  has_anagram\n",
       "128               [kogq, okhd, mivmivb, mivmivb, okhd]         True\n",
       "260                    [loupd, nwsc, yytvuqo, ltcqxnf]        False\n",
       "42   [mdhezgv, lelzy, kzfvsqu, hvmvaxw, pxiqjc, hvm...         True\n",
       "454  [jsviu, sraw, imsj, fujm, cdf, xwqhl, lhz, oje...        False\n",
       "235         [qcu, fii, axmgijj, ifi, oixjfsg, jxagijm]         True\n",
       "248  [alzdrk, tsxbuld, mdbq, pgbdtoo, xwf, vzalric,...         True\n",
       "436   [skcprn, yns, sao, ghlq, vftezvc, aaryahy, telt]        False\n",
       "159  [irytjab, mdzm, qbb, kkjt, gofiwo, xgbovg, kye...        False\n",
       "117                     [vil, zjz, xkqrvni, uay, ystq]        False\n",
       "73                 [oydkmib, oydkmib, yefts, gbl, gbl]         True"
      ]
     },
     "execution_count": 53,
     "metadata": {},
     "output_type": "execute_result"
    }
   ],
   "source": [
    "df.sample(10)"
   ]
  },
  {
   "cell_type": "code",
   "execution_count": 55,
   "metadata": {},
   "outputs": [
    {
     "data": {
      "text/plain": [
       "289"
      ]
     },
     "execution_count": 55,
     "metadata": {},
     "output_type": "execute_result"
    }
   ],
   "source": [
    "df.has_anagram.sum()"
   ]
  },
  {
   "cell_type": "code",
   "execution_count": 56,
   "metadata": {
    "collapsed": true
   },
   "outputs": [],
   "source": [
    "def is_not_valid(word_list):\n",
    "    unique_words = set(word_list)\n",
    "    if len(unique_words) == len(word_list):\n",
    "        return False\n",
    "    else:\n",
    "        return True"
   ]
  },
  {
   "cell_type": "code",
   "execution_count": 58,
   "metadata": {},
   "outputs": [
    {
     "name": "stdout",
     "output_type": "stream",
     "text": [
      "['vxjtwn', 'vjnxtw', 'sxibvv', 'mmws', 'wjvtxn', 'icawnd', 'rprh']\n"
     ]
    },
    {
     "data": {
      "text/plain": [
       "False"
      ]
     },
     "execution_count": 58,
     "metadata": {},
     "output_type": "execute_result"
    }
   ],
   "source": [
    "print(passwords[0])\n",
    "is_not_valid(passwords[0])"
   ]
  },
  {
   "cell_type": "code",
   "execution_count": 59,
   "metadata": {
    "collapsed": true
   },
   "outputs": [],
   "source": [
    "df['not_valid'] = df.words.apply(is_not_valid)"
   ]
  },
  {
   "cell_type": "code",
   "execution_count": 60,
   "metadata": {},
   "outputs": [
    {
     "data": {
      "text/html": [
       "<div>\n",
       "<style>\n",
       "    .dataframe thead tr:only-child th {\n",
       "        text-align: right;\n",
       "    }\n",
       "\n",
       "    .dataframe thead th {\n",
       "        text-align: left;\n",
       "    }\n",
       "\n",
       "    .dataframe tbody tr th {\n",
       "        vertical-align: top;\n",
       "    }\n",
       "</style>\n",
       "<table border=\"1\" class=\"dataframe\">\n",
       "  <thead>\n",
       "    <tr style=\"text-align: right;\">\n",
       "      <th></th>\n",
       "      <th>words</th>\n",
       "      <th>has_anagram</th>\n",
       "      <th>not_valid</th>\n",
       "    </tr>\n",
       "  </thead>\n",
       "  <tbody>\n",
       "    <tr>\n",
       "      <th>80</th>\n",
       "      <td>[zals, csdbe, sbj, dibicq, kdfwwt]</td>\n",
       "      <td>False</td>\n",
       "      <td>False</td>\n",
       "    </tr>\n",
       "    <tr>\n",
       "      <th>289</th>\n",
       "      <td>[xupzw, vmxwu, sis, wzpxu]</td>\n",
       "      <td>True</td>\n",
       "      <td>False</td>\n",
       "    </tr>\n",
       "    <tr>\n",
       "      <th>448</th>\n",
       "      <td>[djj, tbr, tbr, tbr, ice]</td>\n",
       "      <td>True</td>\n",
       "      <td>True</td>\n",
       "    </tr>\n",
       "    <tr>\n",
       "      <th>387</th>\n",
       "      <td>[jjxzwl, himpra, ssjf, bibfiui, seeaq, pzse]</td>\n",
       "      <td>False</td>\n",
       "      <td>False</td>\n",
       "    </tr>\n",
       "    <tr>\n",
       "      <th>369</th>\n",
       "      <td>[kmwhb, kfcb, mbhkw, gemz, fdh]</td>\n",
       "      <td>True</td>\n",
       "      <td>False</td>\n",
       "    </tr>\n",
       "    <tr>\n",
       "      <th>163</th>\n",
       "      <td>[vzn, afatwye, ogzvnu, vnz, rfjba, xtugnj, kpb...</td>\n",
       "      <td>True</td>\n",
       "      <td>False</td>\n",
       "    </tr>\n",
       "    <tr>\n",
       "      <th>347</th>\n",
       "      <td>[izgh, zfv, cingjt, dkf, cknite, qox, vfz, zvf]</td>\n",
       "      <td>True</td>\n",
       "      <td>False</td>\n",
       "    </tr>\n",
       "    <tr>\n",
       "      <th>317</th>\n",
       "      <td>[rzgqi, hjwtthl, kxhggbl, wepc, hgavj, ctmqug]</td>\n",
       "      <td>False</td>\n",
       "      <td>False</td>\n",
       "    </tr>\n",
       "    <tr>\n",
       "      <th>24</th>\n",
       "      <td>[dnltf, cck, djy, ydj]</td>\n",
       "      <td>True</td>\n",
       "      <td>False</td>\n",
       "    </tr>\n",
       "    <tr>\n",
       "      <th>65</th>\n",
       "      <td>[sao, xqw, nrukn, gatkz, quscpsx, vmz, oscoeb]</td>\n",
       "      <td>False</td>\n",
       "      <td>False</td>\n",
       "    </tr>\n",
       "  </tbody>\n",
       "</table>\n",
       "</div>"
      ],
      "text/plain": [
       "                                                 words  has_anagram  not_valid\n",
       "80                  [zals, csdbe, sbj, dibicq, kdfwwt]        False      False\n",
       "289                         [xupzw, vmxwu, sis, wzpxu]         True      False\n",
       "448                          [djj, tbr, tbr, tbr, ice]         True       True\n",
       "387       [jjxzwl, himpra, ssjf, bibfiui, seeaq, pzse]        False      False\n",
       "369                    [kmwhb, kfcb, mbhkw, gemz, fdh]         True      False\n",
       "163  [vzn, afatwye, ogzvnu, vnz, rfjba, xtugnj, kpb...         True      False\n",
       "347    [izgh, zfv, cingjt, dkf, cknite, qox, vfz, zvf]         True      False\n",
       "317     [rzgqi, hjwtthl, kxhggbl, wepc, hgavj, ctmqug]        False      False\n",
       "24                              [dnltf, cck, djy, ydj]         True      False\n",
       "65      [sao, xqw, nrukn, gatkz, quscpsx, vmz, oscoeb]        False      False"
      ]
     },
     "execution_count": 60,
     "metadata": {},
     "output_type": "execute_result"
    }
   ],
   "source": [
    "df.sample(10)"
   ]
  },
  {
   "cell_type": "code",
   "execution_count": 63,
   "metadata": {
    "scrolled": false
   },
   "outputs": [
    {
     "data": {
      "text/html": [
       "<div>\n",
       "<style>\n",
       "    .dataframe thead tr:only-child th {\n",
       "        text-align: right;\n",
       "    }\n",
       "\n",
       "    .dataframe thead th {\n",
       "        text-align: left;\n",
       "    }\n",
       "\n",
       "    .dataframe tbody tr th {\n",
       "        vertical-align: top;\n",
       "    }\n",
       "</style>\n",
       "<table border=\"1\" class=\"dataframe\">\n",
       "  <thead>\n",
       "    <tr style=\"text-align: right;\">\n",
       "      <th></th>\n",
       "      <th>words</th>\n",
       "      <th>has_anagram</th>\n",
       "      <th>not_valid</th>\n",
       "    </tr>\n",
       "  </thead>\n",
       "  <tbody>\n",
       "    <tr>\n",
       "      <th>1</th>\n",
       "      <td>[fhaa, qwy, vqbq, gsswej, lxr, yzl, wakcige, m...</td>\n",
       "      <td>False</td>\n",
       "      <td>False</td>\n",
       "    </tr>\n",
       "    <tr>\n",
       "      <th>2</th>\n",
       "      <td>[bhnlow, huqa, gtbjc, gvj, wrkyr, jgvmhj, bgs,...</td>\n",
       "      <td>False</td>\n",
       "      <td>False</td>\n",
       "    </tr>\n",
       "    <tr>\n",
       "      <th>3</th>\n",
       "      <td>[drczdf, bglmf, gsx, flcf, ojpj, kzrwrho, owbk...</td>\n",
       "      <td>False</td>\n",
       "      <td>False</td>\n",
       "    </tr>\n",
       "    <tr>\n",
       "      <th>5</th>\n",
       "      <td>[kdd, itdyhe, pvljizn, cgi]</td>\n",
       "      <td>False</td>\n",
       "      <td>False</td>\n",
       "    </tr>\n",
       "    <tr>\n",
       "      <th>7</th>\n",
       "      <td>[zvc, qdk, mlmyj, kybbh, lgbb, fvfzcer, frmaxa...</td>\n",
       "      <td>False</td>\n",
       "      <td>False</td>\n",
       "    </tr>\n",
       "    <tr>\n",
       "      <th>9</th>\n",
       "      <td>[golnm, ltizhd, dvwv, xrizqhd, omegnez, nan, y...</td>\n",
       "      <td>False</td>\n",
       "      <td>False</td>\n",
       "    </tr>\n",
       "    <tr>\n",
       "      <th>11</th>\n",
       "      <td>[yej, cphl, jtp, swe, axhljo, ddwk, obwsq, mne...</td>\n",
       "      <td>False</td>\n",
       "      <td>False</td>\n",
       "    </tr>\n",
       "    <tr>\n",
       "      <th>19</th>\n",
       "      <td>[kcebrkj, zmuf, ueewxhi, mgyepbr, nleviqc, dez]</td>\n",
       "      <td>False</td>\n",
       "      <td>False</td>\n",
       "    </tr>\n",
       "    <tr>\n",
       "      <th>25</th>\n",
       "      <td>[wywwl, scezo, clowuz, dkgqaj, dohyzcp]</td>\n",
       "      <td>False</td>\n",
       "      <td>False</td>\n",
       "    </tr>\n",
       "    <tr>\n",
       "      <th>27</th>\n",
       "      <td>[wfpxe, sqf, tbb, ruqpcq, zfgb]</td>\n",
       "      <td>False</td>\n",
       "      <td>False</td>\n",
       "    </tr>\n",
       "    <tr>\n",
       "      <th>43</th>\n",
       "      <td>[hsicsav, csshrhx, znojm, eapi, lhmzq, bbwnz, ...</td>\n",
       "      <td>False</td>\n",
       "      <td>False</td>\n",
       "    </tr>\n",
       "    <tr>\n",
       "      <th>44</th>\n",
       "      <td>[pup, xtgjyzy, wqt, ijeektl]</td>\n",
       "      <td>False</td>\n",
       "      <td>False</td>\n",
       "    </tr>\n",
       "    <tr>\n",
       "      <th>45</th>\n",
       "      <td>[ktwh, qdegzs, btj, pfwzzho]</td>\n",
       "      <td>False</td>\n",
       "      <td>False</td>\n",
       "    </tr>\n",
       "    <tr>\n",
       "      <th>46</th>\n",
       "      <td>[xdkmdm, izqtjrr, iqbke, vtp]</td>\n",
       "      <td>False</td>\n",
       "      <td>False</td>\n",
       "    </tr>\n",
       "    <tr>\n",
       "      <th>53</th>\n",
       "      <td>[mnep, sfc, swjawtd, vnwud, gyulluw, zpa, kmwy...</td>\n",
       "      <td>False</td>\n",
       "      <td>False</td>\n",
       "    </tr>\n",
       "    <tr>\n",
       "      <th>55</th>\n",
       "      <td>[wpvo, dsjox, amuwjm, pls, lgwksva, ctakgpl, r...</td>\n",
       "      <td>False</td>\n",
       "      <td>False</td>\n",
       "    </tr>\n",
       "    <tr>\n",
       "      <th>56</th>\n",
       "      <td>[bji, obbn, tmwyc, afpmkxr, glvrd, kahhgpq, rn...</td>\n",
       "      <td>False</td>\n",
       "      <td>False</td>\n",
       "    </tr>\n",
       "    <tr>\n",
       "      <th>58</th>\n",
       "      <td>[mmzk, ikge, zhtzhs, xyo, qwe, lll, gjjm, icet...</td>\n",
       "      <td>False</td>\n",
       "      <td>False</td>\n",
       "    </tr>\n",
       "    <tr>\n",
       "      <th>59</th>\n",
       "      <td>[kxomfck, idlh, xrbowo, nyetbnl, qskh, xuwkkxe...</td>\n",
       "      <td>False</td>\n",
       "      <td>False</td>\n",
       "    </tr>\n",
       "    <tr>\n",
       "      <th>62</th>\n",
       "      <td>[lbktun, imdpcp, fkssp, fhcpt, fehho, jqdnt, a...</td>\n",
       "      <td>False</td>\n",
       "      <td>False</td>\n",
       "    </tr>\n",
       "    <tr>\n",
       "      <th>63</th>\n",
       "      <td>[jmun, pynzjo, trs, ijwcc, pelf, oft, pcsqdxg,...</td>\n",
       "      <td>False</td>\n",
       "      <td>False</td>\n",
       "    </tr>\n",
       "    <tr>\n",
       "      <th>64</th>\n",
       "      <td>[mneaaq, vjrg, jidlrzz, phd, mvxpivd, ldkhu]</td>\n",
       "      <td>False</td>\n",
       "      <td>False</td>\n",
       "    </tr>\n",
       "    <tr>\n",
       "      <th>65</th>\n",
       "      <td>[sao, xqw, nrukn, gatkz, quscpsx, vmz, oscoeb]</td>\n",
       "      <td>False</td>\n",
       "      <td>False</td>\n",
       "    </tr>\n",
       "    <tr>\n",
       "      <th>66</th>\n",
       "      <td>[goi, wzxhb, rrk, aylqqcd, mlcbvvf, ororn, hep...</td>\n",
       "      <td>False</td>\n",
       "      <td>False</td>\n",
       "    </tr>\n",
       "    <tr>\n",
       "      <th>67</th>\n",
       "      <td>[qsj, lsbieef, deez, vzwdx, hez, iwd]</td>\n",
       "      <td>False</td>\n",
       "      <td>False</td>\n",
       "    </tr>\n",
       "    <tr>\n",
       "      <th>68</th>\n",
       "      <td>[lmgfb, keqt, mqbsuis, ogrr, errbi, xiqe, xssz...</td>\n",
       "      <td>False</td>\n",
       "      <td>False</td>\n",
       "    </tr>\n",
       "    <tr>\n",
       "      <th>72</th>\n",
       "      <td>[oegrojm, wofpwp, gnaocx, rweyull, ellhwow, dt...</td>\n",
       "      <td>False</td>\n",
       "      <td>False</td>\n",
       "    </tr>\n",
       "    <tr>\n",
       "      <th>75</th>\n",
       "      <td>[obpxbax, jhpcrj, slcsa, lgd, fborz, vvpaus, w...</td>\n",
       "      <td>False</td>\n",
       "      <td>False</td>\n",
       "    </tr>\n",
       "    <tr>\n",
       "      <th>78</th>\n",
       "      <td>[vnqe, ooyxtb, ixl, hdmnpn, orpz, ykspl, xromv...</td>\n",
       "      <td>False</td>\n",
       "      <td>False</td>\n",
       "    </tr>\n",
       "    <tr>\n",
       "      <th>80</th>\n",
       "      <td>[zals, csdbe, sbj, dibicq, kdfwwt]</td>\n",
       "      <td>False</td>\n",
       "      <td>False</td>\n",
       "    </tr>\n",
       "    <tr>\n",
       "      <th>...</th>\n",
       "      <td>...</td>\n",
       "      <td>...</td>\n",
       "      <td>...</td>\n",
       "    </tr>\n",
       "    <tr>\n",
       "      <th>446</th>\n",
       "      <td>[ccp, iilcc, tacf, czk, giwv, erqi, jgdfah, wi...</td>\n",
       "      <td>False</td>\n",
       "      <td>False</td>\n",
       "    </tr>\n",
       "    <tr>\n",
       "      <th>451</th>\n",
       "      <td>[latdaav, sexa, ipzuzjl, ayusb, etb, fshh]</td>\n",
       "      <td>False</td>\n",
       "      <td>False</td>\n",
       "    </tr>\n",
       "    <tr>\n",
       "      <th>454</th>\n",
       "      <td>[jsviu, sraw, imsj, fujm, cdf, xwqhl, lhz, oje...</td>\n",
       "      <td>False</td>\n",
       "      <td>False</td>\n",
       "    </tr>\n",
       "    <tr>\n",
       "      <th>456</th>\n",
       "      <td>[zgx, bpfa, elhp, rnyqtq, wyceube, nkeuxz]</td>\n",
       "      <td>False</td>\n",
       "      <td>False</td>\n",
       "    </tr>\n",
       "    <tr>\n",
       "      <th>458</th>\n",
       "      <td>[cpmv, ysaaj, xnp, wbvqg, hrsiuj, venjxna, yeq...</td>\n",
       "      <td>False</td>\n",
       "      <td>False</td>\n",
       "    </tr>\n",
       "    <tr>\n",
       "      <th>459</th>\n",
       "      <td>[xpbbe, tyn, hfdlu, fto, wrgzkou, sxylv, cqto,...</td>\n",
       "      <td>False</td>\n",
       "      <td>False</td>\n",
       "    </tr>\n",
       "    <tr>\n",
       "      <th>460</th>\n",
       "      <td>[pkrxypl, wnu, oipq, tzbhnc, gpug, tgzf, ofjb]</td>\n",
       "      <td>False</td>\n",
       "      <td>False</td>\n",
       "    </tr>\n",
       "    <tr>\n",
       "      <th>461</th>\n",
       "      <td>[mvaz, bwcv, gll, itgcye, dessw, szt, gzimgeu,...</td>\n",
       "      <td>False</td>\n",
       "      <td>False</td>\n",
       "    </tr>\n",
       "    <tr>\n",
       "      <th>462</th>\n",
       "      <td>[lhvnrzs, qkmjwy, pnyciwp, mgp, jfdz, ghvtf, y...</td>\n",
       "      <td>False</td>\n",
       "      <td>False</td>\n",
       "    </tr>\n",
       "    <tr>\n",
       "      <th>466</th>\n",
       "      <td>[zipadig, nvewx, cir, lbpcusx, dljqy]</td>\n",
       "      <td>False</td>\n",
       "      <td>False</td>\n",
       "    </tr>\n",
       "    <tr>\n",
       "      <th>468</th>\n",
       "      <td>[egmyxbe, ieasvek, dylmj, qahtatr, uyqgbk]</td>\n",
       "      <td>False</td>\n",
       "      <td>False</td>\n",
       "    </tr>\n",
       "    <tr>\n",
       "      <th>469</th>\n",
       "      <td>[mejjczw, spj, vaekp, kdud]</td>\n",
       "      <td>False</td>\n",
       "      <td>False</td>\n",
       "    </tr>\n",
       "    <tr>\n",
       "      <th>471</th>\n",
       "      <td>[pqm, eihogk, iwml, nuauxi, ngilkoh, jmu, mbdi...</td>\n",
       "      <td>False</td>\n",
       "      <td>False</td>\n",
       "    </tr>\n",
       "    <tr>\n",
       "      <th>473</th>\n",
       "      <td>[prwrpvz, oadpqvz, tgzrt, giom, pjyihh, rxdir,...</td>\n",
       "      <td>False</td>\n",
       "      <td>False</td>\n",
       "    </tr>\n",
       "    <tr>\n",
       "      <th>475</th>\n",
       "      <td>[yep, liv, ofmtpod, imdd, qyw]</td>\n",
       "      <td>False</td>\n",
       "      <td>False</td>\n",
       "    </tr>\n",
       "    <tr>\n",
       "      <th>477</th>\n",
       "      <td>[hqr, kqu, oub, skoeqk, icnfm, cqvld, aay, bto]</td>\n",
       "      <td>False</td>\n",
       "      <td>False</td>\n",
       "    </tr>\n",
       "    <tr>\n",
       "      <th>479</th>\n",
       "      <td>[mbr, gqu, oxvchrt, nqa, larxmjx, pfozej]</td>\n",
       "      <td>False</td>\n",
       "      <td>False</td>\n",
       "    </tr>\n",
       "    <tr>\n",
       "      <th>480</th>\n",
       "      <td>[ozuo, ywubjbg, xcua, eblwqp, nfdvw, hmhen, zk...</td>\n",
       "      <td>False</td>\n",
       "      <td>False</td>\n",
       "    </tr>\n",
       "    <tr>\n",
       "      <th>482</th>\n",
       "      <td>[cldr, crhi, lbaq, fbuduyn, hygbz, uhida]</td>\n",
       "      <td>False</td>\n",
       "      <td>False</td>\n",
       "    </tr>\n",
       "    <tr>\n",
       "      <th>489</th>\n",
       "      <td>[jwbq, hbxaub, jpdilyt, yvalrlk, topl, qup]</td>\n",
       "      <td>False</td>\n",
       "      <td>False</td>\n",
       "    </tr>\n",
       "    <tr>\n",
       "      <th>490</th>\n",
       "      <td>[eczonk, ftcc, paltirb, owz, tihhe, dglxory, w...</td>\n",
       "      <td>False</td>\n",
       "      <td>False</td>\n",
       "    </tr>\n",
       "    <tr>\n",
       "      <th>491</th>\n",
       "      <td>[ooruaby, gboyeu, lkv, arrz, jcqyzl, uxlfk, fh...</td>\n",
       "      <td>False</td>\n",
       "      <td>False</td>\n",
       "    </tr>\n",
       "    <tr>\n",
       "      <th>492</th>\n",
       "      <td>[wzr, xjb, pwmf, okqj, adwcedy, lkidve, uwekxf...</td>\n",
       "      <td>False</td>\n",
       "      <td>False</td>\n",
       "    </tr>\n",
       "    <tr>\n",
       "      <th>493</th>\n",
       "      <td>[dikhur, pxgh, urdinjh, wednf, ulzdxs]</td>\n",
       "      <td>False</td>\n",
       "      <td>False</td>\n",
       "    </tr>\n",
       "    <tr>\n",
       "      <th>496</th>\n",
       "      <td>[lqala, bqwgcul, vetaa, xuxjau, zcb, wtdmomu, ...</td>\n",
       "      <td>False</td>\n",
       "      <td>False</td>\n",
       "    </tr>\n",
       "    <tr>\n",
       "      <th>498</th>\n",
       "      <td>[abq, npcyld, fzbfku, oia, qss, jkxldm, wgtmki...</td>\n",
       "      <td>False</td>\n",
       "      <td>False</td>\n",
       "    </tr>\n",
       "    <tr>\n",
       "      <th>500</th>\n",
       "      <td>[djxoo, jzlkh, svy, xige]</td>\n",
       "      <td>False</td>\n",
       "      <td>False</td>\n",
       "    </tr>\n",
       "    <tr>\n",
       "      <th>501</th>\n",
       "      <td>[tjlkkg, glcuvmh, fwzlhi, ecun, qlgulj, hrfhyq...</td>\n",
       "      <td>False</td>\n",
       "      <td>False</td>\n",
       "    </tr>\n",
       "    <tr>\n",
       "      <th>503</th>\n",
       "      <td>[favd, nzqfdid, nekfjsf, mtjndu]</td>\n",
       "      <td>False</td>\n",
       "      <td>False</td>\n",
       "    </tr>\n",
       "    <tr>\n",
       "      <th>506</th>\n",
       "      <td>[wzdwlc, wisst, alw, kyjeur, sjsqfcr, tta, bij...</td>\n",
       "      <td>False</td>\n",
       "      <td>False</td>\n",
       "    </tr>\n",
       "  </tbody>\n",
       "</table>\n",
       "<p>223 rows × 3 columns</p>\n",
       "</div>"
      ],
      "text/plain": [
       "                                                 words  has_anagram  not_valid\n",
       "1    [fhaa, qwy, vqbq, gsswej, lxr, yzl, wakcige, m...        False      False\n",
       "2    [bhnlow, huqa, gtbjc, gvj, wrkyr, jgvmhj, bgs,...        False      False\n",
       "3    [drczdf, bglmf, gsx, flcf, ojpj, kzrwrho, owbk...        False      False\n",
       "5                          [kdd, itdyhe, pvljizn, cgi]        False      False\n",
       "7    [zvc, qdk, mlmyj, kybbh, lgbb, fvfzcer, frmaxa...        False      False\n",
       "9    [golnm, ltizhd, dvwv, xrizqhd, omegnez, nan, y...        False      False\n",
       "11   [yej, cphl, jtp, swe, axhljo, ddwk, obwsq, mne...        False      False\n",
       "19     [kcebrkj, zmuf, ueewxhi, mgyepbr, nleviqc, dez]        False      False\n",
       "25             [wywwl, scezo, clowuz, dkgqaj, dohyzcp]        False      False\n",
       "27                     [wfpxe, sqf, tbb, ruqpcq, zfgb]        False      False\n",
       "43   [hsicsav, csshrhx, znojm, eapi, lhmzq, bbwnz, ...        False      False\n",
       "44                        [pup, xtgjyzy, wqt, ijeektl]        False      False\n",
       "45                        [ktwh, qdegzs, btj, pfwzzho]        False      False\n",
       "46                       [xdkmdm, izqtjrr, iqbke, vtp]        False      False\n",
       "53   [mnep, sfc, swjawtd, vnwud, gyulluw, zpa, kmwy...        False      False\n",
       "55   [wpvo, dsjox, amuwjm, pls, lgwksva, ctakgpl, r...        False      False\n",
       "56   [bji, obbn, tmwyc, afpmkxr, glvrd, kahhgpq, rn...        False      False\n",
       "58   [mmzk, ikge, zhtzhs, xyo, qwe, lll, gjjm, icet...        False      False\n",
       "59   [kxomfck, idlh, xrbowo, nyetbnl, qskh, xuwkkxe...        False      False\n",
       "62   [lbktun, imdpcp, fkssp, fhcpt, fehho, jqdnt, a...        False      False\n",
       "63   [jmun, pynzjo, trs, ijwcc, pelf, oft, pcsqdxg,...        False      False\n",
       "64        [mneaaq, vjrg, jidlrzz, phd, mvxpivd, ldkhu]        False      False\n",
       "65      [sao, xqw, nrukn, gatkz, quscpsx, vmz, oscoeb]        False      False\n",
       "66   [goi, wzxhb, rrk, aylqqcd, mlcbvvf, ororn, hep...        False      False\n",
       "67               [qsj, lsbieef, deez, vzwdx, hez, iwd]        False      False\n",
       "68   [lmgfb, keqt, mqbsuis, ogrr, errbi, xiqe, xssz...        False      False\n",
       "72   [oegrojm, wofpwp, gnaocx, rweyull, ellhwow, dt...        False      False\n",
       "75   [obpxbax, jhpcrj, slcsa, lgd, fborz, vvpaus, w...        False      False\n",
       "78   [vnqe, ooyxtb, ixl, hdmnpn, orpz, ykspl, xromv...        False      False\n",
       "80                  [zals, csdbe, sbj, dibicq, kdfwwt]        False      False\n",
       "..                                                 ...          ...        ...\n",
       "446  [ccp, iilcc, tacf, czk, giwv, erqi, jgdfah, wi...        False      False\n",
       "451         [latdaav, sexa, ipzuzjl, ayusb, etb, fshh]        False      False\n",
       "454  [jsviu, sraw, imsj, fujm, cdf, xwqhl, lhz, oje...        False      False\n",
       "456         [zgx, bpfa, elhp, rnyqtq, wyceube, nkeuxz]        False      False\n",
       "458  [cpmv, ysaaj, xnp, wbvqg, hrsiuj, venjxna, yeq...        False      False\n",
       "459  [xpbbe, tyn, hfdlu, fto, wrgzkou, sxylv, cqto,...        False      False\n",
       "460     [pkrxypl, wnu, oipq, tzbhnc, gpug, tgzf, ofjb]        False      False\n",
       "461  [mvaz, bwcv, gll, itgcye, dessw, szt, gzimgeu,...        False      False\n",
       "462  [lhvnrzs, qkmjwy, pnyciwp, mgp, jfdz, ghvtf, y...        False      False\n",
       "466              [zipadig, nvewx, cir, lbpcusx, dljqy]        False      False\n",
       "468         [egmyxbe, ieasvek, dylmj, qahtatr, uyqgbk]        False      False\n",
       "469                        [mejjczw, spj, vaekp, kdud]        False      False\n",
       "471  [pqm, eihogk, iwml, nuauxi, ngilkoh, jmu, mbdi...        False      False\n",
       "473  [prwrpvz, oadpqvz, tgzrt, giom, pjyihh, rxdir,...        False      False\n",
       "475                     [yep, liv, ofmtpod, imdd, qyw]        False      False\n",
       "477    [hqr, kqu, oub, skoeqk, icnfm, cqvld, aay, bto]        False      False\n",
       "479          [mbr, gqu, oxvchrt, nqa, larxmjx, pfozej]        False      False\n",
       "480  [ozuo, ywubjbg, xcua, eblwqp, nfdvw, hmhen, zk...        False      False\n",
       "482          [cldr, crhi, lbaq, fbuduyn, hygbz, uhida]        False      False\n",
       "489        [jwbq, hbxaub, jpdilyt, yvalrlk, topl, qup]        False      False\n",
       "490  [eczonk, ftcc, paltirb, owz, tihhe, dglxory, w...        False      False\n",
       "491  [ooruaby, gboyeu, lkv, arrz, jcqyzl, uxlfk, fh...        False      False\n",
       "492  [wzr, xjb, pwmf, okqj, adwcedy, lkidve, uwekxf...        False      False\n",
       "493             [dikhur, pxgh, urdinjh, wednf, ulzdxs]        False      False\n",
       "496  [lqala, bqwgcul, vetaa, xuxjau, zcb, wtdmomu, ...        False      False\n",
       "498  [abq, npcyld, fzbfku, oia, qss, jkxldm, wgtmki...        False      False\n",
       "500                          [djxoo, jzlkh, svy, xige]        False      False\n",
       "501  [tjlkkg, glcuvmh, fwzlhi, ecun, qlgulj, hrfhyq...        False      False\n",
       "503                   [favd, nzqfdid, nekfjsf, mtjndu]        False      False\n",
       "506  [wzdwlc, wisst, alw, kyjeur, sjsqfcr, tta, bij...        False      False\n",
       "\n",
       "[223 rows x 3 columns]"
      ]
     },
     "execution_count": 63,
     "metadata": {},
     "output_type": "execute_result"
    }
   ],
   "source": [
    "df[(df.has_anagram == False) & (df.not_valid == False)]"
   ]
  },
  {
   "cell_type": "markdown",
   "metadata": {},
   "source": [
    "That's the right answer! You are one gold star closer to debugging the printer.\n",
    "\n",
    "You have completed Day 4! "
   ]
  },
  {
   "cell_type": "code",
   "execution_count": null,
   "metadata": {
    "collapsed": true
   },
   "outputs": [],
   "source": []
  }
 ],
 "metadata": {
  "kernelspec": {
   "display_name": "Python [default]",
   "language": "python",
   "name": "python3"
  },
  "language_info": {
   "codemirror_mode": {
    "name": "ipython",
    "version": 3
   },
   "file_extension": ".py",
   "mimetype": "text/x-python",
   "name": "python",
   "nbconvert_exporter": "python",
   "pygments_lexer": "ipython3",
   "version": "3.6.1"
  }
 },
 "nbformat": 4,
 "nbformat_minor": 2
}
