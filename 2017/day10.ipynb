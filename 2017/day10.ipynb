{
 "cells": [
  {
   "cell_type": "markdown",
   "metadata": {},
   "source": [
    "--- Day 10: Knot Hash ---\n",
    "\n",
    "You come across some programs that are trying to implement a software emulation of a hash based on knot-tying. The hash these programs are implementing isn't very strong, but you decide to help them anyway. You make a mental note to remind the Elves later not to invent their own cryptographic functions.\n",
    "\n",
    "This hash function simulates tying a knot in a circle of string with 256 marks on it. Based on the input to be hashed, the function repeatedly selects a span of string, brings the ends together, and gives the span a half-twist to reverse the order of the marks within it. After doing this many times, the order of the marks is used to build the resulting hash.\n",
    "\n",
    "```\n",
    "  4--5   pinch   4  5           4   1\n",
    " /    \\  5,0,1  / \\/ \\  twist  / \\ / \\\n",
    "3      0  -->  3      0  -->  3   X   0\n",
    " \\    /         \\ /\\ /         \\ / \\ /\n",
    "  2--1           2  1           2   5\n",
    "```\n",
    "\n",
    "To achieve this, begin with a list of numbers from 0 to 255, a current position which begins at 0 (the first element in the list), a skip size (which starts at 0), and a sequence of lengths (your puzzle input). Then, for each length:\n",
    "\n",
    "- Reverse the order of that length of elements in the list, starting with the element at the current position.\n",
    "- Move the current position forward by that length plus the skip size.\n",
    "- Increase the skip size by one.\n",
    "\n",
    "The list is circular; if the current position and the length try to reverse elements beyond the end of the list, the operation reverses using as many extra elements as it needs from the front of the list. If the current position moves past the end of the list, it wraps around to the front. Lengths larger than the size of the list are invalid.\n",
    "\n",
    "Here's an example using a smaller list:\n",
    "\n",
    "Suppose we instead only had a circular list containing five elements, 0, 1, 2, 3, 4, and were given input lengths of 3, 4, 1, 5.\n",
    "\n",
    "- The list begins as `[0] 1 2 3 4` (where square brackets indicate the current position).\n",
    "- The first length, 3, selects `([0] 1 2) 3 4` (where parentheses indicate the sublist to be reversed).\n",
    "- After reversing that section `(0 1 2` into `2 1 0)`, we get `([2] 1 0) 3 4`.\n",
    "- Then, the current position moves forward by the length, 3, plus the skip size, 0: `2 1 0 [3] 4`. Finally, the skip size increases to 1.\n",
    "- The second length, 4, selects a section which wraps: `2 1) 0 ([3] 4`.\n",
    "- The sublist `3 4 2 1` is reversed to form `1 2 4 3`: `4 3) 0 ([1] 2`.\n",
    "- The current position moves forward by the length plus the skip size, a total of 5, causing it not to move because it wraps around: `4 3 0 [1] 2`. The skip size increases to 2.\n",
    "- The third length, 1, selects a sublist of a single element, and so reversing it has no effect.\n",
    "- The current position moves forward by the length (1) plus the skip size (2): `4 [3] 0 1 2`. The skip size increases to 3.\n",
    "- The fourth length, 5, selects every element starting with the second: `4) ([3] 0 1 2`. Reversing this sublist `(3 0 1 2 4` into `4 2 1 0 3)` produces: `3) ([4] 2 1 0`.\n",
    "- Finally, the current position moves forward by 8: `3 4 2 1 [0]`. The skip size increases to 4.\n",
    "\n",
    "In this example, the first two numbers in the list end up being 3 and 4; to check the process, you can multiply them together to produce 12.\n",
    "\n",
    "However, you should instead use the standard list size of 256 (with values 0 to 255) and the sequence of lengths in your puzzle input. Once this process is complete, what is the result of multiplying the first two numbers in the list?\n",
    "\n"
   ]
  },
  {
   "cell_type": "code",
   "execution_count": 1,
   "metadata": {},
   "outputs": [],
   "source": [
    "def find_subslice(circle, start, length):\n",
    "    repeat_slice = circle + circle # adding lists extends them\n",
    "    subslice = repeat_slice[start:(start+length)]\n",
    "    subslice.reverse()\n",
    "    return subslice\n",
    "\n",
    "def make_new_circle(circle, start, length):\n",
    "    subslice = find_subslice(circle, start, length)\n",
    "    repeat_slice = circle + circle # adding lists extends them\n",
    "    repeat_slice[start:(start+length)] = subslice\n",
    "    \n",
    "    # test in case need to wrap circle\n",
    "    if ((start + length) > len(circle)):\n",
    "        overflow = (start + length) % len(circle)\n",
    "        repeat_slice[0:overflow] = repeat_slice[(len(circle)):(len(circle)+overflow)]\n",
    "    \n",
    "    keep_circle = repeat_slice[0:len(circle)]\n",
    "    return keep_circle"
   ]
  },
  {
   "cell_type": "code",
   "execution_count": 2,
   "metadata": {},
   "outputs": [],
   "source": [
    "test_list = [x for x in range(5)]\n",
    "test_lengths = [3, 4, 1, 5]\n",
    "test_skip = 0\n",
    "test_start = 0"
   ]
  },
  {
   "cell_type": "code",
   "execution_count": 3,
   "metadata": {},
   "outputs": [],
   "source": [
    "# test subslicing works\n",
    "assert find_subslice([0,1,2,3,4], 0, 3) == [2,1,0]\n",
    "assert find_subslice([2,1,0,3,4], 3, 4) == [1,2,4,3]\n",
    "assert find_subslice([4,3,0,1,2], 3, 1) == [1]\n",
    "assert find_subslice([4,3,0,1,2], 1, 5) == [4,2,1,0,3]\n",
    "\n",
    "# test that steps get the right output\n",
    "assert make_new_circle([0,1,2,3,4], 0, 3) == [2,1,0,3,4]\n",
    "assert make_new_circle([2,1,0,3,4], 3, 4) == [4,3,0,1,2]\n",
    "assert make_new_circle([4,3,0,1,2], 3, 1) == [4,3,0,1,2]\n",
    "assert make_new_circle([4,3,0,1,2], 1, 5) == [3,4,2,1,0]"
   ]
  },
  {
   "cell_type": "code",
   "execution_count": 4,
   "metadata": {},
   "outputs": [
    {
     "name": "stdout",
     "output_type": "stream",
     "text": [
      "[45, 43]\n",
      "1935\n"
     ]
    }
   ],
   "source": [
    "input_list = [x for x in range(256)]\n",
    "input_lengths = [14,58,0,116,179,16,1,104,2,254,167,86,255,55,122,244]\n",
    "skip = 0\n",
    "index = 0\n",
    "\n",
    "for l in input_lengths:\n",
    "    input_list = make_new_circle(input_list, index, l)\n",
    "    index = (index + l + skip) % len(input_list)\n",
    "    skip += 1\n",
    "\n",
    "print(input_list[0:2])\n",
    "print(input_list[0] * input_list[1])"
   ]
  },
  {
   "cell_type": "markdown",
   "metadata": {},
   "source": [
    "The first half of this puzzle is complete! It provides one gold star: *"
   ]
  },
  {
   "cell_type": "markdown",
   "metadata": {},
   "source": [
    "--- Part Two ---\n",
    "\n",
    "The logic you've constructed forms a single round of the Knot Hash algorithm; running the full thing requires many of these rounds. Some input and output processing is also required.\n",
    "\n",
    "First, from now on, your input should be taken not as a list of numbers, but as a string of bytes instead. Unless otherwise specified, convert characters to bytes using their ASCII codes. This will allow you to handle arbitrary ASCII strings, and it also ensures that your input lengths are never larger than 255. For example, if you are given `1,2,3`, you should convert it to the ASCII codes for each character: `49,44,50,44,51`.\n",
    "\n",
    "Once you have determined the sequence of lengths to use, add the following lengths to the end of the sequence: `17, 31, 73, 47, 23`. For example, if you are given `1,2,3`, your final sequence of lengths should be `49,44,50,44,51,17,31,73,47,23` (the ASCII codes from the input string combined with the standard length suffix values).\n",
    "\n",
    "Second, instead of merely running one round like you did above, run a total of 64 rounds, using the same length sequence in each round. The current position and skip size should be preserved between rounds. For example, if the previous example was your first round, you would start your second round with the same length sequence (`3, 4, 1, 5, 17, 31, 73, 47, 23`, now assuming they came from ASCII codes and include the suffix), but start with the previous round's current position (4) and skip size (4).\n",
    "\n",
    "Once the rounds are complete, you will be left with the numbers from 0 to 255 in some order, called the sparse hash. Your next task is to reduce these to a list of only 16 numbers called the dense hash. To do this, use numeric bitwise XOR to combine each consecutive block of 16 numbers in the sparse hash (there are 16 such blocks in a list of 256 numbers). So, the first element in the dense hash is the first sixteen elements of the sparse hash XOR'd together, the second element in the dense hash is the second sixteen elements of the sparse hash XOR'd together, etc.\n",
    "\n",
    "For example, if the first sixteen elements of your sparse hash are as shown below, and the XOR operator is ^, you would calculate the first output number like this:\n",
    "\n",
    "`65 ^ 27 ^ 9 ^ 1 ^ 4 ^ 3 ^ 40 ^ 50 ^ 91 ^ 7 ^ 6 ^ 0 ^ 2 ^ 5 ^ 68 ^ 22 = 64`\n",
    "\n",
    "Perform this operation on each of the sixteen blocks of sixteen numbers in your sparse hash to determine the sixteen numbers in your dense hash.\n",
    "\n",
    "Finally, the standard way to represent a Knot Hash is as a single hexadecimal string; the final output is the dense hash in hexadecimal notation. Because each number in your dense hash will be between 0 and 255 (inclusive), always represent each number as two hexadecimal digits (including a leading zero as necessary). So, if your first three numbers are 64, 7, 255, they correspond to the hexadecimal numbers 40, 07, ff, and so the first six characters of the hash would be 4007ff. Because every Knot Hash is sixteen such numbers, the hexadecimal representation is always 32 hexadecimal digits (0-f) long.\n",
    "\n",
    "Here are some example hashes:\n",
    "\n",
    "```\n",
    "The empty string becomes `a2582a3a0e66e6e86e3812dcb672a272`.\n",
    "AoC 2017 becomes `33efeb34ea91902bb2f59c9920caa6cd`.\n",
    "`1,2,3` becomes `3efbe78a8d82f29979031a4aa0b16a9d`.\n",
    "`1,2,4` becomes `63960835bcdc130f0b66d7ff4f6a5a8e`.\n",
    "```\n",
    "\n",
    "Treating your puzzle input as a string of ASCII characters, what is the Knot Hash of your puzzle input? Ignore any leading or trailing whitespace you might encounter."
   ]
  },
  {
   "cell_type": "code",
   "execution_count": 5,
   "metadata": {},
   "outputs": [],
   "source": [
    "suffix = [17, 31, 73, 47, 23]"
   ]
  },
  {
   "cell_type": "code",
   "execution_count": 6,
   "metadata": {},
   "outputs": [],
   "source": [
    "assert [ord(x) for x in \"1,2,3\"] == [49,44,50,44,51]"
   ]
  },
  {
   "cell_type": "code",
   "execution_count": 7,
   "metadata": {},
   "outputs": [],
   "source": [
    "ascii_lengths = [ord(x) for x in '14,58,0,116,179,16,1,104,2,254,167,86,255,55,122,244'] + suffix"
   ]
  },
  {
   "cell_type": "code",
   "execution_count": 8,
   "metadata": {},
   "outputs": [],
   "source": [
    "input_list = [x for x in range(256)]\n",
    "skip = 0\n",
    "index = 0\n",
    "\n",
    "for rd in range(64):\n",
    "    for l in ascii_lengths:\n",
    "        input_list = make_new_circle(input_list, index, l)\n",
    "        index = (index + l + skip) % len(input_list)\n",
    "        skip += 1\n",
    "\n",
    "sparse_hash = input_list"
   ]
  },
  {
   "cell_type": "code",
   "execution_count": 9,
   "metadata": {},
   "outputs": [],
   "source": [
    "chunks = [sparse_hash[i:i+16] for i in range(0, 256, 16)]"
   ]
  },
  {
   "cell_type": "code",
   "execution_count": 10,
   "metadata": {},
   "outputs": [],
   "source": [
    "# test python numeric XOR operator gives same result\n",
    "assert 65 ^ 27 ^ 9 ^ 1 ^ 4 ^ 3 ^ 40 ^ 50 ^ 91 ^ 7 ^ 6 ^ 0 ^ 2 ^ 5 ^ 68 ^ 22 == 64"
   ]
  },
  {
   "cell_type": "code",
   "execution_count": 11,
   "metadata": {},
   "outputs": [],
   "source": [
    "from functools import reduce"
   ]
  },
  {
   "cell_type": "code",
   "execution_count": 12,
   "metadata": {},
   "outputs": [],
   "source": [
    "# test reduce on numeric XOR operator over chunked list\n",
    "assert reduce((lambda x, y: x ^ y), [65, 27, 9, 1, 4, 3, 40, 50, 91, 7, 6, 0, 2, 5, 68, 22])"
   ]
  },
  {
   "cell_type": "code",
   "execution_count": 13,
   "metadata": {},
   "outputs": [],
   "source": [
    "def reduce_list_by_numeric_xor(chunk_of_ints):\n",
    "    return reduce((lambda x, y: x ^ y), chunk_of_ints)"
   ]
  },
  {
   "cell_type": "code",
   "execution_count": 14,
   "metadata": {},
   "outputs": [],
   "source": [
    "assert reduce_list_by_numeric_xor([65, 27, 9, 1, 4, 3, 40, 50, 91, 7, 6, 0, 2, 5, 68, 22]) == 64"
   ]
  },
  {
   "cell_type": "code",
   "execution_count": 15,
   "metadata": {},
   "outputs": [],
   "source": [
    "dense_hash = [reduce_list_by_numeric_xor(x) for x in chunks]"
   ]
  },
  {
   "cell_type": "code",
   "execution_count": 16,
   "metadata": {},
   "outputs": [
    {
     "data": {
      "text/plain": [
       "[220, 126, 125, 238, 113, 13, 76, 114, 1, 206, 66, 113, 62, 107, 131, 89]"
      ]
     },
     "execution_count": 16,
     "metadata": {},
     "output_type": "execute_result"
    }
   ],
   "source": [
    "dense_hash"
   ]
  },
  {
   "cell_type": "code",
   "execution_count": 17,
   "metadata": {},
   "outputs": [
    {
     "data": {
      "text/plain": [
       "['dc',\n",
       " '7e',\n",
       " '7d',\n",
       " 'ee',\n",
       " '71',\n",
       " '0d',\n",
       " '4c',\n",
       " '72',\n",
       " '01',\n",
       " 'ce',\n",
       " '42',\n",
       " '71',\n",
       " '3e',\n",
       " '6b',\n",
       " '83',\n",
       " '59']"
      ]
     },
     "execution_count": 17,
     "metadata": {},
     "output_type": "execute_result"
    }
   ],
   "source": [
    "hex_hash = [hex(x).split('x')[-1] for x in dense_hash]\n",
    "for i, j in enumerate(hex_hash):\n",
    "    if len(j) < 2:\n",
    "        hex_hash[i] = '0' + j\n",
    "hex_hash"
   ]
  },
  {
   "cell_type": "code",
   "execution_count": 18,
   "metadata": {},
   "outputs": [],
   "source": [
    "def knot_hash(list_of_lengths, input_list_size=256, skip=0, index=0, num_rounds=64):\n",
    "    input_list = list(range(input_list_size))\n",
    "    for rd in range(num_rounds):\n",
    "        for l in list_of_lengths:\n",
    "            input_list = make_new_circle(input_list, index, l)\n",
    "            index = (index + l + skip) % len(input_list)\n",
    "            skip += 1\n",
    "\n",
    "    chunks = [input_list[i:i+16] for i in range(0, 256, 16)]\n",
    "    dense_hash = [reduce_list_by_numeric_xor(x) for x in chunks]\n",
    "    hex_hash = [hex(x).split('x')[-1] for x in dense_hash]\n",
    "    for i, j in enumerate(hex_hash):\n",
    "        if len(j) < 2:\n",
    "            hex_hash[i] = '0' + j\n",
    "    return hex_hash"
   ]
  },
  {
   "cell_type": "code",
   "execution_count": 30,
   "metadata": {},
   "outputs": [],
   "source": [
    "def get_ascii_lengths(some_string):\n",
    "    y = [ord(x) for x in some_string]\n",
    "    return y + [17, 31, 73, 47, 23]"
   ]
  },
  {
   "cell_type": "code",
   "execution_count": 31,
   "metadata": {},
   "outputs": [
    {
     "name": "stdout",
     "output_type": "stream",
     "text": [
      "True\n",
      "True\n",
      "True\n",
      "True\n"
     ]
    }
   ],
   "source": [
    "# test cases for hexadecimal\n",
    "test_cases = [\n",
    "    ''.join(knot_hash(get_ascii_lengths(''))) == 'a2582a3a0e66e6e86e3812dcb672a272',\n",
    "    ''.join(knot_hash(get_ascii_lengths('AoC 2017'))) == '33efeb34ea91902bb2f59c9920caa6cd',\n",
    "    ''.join(knot_hash(get_ascii_lengths('1,2,3'))) == '3efbe78a8d82f29979031a4aa0b16a9d',\n",
    "    ''.join(knot_hash(get_ascii_lengths('1,2,4'))) == '63960835bcdc130f0b66d7ff4f6a5a8e',\n",
    "]\n",
    "for x in test_cases:\n",
    "    print(x)"
   ]
  },
  {
   "cell_type": "code",
   "execution_count": 20,
   "metadata": {},
   "outputs": [
    {
     "data": {
      "text/plain": [
       "'dc7e7dee710d4c7201ce42713e6b8359'"
      ]
     },
     "execution_count": 20,
     "metadata": {},
     "output_type": "execute_result"
    }
   ],
   "source": [
    "my_result = knot_hash(ascii_lengths)\n",
    "''.join(my_result)"
   ]
  },
  {
   "cell_type": "markdown",
   "metadata": {},
   "source": [
    "That's the right answer! You are one gold star closer to debugging the printer."
   ]
  }
 ],
 "metadata": {
  "kernelspec": {
   "display_name": "Python 3",
   "language": "python",
   "name": "python3"
  },
  "language_info": {
   "codemirror_mode": {
    "name": "ipython",
    "version": 3
   },
   "file_extension": ".py",
   "mimetype": "text/x-python",
   "name": "python",
   "nbconvert_exporter": "python",
   "pygments_lexer": "ipython3",
   "version": "3.6.3"
  }
 },
 "nbformat": 4,
 "nbformat_minor": 2
}
