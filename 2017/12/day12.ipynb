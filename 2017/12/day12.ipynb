{
 "cells": [
  {
   "cell_type": "markdown",
   "metadata": {},
   "source": [
    "--- Day 12: Digital Plumber ---\n",
    "\n",
    "Walking along the memory banks of the stream, you find a small village that is experiencing a little confusion: some programs can't communicate with each other.\n",
    "\n",
    "Programs in this village communicate using a fixed system of pipes. Messages are passed between programs using these pipes, but most programs aren't connected to each other directly. Instead, programs pass messages between each other until the message reaches the intended recipient.\n",
    "\n",
    "For some reason, though, some of these messages aren't ever reaching their intended recipient, and the programs suspect that some pipes are missing. They would like you to investigate.\n",
    "\n",
    "You walk through the village and record the ID of each program and the IDs with which it can communicate directly (your puzzle input). Each program has one or more programs with which it can communicate, and these pipes are bidirectional; if 8 says it can communicate with 11, then 11 will say it can communicate with 8.\n",
    "\n",
    "You need to figure out how many programs are in the group that contains program ID 0.\n",
    "\n",
    "For example, suppose you go door-to-door like a travelling salesman and record the following list:\n",
    "\n",
    "```\n",
    "0 <-> 2\n",
    "1 <-> 1\n",
    "2 <-> 0, 3, 4\n",
    "3 <-> 2, 4\n",
    "4 <-> 2, 3, 6\n",
    "5 <-> 6\n",
    "6 <-> 4, 5\n",
    "```\n",
    "\n",
    "In this example, the following programs are in the group that contains program ID 0:\n",
    "\n",
    "Program 0 by definition.\n",
    "Program 2, directly connected to program 0.\n",
    "Program 3 via program 2.\n",
    "Program 4 via program 2.\n",
    "Program 5 via programs 6, then 4, then 2.\n",
    "Program 6 via programs 4, then 2.\n",
    "Therefore, a total of 6 programs are in this group; all but program 1, which has a pipe that connects it to itself.\n",
    "\n",
    "How many programs are in the group that contains program ID 0?"
   ]
  },
  {
   "cell_type": "code",
   "execution_count": 2,
   "metadata": {},
   "outputs": [],
   "source": [
    "test_data = [\n",
    "    \"0 <-> 2\",\n",
    "    \"1 <-> 1\",\n",
    "    \"2 <-> 0, 3, 4\",\n",
    "    \"3 <-> 2, 4\",\n",
    "    \"4 <-> 2, 3, 6\",\n",
    "    \"5 <-> 6\",\n",
    "    \"6 <-> 4, 5\",\n",
    "]"
   ]
  },
  {
   "cell_type": "code",
   "execution_count": 3,
   "metadata": {},
   "outputs": [
    {
     "data": {
      "text/plain": [
       "['0 <-> 2',\n",
       " '1 <-> 1',\n",
       " '2 <-> 0, 3, 4',\n",
       " '3 <-> 2, 4',\n",
       " '4 <-> 2, 3, 6',\n",
       " '5 <-> 6',\n",
       " '6 <-> 4, 5']"
      ]
     },
     "execution_count": 3,
     "metadata": {},
     "output_type": "execute_result"
    }
   ],
   "source": [
    "test_data"
   ]
  },
  {
   "cell_type": "code",
   "execution_count": 4,
   "metadata": {},
   "outputs": [
    {
     "data": {
      "text/plain": [
       "['0', '1', '2', '3', '4', '5', '6']"
      ]
     },
     "execution_count": 4,
     "metadata": {},
     "output_type": "execute_result"
    }
   ],
   "source": [
    "test_indices = [x.split(\" \")[0] for x in test_data]\n",
    "test_indices"
   ]
  },
  {
   "cell_type": "code",
   "execution_count": 5,
   "metadata": {},
   "outputs": [
    {
     "data": {
      "text/plain": [
       "[['2'], ['1'], ['0', '3', '4'], ['2', '4'], ['2', '3', '6'], ['6'], ['4', '5']]"
      ]
     },
     "execution_count": 5,
     "metadata": {},
     "output_type": "execute_result"
    }
   ],
   "source": [
    "test_values = [x.split(\" <-> \")[1].split(\", \") for x in test_data]\n",
    "test_values"
   ]
  },
  {
   "cell_type": "code",
   "execution_count": 6,
   "metadata": {},
   "outputs": [
    {
     "data": {
      "text/plain": [
       "{'0': ['2'],\n",
       " '1': ['1'],\n",
       " '2': ['0', '3', '4'],\n",
       " '3': ['2', '4'],\n",
       " '4': ['2', '3', '6'],\n",
       " '5': ['6'],\n",
       " '6': ['4', '5']}"
      ]
     },
     "execution_count": 6,
     "metadata": {},
     "output_type": "execute_result"
    }
   ],
   "source": [
    "test_groups = {}\n",
    "for i, j in enumerate(test_indices):\n",
    "    test_groups[j] = test_values[i]\n",
    "test_groups"
   ]
  },
  {
   "cell_type": "code",
   "execution_count": 7,
   "metadata": {},
   "outputs": [
    {
     "data": {
      "text/plain": [
       "[['2'], ['1'], ['0', '3', '4'], ['2', '4'], ['2', '3', '6'], ['6'], ['4', '5']]"
      ]
     },
     "execution_count": 7,
     "metadata": {},
     "output_type": "execute_result"
    }
   ],
   "source": [
    "list(test_groups.values())"
   ]
  },
  {
   "cell_type": "code",
   "execution_count": 8,
   "metadata": {},
   "outputs": [],
   "source": [
    "def find_groups(index, groups):\n",
    "    matches = [index]\n",
    "    for i, group in enumerate(groups):\n",
    "        if index in list(groups.values())[i]:\n",
    "            matches.append(list(groups.keys())[i])\n",
    "    return matches"
   ]
  },
  {
   "cell_type": "code",
   "execution_count": 9,
   "metadata": {},
   "outputs": [
    {
     "name": "stdout",
     "output_type": "stream",
     "text": [
      "{'3', '5', '6', '2', '4', '0'}\n"
     ]
    },
    {
     "data": {
      "text/plain": [
       "6"
      ]
     },
     "execution_count": 9,
     "metadata": {},
     "output_type": "execute_result"
    }
   ],
   "source": [
    "test_in_group_zero = ['0']\n",
    "for group in test_in_group_zero:\n",
    "    matches = find_groups(group, test_groups)\n",
    "    for m in matches:\n",
    "        if m not in test_in_group_zero:\n",
    "            test_in_group_zero.append(m)\n",
    "print(set(test_in_group_zero))\n",
    "len(set(test_in_group_zero))"
   ]
  },
  {
   "cell_type": "code",
   "execution_count": 10,
   "metadata": {},
   "outputs": [],
   "source": [
    "with open(\"day12.txt\") as f:\n",
    "    day12 = f.readlines()\n",
    "    day12 = [x.strip(\"\\n\") for x in day12]"
   ]
  },
  {
   "cell_type": "code",
   "execution_count": 11,
   "metadata": {},
   "outputs": [
    {
     "data": {
      "text/plain": [
       "['0 <-> 199, 1774', '1 <-> 350, 1328, 1920', '2 <-> 477, 984, 1419']"
      ]
     },
     "execution_count": 11,
     "metadata": {},
     "output_type": "execute_result"
    }
   ],
   "source": [
    "day12[0:3]"
   ]
  },
  {
   "cell_type": "code",
   "execution_count": 12,
   "metadata": {},
   "outputs": [
    {
     "data": {
      "text/plain": [
       "['0', '1', '2']"
      ]
     },
     "execution_count": 12,
     "metadata": {},
     "output_type": "execute_result"
    }
   ],
   "source": [
    "indices = [x.split(\" \")[0] for x in day12]\n",
    "indices[0:3]"
   ]
  },
  {
   "cell_type": "code",
   "execution_count": 13,
   "metadata": {},
   "outputs": [
    {
     "data": {
      "text/plain": [
       "[['199', '1774'], ['350', '1328', '1920'], ['477', '984', '1419']]"
      ]
     },
     "execution_count": 13,
     "metadata": {},
     "output_type": "execute_result"
    }
   ],
   "source": [
    "values = [x.split(\" <-> \")[1].split(\", \") for x in day12]\n",
    "values[0:3]"
   ]
  },
  {
   "cell_type": "code",
   "execution_count": 14,
   "metadata": {},
   "outputs": [
    {
     "data": {
      "text/plain": [
       "['199', '1774']"
      ]
     },
     "execution_count": 14,
     "metadata": {},
     "output_type": "execute_result"
    }
   ],
   "source": [
    "groups = {}\n",
    "for i, j in enumerate(indices):\n",
    "    groups[j] = values[i]\n",
    "groups['0']"
   ]
  },
  {
   "cell_type": "code",
   "execution_count": 15,
   "metadata": {},
   "outputs": [
    {
     "name": "stdout",
     "output_type": "stream",
     "text": [
      "{'1077', '1954', '199', '1264', '1309', '53', '1554', '683', '1188', '1520', '1356', '941', '1854', '27', '1673', '956', '420', '1910', '1026', '588', '1870', '606', '47', '699', '1120', '461', '1197', '533', '64', '1846', '94', '438', '165', '385', '1559', '1933', '1045', '951', '504', '434', '215', '787', '1212', '11', '1552', '628', '1880', '134', '1412', '855', '1646', '1723', '1627', '85', '1222', '918', '287', '207', '1315', '745', '1597', '304', '1029', '722', '925', '296', '1882', '354', '1542', '1002', '1168', '1503', '940', '558', '1967', '338', '1165', '696', '1270', '1545', '625', '1415', '234', '1834', '1474', '1504', '830', '176', '1274', '1000', '1989', '68', '120', '391', '241', '1671', '1945', '1887', '1483', '608', '1450', '1342', '1087', '1004', '1875', '1362', '277', '1193', '1135', '1495', '152', '1792', '387', '1888', '301', '684', '839', '634', '1771', '1698', '819', '1470', '967', '56', '794', '920', '490', '1438', '412', '1263', '678', '540', '1152', '888', '1762', '238', '1442', '1724', '1297', '991', '7', '939', '1147', '1612', '1269', '102', '1524', '828', '771', '99', '1337', '1180', '1239', '559', '1860', '1825', '876', '1840', '1901', '16', '1007', '1078', '640', '1965', '1190', '1617', '184', '1774', '515', '1027', '648', '0', '880', '857', '251'}\n"
     ]
    },
    {
     "data": {
      "text/plain": [
       "175"
      ]
     },
     "execution_count": 15,
     "metadata": {},
     "output_type": "execute_result"
    }
   ],
   "source": [
    "in_group_zero = ['0']\n",
    "for group in in_group_zero:\n",
    "    matches = find_groups(group, groups)\n",
    "    for m in matches:\n",
    "        if m not in in_group_zero:\n",
    "            in_group_zero.append(m)\n",
    "print(set(in_group_zero))\n",
    "len(set(in_group_zero))"
   ]
  },
  {
   "cell_type": "markdown",
   "metadata": {},
   "source": [
    "That's the right answer! You are one gold star closer to debugging the printer."
   ]
  },
  {
   "cell_type": "markdown",
   "metadata": {},
   "source": [
    "--- Part Two ---\n",
    "\n",
    "There are more programs than just the ones in the group containing program ID 0. The rest of them have no way of reaching that group, and still might have no way of reaching each other.\n",
    "\n",
    "A group is a collection of programs that can all communicate via pipes either directly or indirectly. The programs you identified just a moment ago are all part of the same group. Now, they would like you to determine the total number of groups.\n",
    "\n",
    "In the example above, there were 2 groups: one consisting of programs 0,2,3,4,5,6, and the other consisting solely of program 1.\n",
    "\n",
    "How many groups are there in total?"
   ]
  },
  {
   "cell_type": "code",
   "execution_count": 120,
   "metadata": {},
   "outputs": [],
   "source": [
    "def find_group(seed):\n",
    "    group = {seed}\n",
    "    new = {seed}\n",
    "    while new:\n",
    "        next_new = set()\n",
    "        for item in new:\n",
    "            next_new.update(groups[item])\n",
    "        new = next_new - group\n",
    "        group.update(next_new)\n",
    "    return group"
   ]
  },
  {
   "cell_type": "code",
   "execution_count": 124,
   "metadata": {},
   "outputs": [
    {
     "data": {
      "text/plain": [
       "213"
      ]
     },
     "execution_count": 124,
     "metadata": {},
     "output_type": "execute_result"
    }
   ],
   "source": [
    "counter = 0\n",
    "remaining = set(groups)\n",
    "while remaining:\n",
    "    counter += 1\n",
    "    group = find_group(remaining.pop())\n",
    "    remaining -= group\n",
    "counter"
   ]
  },
  {
   "cell_type": "markdown",
   "metadata": {},
   "source": [
    "Your puzzle answer was 213.\n",
    "\n",
    "That's the right answer! You are one gold star closer to debugging the printer."
   ]
  },
  {
   "cell_type": "code",
   "execution_count": null,
   "metadata": {},
   "outputs": [],
   "source": []
  }
 ],
 "metadata": {
  "kernelspec": {
   "display_name": "Python 3",
   "language": "python",
   "name": "python3"
  },
  "language_info": {
   "codemirror_mode": {
    "name": "ipython",
    "version": 3
   },
   "file_extension": ".py",
   "mimetype": "text/x-python",
   "name": "python",
   "nbconvert_exporter": "python",
   "pygments_lexer": "ipython3",
   "version": "3.6.3"
  }
 },
 "nbformat": 4,
 "nbformat_minor": 2
}
