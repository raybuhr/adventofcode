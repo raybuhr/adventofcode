{
 "cells": [
  {
   "cell_type": "code",
   "execution_count": 25,
   "metadata": {},
   "outputs": [],
   "source": [
    "def spin(x):\n",
    "    \"takes the first x elements and puts them at the end\"\n",
    "    global programs\n",
    "    x = int(x)\n",
    "    start = programs[-x:]\n",
    "    end = programs[:-x]\n",
    "    programs = start + end\n",
    "\n",
    "def exchange(x):\n",
    "    \"\"\"takes an input of x like A/B representing the positions\n",
    "    and swaps the positions of A and B\"\"\"\n",
    "    global programs\n",
    "    a_idx = int(x.split(\"/\")[0])\n",
    "    b_idx = int(x.split(\"/\")[1])\n",
    "    a = programs[a_idx]\n",
    "    b = programs[b_idx]\n",
    "    programs[a_idx], programs[b_idx] = b, a\n",
    "\n",
    "def partner(x):\n",
    "    \"takes an input of like A/B and swaps the positions\"\n",
    "    global programs\n",
    "    a = x.split(\"/\")[0]\n",
    "    b = x.split(\"/\")[1]\n",
    "    a_idx, b_idx = programs.index(a), programs.index(b)\n",
    "    programs[a_idx], programs[b_idx] = b, a\n",
    "\n",
    "def dance(x):\n",
    "    \"look at step x and figure out which function to apply\"\n",
    "    fun = x[0]\n",
    "    fun_input = x[1:]\n",
    "    if fun == \"s\":\n",
    "        spin(fun_input)\n",
    "    if fun == \"x\":\n",
    "        exchange(fun_input)\n",
    "    if fun == \"p\":\n",
    "        partner(fun_input)"
   ]
  },
  {
   "cell_type": "code",
   "execution_count": 26,
   "metadata": {},
   "outputs": [],
   "source": [
    "test_programs = list(\"abcde\")\n",
    "with open(\"test_input.txt\") as f:\n",
    "    test_steps = f.read().split(\",\")"
   ]
  },
  {
   "cell_type": "code",
   "execution_count": 27,
   "metadata": {},
   "outputs": [
    {
     "data": {
      "text/plain": [
       "['a', 'b', 'c', 'd', 'e']"
      ]
     },
     "execution_count": 27,
     "metadata": {},
     "output_type": "execute_result"
    }
   ],
   "source": [
    "test_programs"
   ]
  },
  {
   "cell_type": "code",
   "execution_count": 28,
   "metadata": {},
   "outputs": [
    {
     "data": {
      "text/plain": [
       "['s1', 'x3/4', 'pe/b']"
      ]
     },
     "execution_count": 28,
     "metadata": {},
     "output_type": "execute_result"
    }
   ],
   "source": [
    "test_steps"
   ]
  },
  {
   "cell_type": "code",
   "execution_count": 37,
   "metadata": {},
   "outputs": [
    {
     "data": {
      "text/plain": [
       "'baedc'"
      ]
     },
     "execution_count": 37,
     "metadata": {},
     "output_type": "execute_result"
    }
   ],
   "source": [
    "programs = test_programs\n",
    "for step in test_steps:\n",
    "    dance(step)\n",
    "\n",
    "\"\".join(programs)"
   ]
  },
  {
   "cell_type": "code",
   "execution_count": 38,
   "metadata": {},
   "outputs": [
    {
     "data": {
      "text/plain": [
       "'gkmndaholjbfcepi'"
      ]
     },
     "execution_count": 38,
     "metadata": {},
     "output_type": "execute_result"
    }
   ],
   "source": [
    "programs = list(\"abcdefghijklmnop\")\n",
    "with open(\"input.txt\") as f:\n",
    "    steps = f.read().split(\",\")\n",
    "for step in steps:\n",
    "    dance(step)\n",
    "\n",
    "\"\".join(programs)"
   ]
  },
  {
   "cell_type": "code",
   "execution_count": 62,
   "metadata": {},
   "outputs": [],
   "source": [
    "programs = list(\"abcdefghijklmnop\")"
   ]
  },
  {
   "cell_type": "code",
   "execution_count": 63,
   "metadata": {},
   "outputs": [
    {
     "data": {
      "text/plain": [
       "60"
      ]
     },
     "execution_count": 63,
     "metadata": {},
     "output_type": "execute_result"
    }
   ],
   "source": [
    "dances_seen = []\n",
    "for i in range(100):\n",
    "    for step in steps:\n",
    "        dance(step)\n",
    "    the_dance = \"\".join(programs)\n",
    "    if the_dance not in dances_seen:\n",
    "        dances_seen.append(the_dance)\n",
    "len(dances_seen)"
   ]
  },
  {
   "cell_type": "code",
   "execution_count": 65,
   "metadata": {},
   "outputs": [
    {
     "data": {
      "text/plain": [
       "40"
      ]
     },
     "execution_count": 65,
     "metadata": {},
     "output_type": "execute_result"
    }
   ],
   "source": [
    "1000000000 % 60"
   ]
  },
  {
   "cell_type": "code",
   "execution_count": 68,
   "metadata": {},
   "outputs": [
    {
     "data": {
      "text/plain": [
       "'abihnfkojcmegldp'"
      ]
     },
     "execution_count": 68,
     "metadata": {},
     "output_type": "execute_result"
    }
   ],
   "source": [
    "dances_seen[39]"
   ]
  },
  {
   "cell_type": "code",
   "execution_count": null,
   "metadata": {},
   "outputs": [],
   "source": []
  }
 ],
 "metadata": {
  "kernelspec": {
   "display_name": "Python 3",
   "language": "python",
   "name": "python3"
  },
  "language_info": {
   "codemirror_mode": {
    "name": "ipython",
    "version": 3
   },
   "file_extension": ".py",
   "mimetype": "text/x-python",
   "name": "python",
   "nbconvert_exporter": "python",
   "pygments_lexer": "ipython3",
   "version": "3.8.3"
  }
 },
 "nbformat": 4,
 "nbformat_minor": 4
}
