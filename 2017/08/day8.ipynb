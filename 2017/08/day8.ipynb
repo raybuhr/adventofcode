{
 "cells": [
  {
   "cell_type": "markdown",
   "metadata": {},
   "source": [
    "--- Day 8: I Heard You Like Registers ---\n",
    "\n",
    "You receive a signal directly from the CPU. Because of your recent assistance with jump instructions, it would like you to compute the result of a series of unusual register instructions.\n",
    "\n",
    "Each instruction consists of several parts: the register to modify, whether to increase or decrease that register's value, the amount by which to increase or decrease it, and a condition. If the condition fails, skip the instruction without modifying the register. The registers all start at 0. The instructions look like this:\n",
    "\n",
    "b inc 5 if a > 1\n",
    "a inc 1 if b < 5\n",
    "c dec -10 if a >= 1\n",
    "c inc -20 if c == 10\n",
    "These instructions would be processed as follows:\n",
    "\n",
    "Because a starts at 0, it is not greater than 1, and so b is not modified.\n",
    "a is increased by 1 (to 1) because b is less than 5 (it is 0).\n",
    "c is decreased by -10 (to 10) because a is now greater than or equal to 1 (it is 1).\n",
    "c is increased by -20 (to -10) because c is equal to 10.\n",
    "After this process, the largest value in any register is 1.\n",
    "\n",
    "You might also encounter <= (less than or equal to) or != (not equal to). However, the CPU doesn't have the bandwidth to tell you what all the registers are named, and leaves that to you to determine.\n",
    "\n",
    "What is the largest value in any register after completing the instructions in your puzzle input?\n",
    "\n",
    "To begin, get your puzzle input."
   ]
  },
  {
   "cell_type": "code",
   "execution_count": 17,
   "metadata": {},
   "outputs": [],
   "source": [
    "with open(\"day8.txt\") as f:\n",
    "    data = f.readlines()"
   ]
  },
  {
   "cell_type": "code",
   "execution_count": 18,
   "metadata": {},
   "outputs": [
    {
     "data": {
      "text/plain": [
       "['b inc 580 if bkd > -1\\n',\n",
       " 'v inc 491 if z >= -1\\n',\n",
       " 'ehd inc 994 if b < 588\\n',\n",
       " 'oso inc -941 if kfn <= -9\\n',\n",
       " 'o inc 933 if uly < 8\\n',\n",
       " 'xn dec 416 if a != -10\\n',\n",
       " 'uly dec 328 if qur != -6\\n',\n",
       " 'xn dec 515 if jf > -1\\n',\n",
       " 'oso dec -542 if hnb > -8\\n',\n",
       " 'ehd dec -241 if fw != 6\\n']"
      ]
     },
     "execution_count": 18,
     "metadata": {},
     "output_type": "execute_result"
    }
   ],
   "source": [
    "data[0:10]"
   ]
  },
  {
   "cell_type": "code",
   "execution_count": 19,
   "metadata": {},
   "outputs": [],
   "source": [
    "import pandas as pd"
   ]
  },
  {
   "cell_type": "code",
   "execution_count": 20,
   "metadata": {},
   "outputs": [],
   "source": [
    "reg = [x.split(\" \")[0] for x in data]\n",
    "chng = [x.split(\" \")[1] for x in data]\n",
    "amt = [x.split(\" \")[2] for x in data]\n",
    "cond = [x.split(\" if \")[1].strip(\"\\n\") for x in data]\n",
    "comp_val = [x.split(\" \")[-1] for x in cond]\n",
    "comp_to = [x.split(\" \")[0] for x in cond]\n",
    "comp_op = [x.split(\" \")[1] for x in cond]"
   ]
  },
  {
   "cell_type": "code",
   "execution_count": 21,
   "metadata": {},
   "outputs": [],
   "source": [
    "df = pd.DataFrame({\"register\":reg, \"change\":chng, \"amount\":amt, \"condition\":cond, \n",
    "                   \"compare_to\":comp_to, \"compare_op\":comp_op, \"compare_value\":comp_val})"
   ]
  },
  {
   "cell_type": "code",
   "execution_count": 22,
   "metadata": {},
   "outputs": [],
   "source": [
    "registers = df.register.unique()"
   ]
  },
  {
   "cell_type": "code",
   "execution_count": 23,
   "metadata": {},
   "outputs": [
    {
     "data": {
      "text/plain": [
       "array(['b', 'v', 'ehd', 'oso', 'o', 'xn', 'uly', 'a', 'he', 'bkd', 'z',\n",
       "       'dl', 'q', 'cp', 'hnb', 'eje', 'qur', 'yk', 'fw', 'oxv', 'fz',\n",
       "       'rny', 'jf', 'mf', 'kfn'], dtype=object)"
      ]
     },
     "execution_count": 23,
     "metadata": {},
     "output_type": "execute_result"
    }
   ],
   "source": [
    "registers"
   ]
  },
  {
   "cell_type": "code",
   "execution_count": 24,
   "metadata": {},
   "outputs": [],
   "source": [
    "current_amt = {}\n",
    "for r in registers:\n",
    "    current_amt[r] = 0"
   ]
  },
  {
   "cell_type": "code",
   "execution_count": 25,
   "metadata": {},
   "outputs": [
    {
     "data": {
      "text/html": [
       "<div>\n",
       "<style scoped>\n",
       "    .dataframe tbody tr th:only-of-type {\n",
       "        vertical-align: middle;\n",
       "    }\n",
       "\n",
       "    .dataframe tbody tr th {\n",
       "        vertical-align: top;\n",
       "    }\n",
       "\n",
       "    .dataframe thead th {\n",
       "        text-align: right;\n",
       "    }\n",
       "</style>\n",
       "<table border=\"1\" class=\"dataframe\">\n",
       "  <thead>\n",
       "    <tr style=\"text-align: right;\">\n",
       "      <th></th>\n",
       "      <th>register</th>\n",
       "      <th>change</th>\n",
       "      <th>amount</th>\n",
       "      <th>condition</th>\n",
       "      <th>compare_to</th>\n",
       "      <th>compare_op</th>\n",
       "      <th>compare_value</th>\n",
       "    </tr>\n",
       "  </thead>\n",
       "  <tbody>\n",
       "    <tr>\n",
       "      <th>0</th>\n",
       "      <td>b</td>\n",
       "      <td>inc</td>\n",
       "      <td>580</td>\n",
       "      <td>bkd &gt; -1</td>\n",
       "      <td>bkd</td>\n",
       "      <td>&gt;</td>\n",
       "      <td>-1</td>\n",
       "    </tr>\n",
       "    <tr>\n",
       "      <th>1</th>\n",
       "      <td>v</td>\n",
       "      <td>inc</td>\n",
       "      <td>491</td>\n",
       "      <td>z &gt;= -1</td>\n",
       "      <td>z</td>\n",
       "      <td>&gt;=</td>\n",
       "      <td>-1</td>\n",
       "    </tr>\n",
       "    <tr>\n",
       "      <th>2</th>\n",
       "      <td>ehd</td>\n",
       "      <td>inc</td>\n",
       "      <td>994</td>\n",
       "      <td>b &lt; 588</td>\n",
       "      <td>b</td>\n",
       "      <td>&lt;</td>\n",
       "      <td>588</td>\n",
       "    </tr>\n",
       "    <tr>\n",
       "      <th>3</th>\n",
       "      <td>oso</td>\n",
       "      <td>inc</td>\n",
       "      <td>-941</td>\n",
       "      <td>kfn &lt;= -9</td>\n",
       "      <td>kfn</td>\n",
       "      <td>&lt;=</td>\n",
       "      <td>-9</td>\n",
       "    </tr>\n",
       "    <tr>\n",
       "      <th>4</th>\n",
       "      <td>o</td>\n",
       "      <td>inc</td>\n",
       "      <td>933</td>\n",
       "      <td>uly &lt; 8</td>\n",
       "      <td>uly</td>\n",
       "      <td>&lt;</td>\n",
       "      <td>8</td>\n",
       "    </tr>\n",
       "  </tbody>\n",
       "</table>\n",
       "</div>"
      ],
      "text/plain": [
       "  register change amount  condition compare_to compare_op compare_value\n",
       "0        b    inc    580   bkd > -1        bkd          >            -1\n",
       "1        v    inc    491    z >= -1          z         >=            -1\n",
       "2      ehd    inc    994    b < 588          b          <           588\n",
       "3      oso    inc   -941  kfn <= -9        kfn         <=            -9\n",
       "4        o    inc    933    uly < 8        uly          <             8"
      ]
     },
     "execution_count": 25,
     "metadata": {},
     "output_type": "execute_result"
    }
   ],
   "source": [
    "df.head(5)"
   ]
  },
  {
   "cell_type": "code",
   "execution_count": 26,
   "metadata": {
    "scrolled": true
   },
   "outputs": [],
   "source": [
    "for i, r in df.iterrows():\n",
    "    cv = current_amt[r['compare_to']]\n",
    "    expression = str(cv) + \" \" + r['compare_op'] + \" \" + str(r['compare_value'])\n",
    "    if eval(expression):\n",
    "        if r['change'] == \"inc\":\n",
    "            current_amt[r['register']] += float(r['amount'])\n",
    "        elif r['change'] == \"dec\":\n",
    "            current_amt[r['register']] -= float(r['amount'])\n",
    "    with open('day8_output.txt', 'a') as outfile:\n",
    "        outfile.write(\n",
    "            str(r['condition']) + ' evals to ' + str(expression) + \" and is \" + \n",
    "            str(eval(expression)) + \" so \" + str(r['change']) + \" \" + str(r['register']) + \n",
    "            \" by \" + str(r['amount']) + \" to get \" + str(current_amt[r['register']]) + \"\\n\"\n",
    "            )"
   ]
  },
  {
   "cell_type": "code",
   "execution_count": 27,
   "metadata": {},
   "outputs": [
    {
     "data": {
      "text/plain": [
       "{'b': 1823.0,\n",
       " 'v': -5508.0,\n",
       " 'ehd': 1036.0,\n",
       " 'oso': 3763.0,\n",
       " 'o': 4822.0,\n",
       " 'xn': 4416.0,\n",
       " 'uly': 980.0,\n",
       " 'a': -2569.0,\n",
       " 'he': -274.0,\n",
       " 'bkd': -3403.0,\n",
       " 'z': -1047.0,\n",
       " 'dl': 2015.0,\n",
       " 'q': -519.0,\n",
       " 'cp': -4747.0,\n",
       " 'hnb': -296.0,\n",
       " 'eje': 544.0,\n",
       " 'qur': 6611.0,\n",
       " 'yk': 1894.0,\n",
       " 'fw': 5687.0,\n",
       " 'oxv': -1145.0,\n",
       " 'fz': 1916.0,\n",
       " 'rny': 4722.0,\n",
       " 'jf': 1110.0,\n",
       " 'mf': -4258.0,\n",
       " 'kfn': -3099.0}"
      ]
     },
     "execution_count": 27,
     "metadata": {},
     "output_type": "execute_result"
    }
   ],
   "source": [
    "current_amt"
   ]
  },
  {
   "cell_type": "code",
   "execution_count": 28,
   "metadata": {},
   "outputs": [
    {
     "data": {
      "text/plain": [
       "6611.0"
      ]
     },
     "execution_count": 28,
     "metadata": {},
     "output_type": "execute_result"
    }
   ],
   "source": [
    "max(current_amt.values())"
   ]
  },
  {
   "cell_type": "markdown",
   "metadata": {},
   "source": [
    "That's the right answer! You are one gold star closer to debugging the printer."
   ]
  },
  {
   "cell_type": "markdown",
   "metadata": {},
   "source": [
    "--- Part Two ---\n",
    "\n",
    "To be safe, the CPU also needs to know the highest value held in any register during this process so that it can decide how much memory to allocate to these operations. For example, in the above instructions, the highest value ever held was 10 (in register c after the third instruction was evaluated).\n"
   ]
  },
  {
   "cell_type": "code",
   "execution_count": 29,
   "metadata": {},
   "outputs": [],
   "source": [
    "# copied output above to text file\n",
    "with open(\"day8_output.txt\") as f:\n",
    "    results = f.readlines()"
   ]
  },
  {
   "cell_type": "code",
   "execution_count": 30,
   "metadata": {},
   "outputs": [
    {
     "data": {
      "text/plain": [
       "['bkd > -1 evals to 0 > -1 and is True so inc b by 580 to get 580.0\\n',\n",
       " 'z >= -1 evals to 0 >= -1 and is True so inc v by 491 to get 491.0\\n',\n",
       " 'b < 588 evals to 580.0 < 588 and is True so inc ehd by 994 to get 994.0\\n',\n",
       " 'kfn <= -9 evals to 0 <= -9 and is False so inc oso by -941 to get 0\\n',\n",
       " 'uly < 8 evals to 0 < 8 and is True so inc o by 933 to get 933.0\\n']"
      ]
     },
     "execution_count": 30,
     "metadata": {},
     "output_type": "execute_result"
    }
   ],
   "source": [
    "results[0:5]"
   ]
  },
  {
   "cell_type": "code",
   "execution_count": 31,
   "metadata": {},
   "outputs": [],
   "source": [
    "running_vals = [float(x.strip(\"\\n\").split()[-1]) for x in results]"
   ]
  },
  {
   "cell_type": "code",
   "execution_count": 32,
   "metadata": {},
   "outputs": [
    {
     "data": {
      "text/plain": [
       "[580.0, 491.0, 994.0, 0.0, 933.0]"
      ]
     },
     "execution_count": 32,
     "metadata": {},
     "output_type": "execute_result"
    }
   ],
   "source": [
    "running_vals[0:5]"
   ]
  },
  {
   "cell_type": "code",
   "execution_count": 33,
   "metadata": {},
   "outputs": [
    {
     "data": {
      "text/plain": [
       "6619.0"
      ]
     },
     "execution_count": 33,
     "metadata": {},
     "output_type": "execute_result"
    }
   ],
   "source": [
    "max(running_vals)"
   ]
  },
  {
   "cell_type": "markdown",
   "metadata": {},
   "source": [
    "That's the right answer! You are one gold star closer to debugging the printer."
   ]
  },
  {
   "cell_type": "code",
   "execution_count": null,
   "metadata": {},
   "outputs": [],
   "source": []
  }
 ],
 "metadata": {
  "kernelspec": {
   "display_name": "Python 3",
   "language": "python",
   "name": "python3"
  },
  "language_info": {
   "codemirror_mode": {
    "name": "ipython",
    "version": 3
   },
   "file_extension": ".py",
   "mimetype": "text/x-python",
   "name": "python",
   "nbconvert_exporter": "python",
   "pygments_lexer": "ipython3",
   "version": "3.7.0"
  }
 },
 "nbformat": 4,
 "nbformat_minor": 2
}
