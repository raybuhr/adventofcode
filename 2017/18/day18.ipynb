{
 "cells": [
  {
   "cell_type": "markdown",
   "metadata": {},
   "source": [
    "--- Day 18: Duet ---\n",
    "\n",
    "You discover a tablet containing some strange assembly code labeled simply \"Duet\". Rather than bother the sound card with it, you decide to run the code yourself. Unfortunately, you don't see any documentation, so you're left to figure out what the instructions mean on your own.\n",
    "\n",
    "It seems like the assembly is meant to operate on a set of registers that are each named with a single letter and that can each hold a single integer. You suppose each register should start with a value of 0.\n",
    "\n",
    "There aren't that many instructions, so it shouldn't be hard to figure out what they do. Here's what you determine:\n",
    "```\n",
    "snd X plays a sound with a frequency equal to the value of X.\n",
    "set X Y sets register X to the value of Y.\n",
    "add X Y increases register X by the value of Y.\n",
    "mul X Y sets register X to the result of multiplying the value contained in register X by the value of Y.\n",
    "mod X Y sets register X to the remainder of dividing the value contained in register X by the value of Y (that is, it sets X to the result of X modulo Y).\n",
    "rcv X recovers the frequency of the last sound played, but only when the value of X is not zero. (If it is zero, the command does nothing.)\n",
    "jgz X Y jumps with an offset of the value of Y, but only if the value of X is greater than zero. (An offset of 2 skips the next instruction, an offset of -1 jumps to the previous instruction, and so on.)\n",
    "```\n",
    "Many of the instructions can take either a register (a single letter) or a number. The value of a register is the integer it contains; the value of a number is that number.\n",
    "\n",
    "After each jump instruction, the program continues with the instruction to which the jump jumped. After any other instruction, the program continues with the next instruction. Continuing (or jumping) off either end of the program terminates it.\n",
    "\n",
    "For example:\n",
    "```\n",
    "set a 1\n",
    "add a 2\n",
    "mul a a\n",
    "mod a 5\n",
    "snd a\n",
    "set a 0\n",
    "rcv a\n",
    "jgz a -1\n",
    "set a 1\n",
    "jgz a -2\n",
    "```\n",
    "The first four instructions set a to 1, add 2 to it, square it, and then set it to itself modulo 5, resulting in a value of 4.\n",
    "Then, a sound with frequency 4 (the value of a) is played.\n",
    "After that, a is set to 0, causing the subsequent rcv and jgz instructions to both be skipped (rcv because a is 0, and jgz because a is not greater than 0).\n",
    "Finally, a is set to 1, causing the next jgz instruction to activate, jumping back two instructions to another jump, which jumps again to the rcv, which ultimately triggers the recover operation.\n",
    "At the time the recover operation is executed, the frequency of the last sound played is 4.\n",
    "\n",
    "What is the value of the recovered frequency (the value of the most recently played sound) the first time a rcv instruction is executed with a non-zero value?"
   ]
  },
  {
   "cell_type": "code",
   "execution_count": 4,
   "metadata": {},
   "outputs": [],
   "source": [
    "with open('input.txt') as f:\n",
    "    steps = f.read().splitlines()"
   ]
  },
  {
   "cell_type": "code",
   "execution_count": 5,
   "metadata": {},
   "outputs": [],
   "source": [
    "def duet(instruction, counter, sounds=list(), duet_vars=dict(), stop=False):\n",
    "    \"\"\"\n",
    "    snd X plays a sound with a frequency equal to the value of X.\n",
    "    set X Y sets register X to the value of Y.\n",
    "    add X Y increases register X by the value of Y.\n",
    "    mul X Y sets register X to the result of multiplying the value contained in register X by the value of Y.\n",
    "    mod X Y sets register X to the remainder of dividing the value contained in register X by the value of Y.\n",
    "    rcv X recovers the frequency of the last sound played, but only when the value of X is not zero.\n",
    "    jgz X Y jumps with an offset of the value of Y, but only if the value of X is greater than zero.\n",
    "    \"\"\"\n",
    "    cmds = instruction.split(\" \")\n",
    "    if cmds[0] == 'snd':\n",
    "        y = duet_vars[cmds[1]]\n",
    "        sounds.append(y)\n",
    "    elif cmds[0] == 'set':\n",
    "        try:\n",
    "            y = eval(cmds[2])\n",
    "        except:\n",
    "            y = duet_vars[cmds[2]]\n",
    "        duet_vars[cmds[1]] = y\n",
    "    elif cmds[0] == 'add':\n",
    "        try:\n",
    "            y = eval(cmds[2])\n",
    "        except:\n",
    "            y = duet_vars[cmds[2]]            \n",
    "        x = cmds[1]\n",
    "        duet_vars[x] = duet_vars[x] + y\n",
    "    elif cmds[0] == 'mul':\n",
    "        try:\n",
    "            y = eval(cmds[2])\n",
    "        except:\n",
    "            y = duet_vars[cmds[2]]            \n",
    "        x = cmds[1]\n",
    "        duet_vars[x] = duet_vars[x] * y\n",
    "    elif cmds[0] == 'mod':\n",
    "        try:\n",
    "            y = eval(cmds[2])\n",
    "        except:\n",
    "            y = duet_vars[cmds[2]]            \n",
    "        x = cmds[1]\n",
    "        duet_vars[x] = duet_vars[x] % y\n",
    "    elif cmds[0] == 'rcv':\n",
    "        if duet_vars[cmds[1]] != 0:\n",
    "            print(\"Recovered sound:\", sounds[-1])\n",
    "            stop = True\n",
    "            return counter, sounds, duet_vars, stop\n",
    "    elif cmds[0] == 'jgz':\n",
    "        try:\n",
    "            x = duet_vars[cmds[1]]\n",
    "        except:\n",
    "            x = eval(cmds[1])\n",
    "        if x > 0:\n",
    "            y = eval(cmds[2])\n",
    "            counter += y\n",
    "            return counter, sounds, duet_vars, stop\n",
    "    counter += 1\n",
    "    return counter, sounds, duet_vars, stop"
   ]
  },
  {
   "cell_type": "code",
   "execution_count": 6,
   "metadata": {},
   "outputs": [
    {
     "data": {
      "text/plain": [
       "{'a', 'b', 'f', 'i', 'p'}"
      ]
     },
     "execution_count": 6,
     "metadata": {},
     "output_type": "execute_result"
    }
   ],
   "source": [
    "unique_vars = set([x.split(\" \")[1] for x in steps if x.split(\" \")[0] != \"jgz\"])\n",
    "unique_vars"
   ]
  },
  {
   "cell_type": "code",
   "execution_count": 7,
   "metadata": {},
   "outputs": [
    {
     "name": "stdout",
     "output_type": "stream",
     "text": [
      "Recovered sound: 8600\n"
     ]
    }
   ],
   "source": [
    "counter = 0\n",
    "sounds = []\n",
    "duet_vars = {'a':0, 'b':0, 'f':0, 'i':0, 'p':0}\n",
    "stop = False\n",
    "while stop is not True:\n",
    "    counter, sounds, duet_vars, stop = duet(steps[counter], counter, sounds, duet_vars, stop)\n",
    "#     print(steps[counter], counter, sounds, duet_vars)"
   ]
  },
  {
   "cell_type": "markdown",
   "metadata": {},
   "source": [
    "That's the right answer! You are one gold star closer to debugging the printer. "
   ]
  },
  {
   "cell_type": "markdown",
   "metadata": {},
   "source": [
    "--- Part Two ---\n",
    "\n",
    "As you congratulate yourself for a job well done, you notice that the documentation has been on the back of the tablet this entire time. While you actually got most of the instructions correct, there are a few key differences. This assembly code isn't about sound at all - it's meant to be run twice at the same time.\n",
    "\n",
    "Each running copy of the program has its own set of registers and follows the code independently - in fact, the programs don't even necessarily run at the same speed. To coordinate, they use the send (snd) and receive (rcv) instructions:\n",
    "\n",
    "snd X sends the value of X to the other program. These values wait in a queue until that program is ready to receive them. Each program has its own message queue, so a program can never receive a message it sent.\n",
    "rcv X receives the next value and stores it in register X. If no values are in the queue, the program waits for a value to be sent to it. Programs do not continue to the next instruction until they have received a value. Values are received in the order they are sent.\n",
    "Each program also has its own program ID (one 0 and the other 1); the register p should begin with this value.\n",
    "\n",
    "For example:\n",
    "```\n",
    "snd 1\n",
    "snd 2\n",
    "snd p\n",
    "rcv a\n",
    "rcv b\n",
    "rcv c\n",
    "rcv d\n",
    "```\n",
    "Both programs begin by sending three values to the other. Program 0 sends 1, 2, 0; program 1 sends 1, 2, 1. Then, each program receives a value (both 1) and stores it in a, receives another value (both 2) and stores it in b, and then each receives the program ID of the other program (program 0 receives 1; program 1 receives 0) and stores it in c. Each program now sees a different value in its own copy of register c.\n",
    "\n",
    "Finally, both programs try to rcv a fourth time, but no data is waiting for either of them, and they reach a deadlock. When this happens, both programs terminate.\n",
    "\n",
    "It should be noted that it would be equally valid for the programs to run at different speeds; for example, program 0 might have sent all three values and then stopped at the first rcv before program 1 executed even its first instruction.\n",
    "\n",
    "Once both of your programs have terminated (regardless of what caused them to do so), how many times did program 1 send a value?\n",
    "\n"
   ]
  },
  {
   "cell_type": "code",
   "execution_count": 8,
   "metadata": {},
   "outputs": [],
   "source": [
    "from collections import deque\n",
    "\n",
    "def duet(instruction, counter, duet_vars=dict(), \n",
    "         queue_in=deque(), queue_out=deque(), \n",
    "         stop=False, send_count=0, waiting=0, verbose=False):\n",
    "    \"\"\"\n",
    "    snd X plays a sound with a frequency equal to the value of X.\n",
    "    set X Y sets register X to the value of Y.\n",
    "    add X Y increases register X by the value of Y.\n",
    "    mul X Y sets register X to the result of multiplying the value contained in register X by the value of Y.\n",
    "    mod X Y sets register X to the remainder of dividing the value contained in register X by the value of Y.\n",
    "    rcv X recovers the frequency of the last sound played, but only when the value of X is not zero.\n",
    "    jgz X Y jumps with an offset of the value of Y, but only if the value of X is greater than zero.\n",
    "    \"\"\"\n",
    "    if waiting is True:\n",
    "        if len(queue_in) == 0:\n",
    "            return counter, duet_vars, stop, queue_in, queue_out, waiting, send_count\n",
    "        else:\n",
    "            waiting = False\n",
    "    \n",
    "    cmds = instruction.split(\" \")\n",
    "    if verbose: print(cmds)\n",
    "    # snd X plays a sound with a frequency equal to the value of X\n",
    "    if cmds[0] == 'snd':\n",
    "        y = duet_vars[cmds[1]]\n",
    "        queue_out.append(y)\n",
    "        send_count += 1\n",
    "        \n",
    "    # set X Y sets register X to the value of Y.\n",
    "    elif cmds[0] == 'set':\n",
    "        try:\n",
    "            y = eval(cmds[2])\n",
    "        except:\n",
    "            y = duet_vars[cmds[2]]\n",
    "        duet_vars[cmds[1]] = y\n",
    "        \n",
    "    # add X Y increases register X by the value of Y.\n",
    "    elif cmds[0] == 'add':\n",
    "        try:\n",
    "            y = eval(cmds[2])\n",
    "        except:\n",
    "            y = duet_vars[cmds[2]]            \n",
    "        x = cmds[1]\n",
    "        duet_vars[x] = duet_vars[x] + y\n",
    "    \n",
    "    # mul X Y sets register X to the result of multiplying the value contained in register X by the value of Y.\n",
    "    elif cmds[0] == 'mul':\n",
    "        try:\n",
    "            y = eval(cmds[2])\n",
    "        except:\n",
    "            y = duet_vars[cmds[2]]            \n",
    "        x = cmds[1]\n",
    "        duet_vars[x] = duet_vars[x] * y\n",
    "        \n",
    "    # mod X Y sets register X to the remainder of dividing the value contained in register X by the value of Y.\n",
    "    elif cmds[0] == 'mod':\n",
    "        try:\n",
    "            y = eval(cmds[2])\n",
    "        except:\n",
    "            y = duet_vars[cmds[2]]            \n",
    "        x = cmds[1]\n",
    "        duet_vars[x] = duet_vars[x] % y\n",
    "    \n",
    "    # rcv X recovers the frequency of the last sound played, but only when the value of X is not zero.\n",
    "    elif cmds[0] == 'rcv':\n",
    "        try:\n",
    "            x = queue_in.popleft()\n",
    "            duet_vars[cmds[1]] = x\n",
    "        except:\n",
    "            waiting = True\n",
    "            return counter, duet_vars, stop, queue_in, queue_out, waiting, send_count\n",
    "        \n",
    "    # jgz X Y jumps with an offset of the value of Y, but only if the value of X is greater than zero.\n",
    "    elif cmds[0] == 'jgz':\n",
    "        try:\n",
    "            x = duet_vars[cmds[1]]\n",
    "        except:\n",
    "            x = eval(cmds[1])\n",
    "        if x > 0:\n",
    "            try:\n",
    "                y = duet_vars[cmds[2]]\n",
    "            except:\n",
    "                y = eval(cmds[2])\n",
    "            counter += y\n",
    "            return counter, duet_vars, stop, queue_in, queue_out, waiting, send_count\n",
    "        \n",
    "    counter += 1\n",
    "    return counter, duet_vars, stop, queue_in, queue_out, waiting, send_count"
   ]
  },
  {
   "cell_type": "code",
   "execution_count": 12,
   "metadata": {},
   "outputs": [],
   "source": [
    "a_counter, b_counter, a_send_count, b_send_count = 0, 0, 0, 0\n",
    "a_queue, b_queue = deque(), deque()\n",
    "a_vars = {'a':0, 'b':0, 'f':0, 'i':0, 'p':0}\n",
    "b_vars = {'a':0, 'b':0, 'f':0, 'i':0, 'p':1}\n",
    "a_wait, b_wait = False, False\n",
    "a_stop, b_stop = False, False"
   ]
  },
  {
   "cell_type": "code",
   "execution_count": 13,
   "metadata": {},
   "outputs": [],
   "source": [
    "while True:\n",
    "    while a_wait is not True:\n",
    "        a_counter, a_vars, a_stop, b_queue, a_queue, a_wait, a_send_count = duet(\n",
    "            instruction=steps[a_counter], counter=a_counter, duet_vars=a_vars, stop=a_stop,\n",
    "            queue_in=b_queue, queue_out=a_queue, waiting=a_wait, send_count=a_send_count)\n",
    "    while b_wait is not True:\n",
    "        b_counter, b_vars, b_stop, a_queue, b_queue, b_wait, b_send_count = duet(\n",
    "            instruction=steps[b_counter], counter=b_counter, duet_vars=b_vars, stop=b_stop, \n",
    "            queue_in=a_queue, queue_out=b_queue, waiting=b_wait, send_count=b_send_count)\n",
    "    if len(b_queue) > 0:\n",
    "        a_counter, a_vars, a_stop, b_queue, a_queue, a_wait, a_send_count = duet(\n",
    "            instruction=steps[a_counter], counter=a_counter, duet_vars=a_vars, stop=a_stop,\n",
    "            queue_in=b_queue, queue_out=a_queue, waiting=a_wait, send_count=a_send_count)\n",
    "    if len(a_queue) > 0:\n",
    "        b_counter, b_vars, b_stop, a_queue, b_queue, b_wait, b_send_count = duet(\n",
    "            instruction=steps[b_counter], counter=b_counter, duet_vars=b_vars, stop=b_stop, \n",
    "            queue_in=a_queue, queue_out=b_queue, waiting=b_wait, send_count=b_send_count)\n",
    "    if len(a_queue) == 0 and len(b_queue) == 0:\n",
    "        break"
   ]
  },
  {
   "cell_type": "code",
   "execution_count": 14,
   "metadata": {},
   "outputs": [
    {
     "name": "stdout",
     "output_type": "stream",
     "text": [
      "a: 21 {'a': 26, 'b': 26, 'f': 0, 'i': 0, 'p': -91} False True 7366\n",
      "b: 21 {'a': 26, 'b': 26, 'f': 0, 'i': 0, 'p': -91} False True 7239\n"
     ]
    }
   ],
   "source": [
    "print(\"a:\", a_counter, a_vars, a_stop, a_wait, a_send_count)\n",
    "print(\"b:\", b_counter, b_vars, b_stop, b_wait, b_send_count)"
   ]
  },
  {
   "cell_type": "code",
   "execution_count": 15,
   "metadata": {},
   "outputs": [
    {
     "name": "stdout",
     "output_type": "stream",
     "text": [
      "Answer: 7239\n"
     ]
    }
   ],
   "source": [
    "print(\"Answer:\", b_send_count)"
   ]
  },
  {
   "cell_type": "code",
   "execution_count": null,
   "metadata": {},
   "outputs": [],
   "source": []
  }
 ],
 "metadata": {
  "kernelspec": {
   "display_name": "Python 3",
   "language": "python",
   "name": "python3"
  },
  "language_info": {
   "codemirror_mode": {
    "name": "ipython",
    "version": 3
   },
   "file_extension": ".py",
   "mimetype": "text/x-python",
   "name": "python",
   "nbconvert_exporter": "python",
   "pygments_lexer": "ipython3",
   "version": "3.8.3"
  }
 },
 "nbformat": 4,
 "nbformat_minor": 4
}
