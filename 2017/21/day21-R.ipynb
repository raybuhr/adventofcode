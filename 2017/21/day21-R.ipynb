{
 "cells": [
  {
   "cell_type": "markdown",
   "metadata": {},
   "source": [
    "--- Day 21: Fractal Art ---"
   ]
  },
  {
   "cell_type": "code",
   "execution_count": 112,
   "metadata": {},
   "outputs": [],
   "source": [
    "starting_pattern = \".#./..#/###\""
   ]
  },
  {
   "cell_type": "code",
   "execution_count": 7,
   "metadata": {},
   "outputs": [
    {
     "name": "stderr",
     "output_type": "stream",
     "text": [
      "Warning message in readLines(\"input.txt\"):\n",
      "“incomplete final line found on 'input.txt'”\n"
     ]
    }
   ],
   "source": [
    "rules = readLines(\"input.txt\")"
   ]
  },
  {
   "cell_type": "code",
   "execution_count": 9,
   "metadata": {},
   "outputs": [
    {
     "data": {
      "text/html": [
       "108"
      ],
      "text/latex": [
       "108"
      ],
      "text/markdown": [
       "108"
      ],
      "text/plain": [
       "[1] 108"
      ]
     },
     "metadata": {},
     "output_type": "display_data"
    }
   ],
   "source": [
    "length(rules)"
   ]
  },
  {
   "cell_type": "code",
   "execution_count": 11,
   "metadata": {},
   "outputs": [
    {
     "data": {
      "text/html": [
       "'###/###/### =&gt; .##./##../..#./.###'"
      ],
      "text/latex": [
       "'\\#\\#\\#/\\#\\#\\#/\\#\\#\\# => .\\#\\#./\\#\\#../..\\#./.\\#\\#\\#'"
      ],
      "text/markdown": [
       "'###/###/### =&gt; .##./##../..#./.###'"
      ],
      "text/plain": [
       "[1] \"###/###/### => .##./##../..#./.###\""
      ]
     },
     "metadata": {},
     "output_type": "display_data"
    }
   ],
   "source": [
    "tail(rules, 1)"
   ]
  },
  {
   "cell_type": "code",
   "execution_count": 67,
   "metadata": {},
   "outputs": [],
   "source": [
    "rule_df = data.frame(text = rules, stringsAsFactors = FALSE)"
   ]
  },
  {
   "cell_type": "code",
   "execution_count": 68,
   "metadata": {},
   "outputs": [],
   "source": [
    "rule_df$rule = str_split(rule_df$text, \" => \")"
   ]
  },
  {
   "cell_type": "code",
   "execution_count": 70,
   "metadata": {},
   "outputs": [],
   "source": [
    "rule_df$input = sapply(rule_df$rule, function(x) x[1])"
   ]
  },
  {
   "cell_type": "code",
   "execution_count": 72,
   "metadata": {},
   "outputs": [],
   "source": [
    "rule_df$output = sapply(rule_df$rule, function(x) x[2])"
   ]
  },
  {
   "cell_type": "code",
   "execution_count": 73,
   "metadata": {},
   "outputs": [
    {
     "data": {
      "text/html": [
       "<table>\n",
       "<caption>A data.frame: 6 × 4</caption>\n",
       "<thead>\n",
       "\t<tr><th></th><th scope=col>text</th><th scope=col>rule</th><th scope=col>input</th><th scope=col>output</th></tr>\n",
       "\t<tr><th></th><th scope=col>&lt;chr&gt;</th><th scope=col>&lt;list&gt;</th><th scope=col>&lt;chr&gt;</th><th scope=col>&lt;chr&gt;</th></tr>\n",
       "</thead>\n",
       "<tbody>\n",
       "\t<tr><th scope=row>1</th><td>../.. =&gt; .#./###/##.</td><td><span style=white-space:pre-wrap>../..      , .#./###/##.</span></td><td>../..</td><td>.#./###/##.</td></tr>\n",
       "\t<tr><th scope=row>2</th><td>#./.. =&gt; ..#/.#./#.#</td><td><span style=white-space:pre-wrap>#./..      , ..#/.#./#.#</span></td><td>#./..</td><td>..#/.#./#.#</td></tr>\n",
       "\t<tr><th scope=row>3</th><td>##/.. =&gt; ###/#../...</td><td><span style=white-space:pre-wrap>##/..      , ###/#../...</span></td><td>##/..</td><td>###/#../...</td></tr>\n",
       "\t<tr><th scope=row>4</th><td>.#/#. =&gt; .#./..#/##.</td><td><span style=white-space:pre-wrap>.#/#.      , .#./..#/##.</span></td><td>.#/#.</td><td>.#./..#/##.</td></tr>\n",
       "\t<tr><th scope=row>5</th><td>##/#. =&gt; ..#/#.#/###</td><td><span style=white-space:pre-wrap>##/#.      , ..#/#.#/###</span></td><td>##/#.</td><td>..#/#.#/###</td></tr>\n",
       "\t<tr><th scope=row>6</th><td>##/## =&gt; .##/.##/.#.</td><td><span style=white-space:pre-wrap>##/##      , .##/.##/.#.</span></td><td>##/##</td><td>.##/.##/.#.</td></tr>\n",
       "</tbody>\n",
       "</table>\n"
      ],
      "text/latex": [
       "A data.frame: 6 × 4\n",
       "\\begin{tabular}{r|llll}\n",
       "  & text & rule & input & output\\\\\n",
       "  & <chr> & <list> & <chr> & <chr>\\\\\n",
       "\\hline\n",
       "\t1 & ../.. => .\\#./\\#\\#\\#/\\#\\#. & ../..      , .\\#./\\#\\#\\#/\\#\\#. & ../.. & .\\#./\\#\\#\\#/\\#\\#.\\\\\n",
       "\t2 & \\#./.. => ..\\#/.\\#./\\#.\\# & \\#./..      , ..\\#/.\\#./\\#.\\# & \\#./.. & ..\\#/.\\#./\\#.\\#\\\\\n",
       "\t3 & \\#\\#/.. => \\#\\#\\#/\\#../... & \\#\\#/..      , \\#\\#\\#/\\#../... & \\#\\#/.. & \\#\\#\\#/\\#../...\\\\\n",
       "\t4 & .\\#/\\#. => .\\#./..\\#/\\#\\#. & .\\#/\\#.      , .\\#./..\\#/\\#\\#. & .\\#/\\#. & .\\#./..\\#/\\#\\#.\\\\\n",
       "\t5 & \\#\\#/\\#. => ..\\#/\\#.\\#/\\#\\#\\# & \\#\\#/\\#.      , ..\\#/\\#.\\#/\\#\\#\\# & \\#\\#/\\#. & ..\\#/\\#.\\#/\\#\\#\\#\\\\\n",
       "\t6 & \\#\\#/\\#\\# => .\\#\\#/.\\#\\#/.\\#. & \\#\\#/\\#\\#      , .\\#\\#/.\\#\\#/.\\#. & \\#\\#/\\#\\# & .\\#\\#/.\\#\\#/.\\#.\\\\\n",
       "\\end{tabular}\n"
      ],
      "text/markdown": [
       "\n",
       "A data.frame: 6 × 4\n",
       "\n",
       "| <!--/--> | text &lt;chr&gt; | rule &lt;list&gt; | input &lt;chr&gt; | output &lt;chr&gt; |\n",
       "|---|---|---|---|---|\n",
       "| 1 | ../.. =&gt; .#./###/##. | ../..      , .#./###/##. | ../.. | .#./###/##. |\n",
       "| 2 | #./.. =&gt; ..#/.#./#.# | #./..      , ..#/.#./#.# | #./.. | ..#/.#./#.# |\n",
       "| 3 | ##/.. =&gt; ###/#../... | ##/..      , ###/#../... | ##/.. | ###/#../... |\n",
       "| 4 | .#/#. =&gt; .#./..#/##. | .#/#.      , .#./..#/##. | .#/#. | .#./..#/##. |\n",
       "| 5 | ##/#. =&gt; ..#/#.#/### | ##/#.      , ..#/#.#/### | ##/#. | ..#/#.#/### |\n",
       "| 6 | ##/## =&gt; .##/.##/.#. | ##/##      , .##/.##/.#. | ##/## | .##/.##/.#. |\n",
       "\n"
      ],
      "text/plain": [
       "  text                 rule                     input output     \n",
       "1 ../.. => .#./###/##. ../..      , .#./###/##. ../.. .#./###/##.\n",
       "2 #./.. => ..#/.#./#.# #./..      , ..#/.#./#.# #./.. ..#/.#./#.#\n",
       "3 ##/.. => ###/#../... ##/..      , ###/#../... ##/.. ###/#../...\n",
       "4 .#/#. => .#./..#/##. .#/#.      , .#./..#/##. .#/#. .#./..#/##.\n",
       "5 ##/#. => ..#/#.#/### ##/#.      , ..#/#.#/### ##/#. ..#/#.#/###\n",
       "6 ##/## => .##/.##/.#. ##/##      , .##/.##/.#. ##/## .##/.##/.#."
      ]
     },
     "metadata": {},
     "output_type": "display_data"
    }
   ],
   "source": [
    "head(rule_df)"
   ]
  },
  {
   "cell_type": "code",
   "execution_count": 114,
   "metadata": {},
   "outputs": [],
   "source": [
    "pattern_as_matrix = function(pattern) {\n",
    "    chars = unlist(strsplit(gsub(\"/\", \"\", pattern), \"\"))\n",
    "    l = length(chars)\n",
    "    if (l %% 2 == 0) {\n",
    "        d = 2\n",
    "    } else {\n",
    "        d = 3\n",
    "    }\n",
    "    return(structure(chars, .Dim = c(d, d)))\n",
    "}"
   ]
  },
  {
   "cell_type": "code",
   "execution_count": 115,
   "metadata": {},
   "outputs": [],
   "source": [
    "rotate <- function(x) t(apply(x, 2, rev))"
   ]
  },
  {
   "cell_type": "code",
   "execution_count": 116,
   "metadata": {},
   "outputs": [],
   "source": [
    "sp = pattern_as_matrix(starting_pattern)"
   ]
  },
  {
   "cell_type": "code",
   "execution_count": 117,
   "metadata": {},
   "outputs": [
    {
     "data": {
      "text/html": [
       "<table>\n",
       "<caption>A matrix: 3 × 3 of type chr</caption>\n",
       "<tbody>\n",
       "\t<tr><td>.</td><td>.</td><td>#</td></tr>\n",
       "\t<tr><td>#</td><td>.</td><td>#</td></tr>\n",
       "\t<tr><td>.</td><td>#</td><td>#</td></tr>\n",
       "</tbody>\n",
       "</table>\n"
      ],
      "text/latex": [
       "A matrix: 3 × 3 of type chr\n",
       "\\begin{tabular}{lll}\n",
       "\t . & . & \\#\\\\\n",
       "\t \\# & . & \\#\\\\\n",
       "\t . & \\# & \\#\\\\\n",
       "\\end{tabular}\n"
      ],
      "text/markdown": [
       "\n",
       "A matrix: 3 × 3 of type chr\n",
       "\n",
       "| . | . | # |\n",
       "| # | . | # |\n",
       "| . | # | # |\n",
       "\n"
      ],
      "text/plain": [
       "     [,1] [,2] [,3]\n",
       "[1,] .    .    #   \n",
       "[2,] #    .    #   \n",
       "[3,] .    #    #   "
      ]
     },
     "metadata": {},
     "output_type": "display_data"
    }
   ],
   "source": [
    "sp"
   ]
  },
  {
   "cell_type": "code",
   "execution_count": 118,
   "metadata": {},
   "outputs": [
    {
     "data": {
      "text/html": [
       "<table>\n",
       "<caption>A matrix: 3 × 3 of type chr</caption>\n",
       "<tbody>\n",
       "\t<tr><td>.</td><td>#</td><td>.</td></tr>\n",
       "\t<tr><td>.</td><td>.</td><td>#</td></tr>\n",
       "\t<tr><td>#</td><td>#</td><td>#</td></tr>\n",
       "</tbody>\n",
       "</table>\n"
      ],
      "text/latex": [
       "A matrix: 3 × 3 of type chr\n",
       "\\begin{tabular}{lll}\n",
       "\t . & \\# & .\\\\\n",
       "\t . & . & \\#\\\\\n",
       "\t \\# & \\# & \\#\\\\\n",
       "\\end{tabular}\n"
      ],
      "text/markdown": [
       "\n",
       "A matrix: 3 × 3 of type chr\n",
       "\n",
       "| . | # | . |\n",
       "| . | . | # |\n",
       "| # | # | # |\n",
       "\n"
      ],
      "text/plain": [
       "     [,1] [,2] [,3]\n",
       "[1,] .    #    .   \n",
       "[2,] .    .    #   \n",
       "[3,] #    #    #   "
      ]
     },
     "metadata": {},
     "output_type": "display_data"
    }
   ],
   "source": [
    "t(sp)"
   ]
  },
  {
   "cell_type": "code",
   "execution_count": 119,
   "metadata": {},
   "outputs": [
    {
     "data": {
      "text/html": [
       "<table>\n",
       "<caption>A matrix: 3 × 3 of type chr</caption>\n",
       "<tbody>\n",
       "\t<tr><td>.</td><td>#</td><td>.</td></tr>\n",
       "\t<tr><td>#</td><td>.</td><td>.</td></tr>\n",
       "\t<tr><td>#</td><td>#</td><td>#</td></tr>\n",
       "</tbody>\n",
       "</table>\n"
      ],
      "text/latex": [
       "A matrix: 3 × 3 of type chr\n",
       "\\begin{tabular}{lll}\n",
       "\t . & \\# & .\\\\\n",
       "\t \\# & . & .\\\\\n",
       "\t \\# & \\# & \\#\\\\\n",
       "\\end{tabular}\n"
      ],
      "text/markdown": [
       "\n",
       "A matrix: 3 × 3 of type chr\n",
       "\n",
       "| . | # | . |\n",
       "| # | . | . |\n",
       "| # | # | # |\n",
       "\n"
      ],
      "text/plain": [
       "     [,1] [,2] [,3]\n",
       "[1,] .    #    .   \n",
       "[2,] #    .    .   \n",
       "[3,] #    #    #   "
      ]
     },
     "metadata": {},
     "output_type": "display_data"
    }
   ],
   "source": [
    "rotate(sp)"
   ]
  },
  {
   "cell_type": "code",
   "execution_count": 138,
   "metadata": {},
   "outputs": [],
   "source": [
    "matrix_to_pattern = function(mat) paste(as.character(mat), collapse = \"\")"
   ]
  },
  {
   "cell_type": "code",
   "execution_count": 145,
   "metadata": {},
   "outputs": [
    {
     "data": {
      "text/html": [
       "FALSE"
      ],
      "text/latex": [
       "FALSE"
      ],
      "text/markdown": [
       "FALSE"
      ],
      "text/plain": [
       "[1] FALSE"
      ]
     },
     "metadata": {},
     "output_type": "display_data"
    }
   ],
   "source": [
    "matrix_to_pattern(sp) %in% rule_df$input"
   ]
  },
  {
   "cell_type": "code",
   "execution_count": 160,
   "metadata": {},
   "outputs": [],
   "source": [
    "check_for_matching_matrix <- function(mat) {\n",
    "    not_done = TRUE\n",
    "    attempts = 1\n",
    "    while (not_done) {\n",
    "        if (attempts %% 4 == 0) {\n",
    "            mat = t(mat)\n",
    "        } else {\n",
    "            mat = rotate(mat)\n",
    "        }\n",
    "        if (matrix_to_pattern(mat) %in% rule_df$input) {\n",
    "            return(mat)\n",
    "        }\n",
    "    }\n",
    "}"
   ]
  },
  {
   "cell_type": "code",
   "execution_count": 161,
   "metadata": {},
   "outputs": [],
   "source": [
    "check_for_matching_matrix(sp)"
   ]
  },
  {
   "cell_type": "code",
   "execution_count": 153,
   "metadata": {},
   "outputs": [
    {
     "data": {
      "text/html": [
       "FALSE"
      ],
      "text/latex": [
       "FALSE"
      ],
      "text/markdown": [
       "FALSE"
      ],
      "text/plain": [
       "[1] FALSE"
      ]
     },
     "metadata": {},
     "output_type": "display_data"
    }
   ],
   "source": [
    "matrix_to_pattern(t(rotate(rotate(rotate(sp))))) %in% rule_df$input"
   ]
  }
 ],
 "metadata": {
  "kernelspec": {
   "display_name": "R",
   "language": "R",
   "name": "ir"
  },
  "language_info": {
   "codemirror_mode": "r",
   "file_extension": ".r",
   "mimetype": "text/x-r-source",
   "name": "R",
   "pygments_lexer": "r",
   "version": "3.5.1"
  }
 },
 "nbformat": 4,
 "nbformat_minor": 4
}
