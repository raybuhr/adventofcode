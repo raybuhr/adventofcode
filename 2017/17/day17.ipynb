{
 "cells": [
  {
   "cell_type": "markdown",
   "metadata": {},
   "source": [
    "--- Day 17: Spinlock ---\n",
    "\n",
    "Suddenly, whirling in the distance, you notice what looks like a massive, pixelated hurricane: a deadly spinlock. This spinlock isn't just consuming computing power, but memory, too; vast, digital mountains are being ripped from the ground and consumed by the vortex.\n",
    "\n",
    "If you don't move quickly, fixing that printer will be the least of your problems.\n",
    "\n",
    "This spinlock's algorithm is simple but efficient, quickly consuming everything in its path. It starts with a circular buffer containing only the value 0, which it marks as the current position. It then steps forward through the circular buffer some number of steps (your puzzle input) before inserting the first new value, 1, after the value it stopped on. The inserted value becomes the current position. Then, it steps forward from there the same number of steps, and wherever it stops, inserts after it the second new value, 2, and uses that as the new current position again.\n",
    "\n",
    "It repeats this process of stepping forward, inserting a new value, and using the location of the inserted value as the new current position a total of 2017 times, inserting 2017 as its final operation, and ending with a total of 2018 values (including 0) in the circular buffer.\n",
    "\n",
    "For example, if the spinlock were to step 3 times per insert, the circular buffer would begin to evolve like this (using parentheses to mark the current position after each iteration of the algorithm):\n",
    "\n",
    "```\n",
    "(0), the initial state before any insertions.\n",
    "0 (1): the spinlock steps forward three times (0, 0, 0), and then inserts the first value, 1, after it. 1 becomes the current position.\n",
    "0 (2) 1: the spinlock steps forward three times (0, 1, 0), and then inserts the second value, 2, after it. 2 becomes the current position.\n",
    "0  2 (3) 1: the spinlock steps forward three times (1, 0, 2), and then inserts the third value, 3, after it. 3 becomes the current position.\n",
    "```\n",
    "And so on:\n",
    "```\n",
    "0  2 (4) 3  1\n",
    "0 (5) 2  4  3  1\n",
    "0  5  2  4  3 (6) 1\n",
    "0  5 (7) 2  4  3  6  1\n",
    "0  5  7  2  4  3 (8) 6  1\n",
    "0 (9) 5  7  2  4  3  8  6  1\n",
    "```\n",
    "Eventually, after 2017 insertions, the section of the circular buffer near the last insertion looks like this:\n",
    "\n",
    "1512  1134  151 (2017) 638  1513  851\n",
    "Perhaps, if you can identify the value that will ultimately be after the last value written (2017), you can short-circuit the spinlock. In this example, that would be 638.\n",
    "\n",
    "What is the value after 2017 in your completed circular buffer?\n",
    "\n",
    "Your puzzle input is `329`.\n",
    "\n"
   ]
  },
  {
   "cell_type": "code",
   "execution_count": 2,
   "metadata": {},
   "outputs": [],
   "source": [
    "import itertools"
   ]
  },
  {
   "cell_type": "code",
   "execution_count": 3,
   "metadata": {},
   "outputs": [],
   "source": [
    "position = 0\n",
    "circle = [0]\n",
    "cycle_length = 3\n",
    "step = 1"
   ]
  },
  {
   "cell_type": "code",
   "execution_count": 4,
   "metadata": {},
   "outputs": [
    {
     "name": "stdout",
     "output_type": "stream",
     "text": [
      "\n",
      "Step: 1\n",
      "New circle: [0, 0, 0]\n",
      "Circle: [0, 1]\n",
      "new position: 1\n",
      "\n",
      "Step: 2\n",
      "New circle: [0, 1, 0]\n",
      "Circle: [0, 2, 1]\n",
      "new position: 1\n",
      "\n",
      "Step: 3\n",
      "New circle: [1, 0, 2]\n",
      "Circle: [0, 2, 3, 1]\n",
      "new position: 2\n",
      "\n",
      "Step: 4\n",
      "New circle: [1, 0, 2]\n",
      "Circle: [0, 2, 4, 3, 1]\n",
      "new position: 2\n",
      "\n",
      "Step: 5\n",
      "New circle: [3, 1, 0]\n",
      "Circle: [0, 5, 2, 4, 3, 1]\n",
      "new position: 1\n",
      "\n",
      "Step: 6\n",
      "New circle: [2, 4, 3]\n",
      "Circle: [0, 5, 2, 4, 3, 6, 1]\n",
      "new position: 5\n",
      "\n",
      "Step: 7\n",
      "New circle: [1, 0, 5]\n",
      "Circle: [0, 5, 7, 2, 4, 3, 6, 1]\n",
      "new position: 2\n",
      "\n",
      "Step: 8\n",
      "New circle: [2, 4, 3]\n",
      "Circle: [0, 5, 7, 2, 4, 3, 8, 6, 1]\n",
      "new position: 6\n",
      "\n",
      "Step: 9\n",
      "New circle: [6, 1, 0]\n",
      "Circle: [0, 9, 5, 7, 2, 4, 3, 8, 6, 1]\n",
      "new position: 1\n"
     ]
    }
   ],
   "source": [
    "while step < 10:\n",
    "    print(\"\\nStep:\", step)\n",
    "    new_circle = [i for i in itertools.islice(itertools.cycle(circle), position+1, position+cycle_length+1)]\n",
    "    print(\"New circle:\", new_circle)\n",
    "    position = circle.index(new_circle[-1])\n",
    "    circle.insert(position+1, step)\n",
    "    step += 1\n",
    "    position +=1\n",
    "    print(\"Circle:\", circle)\n",
    "    print(\"new position:\", position)\n",
    "\n",
    "assert circle == [0, 9, 5, 7, 2, 4, 3, 8, 6, 1]"
   ]
  },
  {
   "cell_type": "code",
   "execution_count": 5,
   "metadata": {},
   "outputs": [],
   "source": [
    "def spinlock(cycle_length, steps):\n",
    "    position = 0\n",
    "    circle = [0]\n",
    "    step = 1\n",
    "    while step < steps+1:\n",
    "        new_circle = [i for i in itertools.islice(itertools.cycle(circle), position+1, position+cycle_length+1)]\n",
    "        position = circle.index(new_circle[-1])\n",
    "        circle.insert(position+1, step)\n",
    "        step += 1\n",
    "        position +=1\n",
    "    return circle"
   ]
  },
  {
   "cell_type": "code",
   "execution_count": 6,
   "metadata": {},
   "outputs": [
    {
     "data": {
      "text/plain": [
       "[0, 9, 5, 7, 2, 10, 4, 3, 8, 6, 1]"
      ]
     },
     "execution_count": 6,
     "metadata": {},
     "output_type": "execute_result"
    }
   ],
   "source": [
    "spinlock(3, 10)"
   ]
  },
  {
   "cell_type": "code",
   "execution_count": 7,
   "metadata": {},
   "outputs": [
    {
     "data": {
      "text/plain": [
       "638"
      ]
     },
     "execution_count": 7,
     "metadata": {},
     "output_type": "execute_result"
    }
   ],
   "source": [
    "test_spinlock = spinlock(3, 2017)\n",
    "test_last_insertion = test_spinlock.index(max(test_spinlock))\n",
    "test_spinlock[test_last_insertion+1]"
   ]
  },
  {
   "cell_type": "code",
   "execution_count": 8,
   "metadata": {},
   "outputs": [
    {
     "data": {
      "text/plain": [
       "725"
      ]
     },
     "execution_count": 8,
     "metadata": {},
     "output_type": "execute_result"
    }
   ],
   "source": [
    "my_spinlock = spinlock(329, 2017)\n",
    "my_last_insertion = my_spinlock.index(max(my_spinlock))\n",
    "my_spinlock[my_last_insertion+1]"
   ]
  },
  {
   "cell_type": "markdown",
   "metadata": {},
   "source": [
    "That's the right answer! You are one gold star closer to debugging the printer."
   ]
  },
  {
   "cell_type": "markdown",
   "metadata": {},
   "source": [
    "--- Part Two ---\n",
    "\n",
    "The spinlock does not short-circuit. Instead, it gets more angry. At least, you assume that's what happened; it's spinning significantly faster than it was a moment ago.\n",
    "\n",
    "You have good news and bad news.\n",
    "\n",
    "The good news is that you have improved calculations for how to stop the spinlock. They indicate that you actually need to identify the value after 0 in the current state of the circular buffer.\n",
    "\n",
    "The bad news is that while you were determining this, the spinlock has just finished inserting its fifty millionth value (50000000).\n",
    "\n",
    "What is the value after 0 the moment 50000000 is inserted?\n",
    "\n",
    "Your puzzle input is still `329`.\n"
   ]
  },
  {
   "cell_type": "code",
   "execution_count": 11,
   "metadata": {},
   "outputs": [],
   "source": [
    "def next0(step):\n",
    "    pos = 0\n",
    "    final = 0\n",
    "    for i in range(1,50000001):\n",
    "        pos = (pos + step) % i + 1\n",
    "        if pos==1:\n",
    "            final = i\n",
    "    return final"
   ]
  },
  {
   "cell_type": "code",
   "execution_count": 11,
   "metadata": {},
   "outputs": [
    {
     "data": {
      "text/plain": [
       "27361412"
      ]
     },
     "execution_count": 11,
     "metadata": {},
     "output_type": "execute_result"
    }
   ],
   "source": [
    "next0(329)"
   ]
  },
  {
   "cell_type": "code",
   "execution_count": null,
   "metadata": {},
   "outputs": [],
   "source": []
  }
 ],
 "metadata": {
  "kernelspec": {
   "display_name": "Python 3",
   "language": "python",
   "name": "python3"
  },
  "language_info": {
   "codemirror_mode": {
    "name": "ipython",
    "version": 3
   },
   "file_extension": ".py",
   "mimetype": "text/x-python",
   "name": "python",
   "nbconvert_exporter": "python",
   "pygments_lexer": "ipython3",
   "version": "3.8.3"
  }
 },
 "nbformat": 4,
 "nbformat_minor": 4
}
