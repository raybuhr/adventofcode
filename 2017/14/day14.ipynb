{
 "cells": [
  {
   "cell_type": "markdown",
   "metadata": {},
   "source": [
    "--- Day 14: Disk Defragmentation ---\n",
    "\n",
    "Suddenly, a scheduled job activates the system's disk defragmenter. Were the situation different, you might sit and watch it for a while, but today, you just don't have that kind of time. It's soaking up valuable system resources that are needed elsewhere, and so the only option is to help it finish its task as soon as possible.\n",
    "\n",
    "The disk in question consists of a 128x128 grid; each square of the grid is either free or used. On this disk, the state of the grid is tracked by the bits in a sequence of knot hashes.\n",
    "\n",
    "A total of 128 knot hashes are calculated, each corresponding to a single row in the grid; each hash contains 128 bits which correspond to individual grid squares. Each bit of a hash indicates whether that square is free (0) or used (1).\n",
    "\n",
    "The hash inputs are a key string (your puzzle input), a dash, and a number from 0 to 127 corresponding to the row. For example, if your key string were `flqrgnkx`, then the first row would be given by the bits of the knot hash of `flqrgnkx-0`, the second row from the bits of the knot hash of `flqrgnkx-1`, and so on until the last row, `flqrgnkx-127`.\n",
    "\n",
    "The output of a knot hash is traditionally represented by 32 hexadecimal digits; each of these digits correspond to 4 bits, for a total of 4 * 32 = 128 bits. To convert to bits, turn each hexadecimal digit to its equivalent binary value, high-bit first: 0 becomes `0000`, 1 becomes `0001`, e becomes `1110`, f becomes `1111`, and so on; a hash that begins with `a0c2017...` in hexadecimal would begin with `10100000110000100000000101110000...` in binary.\n",
    "\n",
    "Continuing this process, the first 8 rows and columns for key `flqrgnkx` appear as follows, using # to denote used squares, and . to denote free ones:\n",
    "\n",
    "```\n",
    "##.#.#..-->\n",
    ".#.#.#.#   \n",
    "....#.#.   \n",
    "#.#.##.#   \n",
    ".##.#...   \n",
    "##..#..#   \n",
    ".#...#..   \n",
    "##.#.##.-->\n",
    "|      |   \n",
    "V      V   \n",
    "```\n",
    "\n",
    "In this example, 8108 squares are used across the entire 128x128 grid.\n",
    "\n",
    "Given your actual key string, how many squares are used?\n",
    "\n",
    "Your puzzle input is `oundnydw`."
   ]
  },
  {
   "cell_type": "markdown",
   "metadata": {},
   "source": [
    "Borrowing from day 10..."
   ]
  },
  {
   "cell_type": "code",
   "execution_count": 1,
   "metadata": {},
   "outputs": [],
   "source": [
    "from functools import reduce\n",
    "\n",
    "def reduce_list_by_numeric_xor(chunk_of_ints):\n",
    "    return reduce((lambda x, y: x ^ y), chunk_of_ints)\n",
    "\n",
    "def find_subslice(circle, start, length):\n",
    "    repeat_slice = circle + circle # adding lists extends them\n",
    "    subslice = repeat_slice[start:(start+length)]\n",
    "    subslice.reverse()\n",
    "    return subslice\n",
    "\n",
    "def make_new_circle(circle, start, length):\n",
    "    subslice = find_subslice(circle, start, length)\n",
    "    repeat_slice = circle + circle # adding lists extends them\n",
    "    repeat_slice[start:(start+length)] = subslice\n",
    "    \n",
    "    # test in case need to wrap circle\n",
    "    if ((start + length) > len(circle)):\n",
    "        overflow = (start + length) % len(circle)\n",
    "        repeat_slice[0:overflow] = repeat_slice[(len(circle)):(len(circle)+overflow)]\n",
    "    \n",
    "    keep_circle = repeat_slice[0:len(circle)]\n",
    "    return keep_circle\n",
    "\n",
    "def knot_hash(list_of_lengths, input_list_size=256, skip=0, index=0, num_rounds=64):\n",
    "    input_list = list(range(input_list_size))\n",
    "    for rd in range(num_rounds):\n",
    "        for l in list_of_lengths:\n",
    "            input_list = make_new_circle(input_list, index, l)\n",
    "            index = (index + l + skip) % len(input_list)\n",
    "            skip += 1\n",
    "\n",
    "    chunks = [input_list[i:i+16] for i in range(0, 256, 16)]\n",
    "    dense_hash = [reduce_list_by_numeric_xor(x) for x in chunks]\n",
    "    hex_hash = [hex(x).split('x')[-1] for x in dense_hash]\n",
    "    for i, j in enumerate(hex_hash):\n",
    "        if len(j) < 2:\n",
    "            hex_hash[i] = '0' + j\n",
    "    return hex_hash"
   ]
  },
  {
   "cell_type": "code",
   "execution_count": 2,
   "metadata": {},
   "outputs": [],
   "source": [
    "test_input = 'flqrgnkx'\n",
    "my_input = 'oundnydw'"
   ]
  },
  {
   "cell_type": "code",
   "execution_count": 3,
   "metadata": {},
   "outputs": [],
   "source": [
    "test_rows = [test_input + '-' + str(x) for x in range(128)]\n",
    "my_rows = [my_input + '-' + str(x) for x in range(128)]"
   ]
  },
  {
   "cell_type": "code",
   "execution_count": 4,
   "metadata": {},
   "outputs": [],
   "source": [
    "def asciitize(some_string):\n",
    "    return [ord(x) for x in some_string] + [17, 31, 73, 47, 23]"
   ]
  },
  {
   "cell_type": "code",
   "execution_count": 5,
   "metadata": {},
   "outputs": [],
   "source": [
    "def knot_hash_to_binary(some_string):\n",
    "    as_ascii = asciitize(some_string)\n",
    "    knotted = knot_hash(as_ascii)\n",
    "    as_hex = ''.join(knotted)\n",
    "    as_bin = bin(int(as_hex, 16))[2:]\n",
    "    # pad start with zeroes\n",
    "    final = (128 - len(as_bin)) * '0' + as_bin \n",
    "    return final"
   ]
  },
  {
   "cell_type": "code",
   "execution_count": 6,
   "metadata": {},
   "outputs": [],
   "source": [
    "test_grid = [knot_hash_to_binary(x) for x in test_rows]"
   ]
  },
  {
   "cell_type": "code",
   "execution_count": 7,
   "metadata": {},
   "outputs": [],
   "source": [
    "test_grid_as_int = []\n",
    "for row in test_grid:\n",
    "    test_grid_as_int.append([int(x) for x in row])"
   ]
  },
  {
   "cell_type": "code",
   "execution_count": 8,
   "metadata": {},
   "outputs": [
    {
     "data": {
      "text/plain": [
       "8108"
      ]
     },
     "execution_count": 8,
     "metadata": {},
     "output_type": "execute_result"
    }
   ],
   "source": [
    "# [len(x) for x in test_grid_as_int]\n",
    "sum([sum(x) for x in test_grid_as_int])"
   ]
  },
  {
   "cell_type": "markdown",
   "metadata": {},
   "source": [
    "```\n",
    "##.#.#..-->\n",
    ".#.#.#.#   \n",
    "....#.#.   \n",
    "#.#.##.#   \n",
    ".##.#...   \n",
    "##..#..#   \n",
    ".#...#..   \n",
    "##.#.##.-->\n",
    "```"
   ]
  },
  {
   "cell_type": "code",
   "execution_count": 9,
   "metadata": {},
   "outputs": [],
   "source": [
    "test_vals = [\n",
    "    [1,1,0,1,0,1,0,0],\n",
    "    [0,1,0,1,0,1,0,1],\n",
    "    [0,0,0,0,1,0,1,0],\n",
    "    [1,0,1,0,1,1,0,1],\n",
    "    [0,1,1,0,1,0,0,0],\n",
    "    [1,1,0,0,1,0,0,1],\n",
    "    [0,1,0,0,0,1,0,0],\n",
    "    [1,1,0,1,0,1,1,0]\n",
    "]"
   ]
  },
  {
   "cell_type": "code",
   "execution_count": 10,
   "metadata": {},
   "outputs": [
    {
     "name": "stdout",
     "output_type": "stream",
     "text": [
      "True\n",
      "True\n",
      "True\n",
      "True\n",
      "True\n",
      "True\n",
      "True\n",
      "True\n"
     ]
    }
   ],
   "source": [
    "for x in range(8):\n",
    "    print(test_grid_as_int[x][:8] == test_vals[x])"
   ]
  },
  {
   "cell_type": "code",
   "execution_count": 11,
   "metadata": {},
   "outputs": [
    {
     "data": {
      "text/plain": [
       "8106"
      ]
     },
     "execution_count": 11,
     "metadata": {},
     "output_type": "execute_result"
    }
   ],
   "source": [
    "my_grid = [knot_hash_to_binary(x) for x in my_rows]\n",
    "my_grid_as_int = []\n",
    "for row in my_grid:\n",
    "    my_grid_as_int.append([int(x) for x in row])\n",
    "sum([sum(x) for x in my_grid_as_int])"
   ]
  },
  {
   "cell_type": "markdown",
   "metadata": {},
   "source": [
    "That's the right answer! You are one gold star closer to debugging the printer."
   ]
  },
  {
   "cell_type": "markdown",
   "metadata": {},
   "source": [
    "--- Part Two ---\n",
    "\n",
    "Now, all the defragmenter needs to know is the number of regions. A region is a group of used squares that are all adjacent, not including diagonals. Every used square is in exactly one region: lone used squares form their own isolated regions, while several adjacent squares all count as a single region.\n",
    "\n",
    "```\n",
    "##.#.#..-->\n",
    ".#.#.#.#   \n",
    "....#.#.   \n",
    "#.#.##.#   \n",
    ".##.#...   \n",
    "##..#..#   \n",
    ".#...#..   \n",
    "##.#.##.-->\n",
    "```\n",
    "\n",
    "In the example above, the following nine regions are visible, each marked with a distinct digit:\n",
    "\n",
    "```\n",
    "11.2.3..-->\n",
    ".1.2.3.4   \n",
    "....5.6.   \n",
    "7.8.55.9   \n",
    ".88.5...   \n",
    "88..5..8   \n",
    ".8...8..   \n",
    "88.8.88.-->\n",
    "|      |   \n",
    "V      V   \n",
    "```\n",
    "\n",
    "Of particular interest is the region marked 8; while it does not appear contiguous in this small view, all of the squares marked 8 are connected when considering the whole 128x128 grid. In total, in this example, 1242 regions are present.\n",
    "\n",
    "How many regions are present given your key string?\n",
    "\n",
    "Your puzzle input is still `oundnydw`."
   ]
  },
  {
   "cell_type": "code",
   "execution_count": 12,
   "metadata": {},
   "outputs": [],
   "source": [
    "columns = []\n",
    "for y in range(128):\n",
    "    columns.append([my_grid[x][0] for x in range(128)])"
   ]
  },
  {
   "cell_type": "code",
   "execution_count": 13,
   "metadata": {},
   "outputs": [
    {
     "name": "stdout",
     "output_type": "stream",
     "text": [
      "11010100\n",
      "01010101\n",
      "00001010\n",
      "10101101\n",
      "01101000\n",
      "11001001\n",
      "01000100\n",
      "11010110\n"
     ]
    }
   ],
   "source": [
    "test_sample = []\n",
    "for x in range(8):\n",
    "    print(test_grid[x][0:8])\n",
    "    test_sample.append(list(test_grid[x][0:8]))"
   ]
  },
  {
   "cell_type": "code",
   "execution_count": 14,
   "metadata": {},
   "outputs": [
    {
     "data": {
      "text/plain": [
       "[['1', '1', '0', '1', '0', '1', '0', '0'],\n",
       " ['0', '1', '0', '1', '0', '1', '0', '1'],\n",
       " ['0', '0', '0', '0', '1', '0', '1', '0'],\n",
       " ['1', '0', '1', '0', '1', '1', '0', '1'],\n",
       " ['0', '1', '1', '0', '1', '0', '0', '0'],\n",
       " ['1', '1', '0', '0', '1', '0', '0', '1'],\n",
       " ['0', '1', '0', '0', '0', '1', '0', '0'],\n",
       " ['1', '1', '0', '1', '0', '1', '1', '0']]"
      ]
     },
     "execution_count": 14,
     "metadata": {},
     "output_type": "execute_result"
    }
   ],
   "source": [
    "test_sample"
   ]
  },
  {
   "cell_type": "code",
   "execution_count": 15,
   "metadata": {},
   "outputs": [
    {
     "data": {
      "text/plain": [
       "[True, False, False, True, False, True, False, False]"
      ]
     },
     "execution_count": 15,
     "metadata": {},
     "output_type": "execute_result"
    }
   ],
   "source": [
    "regions = []\n",
    "for item in range(8):\n",
    "    if item == 0:\n",
    "        regions.append(True)\n",
    "    else:\n",
    "        regions.append(test_sample[0][item] != test_sample[0][item-1] and test_sample[0][item] == '1')\n",
    "regions"
   ]
  },
  {
   "cell_type": "code",
   "execution_count": 16,
   "metadata": {},
   "outputs": [
    {
     "data": {
      "text/plain": [
       "[[True, False, False, True, False, True, False, False]]"
      ]
     },
     "execution_count": 16,
     "metadata": {},
     "output_type": "execute_result"
    }
   ],
   "source": [
    "regions = [regions]\n",
    "regions"
   ]
  },
  {
   "cell_type": "code",
   "execution_count": 20,
   "metadata": {},
   "outputs": [
    {
     "data": {
      "text/plain": [
       "True"
      ]
     },
     "execution_count": 20,
     "metadata": {},
     "output_type": "execute_result"
    }
   ],
   "source": [
    "empty_row = [False for x in range(128)]\n",
    "new_grid = [empty_row for x in range(128)]\n",
    "len(new_grid[0]) == len(new_grid)"
   ]
  },
  {
   "cell_type": "code",
   "execution_count": 18,
   "metadata": {},
   "outputs": [
    {
     "data": {
      "text/plain": [
       "612"
      ]
     },
     "execution_count": 18,
     "metadata": {},
     "output_type": "execute_result"
    }
   ],
   "source": [
    "test_regions = 0\n",
    "for row in range(128):\n",
    "    for col in range(128):\n",
    "        if test_grid[row][col] == '0': # ignore empty\n",
    "            continue\n",
    "        if row == 0 and col == 0: # only need to do this for very first cell\n",
    "            test_regions += 1\n",
    "            continue\n",
    "        if row == 0 and test_grid[row][col] != test_grid[row][col - 1]: # only need to do this for first row\n",
    "            test_regions += 1\n",
    "            continue\n",
    "        if col > 0 and test_grid[row][col] == test_grid[row][col - 1]: # check left\n",
    "            continue\n",
    "        if col < 127 and test_grid[row][col] == test_grid[row][col + 1]: # check right\n",
    "            continue\n",
    "        if row > 0 and test_grid[row][col] == test_grid[row - 1][col]: # check up\n",
    "            continue\n",
    "        if row < 127 and test_grid[row][col] == test_grid[row + 1][col]: # check down\n",
    "            continue\n",
    "        test_regions += 1\n",
    "test_regions"
   ]
  },
  {
   "cell_type": "code",
   "execution_count": 36,
   "metadata": {},
   "outputs": [],
   "source": [
    "def get_regions(input_grid, row, col, output_grid):\n",
    "    if (row < 0 or col < 0 or row >= 128 or col >= 128 \n",
    "        or output_grid[row][col] or input_grid[row][col] == '0'):\n",
    "        return\n",
    "    # initialize recursive loop\n",
    "    output_grid[row][col] = True \n",
    "    # check left\n",
    "    get_regions(input_grid, row-1, col, output_grid)\n",
    "    # check right\n",
    "    get_regions(input_grid, row+1, col, output_grid)\n",
    "    # check up\n",
    "    get_regions(input_grid, row, col-1, output_grid)\n",
    "    # check down\n",
    "    get_regions(input_grid, row, col+1, output_grid)\n"
   ]
  },
  {
   "cell_type": "code",
   "execution_count": 47,
   "metadata": {},
   "outputs": [
    {
     "data": {
      "text/plain": [
       "1242"
      ]
     },
     "execution_count": 47,
     "metadata": {},
     "output_type": "execute_result"
    }
   ],
   "source": [
    "test_regions = 0\n",
    "new_grid = [[False]*128 for x in range(128)]\n",
    "for row in range(128):\n",
    "    for col in range(128):\n",
    "        if test_grid[row][col] == '1' and not new_grid[row][col]:\n",
    "            test_regions += 1\n",
    "            get_regions(test_grid, row, col, new_grid)\n",
    "test_regions"
   ]
  },
  {
   "cell_type": "code",
   "execution_count": 48,
   "metadata": {},
   "outputs": [
    {
     "data": {
      "text/plain": [
       "1164"
      ]
     },
     "execution_count": 48,
     "metadata": {},
     "output_type": "execute_result"
    }
   ],
   "source": [
    "regions = 0\n",
    "new_grid = [[False]*128 for x in range(128)]\n",
    "for row in range(128):\n",
    "    for col in range(128):\n",
    "        if my_grid[row][col] == '1' and not new_grid[row][col]:\n",
    "            regions += 1\n",
    "            get_regions(my_grid, row, col, new_grid)\n",
    "regions"
   ]
  },
  {
   "cell_type": "markdown",
   "metadata": {},
   "source": [
    "That's the right answer! You are one gold star closer to debugging the printer.\n",
    "\n",
    "You have completed Day 14!"
   ]
  }
 ],
 "metadata": {
  "kernelspec": {
   "display_name": "Python 3",
   "language": "python",
   "name": "python3"
  },
  "language_info": {
   "codemirror_mode": {
    "name": "ipython",
    "version": 3
   },
   "file_extension": ".py",
   "mimetype": "text/x-python",
   "name": "python",
   "nbconvert_exporter": "python",
   "pygments_lexer": "ipython3",
   "version": "3.6.3"
  }
 },
 "nbformat": 4,
 "nbformat_minor": 2
}
