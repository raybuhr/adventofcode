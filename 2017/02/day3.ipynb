{
 "cells": [
  {
   "cell_type": "code",
   "execution_count": 27,
   "metadata": {},
   "outputs": [],
   "source": [
    "with open('input.txt') as datafile:\n",
    "    lines = datafile.readlines()"
   ]
  },
  {
   "cell_type": "code",
   "execution_count": 28,
   "metadata": {},
   "outputs": [
    {
     "data": {
      "text/plain": [
       "['1236\\t741\\t557\\t1029\\t144\\t101\\t1968\\t2159\\t1399\\t80\\t1139\\t1167\\t1695\\t82\\t90\\t2236\\n',\n",
       " '2134\\t106\\t107\\t1025\\t584\\t619\\t191\\t496\\t80\\t352\\t351\\t2267\\t1983\\t1973\\t97\\t1244\\n',\n",
       " '3227\\t179\\t691\\t3177\\t172\\t1636\\t3781\\t2020\\t3339\\t2337\\t189\\t3516\\t1500\\t176\\t159\\t3279\\n',\n",
       " '201\\t688\\t364\\t180\\t586\\t659\\t623\\t577\\t188\\t265\\t403\\t670\\t195\\t720\\t115\\t37\\n',\n",
       " '1892\\t1664\\t2737\\t2676\\t849\\t2514\\t923\\t171\\t311\\t218\\t255\\t2787\\t1271\\t188\\t1278\\t2834\\n',\n",
       " '150\\t3276\\t204\\t603\\t3130\\t587\\t3363\\t3306\\t2890\\t127\\t176\\t174\\t383\\t3309\\t213\\t1620\\n',\n",
       " '5903\\t3686\\t200\\t230\\t6040\\t4675\\t6266\\t179\\t5375\\t1069\\t283\\t82\\t6210\\t6626\\t6398\\t1954\\n',\n",
       " '942\\t2324\\t1901\\t213\\t125\\t2518\\t655\\t189\\t2499\\t160\\t2841\\t2646\\t198\\t173\\t1841\\t200\\n',\n",
       " '232\\t45\\t272\\t280\\t44\\t248\\t50\\t266\\t296\\t297\\t236\\t254\\t58\\t212\\t276\\t48\\n',\n",
       " '563\\t768\\t124\\t267\\t153\\t622\\t199\\t591\\t204\\t125\\t93\\t656\\t198\\t164\\t797\\t506\\n',\n",
       " '243\\t4746\\t1785\\t204\\t568\\t4228\\t2701\\t4303\\t188\\t4148\\t4831\\t1557\\t4692\\t166\\t4210\\t3656\\n',\n",
       " '72\\t514\\t1572\\t172\\t1197\\t750\\t1392\\t1647\\t1587\\t183\\t1484\\t213\\t1614\\t718\\t177\\t622\\n',\n",
       " '1117\\t97\\t2758\\t2484\\t941\\t1854\\t1074\\t264\\t2494\\t83\\t1434\\t96\\t2067\\t2825\\t2160\\t92\\n',\n",
       " '2610\\t1290\\t204\\t2265\\t1374\\t2581\\t185\\t852\\t207\\t175\\t3308\\t1500\\t2898\\t1120\\t1892\\t3074\\n',\n",
       " '2322\\t1434\\t301\\t2156\\t98\\t2194\\t587\\t1416\\t1521\\t94\\t1985\\t424\\t91\\t119\\t1869\\t1073\\n',\n",
       " '66\\t87\\t176\\t107\\t2791\\t109\\t21\\t92\\t3016\\t2239\\t1708\\t3175\\t3210\\t2842\\t446\\t484']"
      ]
     },
     "execution_count": 28,
     "metadata": {},
     "output_type": "execute_result"
    }
   ],
   "source": [
    "lines"
   ]
  },
  {
   "cell_type": "code",
   "execution_count": 29,
   "metadata": {},
   "outputs": [],
   "source": [
    "lines = [line.strip('\\n') for line in lines]"
   ]
  },
  {
   "cell_type": "code",
   "execution_count": 30,
   "metadata": {},
   "outputs": [],
   "source": [
    "data = [[int(y) for y in x.split('\\t')] for x in lines]"
   ]
  },
  {
   "cell_type": "code",
   "execution_count": 31,
   "metadata": {},
   "outputs": [
    {
     "data": {
      "text/plain": [
       "42299"
      ]
     },
     "execution_count": 31,
     "metadata": {},
     "output_type": "execute_result"
    }
   ],
   "source": [
    "sum([max(x) - min(x) for x in data])"
   ]
  },
  {
   "cell_type": "code",
   "execution_count": 32,
   "metadata": {},
   "outputs": [
    {
     "data": {
      "text/plain": [
       "16"
      ]
     },
     "execution_count": 32,
     "metadata": {},
     "output_type": "execute_result"
    }
   ],
   "source": [
    "len(data)"
   ]
  },
  {
   "cell_type": "code",
   "execution_count": 33,
   "metadata": {},
   "outputs": [],
   "source": [
    "def find_divisibles(nums: list):\n",
    "    divs = []\n",
    "    for num in nums:\n",
    "        for other_num in nums:\n",
    "            if num != other_num and num % other_num == 0:\n",
    "                divs += [num, other_num]\n",
    "    return divs"
   ]
  },
  {
   "cell_type": "code",
   "execution_count": 34,
   "metadata": {},
   "outputs": [
    {
     "data": {
      "text/plain": [
       "[8, 2]"
      ]
     },
     "execution_count": 34,
     "metadata": {},
     "output_type": "execute_result"
    }
   ],
   "source": [
    "find_divisibles([5,9,2,8])"
   ]
  },
  {
   "cell_type": "code",
   "execution_count": 35,
   "metadata": {},
   "outputs": [
    {
     "data": {
      "text/plain": [
       "[9, 3]"
      ]
     },
     "execution_count": 35,
     "metadata": {},
     "output_type": "execute_result"
    }
   ],
   "source": [
    "find_divisibles([9,4,7,3])"
   ]
  },
  {
   "cell_type": "code",
   "execution_count": 36,
   "metadata": {},
   "outputs": [
    {
     "data": {
      "text/plain": [
       "[6, 3]"
      ]
     },
     "execution_count": 36,
     "metadata": {},
     "output_type": "execute_result"
    }
   ],
   "source": [
    "find_divisibles([3,8,6,5])"
   ]
  },
  {
   "cell_type": "code",
   "execution_count": 37,
   "metadata": {},
   "outputs": [],
   "source": [
    "divs = [find_divisibles(x) for x in data]"
   ]
  },
  {
   "cell_type": "code",
   "execution_count": 38,
   "metadata": {},
   "outputs": [
    {
     "data": {
      "text/plain": [
       "[[1968, 82],\n",
       " [2134, 97],\n",
       " [3339, 159],\n",
       " [720, 180],\n",
       " [2834, 218],\n",
       " [3306, 174],\n",
       " [6210, 230],\n",
       " [2646, 189],\n",
       " [232, 58],\n",
       " [656, 164],\n",
       " [4692, 204],\n",
       " [1647, 183],\n",
       " [2484, 92],\n",
       " [2898, 207],\n",
       " [2156, 98],\n",
       " [3210, 107]]"
      ]
     },
     "execution_count": 38,
     "metadata": {},
     "output_type": "execute_result"
    }
   ],
   "source": [
    "divs"
   ]
  },
  {
   "cell_type": "code",
   "execution_count": 39,
   "metadata": {},
   "outputs": [
    {
     "data": {
      "text/plain": [
       "277.0"
      ]
     },
     "execution_count": 39,
     "metadata": {},
     "output_type": "execute_result"
    }
   ],
   "source": [
    "sum([div[0]/div[1] for div in divs])"
   ]
  },
  {
   "cell_type": "code",
   "execution_count": null,
   "metadata": {},
   "outputs": [],
   "source": []
  }
 ],
 "metadata": {
  "kernelspec": {
   "display_name": "Python 3",
   "language": "python",
   "name": "python3"
  },
  "language_info": {
   "codemirror_mode": {
    "name": "ipython",
    "version": 3
   },
   "file_extension": ".py",
   "mimetype": "text/x-python",
   "name": "python",
   "nbconvert_exporter": "python",
   "pygments_lexer": "ipython3",
   "version": "3.7.0"
  }
 },
 "nbformat": 4,
 "nbformat_minor": 2
}
