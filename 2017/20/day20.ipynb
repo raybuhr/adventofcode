{
 "cells": [
  {
   "cell_type": "markdown",
   "metadata": {},
   "source": [
    "--- Day 20: Particle Swarm ---\n",
    "\n",
    "Suddenly, the GPU contacts you, asking for help. Someone has asked it to simulate too many particles, and it won't be able to finish them all in time to render the next frame at this rate.\n",
    "\n",
    "It transmits to you a buffer (your puzzle input) listing each particle in order (starting with particle 0, then particle 1, particle 2, and so on). For each particle, it provides the X, Y, and Z coordinates for the particle's position (p), velocity (v), and acceleration (a), each in the format <X,Y,Z>.\n",
    "\n",
    "Each tick, all particles are updated simultaneously. A particle's properties are updated in the following order:\n",
    "\n",
    "```\n",
    "Increase the X velocity by the X acceleration.\n",
    "Increase the Y velocity by the Y acceleration.\n",
    "Increase the Z velocity by the Z acceleration.\n",
    "Increase the X position by the X velocity.\n",
    "Increase the Y position by the Y velocity.\n",
    "Increase the Z position by the Z velocity.\n",
    "```\n",
    "\n",
    "Because of seemingly tenuous rationale involving z-buffering, the GPU would like to know which particle will stay closest to position `<0,0,0>` in the long term. Measure this using the Manhattan distance, which in this situation is simply the sum of the absolute values of a particle's X, Y, and Z position.\n",
    "\n",
    "For example, suppose you are only given two particles, both of which stay entirely on the X-axis (for simplicity). Drawing the current states of particles 0 and 1 (in that order) with an adjacent a number line and diagram of current X positions (marked in parenthesis), the following would take place:\n",
    "\n",
    "```\n",
    "p=< 3,0,0>, v=< 2,0,0>, a=<-1,0,0>    -4 -3 -2 -1  0  1  2  3  4\n",
    "p=< 4,0,0>, v=< 0,0,0>, a=<-2,0,0>                         (0)(1)\n",
    "\n",
    "p=< 4,0,0>, v=< 1,0,0>, a=<-1,0,0>    -4 -3 -2 -1  0  1  2  3  4\n",
    "p=< 2,0,0>, v=<-2,0,0>, a=<-2,0,0>                      (1)   (0)\n",
    "\n",
    "p=< 4,0,0>, v=< 0,0,0>, a=<-1,0,0>    -4 -3 -2 -1  0  1  2  3  4\n",
    "p=<-2,0,0>, v=<-4,0,0>, a=<-2,0,0>          (1)               (0)\n",
    "\n",
    "p=< 3,0,0>, v=<-1,0,0>, a=<-1,0,0>    -4 -3 -2 -1  0  1  2  3  4\n",
    "p=<-8,0,0>, v=<-6,0,0>, a=<-2,0,0>                         (0)   \n",
    "```\n",
    "\n",
    "At this point, particle 1 will never be closer to <0,0,0> than particle 0, and so, in the long run, particle 0 will stay closest.\n",
    "\n",
    "Which particle will stay closest to position <0,0,0> in the long term?"
   ]
  },
  {
   "cell_type": "code",
   "execution_count": 1,
   "metadata": {},
   "outputs": [],
   "source": [
    "test_particles = [\n",
    "    \"p=<3,0,0>, v=<2,0,0>, a=<-1,0,0>\",\n",
    "    \"p=<4,0,0>, v=<0,0,0>, a=<-2,0,0>\"\n",
    "]"
   ]
  },
  {
   "cell_type": "code",
   "execution_count": 2,
   "metadata": {},
   "outputs": [],
   "source": [
    "def particle_struct(particle):\n",
    "    components = particle.split(\", \")\n",
    "    position = [int(x) for x in components[0].split(\"=\")[1].strip(\"<\").strip(\">\").split(\",\")]\n",
    "    velocity = [int(x) for x in components[1].split(\"=\")[1].strip(\"<\").strip(\">\").split(\",\")]\n",
    "    accel = [int(x) for x in components[2].split(\"=\")[1].strip(\"<\").strip(\">\").split(\",\")]\n",
    "    return {\"p\":position, \"v\":velocity, \"a\":accel}"
   ]
  },
  {
   "cell_type": "code",
   "execution_count": 3,
   "metadata": {},
   "outputs": [],
   "source": [
    "def update_particle(particle):\n",
    "    for i in range(3):\n",
    "        particle['v'][i] += particle['a'][i]\n",
    "    for j in range(3):\n",
    "        particle['p'][j] += particle['v'][j]\n",
    "    particle['d'] = sum([abs(x) for x in particle['p']])\n",
    "    return particle"
   ]
  },
  {
   "cell_type": "code",
   "execution_count": 4,
   "metadata": {},
   "outputs": [
    {
     "data": {
      "text/plain": [
       "[{'p': [3, 0, 0], 'v': [2, 0, 0], 'a': [-1, 0, 0]},\n",
       " {'p': [4, 0, 0], 'v': [0, 0, 0], 'a': [-2, 0, 0]}]"
      ]
     },
     "execution_count": 4,
     "metadata": {},
     "output_type": "execute_result"
    }
   ],
   "source": [
    "test_particles = [particle_struct(x) for x in test_particles]\n",
    "test_particles"
   ]
  },
  {
   "cell_type": "code",
   "execution_count": 5,
   "metadata": {},
   "outputs": [
    {
     "name": "stdout",
     "output_type": "stream",
     "text": [
      "Step: 0\n",
      "[{'p': [4, 0, 0], 'v': [1, 0, 0], 'a': [-1, 0, 0], 'd': 4}, {'p': [2, 0, 0], 'v': [-2, 0, 0], 'a': [-2, 0, 0], 'd': 2}]\n",
      "Step: 1\n",
      "[{'p': [4, 0, 0], 'v': [0, 0, 0], 'a': [-1, 0, 0], 'd': 4}, {'p': [-2, 0, 0], 'v': [-4, 0, 0], 'a': [-2, 0, 0], 'd': 2}]\n",
      "Step: 2\n",
      "[{'p': [3, 0, 0], 'v': [-1, 0, 0], 'a': [-1, 0, 0], 'd': 3}, {'p': [-8, 0, 0], 'v': [-6, 0, 0], 'a': [-2, 0, 0], 'd': 8}]\n"
     ]
    }
   ],
   "source": [
    "for i in range(3):\n",
    "    print(\"Step:\", i)\n",
    "    [update_particle(x) for x in test_particles]\n",
    "    print(test_particles)"
   ]
  },
  {
   "cell_type": "code",
   "execution_count": 6,
   "metadata": {},
   "outputs": [],
   "source": [
    "with open(\"input.txt\") as f:\n",
    "    particle_file = f.read().split(\"\\n\")"
   ]
  },
  {
   "cell_type": "code",
   "execution_count": 7,
   "metadata": {},
   "outputs": [],
   "source": [
    "particles = [particle_struct(x) for x in particle_file]"
   ]
  },
  {
   "cell_type": "code",
   "execution_count": 16,
   "metadata": {},
   "outputs": [
    {
     "data": {
      "text/plain": [
       "{'p': [2011979, 4526094, -71572],\n",
       " 'v': [4011, 9024, -73],\n",
       " 'a': [4, 9, 0],\n",
       " 'd': 6609645}"
      ]
     },
     "execution_count": 16,
     "metadata": {},
     "output_type": "execute_result"
    }
   ],
   "source": [
    "particles[0]"
   ]
  },
  {
   "cell_type": "code",
   "execution_count": 8,
   "metadata": {},
   "outputs": [],
   "source": [
    "import pandas as pd"
   ]
  },
  {
   "cell_type": "code",
   "execution_count": 9,
   "metadata": {},
   "outputs": [
    {
     "data": {
      "text/html": [
       "<div>\n",
       "<style scoped>\n",
       "    .dataframe tbody tr th:only-of-type {\n",
       "        vertical-align: middle;\n",
       "    }\n",
       "\n",
       "    .dataframe tbody tr th {\n",
       "        vertical-align: top;\n",
       "    }\n",
       "\n",
       "    .dataframe thead th {\n",
       "        text-align: right;\n",
       "    }\n",
       "</style>\n",
       "<table border=\"1\" class=\"dataframe\">\n",
       "  <thead>\n",
       "    <tr style=\"text-align: right;\">\n",
       "      <th></th>\n",
       "      <th>p</th>\n",
       "      <th>v</th>\n",
       "      <th>a</th>\n",
       "    </tr>\n",
       "  </thead>\n",
       "  <tbody>\n",
       "    <tr>\n",
       "      <th>0</th>\n",
       "      <td>[-1021, -2406, 1428]</td>\n",
       "      <td>[11, 24, -73]</td>\n",
       "      <td>[4, 9, 0]</td>\n",
       "    </tr>\n",
       "    <tr>\n",
       "      <th>1</th>\n",
       "      <td>[-181, -26, 548]</td>\n",
       "      <td>[11, 73, -8]</td>\n",
       "      <td>[0, -7, -2]</td>\n",
       "    </tr>\n",
       "    <tr>\n",
       "      <th>2</th>\n",
       "      <td>[-2101, -2706, -1112]</td>\n",
       "      <td>[-19, -66, 75]</td>\n",
       "      <td>[12, 19, -2]</td>\n",
       "    </tr>\n",
       "    <tr>\n",
       "      <th>3</th>\n",
       "      <td>[-1221, -16, -1412]</td>\n",
       "      <td>[0, -1, -15]</td>\n",
       "      <td>[6, 0, 8]</td>\n",
       "    </tr>\n",
       "    <tr>\n",
       "      <th>4</th>\n",
       "      <td>[1009, -716, -1062]</td>\n",
       "      <td>[-164, 55, 125]</td>\n",
       "      <td>[11, -2, -7]</td>\n",
       "    </tr>\n",
       "    <tr>\n",
       "      <th>5</th>\n",
       "      <td>[-671, 1794, -1062]</td>\n",
       "      <td>[46, 87, 41]</td>\n",
       "      <td>[-1, -17, 1]</td>\n",
       "    </tr>\n",
       "    <tr>\n",
       "      <th>6</th>\n",
       "      <td>[255, -544, 641]</td>\n",
       "      <td>[-21, 93, -83]</td>\n",
       "      <td>[-1, -7, 4]</td>\n",
       "    </tr>\n",
       "    <tr>\n",
       "      <th>7</th>\n",
       "      <td>[-945, -1004, -29]</td>\n",
       "      <td>[88, 106, -38]</td>\n",
       "      <td>[1, -1, 8]</td>\n",
       "    </tr>\n",
       "    <tr>\n",
       "      <th>8</th>\n",
       "      <td>[-1045, -644, -949]</td>\n",
       "      <td>[76, 114, 98]</td>\n",
       "      <td>[5, -9, 0]</td>\n",
       "    </tr>\n",
       "    <tr>\n",
       "      <th>9</th>\n",
       "      <td>[640, 956, 741]</td>\n",
       "      <td>[-21, -79, -49]</td>\n",
       "      <td>[-8, -3, -4]</td>\n",
       "    </tr>\n",
       "  </tbody>\n",
       "</table>\n",
       "</div>"
      ],
      "text/plain": [
       "                       p                v             a\n",
       "0   [-1021, -2406, 1428]    [11, 24, -73]     [4, 9, 0]\n",
       "1       [-181, -26, 548]     [11, 73, -8]   [0, -7, -2]\n",
       "2  [-2101, -2706, -1112]   [-19, -66, 75]  [12, 19, -2]\n",
       "3    [-1221, -16, -1412]     [0, -1, -15]     [6, 0, 8]\n",
       "4    [1009, -716, -1062]  [-164, 55, 125]  [11, -2, -7]\n",
       "5    [-671, 1794, -1062]     [46, 87, 41]  [-1, -17, 1]\n",
       "6       [255, -544, 641]   [-21, 93, -83]   [-1, -7, 4]\n",
       "7     [-945, -1004, -29]   [88, 106, -38]    [1, -1, 8]\n",
       "8    [-1045, -644, -949]    [76, 114, 98]    [5, -9, 0]\n",
       "9        [640, 956, 741]  [-21, -79, -49]  [-8, -3, -4]"
      ]
     },
     "execution_count": 9,
     "metadata": {},
     "output_type": "execute_result"
    }
   ],
   "source": [
    "df = pd.DataFrame(particles)\n",
    "df.head(10)"
   ]
  },
  {
   "cell_type": "code",
   "execution_count": 10,
   "metadata": {},
   "outputs": [],
   "source": [
    "def manhattan_dist(some_list):\n",
    "    abs_list = [abs(x) for x in some_list]\n",
    "    return(sum(abs_list))"
   ]
  },
  {
   "cell_type": "code",
   "execution_count": 11,
   "metadata": {},
   "outputs": [
    {
     "data": {
      "text/html": [
       "<div>\n",
       "<style scoped>\n",
       "    .dataframe tbody tr th:only-of-type {\n",
       "        vertical-align: middle;\n",
       "    }\n",
       "\n",
       "    .dataframe tbody tr th {\n",
       "        vertical-align: top;\n",
       "    }\n",
       "\n",
       "    .dataframe thead th {\n",
       "        text-align: right;\n",
       "    }\n",
       "</style>\n",
       "<table border=\"1\" class=\"dataframe\">\n",
       "  <thead>\n",
       "    <tr style=\"text-align: right;\">\n",
       "      <th></th>\n",
       "      <th>p</th>\n",
       "      <th>v</th>\n",
       "      <th>a</th>\n",
       "      <th>d</th>\n",
       "    </tr>\n",
       "  </thead>\n",
       "  <tbody>\n",
       "    <tr>\n",
       "      <th>0</th>\n",
       "      <td>[-1021, -2406, 1428]</td>\n",
       "      <td>[11, 24, -73]</td>\n",
       "      <td>[4, 9, 0]</td>\n",
       "      <td>4855</td>\n",
       "    </tr>\n",
       "    <tr>\n",
       "      <th>1</th>\n",
       "      <td>[-181, -26, 548]</td>\n",
       "      <td>[11, 73, -8]</td>\n",
       "      <td>[0, -7, -2]</td>\n",
       "      <td>755</td>\n",
       "    </tr>\n",
       "    <tr>\n",
       "      <th>2</th>\n",
       "      <td>[-2101, -2706, -1112]</td>\n",
       "      <td>[-19, -66, 75]</td>\n",
       "      <td>[12, 19, -2]</td>\n",
       "      <td>5919</td>\n",
       "    </tr>\n",
       "    <tr>\n",
       "      <th>3</th>\n",
       "      <td>[-1221, -16, -1412]</td>\n",
       "      <td>[0, -1, -15]</td>\n",
       "      <td>[6, 0, 8]</td>\n",
       "      <td>2649</td>\n",
       "    </tr>\n",
       "    <tr>\n",
       "      <th>4</th>\n",
       "      <td>[1009, -716, -1062]</td>\n",
       "      <td>[-164, 55, 125]</td>\n",
       "      <td>[11, -2, -7]</td>\n",
       "      <td>2787</td>\n",
       "    </tr>\n",
       "  </tbody>\n",
       "</table>\n",
       "</div>"
      ],
      "text/plain": [
       "                       p                v             a     d\n",
       "0   [-1021, -2406, 1428]    [11, 24, -73]     [4, 9, 0]  4855\n",
       "1       [-181, -26, 548]     [11, 73, -8]   [0, -7, -2]   755\n",
       "2  [-2101, -2706, -1112]   [-19, -66, 75]  [12, 19, -2]  5919\n",
       "3    [-1221, -16, -1412]     [0, -1, -15]     [6, 0, 8]  2649\n",
       "4    [1009, -716, -1062]  [-164, 55, 125]  [11, -2, -7]  2787"
      ]
     },
     "execution_count": 11,
     "metadata": {},
     "output_type": "execute_result"
    }
   ],
   "source": [
    "df['d'] = df['p'].map(manhattan_dist)\n",
    "df.head(5)"
   ]
  },
  {
   "cell_type": "code",
   "execution_count": 12,
   "metadata": {},
   "outputs": [],
   "source": [
    "for i in range(1000):\n",
    "    [update_particle(x) for x in particles]"
   ]
  },
  {
   "cell_type": "code",
   "execution_count": 13,
   "metadata": {},
   "outputs": [],
   "source": [
    "df1000 = pd.DataFrame(particles)"
   ]
  },
  {
   "cell_type": "code",
   "execution_count": 14,
   "metadata": {},
   "outputs": [
    {
     "data": {
      "text/plain": [
       "p    object\n",
       "v    object\n",
       "a    object\n",
       "d     int64\n",
       "dtype: object"
      ]
     },
     "execution_count": 14,
     "metadata": {},
     "output_type": "execute_result"
    }
   ],
   "source": [
    "df1000.dtypes"
   ]
  },
  {
   "cell_type": "code",
   "execution_count": 17,
   "metadata": {},
   "outputs": [
    {
     "data": {
      "text/plain": [
       "Int64Index([144], dtype='int64')"
      ]
     },
     "execution_count": 17,
     "metadata": {},
     "output_type": "execute_result"
    }
   ],
   "source": [
    "df1000.loc[df1000.d == df1000.d.min()].index"
   ]
  },
  {
   "cell_type": "markdown",
   "metadata": {},
   "source": [
    "The first half of this puzzle is complete! It provides one gold star: *"
   ]
  },
  {
   "cell_type": "markdown",
   "metadata": {},
   "source": [
    "--- Part Two ---\n",
    "\n",
    "To simplify the problem further, the GPU would like to remove any particles that **collide**. Particles collide if their positions ever **exactly match**. Because particles are updated simultaneously, **more than two particles** can collide at the same time and place. Once particles collide, they are removed and cannot collide with anything else after that tick.\n",
    "\n",
    "For example:\n",
    "```\n",
    "p=<-6,0,0>, v=< 3,0,0>, a=< 0,0,0>    \n",
    "p=<-4,0,0>, v=< 2,0,0>, a=< 0,0,0>    -6 -5 -4 -3 -2 -1  0  1  2  3\n",
    "p=<-2,0,0>, v=< 1,0,0>, a=< 0,0,0>    (0)   (1)   (2)            (3)\n",
    "p=< 3,0,0>, v=<-1,0,0>, a=< 0,0,0>\n",
    "\n",
    "p=<-3,0,0>, v=< 3,0,0>, a=< 0,0,0>    \n",
    "p=<-2,0,0>, v=< 2,0,0>, a=< 0,0,0>    -6 -5 -4 -3 -2 -1  0  1  2  3\n",
    "p=<-1,0,0>, v=< 1,0,0>, a=< 0,0,0>             (0)(1)(2)      (3)   \n",
    "p=< 2,0,0>, v=<-1,0,0>, a=< 0,0,0>\n",
    "\n",
    "p=< 0,0,0>, v=< 3,0,0>, a=< 0,0,0>    \n",
    "p=< 0,0,0>, v=< 2,0,0>, a=< 0,0,0>    -6 -5 -4 -3 -2 -1  0  1  2  3\n",
    "p=< 0,0,0>, v=< 1,0,0>, a=< 0,0,0>                       X (3)      \n",
    "p=< 1,0,0>, v=<-1,0,0>, a=< 0,0,0>\n",
    "\n",
    "------destroyed by collision------    \n",
    "------destroyed by collision------    -6 -5 -4 -3 -2 -1  0  1  2  3\n",
    "------destroyed by collision------                      (3)         \n",
    "p=< 0,0,0>, v=<-1,0,0>, a=< 0,0,0>\n",
    "```\n",
    "\n",
    "In this example, particles 0, 1, and 2 are simultaneously destroyed at the time and place marked X. On the next tick, particle 3 passes through unharmed.\n",
    "\n",
    "How many particles are left after all collisions are resolved?"
   ]
  },
  {
   "cell_type": "code",
   "execution_count": 18,
   "metadata": {},
   "outputs": [],
   "source": [
    "particles = [particle_struct(x) for x in particle_file]"
   ]
  },
  {
   "cell_type": "code",
   "execution_count": 19,
   "metadata": {},
   "outputs": [],
   "source": [
    "particle_df = pd.DataFrame(particles)"
   ]
  },
  {
   "cell_type": "code",
   "execution_count": 20,
   "metadata": {},
   "outputs": [],
   "source": [
    "particle_df['position'] = particle_df.p.apply(str)"
   ]
  },
  {
   "cell_type": "code",
   "execution_count": 21,
   "metadata": {},
   "outputs": [
    {
     "data": {
      "text/html": [
       "<div>\n",
       "<style scoped>\n",
       "    .dataframe tbody tr th:only-of-type {\n",
       "        vertical-align: middle;\n",
       "    }\n",
       "\n",
       "    .dataframe tbody tr th {\n",
       "        vertical-align: top;\n",
       "    }\n",
       "\n",
       "    .dataframe thead th {\n",
       "        text-align: right;\n",
       "    }\n",
       "</style>\n",
       "<table border=\"1\" class=\"dataframe\">\n",
       "  <thead>\n",
       "    <tr style=\"text-align: right;\">\n",
       "      <th></th>\n",
       "      <th>p</th>\n",
       "      <th>v</th>\n",
       "      <th>a</th>\n",
       "      <th>position</th>\n",
       "    </tr>\n",
       "  </thead>\n",
       "  <tbody>\n",
       "    <tr>\n",
       "      <th>0</th>\n",
       "      <td>[-1021, -2406, 1428]</td>\n",
       "      <td>[11, 24, -73]</td>\n",
       "      <td>[4, 9, 0]</td>\n",
       "      <td>[-1021, -2406, 1428]</td>\n",
       "    </tr>\n",
       "    <tr>\n",
       "      <th>1</th>\n",
       "      <td>[-181, -26, 548]</td>\n",
       "      <td>[11, 73, -8]</td>\n",
       "      <td>[0, -7, -2]</td>\n",
       "      <td>[-181, -26, 548]</td>\n",
       "    </tr>\n",
       "    <tr>\n",
       "      <th>2</th>\n",
       "      <td>[-2101, -2706, -1112]</td>\n",
       "      <td>[-19, -66, 75]</td>\n",
       "      <td>[12, 19, -2]</td>\n",
       "      <td>[-2101, -2706, -1112]</td>\n",
       "    </tr>\n",
       "    <tr>\n",
       "      <th>3</th>\n",
       "      <td>[-1221, -16, -1412]</td>\n",
       "      <td>[0, -1, -15]</td>\n",
       "      <td>[6, 0, 8]</td>\n",
       "      <td>[-1221, -16, -1412]</td>\n",
       "    </tr>\n",
       "    <tr>\n",
       "      <th>4</th>\n",
       "      <td>[1009, -716, -1062]</td>\n",
       "      <td>[-164, 55, 125]</td>\n",
       "      <td>[11, -2, -7]</td>\n",
       "      <td>[1009, -716, -1062]</td>\n",
       "    </tr>\n",
       "  </tbody>\n",
       "</table>\n",
       "</div>"
      ],
      "text/plain": [
       "                       p                v             a               position\n",
       "0   [-1021, -2406, 1428]    [11, 24, -73]     [4, 9, 0]   [-1021, -2406, 1428]\n",
       "1       [-181, -26, 548]     [11, 73, -8]   [0, -7, -2]       [-181, -26, 548]\n",
       "2  [-2101, -2706, -1112]   [-19, -66, 75]  [12, 19, -2]  [-2101, -2706, -1112]\n",
       "3    [-1221, -16, -1412]     [0, -1, -15]     [6, 0, 8]    [-1221, -16, -1412]\n",
       "4    [1009, -716, -1062]  [-164, 55, 125]  [11, -2, -7]    [1009, -716, -1062]"
      ]
     },
     "execution_count": 21,
     "metadata": {},
     "output_type": "execute_result"
    }
   ],
   "source": [
    "particle_df.head()"
   ]
  },
  {
   "cell_type": "code",
   "execution_count": 22,
   "metadata": {},
   "outputs": [
    {
     "data": {
      "text/html": [
       "<div>\n",
       "<style scoped>\n",
       "    .dataframe tbody tr th:only-of-type {\n",
       "        vertical-align: middle;\n",
       "    }\n",
       "\n",
       "    .dataframe tbody tr th {\n",
       "        vertical-align: top;\n",
       "    }\n",
       "\n",
       "    .dataframe thead th {\n",
       "        text-align: right;\n",
       "    }\n",
       "</style>\n",
       "<table border=\"1\" class=\"dataframe\">\n",
       "  <thead>\n",
       "    <tr style=\"text-align: right;\">\n",
       "      <th></th>\n",
       "      <th>p</th>\n",
       "      <th>v</th>\n",
       "      <th>a</th>\n",
       "    </tr>\n",
       "    <tr>\n",
       "      <th>position</th>\n",
       "      <th></th>\n",
       "      <th></th>\n",
       "      <th></th>\n",
       "    </tr>\n",
       "  </thead>\n",
       "  <tbody>\n",
       "    <tr>\n",
       "      <th>[-10007, -68, 2480]</th>\n",
       "      <td>False</td>\n",
       "      <td>False</td>\n",
       "      <td>False</td>\n",
       "    </tr>\n",
       "    <tr>\n",
       "      <th>[-1001, -2217, 1954]</th>\n",
       "      <td>False</td>\n",
       "      <td>False</td>\n",
       "      <td>False</td>\n",
       "    </tr>\n",
       "    <tr>\n",
       "      <th>[-1002, 2554, -1159]</th>\n",
       "      <td>False</td>\n",
       "      <td>False</td>\n",
       "      <td>False</td>\n",
       "    </tr>\n",
       "    <tr>\n",
       "      <th>[-1011, 2553, 1237]</th>\n",
       "      <td>False</td>\n",
       "      <td>False</td>\n",
       "      <td>False</td>\n",
       "    </tr>\n",
       "    <tr>\n",
       "      <th>[-102, -412, 1258]</th>\n",
       "      <td>False</td>\n",
       "      <td>False</td>\n",
       "      <td>False</td>\n",
       "    </tr>\n",
       "    <tr>\n",
       "      <th>...</th>\n",
       "      <td>...</td>\n",
       "      <td>...</td>\n",
       "      <td>...</td>\n",
       "    </tr>\n",
       "    <tr>\n",
       "      <th>[970, -172, 991]</th>\n",
       "      <td>False</td>\n",
       "      <td>False</td>\n",
       "      <td>False</td>\n",
       "    </tr>\n",
       "    <tr>\n",
       "      <th>[9714, -2167, -1770]</th>\n",
       "      <td>False</td>\n",
       "      <td>False</td>\n",
       "      <td>False</td>\n",
       "    </tr>\n",
       "    <tr>\n",
       "      <th>[9892, -2332, -8660]</th>\n",
       "      <td>False</td>\n",
       "      <td>False</td>\n",
       "      <td>False</td>\n",
       "    </tr>\n",
       "    <tr>\n",
       "      <th>[9928, -5087, 261]</th>\n",
       "      <td>False</td>\n",
       "      <td>False</td>\n",
       "      <td>False</td>\n",
       "    </tr>\n",
       "    <tr>\n",
       "      <th>[993, -539, 2957]</th>\n",
       "      <td>False</td>\n",
       "      <td>False</td>\n",
       "      <td>False</td>\n",
       "    </tr>\n",
       "  </tbody>\n",
       "</table>\n",
       "<p>1000 rows × 3 columns</p>\n",
       "</div>"
      ],
      "text/plain": [
       "                          p      v      a\n",
       "position                                 \n",
       "[-10007, -68, 2480]   False  False  False\n",
       "[-1001, -2217, 1954]  False  False  False\n",
       "[-1002, 2554, -1159]  False  False  False\n",
       "[-1011, 2553, 1237]   False  False  False\n",
       "[-102, -412, 1258]    False  False  False\n",
       "...                     ...    ...    ...\n",
       "[970, -172, 991]      False  False  False\n",
       "[9714, -2167, -1770]  False  False  False\n",
       "[9892, -2332, -8660]  False  False  False\n",
       "[9928, -5087, 261]    False  False  False\n",
       "[993, -539, 2957]     False  False  False\n",
       "\n",
       "[1000 rows x 3 columns]"
      ]
     },
     "execution_count": 22,
     "metadata": {},
     "output_type": "execute_result"
    }
   ],
   "source": [
    "particle_df.groupby('position').count() > 1"
   ]
  },
  {
   "cell_type": "code",
   "execution_count": 23,
   "metadata": {},
   "outputs": [
    {
     "data": {
      "text/plain": [
       "[[-1021, -2406, 1428],\n",
       " [-181, -26, 548],\n",
       " [-2101, -2706, -1112],\n",
       " [-1221, -16, -1412],\n",
       " [1009, -716, -1062],\n",
       " [-671, 1794, -1062],\n",
       " [255, -544, 641],\n",
       " [-945, -1004, -29],\n",
       " [-1045, -644, -949],\n",
       " [640, 956, 741]]"
      ]
     },
     "execution_count": 23,
     "metadata": {},
     "output_type": "execute_result"
    }
   ],
   "source": [
    "positions = [p.get('p') for p in particles]\n",
    "positions[0:10]"
   ]
  },
  {
   "cell_type": "code",
   "execution_count": 24,
   "metadata": {},
   "outputs": [],
   "source": [
    "def find_collisions(particles):\n",
    "    dup_pos = []\n",
    "    positions = [p.get('p') for p in particles]\n",
    "    for i in range(len(positions)):\n",
    "        remain_pos = positions[:i] + positions[i+1:]\n",
    "        if  positions[i] in remain_pos and positions[i] not in dup_pos:\n",
    "            dup_pos.append(positions[i])\n",
    "    return dup_pos"
   ]
  },
  {
   "cell_type": "code",
   "execution_count": 25,
   "metadata": {},
   "outputs": [
    {
     "data": {
      "text/plain": [
       "[[0, 0, 0], [0, 1, 0]]"
      ]
     },
     "execution_count": 25,
     "metadata": {},
     "output_type": "execute_result"
    }
   ],
   "source": [
    "find_collisions([{'p':[0,0,0]}, {'p':[0,0,0]}, {'p':[0,0,0]}, {'p':[0,1,0]}, {'p':[0,1,0]}, {'p':[0,0,1]}])"
   ]
  },
  {
   "cell_type": "code",
   "execution_count": 26,
   "metadata": {},
   "outputs": [],
   "source": [
    "def remove_collisions(particles, collisions):\n",
    "    particles = [p for p in particles if p.get('p') not in collisions]\n",
    "    return particles"
   ]
  },
  {
   "cell_type": "code",
   "execution_count": 27,
   "metadata": {},
   "outputs": [
    {
     "data": {
      "text/plain": [
       "[{'p': [0, 0, 1]}]"
      ]
     },
     "execution_count": 27,
     "metadata": {},
     "output_type": "execute_result"
    }
   ],
   "source": [
    "remove_collisions([{'p':[0,0,0]}, {'p':[0,0,0]}, {'p':[0,0,0]}, {'p':[0,1,0]}, {'p':[0,1,0]}, {'p':[0,0,1]}],\n",
    "                 find_collisions([{'p':[0,0,0]}, {'p':[0,0,0]}, {'p':[0,0,0]}, {'p':[0,1,0]}, {'p':[0,1,0]}, {'p':[0,0,1]}]))"
   ]
  },
  {
   "cell_type": "code",
   "execution_count": 28,
   "metadata": {},
   "outputs": [
    {
     "data": {
      "text/plain": [
       "[{'p': [-6, 0, 0], 'v': [3, 0, 0], 'a': [0, 0, 0]},\n",
       " {'p': [-4, 0, 0], 'v': [2, 0, 0], 'a': [0, 0, 0]},\n",
       " {'p': [-2, 0, 0], 'v': [1, 0, 0], 'a': [0, 0, 0]},\n",
       " {'p': [3, 0, 0], 'v': [-1, 0, 0], 'a': [0, 0, 0]}]"
      ]
     },
     "execution_count": 28,
     "metadata": {},
     "output_type": "execute_result"
    }
   ],
   "source": [
    "pt_2_tests = [\n",
    "    \"p=<-6,0,0>, v=<3,0,0>, a=<0,0,0>\",\n",
    "    \"p=<-4,0,0>, v=<2,0,0>, a=<0,0,0>\",\n",
    "    \"p=<-2,0,0>, v=<1,0,0>, a=<0,0,0>\",\n",
    "    \"p=<3,0,0>, v=<-1,0,0>, a=<0,0,0>\",\n",
    "]\n",
    "\n",
    "pt2_tests = [particle_struct(x) for x in pt_2_tests]\n",
    "pt2_tests"
   ]
  },
  {
   "cell_type": "code",
   "execution_count": 29,
   "metadata": {},
   "outputs": [
    {
     "name": "stdout",
     "output_type": "stream",
     "text": [
      "\n",
      "Final: 1\n"
     ]
    }
   ],
   "source": [
    "pt2_test_particles = [x for x in pt2_tests]\n",
    "for i in range(3):\n",
    "    pt2_test_particles = [update_particle(x) for x in pt2_test_particles]\n",
    "    collisions = find_collisions(pt2_test_particles)\n",
    "    pt2_test_particles = remove_collisions(pt2_test_particles, collisions)\n",
    "print(\"\\nFinal:\", len(pt2_test_particles))"
   ]
  },
  {
   "cell_type": "code",
   "execution_count": 30,
   "metadata": {},
   "outputs": [
    {
     "name": "stdout",
     "output_type": "stream",
     "text": [
      "After 9 : 992\n",
      "After 10 : 974\n",
      "After 11 : 957\n",
      "After 12 : 926\n",
      "After 13 : 901\n",
      "After 14 : 881\n",
      "After 15 : 858\n",
      "After 16 : 813\n",
      "After 17 : 780\n",
      "After 18 : 775\n",
      "After 19 : 754\n",
      "After 21 : 736\n",
      "After 22 : 726\n",
      "After 23 : 701\n",
      "After 24 : 686\n",
      "After 25 : 674\n",
      "After 26 : 671\n",
      "After 27 : 652\n",
      "After 28 : 648\n",
      "After 29 : 619\n",
      "After 30 : 607\n",
      "After 31 : 583\n",
      "After 32 : 574\n",
      "After 33 : 560\n",
      "After 34 : 549\n",
      "After 35 : 538\n",
      "After 36 : 532\n",
      "After 37 : 503\n",
      "After 38 : 477\n"
     ]
    }
   ],
   "source": [
    "updated_particles = [particle_struct(x) for x in particle_file]\n",
    "cur_len = len(updated_particles)\n",
    "for i in range(1000):\n",
    "    updated_particles = [update_particle(x) for x in updated_particles]\n",
    "    collisions = find_collisions(updated_particles)\n",
    "    updated_particles = remove_collisions(updated_particles, collisions)\n",
    "    if len(updated_particles) < cur_len:\n",
    "        cur_len = len(updated_particles)\n",
    "        print(\"After\", i, \":\", cur_len)"
   ]
  },
  {
   "cell_type": "markdown",
   "metadata": {},
   "source": [
    "That's the right answer! You are one gold star closer to debugging the printer. You got rank 848 on this star's leaderboard.\n"
   ]
  },
  {
   "cell_type": "code",
   "execution_count": null,
   "metadata": {},
   "outputs": [],
   "source": []
  }
 ],
 "metadata": {
  "kernelspec": {
   "display_name": "Python 3",
   "language": "python",
   "name": "python3"
  },
  "language_info": {
   "codemirror_mode": {
    "name": "ipython",
    "version": 3
   },
   "file_extension": ".py",
   "mimetype": "text/x-python",
   "name": "python",
   "nbconvert_exporter": "python",
   "pygments_lexer": "ipython3",
   "version": "3.8.3"
  }
 },
 "nbformat": 4,
 "nbformat_minor": 4
}
