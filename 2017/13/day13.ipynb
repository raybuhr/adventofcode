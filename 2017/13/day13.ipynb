{
 "cells": [
  {
   "cell_type": "markdown",
   "metadata": {},
   "source": [
    "--- Day 13: Packet Scanners ---\n",
    "\n",
    "You need to cross a vast firewall. The firewall consists of several layers, each with a security scanner that moves back and forth across the layer. To succeed, you must not be detected by a scanner.\n",
    "\n",
    "By studying the firewall briefly, you are able to record (in your puzzle input) the depth of each layer and the range of the scanning area for the scanner within it, written as depth: range. Each layer has a thickness of exactly 1. A layer at depth 0 begins immediately inside the firewall; a layer at depth 1 would start immediately after that.\n",
    "\n",
    "For example, suppose you've recorded the following:\n",
    "\n",
    "```\n",
    "0: 3\n",
    "1: 2\n",
    "4: 4\n",
    "6: 4\n",
    "```\n",
    "\n",
    "This means that there is a layer immediately inside the firewall (with range 3), a second layer immediately after that (with range 2), a third layer which begins at depth 4 (with range 4), and a fourth layer which begins at depth 6 (also with range 4). Visually, it might look like this:\n",
    "\n",
    "```\n",
    " 0   1   2   3   4   5   6\n",
    "[ ] [ ] ... ... [ ] ... [ ]\n",
    "[ ] [ ]         [ ]     [ ]\n",
    "[ ]             [ ]     [ ]\n",
    "                [ ]     [ ]\n",
    "```\n",
    "\n",
    "Within each layer, a security scanner moves back and forth within its range. Each security scanner starts at the top and moves down until it reaches the bottom, then moves up until it reaches the top, and repeats. A security scanner takes one picosecond to move one step. Drawing scanners as S, the first few picoseconds look like this:\n",
    "\n",
    "```\n",
    "Picosecond 0:\n",
    " 0   1   2   3   4   5   6\n",
    "[S] [S] ... ... [S] ... [S]\n",
    "[ ] [ ]         [ ]     [ ]\n",
    "[ ]             [ ]     [ ]\n",
    "                [ ]     [ ]\n",
    "\n",
    "Picosecond 1:\n",
    " 0   1   2   3   4   5   6\n",
    "[ ] [ ] ... ... [ ] ... [ ]\n",
    "[S] [S]         [S]     [S]\n",
    "[ ]             [ ]     [ ]\n",
    "                [ ]     [ ]\n",
    "\n",
    "Picosecond 2:\n",
    " 0   1   2   3   4   5   6\n",
    "[ ] [S] ... ... [ ] ... [ ]\n",
    "[ ] [ ]         [ ]     [ ]\n",
    "[S]             [S]     [S]\n",
    "                [ ]     [ ]\n",
    "\n",
    "Picosecond 3:\n",
    " 0   1   2   3   4   5   6\n",
    "[ ] [ ] ... ... [ ] ... [ ]\n",
    "[S] [S]         [ ]     [ ]\n",
    "[ ]             [ ]     [ ]\n",
    "                [S]     [S]\n",
    "```\n",
    "\n",
    "Your plan is to hitch a ride on a packet about to move through the firewall. The packet will travel along the top of each layer, and it moves at one layer per picosecond. Each picosecond, the packet moves one layer forward (its first move takes it into layer 0), and then the scanners move one step. If there is a scanner at the top of the layer as your packet enters it, you are caught. (If a scanner moves into the top of its layer while you are there, you are not caught: it doesn't have time to notice you before you leave.) If you were to do this in the configuration above, marking your current position with parentheses, your passage through the firewall would look like this:\n",
    "\n",
    "```\n",
    "Initial state:\n",
    " 0   1   2   3   4   5   6\n",
    "[S] [S] ... ... [S] ... [S]\n",
    "[ ] [ ]         [ ]     [ ]\n",
    "[ ]             [ ]     [ ]\n",
    "                [ ]     [ ]\n",
    "\n",
    "Picosecond 0:\n",
    " 0   1   2   3   4   5   6\n",
    "(S) [S] ... ... [S] ... [S]\n",
    "[ ] [ ]         [ ]     [ ]\n",
    "[ ]             [ ]     [ ]\n",
    "                [ ]     [ ]\n",
    "\n",
    " 0   1   2   3   4   5   6\n",
    "( ) [ ] ... ... [ ] ... [ ]\n",
    "[S] [S]         [S]     [S]\n",
    "[ ]             [ ]     [ ]\n",
    "                [ ]     [ ]\n",
    "\n",
    "\n",
    "Picosecond 1:\n",
    " 0   1   2   3   4   5   6\n",
    "[ ] ( ) ... ... [ ] ... [ ]\n",
    "[S] [S]         [S]     [S]\n",
    "[ ]             [ ]     [ ]\n",
    "                [ ]     [ ]\n",
    "\n",
    " 0   1   2   3   4   5   6\n",
    "[ ] (S) ... ... [ ] ... [ ]\n",
    "[ ] [ ]         [ ]     [ ]\n",
    "[S]             [S]     [S]\n",
    "                [ ]     [ ]\n",
    "\n",
    "\n",
    "Picosecond 2:\n",
    " 0   1   2   3   4   5   6\n",
    "[ ] [S] (.) ... [ ] ... [ ]\n",
    "[ ] [ ]         [ ]     [ ]\n",
    "[S]             [S]     [S]\n",
    "                [ ]     [ ]\n",
    "\n",
    " 0   1   2   3   4   5   6\n",
    "[ ] [ ] (.) ... [ ] ... [ ]\n",
    "[S] [S]         [ ]     [ ]\n",
    "[ ]             [ ]     [ ]\n",
    "                [S]     [S]\n",
    "\n",
    "\n",
    "Picosecond 3:\n",
    " 0   1   2   3   4   5   6\n",
    "[ ] [ ] ... (.) [ ] ... [ ]\n",
    "[S] [S]         [ ]     [ ]\n",
    "[ ]             [ ]     [ ]\n",
    "                [S]     [S]\n",
    "\n",
    " 0   1   2   3   4   5   6\n",
    "[S] [S] ... (.) [ ] ... [ ]\n",
    "[ ] [ ]         [ ]     [ ]\n",
    "[ ]             [S]     [S]\n",
    "                [ ]     [ ]\n",
    "\n",
    "\n",
    "Picosecond 4:\n",
    " 0   1   2   3   4   5   6\n",
    "[S] [S] ... ... ( ) ... [ ]\n",
    "[ ] [ ]         [ ]     [ ]\n",
    "[ ]             [S]     [S]\n",
    "                [ ]     [ ]\n",
    "\n",
    " 0   1   2   3   4   5   6\n",
    "[ ] [ ] ... ... ( ) ... [ ]\n",
    "[S] [S]         [S]     [S]\n",
    "[ ]             [ ]     [ ]\n",
    "                [ ]     [ ]\n",
    "\n",
    "\n",
    "Picosecond 5:\n",
    " 0   1   2   3   4   5   6\n",
    "[ ] [ ] ... ... [ ] (.) [ ]\n",
    "[S] [S]         [S]     [S]\n",
    "[ ]             [ ]     [ ]\n",
    "                [ ]     [ ]\n",
    "\n",
    " 0   1   2   3   4   5   6\n",
    "[ ] [S] ... ... [S] (.) [S]\n",
    "[ ] [ ]         [ ]     [ ]\n",
    "[S]             [ ]     [ ]\n",
    "                [ ]     [ ]\n",
    "\n",
    "\n",
    "Picosecond 6:\n",
    " 0   1   2   3   4   5   6\n",
    "[ ] [S] ... ... [S] ... (S)\n",
    "[ ] [ ]         [ ]     [ ]\n",
    "[S]             [ ]     [ ]\n",
    "                [ ]     [ ]\n",
    "\n",
    " 0   1   2   3   4   5   6\n",
    "[ ] [ ] ... ... [ ] ... ( )\n",
    "[S] [S]         [S]     [S]\n",
    "[ ]             [ ]     [ ]\n",
    "                [ ]     [ ]\n",
    "```\n",
    "\n",
    "In this situation, you are caught in layers 0 and 6, because your packet entered the layer when its scanner was at the top when you entered it. You are not caught in layer 1, since the scanner moved into the top of the layer once you were already there.\n",
    "\n",
    "The severity of getting caught on a layer is equal to its depth multiplied by its range. (Ignore layers in which you do not get caught.) The severity of the whole trip is the sum of these values. In the example above, the trip severity is 0*3 + 6*4 = 24.\n",
    "\n",
    "Given the details of the firewall you've recorded, if you leave immediately, what is the severity of your whole trip?\n",
    "\n"
   ]
  },
  {
   "cell_type": "code",
   "execution_count": 1,
   "metadata": {},
   "outputs": [],
   "source": [
    "import itertools"
   ]
  },
  {
   "cell_type": "code",
   "execution_count": 2,
   "metadata": {},
   "outputs": [],
   "source": [
    "def penalty(node_depth, node_range):\n",
    "    return node_depth * node_range"
   ]
  },
  {
   "cell_type": "code",
   "execution_count": 3,
   "metadata": {},
   "outputs": [
    {
     "ename": "NameError",
     "evalue": "name 'pd' is not defined",
     "output_type": "error",
     "traceback": [
      "\u001b[0;31m---------------------------------------------------------------------------\u001b[0m",
      "\u001b[0;31mNameError\u001b[0m                                 Traceback (most recent call last)",
      "\u001b[0;32m<ipython-input-3-67176d5e997e>\u001b[0m in \u001b[0;36m<module>\u001b[0;34m\u001b[0m\n\u001b[1;32m      5\u001b[0m     \u001b[0;36m6\u001b[0m\u001b[0;34m:\u001b[0m \u001b[0;36m4\u001b[0m\u001b[0;34m,\u001b[0m\u001b[0;34m\u001b[0m\u001b[0;34m\u001b[0m\u001b[0m\n\u001b[1;32m      6\u001b[0m }\n\u001b[0;32m----> 7\u001b[0;31m \u001b[0mtest_cases\u001b[0m \u001b[0;34m=\u001b[0m \u001b[0mpd\u001b[0m\u001b[0;34m.\u001b[0m\u001b[0mDataFrame\u001b[0m\u001b[0;34m(\u001b[0m\u001b[0mdata\u001b[0m\u001b[0;34m=\u001b[0m\u001b[0mlist\u001b[0m\u001b[0;34m(\u001b[0m\u001b[0mtest_cases_dict\u001b[0m\u001b[0;34m.\u001b[0m\u001b[0mitems\u001b[0m\u001b[0;34m(\u001b[0m\u001b[0;34m)\u001b[0m\u001b[0;34m)\u001b[0m\u001b[0;34m,\u001b[0m \u001b[0mcolumns\u001b[0m\u001b[0;34m=\u001b[0m\u001b[0;34m[\u001b[0m\u001b[0;34m'depth'\u001b[0m\u001b[0;34m,\u001b[0m\u001b[0;34m'range'\u001b[0m\u001b[0;34m]\u001b[0m\u001b[0;34m)\u001b[0m\u001b[0;34m\u001b[0m\u001b[0;34m\u001b[0m\u001b[0m\n\u001b[0m\u001b[1;32m      8\u001b[0m \u001b[0mtest_cases\u001b[0m\u001b[0;34m[\u001b[0m\u001b[0;34m'penalty'\u001b[0m\u001b[0;34m]\u001b[0m \u001b[0;34m=\u001b[0m \u001b[0mtest_cases\u001b[0m\u001b[0;34m.\u001b[0m\u001b[0mapply\u001b[0m\u001b[0;34m(\u001b[0m\u001b[0;32mlambda\u001b[0m \u001b[0mrow\u001b[0m\u001b[0;34m:\u001b[0m \u001b[0mrow\u001b[0m\u001b[0;34m.\u001b[0m\u001b[0mdepth\u001b[0m\u001b[0;34m*\u001b[0m\u001b[0mrow\u001b[0m\u001b[0;34m.\u001b[0m\u001b[0mrange\u001b[0m\u001b[0;34m,\u001b[0m \u001b[0maxis\u001b[0m\u001b[0;34m=\u001b[0m\u001b[0;36m1\u001b[0m\u001b[0;34m)\u001b[0m\u001b[0;34m\u001b[0m\u001b[0;34m\u001b[0m\u001b[0m\n\u001b[1;32m      9\u001b[0m \u001b[0mtest_cases\u001b[0m\u001b[0;34m\u001b[0m\u001b[0;34m\u001b[0m\u001b[0m\n",
      "\u001b[0;31mNameError\u001b[0m: name 'pd' is not defined"
     ]
    }
   ],
   "source": [
    "test_cases_dict = {\n",
    "    0: 3,\n",
    "    1: 2,\n",
    "    4: 4,\n",
    "    6: 4,\n",
    "}\n",
    "test_cases = pd.DataFrame(data=list(test_cases_dict.items()), columns=['depth','range'])\n",
    "test_cases['penalty'] = test_cases.apply(lambda row: row.depth*row.range, axis=1)\n",
    "test_cases"
   ]
  },
  {
   "cell_type": "code",
   "execution_count": 4,
   "metadata": {},
   "outputs": [],
   "source": [
    "def get_node_current_position(node_range, seconds):\n",
    "    list_node_range = list(range(node_range))\n",
    "    cycle_list = list_node_range + list_node_range[-2:0:-1]\n",
    "    if seconds >= len(cycle_list):\n",
    "        idx = seconds % len(cycle_list)\n",
    "        pos = cycle_list[idx]\n",
    "    else:\n",
    "        pos = cycle_list[seconds]\n",
    "    return pos"
   ]
  },
  {
   "cell_type": "code",
   "execution_count": 5,
   "metadata": {},
   "outputs": [
    {
     "ename": "NameError",
     "evalue": "name 'test_cases' is not defined",
     "output_type": "error",
     "traceback": [
      "\u001b[0;31m---------------------------------------------------------------------------\u001b[0m",
      "\u001b[0;31mNameError\u001b[0m                                 Traceback (most recent call last)",
      "\u001b[0;32m<ipython-input-5-e469e23a76df>\u001b[0m in \u001b[0;36m<module>\u001b[0;34m\u001b[0m\n\u001b[0;32m----> 1\u001b[0;31m \u001b[0mtest_cases\u001b[0m\u001b[0;34m[\u001b[0m\u001b[0;34m'position_at_depth'\u001b[0m\u001b[0;34m]\u001b[0m \u001b[0;34m=\u001b[0m \u001b[0;34m[\u001b[0m\u001b[0mget_node_current_position\u001b[0m\u001b[0;34m(\u001b[0m\u001b[0mv\u001b[0m\u001b[0;34m,\u001b[0m \u001b[0mk\u001b[0m\u001b[0;34m)\u001b[0m \u001b[0;32mfor\u001b[0m \u001b[0mk\u001b[0m\u001b[0;34m,\u001b[0m\u001b[0mv\u001b[0m \u001b[0;32min\u001b[0m \u001b[0mtest_cases_dict\u001b[0m\u001b[0;34m.\u001b[0m\u001b[0mitems\u001b[0m\u001b[0;34m(\u001b[0m\u001b[0;34m)\u001b[0m\u001b[0;34m]\u001b[0m\u001b[0;34m\u001b[0m\u001b[0;34m\u001b[0m\u001b[0m\n\u001b[0m\u001b[1;32m      2\u001b[0m \u001b[0mtest_cases\u001b[0m\u001b[0;34m[\u001b[0m\u001b[0;34m'apply_penalty'\u001b[0m\u001b[0;34m]\u001b[0m \u001b[0;34m=\u001b[0m \u001b[0mtest_cases\u001b[0m\u001b[0;34m.\u001b[0m\u001b[0mposition_at_depth\u001b[0m\u001b[0;34m.\u001b[0m\u001b[0mapply\u001b[0m\u001b[0;34m(\u001b[0m\u001b[0;32mlambda\u001b[0m \u001b[0mx\u001b[0m\u001b[0;34m:\u001b[0m \u001b[0mx\u001b[0m \u001b[0;34m==\u001b[0m \u001b[0;36m0\u001b[0m\u001b[0;34m)\u001b[0m\u001b[0;34m\u001b[0m\u001b[0;34m\u001b[0m\u001b[0m\n\u001b[1;32m      3\u001b[0m \u001b[0mtest_cases\u001b[0m\u001b[0;34m[\u001b[0m\u001b[0;34m'severity'\u001b[0m\u001b[0;34m]\u001b[0m \u001b[0;34m=\u001b[0m \u001b[0mtest_cases\u001b[0m\u001b[0;34m.\u001b[0m\u001b[0mpenalty\u001b[0m \u001b[0;34m*\u001b[0m \u001b[0mtest_cases\u001b[0m\u001b[0;34m.\u001b[0m\u001b[0mapply_penalty\u001b[0m\u001b[0;34m\u001b[0m\u001b[0;34m\u001b[0m\u001b[0m\n\u001b[1;32m      4\u001b[0m \u001b[0mtest_cases\u001b[0m\u001b[0;34m\u001b[0m\u001b[0;34m\u001b[0m\u001b[0m\n",
      "\u001b[0;31mNameError\u001b[0m: name 'test_cases' is not defined"
     ]
    }
   ],
   "source": [
    "test_cases['position_at_depth'] = [get_node_current_position(v, k) for k,v in test_cases_dict.items()]\n",
    "test_cases['apply_penalty'] = test_cases.position_at_depth.apply(lambda x: x == 0)\n",
    "test_cases['severity'] = test_cases.penalty * test_cases.apply_penalty\n",
    "test_cases"
   ]
  },
  {
   "cell_type": "code",
   "execution_count": 6,
   "metadata": {},
   "outputs": [
    {
     "ename": "NameError",
     "evalue": "name 'test_cases' is not defined",
     "output_type": "error",
     "traceback": [
      "\u001b[0;31m---------------------------------------------------------------------------\u001b[0m",
      "\u001b[0;31mNameError\u001b[0m                                 Traceback (most recent call last)",
      "\u001b[0;32m<ipython-input-6-c0bb5ff878a3>\u001b[0m in \u001b[0;36m<module>\u001b[0;34m\u001b[0m\n\u001b[0;32m----> 1\u001b[0;31m \u001b[0;32massert\u001b[0m \u001b[0mlist\u001b[0m\u001b[0;34m(\u001b[0m\u001b[0mtest_cases\u001b[0m\u001b[0;34m.\u001b[0m\u001b[0mposition_at_depth\u001b[0m\u001b[0;34m.\u001b[0m\u001b[0mvalues\u001b[0m\u001b[0;34m)\u001b[0m \u001b[0;34m==\u001b[0m \u001b[0;34m[\u001b[0m\u001b[0;36m0\u001b[0m\u001b[0;34m,\u001b[0m\u001b[0;36m1\u001b[0m\u001b[0;34m,\u001b[0m\u001b[0;36m2\u001b[0m\u001b[0;34m,\u001b[0m\u001b[0;36m0\u001b[0m\u001b[0;34m]\u001b[0m\u001b[0;34m\u001b[0m\u001b[0;34m\u001b[0m\u001b[0m\n\u001b[0m\u001b[1;32m      2\u001b[0m \u001b[0;32massert\u001b[0m \u001b[0msum\u001b[0m\u001b[0;34m(\u001b[0m\u001b[0mtest_cases\u001b[0m\u001b[0;34m.\u001b[0m\u001b[0mseverity\u001b[0m\u001b[0;34m)\u001b[0m \u001b[0;34m==\u001b[0m \u001b[0;36m24\u001b[0m\u001b[0;34m\u001b[0m\u001b[0;34m\u001b[0m\u001b[0m\n",
      "\u001b[0;31mNameError\u001b[0m: name 'test_cases' is not defined"
     ]
    }
   ],
   "source": [
    "assert list(test_cases.position_at_depth.values) == [0,1,2,0]\n",
    "assert sum(test_cases.severity) == 24"
   ]
  },
  {
   "cell_type": "code",
   "execution_count": 12,
   "metadata": {},
   "outputs": [],
   "source": [
    "from aocd import get_data"
   ]
  },
  {
   "cell_type": "code",
   "execution_count": 14,
   "metadata": {},
   "outputs": [],
   "source": [
    "%load_ext dotenv"
   ]
  },
  {
   "cell_type": "code",
   "execution_count": 15,
   "metadata": {},
   "outputs": [],
   "source": [
    "%dotenv"
   ]
  },
  {
   "cell_type": "code",
   "execution_count": 16,
   "metadata": {},
   "outputs": [],
   "source": [
    "data = get_data(year=2017, day=13)"
   ]
  },
  {
   "cell_type": "code",
   "execution_count": 17,
   "metadata": {},
   "outputs": [
    {
     "data": {
      "text/plain": [
       "'0: 5\\n1: 2\\n2: 3\\n4: 4\\n6: 6\\n8: 4\\n10: 8\\n12: 6\\n14: 6\\n16: 8\\n18: 6\\n20: 9\\n22: 8\\n24: 10\\n26: 8\\n28: 8\\n30: 12\\n32: 8\\n34: 12\\n36: 10\\n38: 12\\n40: 12\\n42: 12\\n44: 12\\n46: 12\\n48: 14\\n50: 12\\n52: 14\\n54: 12\\n56: 14\\n58: 12\\n60: 14\\n62: 14\\n64: 14\\n66: 14\\n68: 14\\n70: 14\\n72: 14\\n76: 14\\n80: 18\\n84: 14\\n90: 18\\n92: 17'"
      ]
     },
     "execution_count": 17,
     "metadata": {},
     "output_type": "execute_result"
    }
   ],
   "source": [
    "data"
   ]
  },
  {
   "cell_type": "code",
   "execution_count": 7,
   "metadata": {},
   "outputs": [],
   "source": [
    "import pandas as pd"
   ]
  },
  {
   "cell_type": "code",
   "execution_count": 18,
   "metadata": {},
   "outputs": [],
   "source": [
    "# df = pd.read_csv(\"day13.csv\", sep=\":\", names=['depth', 'range'], header=None)\n",
    "df = pd.DataFrame([d.split(\":\") for d in data.splitlines()], columns=[\"depth\", \"range\"])"
   ]
  },
  {
   "cell_type": "code",
   "execution_count": 21,
   "metadata": {},
   "outputs": [
    {
     "data": {
      "text/plain": [
       "depth    object\n",
       "range    object\n",
       "dtype: object"
      ]
     },
     "execution_count": 21,
     "metadata": {},
     "output_type": "execute_result"
    }
   ],
   "source": [
    "df.dtypes"
   ]
  },
  {
   "cell_type": "code",
   "execution_count": 26,
   "metadata": {},
   "outputs": [],
   "source": [
    "df = df.astype(int)"
   ]
  },
  {
   "cell_type": "code",
   "execution_count": 27,
   "metadata": {},
   "outputs": [
    {
     "data": {
      "text/html": [
       "<div>\n",
       "<style scoped>\n",
       "    .dataframe tbody tr th:only-of-type {\n",
       "        vertical-align: middle;\n",
       "    }\n",
       "\n",
       "    .dataframe tbody tr th {\n",
       "        vertical-align: top;\n",
       "    }\n",
       "\n",
       "    .dataframe thead th {\n",
       "        text-align: right;\n",
       "    }\n",
       "</style>\n",
       "<table border=\"1\" class=\"dataframe\">\n",
       "  <thead>\n",
       "    <tr style=\"text-align: right;\">\n",
       "      <th></th>\n",
       "      <th>depth</th>\n",
       "      <th>range</th>\n",
       "    </tr>\n",
       "  </thead>\n",
       "  <tbody>\n",
       "    <tr>\n",
       "      <th>0</th>\n",
       "      <td>0</td>\n",
       "      <td>5</td>\n",
       "    </tr>\n",
       "    <tr>\n",
       "      <th>1</th>\n",
       "      <td>1</td>\n",
       "      <td>2</td>\n",
       "    </tr>\n",
       "    <tr>\n",
       "      <th>2</th>\n",
       "      <td>2</td>\n",
       "      <td>3</td>\n",
       "    </tr>\n",
       "    <tr>\n",
       "      <th>3</th>\n",
       "      <td>4</td>\n",
       "      <td>4</td>\n",
       "    </tr>\n",
       "    <tr>\n",
       "      <th>4</th>\n",
       "      <td>6</td>\n",
       "      <td>6</td>\n",
       "    </tr>\n",
       "  </tbody>\n",
       "</table>\n",
       "</div>"
      ],
      "text/plain": [
       "   depth  range\n",
       "0      0      5\n",
       "1      1      2\n",
       "2      2      3\n",
       "3      4      4\n",
       "4      6      6"
      ]
     },
     "execution_count": 27,
     "metadata": {},
     "output_type": "execute_result"
    }
   ],
   "source": [
    "df.head()"
   ]
  },
  {
   "cell_type": "code",
   "execution_count": 28,
   "metadata": {},
   "outputs": [],
   "source": [
    "df_dict = {}\n",
    "for i, d in enumerate(df.depth):\n",
    "    df_dict[d] = df.range.iloc[i]"
   ]
  },
  {
   "cell_type": "code",
   "execution_count": 29,
   "metadata": {},
   "outputs": [],
   "source": [
    "df['penalty'] = df.apply(lambda row: row.depth*row.range, axis=1)"
   ]
  },
  {
   "cell_type": "code",
   "execution_count": 30,
   "metadata": {},
   "outputs": [
    {
     "data": {
      "text/html": [
       "<div>\n",
       "<style scoped>\n",
       "    .dataframe tbody tr th:only-of-type {\n",
       "        vertical-align: middle;\n",
       "    }\n",
       "\n",
       "    .dataframe tbody tr th {\n",
       "        vertical-align: top;\n",
       "    }\n",
       "\n",
       "    .dataframe thead th {\n",
       "        text-align: right;\n",
       "    }\n",
       "</style>\n",
       "<table border=\"1\" class=\"dataframe\">\n",
       "  <thead>\n",
       "    <tr style=\"text-align: right;\">\n",
       "      <th></th>\n",
       "      <th>depth</th>\n",
       "      <th>range</th>\n",
       "      <th>penalty</th>\n",
       "      <th>position_at_depth</th>\n",
       "      <th>apply_penalty</th>\n",
       "      <th>severity</th>\n",
       "    </tr>\n",
       "  </thead>\n",
       "  <tbody>\n",
       "    <tr>\n",
       "      <th>0</th>\n",
       "      <td>0</td>\n",
       "      <td>5</td>\n",
       "      <td>0</td>\n",
       "      <td>0</td>\n",
       "      <td>True</td>\n",
       "      <td>0</td>\n",
       "    </tr>\n",
       "    <tr>\n",
       "      <th>1</th>\n",
       "      <td>1</td>\n",
       "      <td>2</td>\n",
       "      <td>2</td>\n",
       "      <td>1</td>\n",
       "      <td>False</td>\n",
       "      <td>0</td>\n",
       "    </tr>\n",
       "    <tr>\n",
       "      <th>2</th>\n",
       "      <td>2</td>\n",
       "      <td>3</td>\n",
       "      <td>6</td>\n",
       "      <td>2</td>\n",
       "      <td>False</td>\n",
       "      <td>0</td>\n",
       "    </tr>\n",
       "    <tr>\n",
       "      <th>3</th>\n",
       "      <td>4</td>\n",
       "      <td>4</td>\n",
       "      <td>16</td>\n",
       "      <td>2</td>\n",
       "      <td>False</td>\n",
       "      <td>0</td>\n",
       "    </tr>\n",
       "    <tr>\n",
       "      <th>4</th>\n",
       "      <td>6</td>\n",
       "      <td>6</td>\n",
       "      <td>36</td>\n",
       "      <td>4</td>\n",
       "      <td>False</td>\n",
       "      <td>0</td>\n",
       "    </tr>\n",
       "    <tr>\n",
       "      <th>5</th>\n",
       "      <td>8</td>\n",
       "      <td>4</td>\n",
       "      <td>32</td>\n",
       "      <td>2</td>\n",
       "      <td>False</td>\n",
       "      <td>0</td>\n",
       "    </tr>\n",
       "    <tr>\n",
       "      <th>6</th>\n",
       "      <td>10</td>\n",
       "      <td>8</td>\n",
       "      <td>80</td>\n",
       "      <td>4</td>\n",
       "      <td>False</td>\n",
       "      <td>0</td>\n",
       "    </tr>\n",
       "    <tr>\n",
       "      <th>7</th>\n",
       "      <td>12</td>\n",
       "      <td>6</td>\n",
       "      <td>72</td>\n",
       "      <td>2</td>\n",
       "      <td>False</td>\n",
       "      <td>0</td>\n",
       "    </tr>\n",
       "    <tr>\n",
       "      <th>8</th>\n",
       "      <td>14</td>\n",
       "      <td>6</td>\n",
       "      <td>84</td>\n",
       "      <td>4</td>\n",
       "      <td>False</td>\n",
       "      <td>0</td>\n",
       "    </tr>\n",
       "    <tr>\n",
       "      <th>9</th>\n",
       "      <td>16</td>\n",
       "      <td>8</td>\n",
       "      <td>128</td>\n",
       "      <td>2</td>\n",
       "      <td>False</td>\n",
       "      <td>0</td>\n",
       "    </tr>\n",
       "  </tbody>\n",
       "</table>\n",
       "</div>"
      ],
      "text/plain": [
       "   depth  range  penalty  position_at_depth  apply_penalty  severity\n",
       "0      0      5        0                  0           True         0\n",
       "1      1      2        2                  1          False         0\n",
       "2      2      3        6                  2          False         0\n",
       "3      4      4       16                  2          False         0\n",
       "4      6      6       36                  4          False         0\n",
       "5      8      4       32                  2          False         0\n",
       "6     10      8       80                  4          False         0\n",
       "7     12      6       72                  2          False         0\n",
       "8     14      6       84                  4          False         0\n",
       "9     16      8      128                  2          False         0"
      ]
     },
     "execution_count": 30,
     "metadata": {},
     "output_type": "execute_result"
    }
   ],
   "source": [
    "df['position_at_depth'] = [get_node_current_position(v, k) for k,v in df_dict.items()]\n",
    "df['apply_penalty'] = df.position_at_depth.apply(lambda x: x == 0)\n",
    "df['severity'] = df.penalty * df.apply_penalty\n",
    "df.head(10)"
   ]
  },
  {
   "cell_type": "code",
   "execution_count": 31,
   "metadata": {},
   "outputs": [
    {
     "data": {
      "text/plain": [
       "1840"
      ]
     },
     "execution_count": 31,
     "metadata": {},
     "output_type": "execute_result"
    }
   ],
   "source": [
    "sum(df.severity)"
   ]
  },
  {
   "cell_type": "markdown",
   "metadata": {},
   "source": [
    "That's the right answer! You are one gold star closer to debugging the printer."
   ]
  },
  {
   "cell_type": "markdown",
   "metadata": {},
   "source": [
    "--- Part Two ---\n",
    "\n",
    "Now, you need to pass through the firewall without being caught - easier said than done.\n",
    "\n",
    "You can't control the speed of the packet, but you can delay it any number of picoseconds. For each picosecond you delay the packet before beginning your trip, all security scanners move one step. You're not in the firewall during this time; you don't enter layer 0 until you stop delaying the packet.\n",
    "\n",
    "In the example above, if you delay 10 picoseconds (picoseconds 0 - 9), you won't get caught:\n",
    "\n",
    "State after delaying:\n",
    "\n",
    "```\n",
    " 0   1   2   3   4   5   6\n",
    "[ ] [S] ... ... [ ] ... [ ]\n",
    "[ ] [ ]         [ ]     [ ]\n",
    "[S]             [S]     [S]\n",
    "                [ ]     [ ]\n",
    "\n",
    "Picosecond 10:\n",
    " 0   1   2   3   4   5   6\n",
    "( ) [S] ... ... [ ] ... [ ]\n",
    "[ ] [ ]         [ ]     [ ]\n",
    "[S]             [S]     [S]\n",
    "                [ ]     [ ]\n",
    "\n",
    " 0   1   2   3   4   5   6\n",
    "( ) [ ] ... ... [ ] ... [ ]\n",
    "[S] [S]         [S]     [S]\n",
    "[ ]             [ ]     [ ]\n",
    "                [ ]     [ ]\n",
    "\n",
    "\n",
    "Picosecond 11:\n",
    " 0   1   2   3   4   5   6\n",
    "[ ] ( ) ... ... [ ] ... [ ]\n",
    "[S] [S]         [S]     [S]\n",
    "[ ]             [ ]     [ ]\n",
    "                [ ]     [ ]\n",
    "\n",
    " 0   1   2   3   4   5   6\n",
    "[S] (S) ... ... [S] ... [S]\n",
    "[ ] [ ]         [ ]     [ ]\n",
    "[ ]             [ ]     [ ]\n",
    "                [ ]     [ ]\n",
    "\n",
    "\n",
    "Picosecond 12:\n",
    " 0   1   2   3   4   5   6\n",
    "[S] [S] (.) ... [S] ... [S]\n",
    "[ ] [ ]         [ ]     [ ]\n",
    "[ ]             [ ]     [ ]\n",
    "                [ ]     [ ]\n",
    "\n",
    " 0   1   2   3   4   5   6\n",
    "[ ] [ ] (.) ... [ ] ... [ ]\n",
    "[S] [S]         [S]     [S]\n",
    "[ ]             [ ]     [ ]\n",
    "                [ ]     [ ]\n",
    "\n",
    "\n",
    "Picosecond 13:\n",
    " 0   1   2   3   4   5   6\n",
    "[ ] [ ] ... (.) [ ] ... [ ]\n",
    "[S] [S]         [S]     [S]\n",
    "[ ]             [ ]     [ ]\n",
    "                [ ]     [ ]\n",
    "\n",
    " 0   1   2   3   4   5   6\n",
    "[ ] [S] ... (.) [ ] ... [ ]\n",
    "[ ] [ ]         [ ]     [ ]\n",
    "[S]             [S]     [S]\n",
    "                [ ]     [ ]\n",
    "\n",
    "\n",
    "Picosecond 14:\n",
    " 0   1   2   3   4   5   6\n",
    "[ ] [S] ... ... ( ) ... [ ]\n",
    "[ ] [ ]         [ ]     [ ]\n",
    "[S]             [S]     [S]\n",
    "                [ ]     [ ]\n",
    "\n",
    " 0   1   2   3   4   5   6\n",
    "[ ] [ ] ... ... ( ) ... [ ]\n",
    "[S] [S]         [ ]     [ ]\n",
    "[ ]             [ ]     [ ]\n",
    "                [S]     [S]\n",
    "\n",
    "\n",
    "Picosecond 15:\n",
    " 0   1   2   3   4   5   6\n",
    "[ ] [ ] ... ... [ ] (.) [ ]\n",
    "[S] [S]         [ ]     [ ]\n",
    "[ ]             [ ]     [ ]\n",
    "                [S]     [S]\n",
    "\n",
    " 0   1   2   3   4   5   6\n",
    "[S] [S] ... ... [ ] (.) [ ]\n",
    "[ ] [ ]         [ ]     [ ]\n",
    "[ ]             [S]     [S]\n",
    "                [ ]     [ ]\n",
    "\n",
    "\n",
    "Picosecond 16:\n",
    " 0   1   2   3   4   5   6\n",
    "[S] [S] ... ... [ ] ... ( )\n",
    "[ ] [ ]         [ ]     [ ]\n",
    "[ ]             [S]     [S]\n",
    "                [ ]     [ ]\n",
    "\n",
    " 0   1   2   3   4   5   6\n",
    "[ ] [ ] ... ... [ ] ... ( )\n",
    "[S] [S]         [S]     [S]\n",
    "[ ]             [ ]     [ ]\n",
    "                [ ]     [ ]\n",
    "```\n",
    "\n",
    "Because all smaller delays would get you caught, the fewest number of picoseconds you would need to delay to get through safely is 10.\n",
    "\n",
    "What is the fewest number of picoseconds that you need to delay the packet to pass through the firewall without being caught?\n",
    "\n"
   ]
  },
  {
   "cell_type": "code",
   "execution_count": 32,
   "metadata": {},
   "outputs": [
    {
     "name": "stdout",
     "output_type": "stream",
     "text": [
      "Delay of 0 picoseconds\n"
     ]
    },
    {
     "ename": "NameError",
     "evalue": "name 'test_cases' is not defined",
     "output_type": "error",
     "traceback": [
      "\u001b[0;31m---------------------------------------------------------------------------\u001b[0m",
      "\u001b[0;31mNameError\u001b[0m                                 Traceback (most recent call last)",
      "\u001b[0;32m<ipython-input-32-1488c053fd77>\u001b[0m in \u001b[0;36m<module>\u001b[0;34m\u001b[0m\n\u001b[1;32m      1\u001b[0m \u001b[0;32mfor\u001b[0m \u001b[0mdelay\u001b[0m \u001b[0;32min\u001b[0m \u001b[0mrange\u001b[0m\u001b[0;34m(\u001b[0m\u001b[0;36m11\u001b[0m\u001b[0;34m)\u001b[0m\u001b[0;34m:\u001b[0m\u001b[0;34m\u001b[0m\u001b[0;34m\u001b[0m\u001b[0m\n\u001b[1;32m      2\u001b[0m     \u001b[0mprint\u001b[0m\u001b[0;34m(\u001b[0m\u001b[0;34m\"Delay of\"\u001b[0m\u001b[0;34m,\u001b[0m \u001b[0mdelay\u001b[0m\u001b[0;34m,\u001b[0m \u001b[0;34m\"picoseconds\"\u001b[0m\u001b[0;34m)\u001b[0m\u001b[0;34m\u001b[0m\u001b[0;34m\u001b[0m\u001b[0m\n\u001b[0;32m----> 3\u001b[0;31m     \u001b[0mtest_cases\u001b[0m\u001b[0;34m[\u001b[0m\u001b[0;34m'position_at_depth'\u001b[0m\u001b[0;34m]\u001b[0m \u001b[0;34m=\u001b[0m \u001b[0;34m[\u001b[0m\u001b[0mget_node_current_position\u001b[0m\u001b[0;34m(\u001b[0m\u001b[0mv\u001b[0m\u001b[0;34m,\u001b[0m \u001b[0mk\u001b[0m \u001b[0;34m+\u001b[0m \u001b[0mdelay\u001b[0m\u001b[0;34m)\u001b[0m \u001b[0;32mfor\u001b[0m \u001b[0mk\u001b[0m\u001b[0;34m,\u001b[0m\u001b[0mv\u001b[0m \u001b[0;32min\u001b[0m \u001b[0mtest_cases_dict\u001b[0m\u001b[0;34m.\u001b[0m\u001b[0mitems\u001b[0m\u001b[0;34m(\u001b[0m\u001b[0;34m)\u001b[0m\u001b[0;34m]\u001b[0m\u001b[0;34m\u001b[0m\u001b[0;34m\u001b[0m\u001b[0m\n\u001b[0m\u001b[1;32m      4\u001b[0m     \u001b[0mtest_cases\u001b[0m\u001b[0;34m[\u001b[0m\u001b[0;34m'apply_penalty'\u001b[0m\u001b[0;34m]\u001b[0m \u001b[0;34m=\u001b[0m \u001b[0mtest_cases\u001b[0m\u001b[0;34m.\u001b[0m\u001b[0mposition_at_depth\u001b[0m\u001b[0;34m.\u001b[0m\u001b[0mapply\u001b[0m\u001b[0;34m(\u001b[0m\u001b[0;32mlambda\u001b[0m \u001b[0mx\u001b[0m\u001b[0;34m:\u001b[0m \u001b[0mx\u001b[0m \u001b[0;34m==\u001b[0m \u001b[0;36m0\u001b[0m\u001b[0;34m)\u001b[0m\u001b[0;34m\u001b[0m\u001b[0;34m\u001b[0m\u001b[0m\n\u001b[1;32m      5\u001b[0m     \u001b[0mtest_cases\u001b[0m\u001b[0;34m[\u001b[0m\u001b[0;34m'severity'\u001b[0m\u001b[0;34m]\u001b[0m \u001b[0;34m=\u001b[0m \u001b[0mtest_cases\u001b[0m\u001b[0;34m.\u001b[0m\u001b[0mpenalty\u001b[0m \u001b[0;34m*\u001b[0m \u001b[0mtest_cases\u001b[0m\u001b[0;34m.\u001b[0m\u001b[0mapply_penalty\u001b[0m\u001b[0;34m\u001b[0m\u001b[0;34m\u001b[0m\u001b[0m\n",
      "\u001b[0;31mNameError\u001b[0m: name 'test_cases' is not defined"
     ]
    }
   ],
   "source": [
    "for delay in range(11):\n",
    "    print(\"Delay of\", delay, \"picoseconds\")\n",
    "    test_cases['position_at_depth'] = [get_node_current_position(v, k + delay) for k,v in test_cases_dict.items()]\n",
    "    test_cases['apply_penalty'] = test_cases.position_at_depth.apply(lambda x: x == 0)\n",
    "    test_cases['severity'] = test_cases.penalty * test_cases.apply_penalty\n",
    "    print(sum(test_cases.severity))\n",
    "    if sum(test_cases.severity) == 0 and sum(test_cases.apply_penalty) == 0:\n",
    "        print(\"WINNER!!!\")"
   ]
  },
  {
   "cell_type": "code",
   "execution_count": 33,
   "metadata": {},
   "outputs": [],
   "source": [
    "winner = {}\n",
    "delay = 3600000"
   ]
  },
  {
   "cell_type": "code",
   "execution_count": 34,
   "metadata": {},
   "outputs": [
    {
     "name": "stdout",
     "output_type": "stream",
     "text": [
      "3600000 {}\n"
     ]
    }
   ],
   "source": [
    "print(delay, winner)"
   ]
  },
  {
   "cell_type": "code",
   "execution_count": 35,
   "metadata": {},
   "outputs": [
    {
     "name": "stdout",
     "output_type": "stream",
     "text": [
      "at delay 3600000\n",
      "at delay 3700000\n",
      "at delay 3800000\n"
     ]
    }
   ],
   "source": [
    "while delay not in winner:\n",
    "    if delay % 100000 == 0:\n",
    "        print(\"at delay\", delay)\n",
    "    if 0 not in [get_node_current_position(v, k + delay) for k,v in df_dict.items()]:\n",
    "        winner[\"delay\"] = delay\n",
    "        break\n",
    "    else:\n",
    "        delay += 1"
   ]
  },
  {
   "cell_type": "code",
   "execution_count": 36,
   "metadata": {},
   "outputs": [
    {
     "name": "stdout",
     "output_type": "stream",
     "text": [
      "3850260 {'delay': 3850260}\n"
     ]
    }
   ],
   "source": [
    "print(delay, winner)"
   ]
  },
  {
   "cell_type": "markdown",
   "metadata": {},
   "source": [
    "That's the right answer! You are one gold star closer to debugging the printer.\n",
    "\n",
    "You have completed Day 13!"
   ]
  },
  {
   "cell_type": "code",
   "execution_count": 241,
   "metadata": {},
   "outputs": [
    {
     "data": {
      "text/plain": [
       "False"
      ]
     },
     "execution_count": 241,
     "metadata": {},
     "output_type": "execute_result"
    }
   ],
   "source": [
    "0 not in [get_node_current_position(v, k + 3960897) for k,v in df_dict.items()]"
   ]
  },
  {
   "cell_type": "code",
   "execution_count": 244,
   "metadata": {},
   "outputs": [
    {
     "name": "stdout",
     "output_type": "stream",
     "text": [
      "0 1\n",
      "1 0\n",
      "2 3\n",
      "4 1\n",
      "6 3\n",
      "8 5\n",
      "10 3\n",
      "12 1\n",
      "14 1\n",
      "16 3\n",
      "18 5\n",
      "20 7\n",
      "22 1\n",
      "24 7\n",
      "26 7\n",
      "28 1\n",
      "30 3\n",
      "32 11\n",
      "34 9\n",
      "36 7\n",
      "38 5\n",
      "40 1\n",
      "42 1\n",
      "44 7\n",
      "46 5\n",
      "48 5\n",
      "50 7\n",
      "52 9\n",
      "54 3\n",
      "56 5\n",
      "58 7\n",
      "62 3\n",
      "64 13\n",
      "66 11\n",
      "68 9\n",
      "70 5\n",
      "74 3\n",
      "76 1\n",
      "78 1\n",
      "80 11\n",
      "82 15\n",
      "84 5\n",
      "88 11\n"
     ]
    }
   ],
   "source": [
    "for k,v in df_dict.items():\n",
    "    print(k, get_node_current_position(v, k + 3999997))"
   ]
  },
  {
   "cell_type": "code",
   "execution_count": 250,
   "metadata": {},
   "outputs": [
    {
     "data": {
      "text/plain": [
       "0"
      ]
     },
     "execution_count": 250,
     "metadata": {},
     "output_type": "execute_result"
    }
   ],
   "source": [
    "get_node_current_position(2, 1+3999997)"
   ]
  }
 ],
 "metadata": {
  "kernelspec": {
   "display_name": "Python 3",
   "language": "python",
   "name": "python3"
  },
  "language_info": {
   "codemirror_mode": {
    "name": "ipython",
    "version": 3
   },
   "file_extension": ".py",
   "mimetype": "text/x-python",
   "name": "python",
   "nbconvert_exporter": "python",
   "pygments_lexer": "ipython3",
   "version": "3.8.3"
  }
 },
 "nbformat": 4,
 "nbformat_minor": 4
}
