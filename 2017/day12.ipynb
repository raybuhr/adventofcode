{
 "cells": [
  {
   "cell_type": "markdown",
   "metadata": {},
   "source": [
    "--- Day 12: Digital Plumber ---\n",
    "\n",
    "Walking along the memory banks of the stream, you find a small village that is experiencing a little confusion: some programs can't communicate with each other.\n",
    "\n",
    "Programs in this village communicate using a fixed system of pipes. Messages are passed between programs using these pipes, but most programs aren't connected to each other directly. Instead, programs pass messages between each other until the message reaches the intended recipient.\n",
    "\n",
    "For some reason, though, some of these messages aren't ever reaching their intended recipient, and the programs suspect that some pipes are missing. They would like you to investigate.\n",
    "\n",
    "You walk through the village and record the ID of each program and the IDs with which it can communicate directly (your puzzle input). Each program has one or more programs with which it can communicate, and these pipes are bidirectional; if 8 says it can communicate with 11, then 11 will say it can communicate with 8.\n",
    "\n",
    "You need to figure out how many programs are in the group that contains program ID 0.\n",
    "\n",
    "For example, suppose you go door-to-door like a travelling salesman and record the following list:\n",
    "\n",
    "```\n",
    "0 <-> 2\n",
    "1 <-> 1\n",
    "2 <-> 0, 3, 4\n",
    "3 <-> 2, 4\n",
    "4 <-> 2, 3, 6\n",
    "5 <-> 6\n",
    "6 <-> 4, 5\n",
    "```\n",
    "\n",
    "In this example, the following programs are in the group that contains program ID 0:\n",
    "\n",
    "Program 0 by definition.\n",
    "Program 2, directly connected to program 0.\n",
    "Program 3 via program 2.\n",
    "Program 4 via program 2.\n",
    "Program 5 via programs 6, then 4, then 2.\n",
    "Program 6 via programs 4, then 2.\n",
    "Therefore, a total of 6 programs are in this group; all but program 1, which has a pipe that connects it to itself.\n",
    "\n",
    "How many programs are in the group that contains program ID 0?"
   ]
  },
  {
   "cell_type": "code",
   "execution_count": 7,
   "metadata": {},
   "outputs": [],
   "source": [
    "test_data = [\n",
    "    \"0 <-> 2\",\n",
    "    \"1 <-> 1\",\n",
    "    \"2 <-> 0, 3, 4\",\n",
    "    \"3 <-> 2, 4\",\n",
    "    \"4 <-> 2, 3, 6\",\n",
    "    \"5 <-> 6\",\n",
    "    \"6 <-> 4, 5\",\n",
    "]"
   ]
  },
  {
   "cell_type": "code",
   "execution_count": 8,
   "metadata": {},
   "outputs": [
    {
     "data": {
      "text/plain": [
       "['0 <-> 2',\n",
       " '1 <-> 1',\n",
       " '2 <-> 0, 3, 4',\n",
       " '3 <-> 2, 4',\n",
       " '4 <-> 2, 3, 6',\n",
       " '5 <-> 6',\n",
       " '6 <-> 4, 5']"
      ]
     },
     "execution_count": 8,
     "metadata": {},
     "output_type": "execute_result"
    }
   ],
   "source": [
    "test_data"
   ]
  },
  {
   "cell_type": "code",
   "execution_count": 16,
   "metadata": {},
   "outputs": [
    {
     "data": {
      "text/plain": [
       "['0', '1', '2', '3', '4', '5', '6']"
      ]
     },
     "execution_count": 16,
     "metadata": {},
     "output_type": "execute_result"
    }
   ],
   "source": [
    "test_indices = [x.split(\" \")[0] for x in test_data]\n",
    "test_indices"
   ]
  },
  {
   "cell_type": "code",
   "execution_count": 30,
   "metadata": {},
   "outputs": [
    {
     "data": {
      "text/plain": [
       "[['2'], ['1'], ['0', '3', '4'], ['2', '4'], ['2', '3', '6'], ['6'], ['4', '5']]"
      ]
     },
     "execution_count": 30,
     "metadata": {},
     "output_type": "execute_result"
    }
   ],
   "source": [
    "test_values = [x.split(\" <-> \")[1].split(\", \") for x in test_data]\n",
    "test_values"
   ]
  },
  {
   "cell_type": "code",
   "execution_count": 37,
   "metadata": {},
   "outputs": [
    {
     "data": {
      "text/plain": [
       "{'0': ['2'],\n",
       " '1': ['1'],\n",
       " '2': ['0', '3', '4'],\n",
       " '3': ['2', '4'],\n",
       " '4': ['2', '3', '6'],\n",
       " '5': ['6'],\n",
       " '6': ['4', '5']}"
      ]
     },
     "execution_count": 37,
     "metadata": {},
     "output_type": "execute_result"
    }
   ],
   "source": [
    "test_groups = {}\n",
    "for i, j in enumerate(test_indices):\n",
    "    test_groups[j] = test_values[i]\n",
    "test_groups"
   ]
  },
  {
   "cell_type": "code",
   "execution_count": 47,
   "metadata": {},
   "outputs": [
    {
     "data": {
      "text/plain": [
       "[['2'], ['1'], ['0', '3', '4'], ['2', '4'], ['2', '3', '6'], ['6'], ['4', '5']]"
      ]
     },
     "execution_count": 47,
     "metadata": {},
     "output_type": "execute_result"
    }
   ],
   "source": [
    "list(test_groups.values())"
   ]
  },
  {
   "cell_type": "code",
   "execution_count": 63,
   "metadata": {},
   "outputs": [],
   "source": [
    "def find_groups(index, groups):\n",
    "    matches = [index]\n",
    "    for i, group in enumerate(groups):\n",
    "        if index in list(groups.values())[i]:\n",
    "            matches.append(list(groups.keys())[i])\n",
    "    return matches"
   ]
  },
  {
   "cell_type": "code",
   "execution_count": 74,
   "metadata": {},
   "outputs": [
    {
     "name": "stdout",
     "output_type": "stream",
     "text": [
      "{'0', '6', '4', '3', '2', '5'}\n"
     ]
    },
    {
     "data": {
      "text/plain": [
       "6"
      ]
     },
     "execution_count": 74,
     "metadata": {},
     "output_type": "execute_result"
    }
   ],
   "source": [
    "test_in_group_zero = ['0']\n",
    "for group in test_in_group_zero:\n",
    "    matches = find_groups(group, test_groups)\n",
    "    for m in matches:\n",
    "        if m not in test_in_group_zero:\n",
    "            test_in_group_zero.append(m)\n",
    "print(set(test_in_group_zero))\n",
    "len(set(test_in_group_zero))"
   ]
  },
  {
   "cell_type": "code",
   "execution_count": 76,
   "metadata": {},
   "outputs": [],
   "source": [
    "with open(\"day12.txt\") as f:\n",
    "    day12 = f.readlines()\n",
    "    day12 = [x.strip(\"\\n\") for x in day12]"
   ]
  },
  {
   "cell_type": "code",
   "execution_count": 80,
   "metadata": {},
   "outputs": [
    {
     "data": {
      "text/plain": [
       "['0 <-> 412, 480, 777, 1453', '1 <-> 132, 1209', '2 <-> 1614']"
      ]
     },
     "execution_count": 80,
     "metadata": {},
     "output_type": "execute_result"
    }
   ],
   "source": [
    "day12[0:3]"
   ]
  },
  {
   "cell_type": "code",
   "execution_count": 81,
   "metadata": {},
   "outputs": [
    {
     "data": {
      "text/plain": [
       "['0', '1', '2']"
      ]
     },
     "execution_count": 81,
     "metadata": {},
     "output_type": "execute_result"
    }
   ],
   "source": [
    "indices = [x.split(\" \")[0] for x in day12]\n",
    "indices[0:3]"
   ]
  },
  {
   "cell_type": "code",
   "execution_count": 82,
   "metadata": {},
   "outputs": [
    {
     "data": {
      "text/plain": [
       "[['412', '480', '777', '1453'], ['132', '1209'], ['1614']]"
      ]
     },
     "execution_count": 82,
     "metadata": {},
     "output_type": "execute_result"
    }
   ],
   "source": [
    "values = [x.split(\" <-> \")[1].split(\", \") for x in day12]\n",
    "values[0:3]"
   ]
  },
  {
   "cell_type": "code",
   "execution_count": 84,
   "metadata": {},
   "outputs": [
    {
     "data": {
      "text/plain": [
       "['412', '480', '777', '1453']"
      ]
     },
     "execution_count": 84,
     "metadata": {},
     "output_type": "execute_result"
    }
   ],
   "source": [
    "groups = {}\n",
    "for i, j in enumerate(indices):\n",
    "    groups[j] = values[i]\n",
    "groups['0']"
   ]
  },
  {
   "cell_type": "code",
   "execution_count": 85,
   "metadata": {},
   "outputs": [
    {
     "name": "stdout",
     "output_type": "stream",
     "text": [
      "{'1770', '669', '1876', '1880', '1968', '1797', '1085', '411', '1449', '77', '266', '1128', '1807', '0', '777', '470', '522', '1073', '1975', '481', '1579', '754', '1269', '1670', '1620', '1653', '639', '7', '1430', '247', '1575', '1832', '659', '828', '504', '1251', '518', '1184', '452', '1649', '1695', '1676', '302', '1132', '1887', '84', '1511', '654', '1971', '472', '476', '753', '1587', '47', '1102', '473', '846', '962', '220', '1776', '662', '1106', '1600', '471', '1691', '355', '1331', '1005', '775', '1483', '1092', '1933', '980', '45', '356', '406', '480', '478', '935', '1240', '455', '758', '1400', '182', '597', '1178', '346', '1003', '1365', '1040', '1961', '1630', '1263', '52', '1956', '588', '56', '896', '1154', '347', '412', '1564', '298', '1618', '1651', '699', '1939', '1867', '450', '1851', '1761', '1580', '514', '410', '1017', '1137', '1661', '1697', '402', '1402', '135', '1805', '1442', '289', '701', '1763', '1453', '1247', '313', '1881', '309', '1701', '1317', '862', '870', '441', '1696', '394', '36', '784', '779', '1635', '1722', '215', '1172'}\n"
     ]
    },
    {
     "data": {
      "text/plain": [
       "145"
      ]
     },
     "execution_count": 85,
     "metadata": {},
     "output_type": "execute_result"
    }
   ],
   "source": [
    "in_group_zero = ['0']\n",
    "for group in in_group_zero:\n",
    "    matches = find_groups(group, groups)\n",
    "    for m in matches:\n",
    "        if m not in in_group_zero:\n",
    "            in_group_zero.append(m)\n",
    "print(set(in_group_zero))\n",
    "len(set(in_group_zero))"
   ]
  },
  {
   "cell_type": "markdown",
   "metadata": {},
   "source": [
    "That's the right answer! You are one gold star closer to debugging the printer."
   ]
  },
  {
   "cell_type": "markdown",
   "metadata": {},
   "source": [
    "--- Part Two ---\n",
    "\n",
    "There are more programs than just the ones in the group containing program ID 0. The rest of them have no way of reaching that group, and still might have no way of reaching each other.\n",
    "\n",
    "A group is a collection of programs that can all communicate via pipes either directly or indirectly. The programs you identified just a moment ago are all part of the same group. Now, they would like you to determine the total number of groups.\n",
    "\n",
    "In the example above, there were 2 groups: one consisting of programs 0,2,3,4,5,6, and the other consisting solely of program 1.\n",
    "\n",
    "How many groups are there in total?"
   ]
  },
  {
   "cell_type": "code",
   "execution_count": 87,
   "metadata": {},
   "outputs": [
    {
     "data": {
      "text/plain": [
       "['0', '2', '3', '4', '6', '5']"
      ]
     },
     "execution_count": 87,
     "metadata": {},
     "output_type": "execute_result"
    }
   ],
   "source": [
    "test_in_group_zero"
   ]
  },
  {
   "cell_type": "code",
   "execution_count": 91,
   "metadata": {},
   "outputs": [],
   "source": [
    "test_remaining = [x for x in test_indices if x not in test_in_group_zero]"
   ]
  },
  {
   "cell_type": "code",
   "execution_count": 92,
   "metadata": {},
   "outputs": [
    {
     "data": {
      "text/plain": [
       "['1']"
      ]
     },
     "execution_count": 92,
     "metadata": {},
     "output_type": "execute_result"
    }
   ],
   "source": [
    "test_remaining"
   ]
  },
  {
   "cell_type": "code",
   "execution_count": 93,
   "metadata": {},
   "outputs": [],
   "source": [
    "remaining = [x for x in indices if x not in in_group_zero]"
   ]
  },
  {
   "cell_type": "code",
   "execution_count": 96,
   "metadata": {},
   "outputs": [
    {
     "data": {
      "text/plain": [
       "145"
      ]
     },
     "execution_count": 96,
     "metadata": {},
     "output_type": "execute_result"
    }
   ],
   "source": [
    "len(in_group_zero)"
   ]
  },
  {
   "cell_type": "code",
   "execution_count": 100,
   "metadata": {},
   "outputs": [
    {
     "data": {
      "text/plain": [
       "1855"
      ]
     },
     "execution_count": 100,
     "metadata": {},
     "output_type": "execute_result"
    }
   ],
   "source": [
    "len(remaining)"
   ]
  },
  {
   "cell_type": "code",
   "execution_count": 113,
   "metadata": {},
   "outputs": [
    {
     "data": {
      "text/plain": [
       "['1', '132', '1209']"
      ]
     },
     "execution_count": 113,
     "metadata": {},
     "output_type": "execute_result"
    }
   ],
   "source": [
    "remaining_groups = [remaining[0]]\n",
    "new_groups = find_groups(remaining[0], groups)\n",
    "for i in new_groups:\n",
    "    if i not in remaining_groups:\n",
    "        remaining_groups.append(i)\n",
    "remaining_groups"
   ]
  },
  {
   "cell_type": "code",
   "execution_count": 145,
   "metadata": {},
   "outputs": [
    {
     "name": "stdout",
     "output_type": "stream",
     "text": [
      "Done! 84\n"
     ]
    }
   ],
   "source": [
    "cur_len = len(remaining_groups)\n",
    "new_groups = []\n",
    "for i in remaining_groups:\n",
    "    new_groups.append(find_groups(i, groups))\n",
    "flat_list = [item for sublist in new_groups for item in sublist]\n",
    "remaining_groups = list(set(flat_list))\n",
    "if len(remaining_groups) > cur_len:\n",
    "    cur_len = len(remaining_groups)\n",
    "else:\n",
    "    print(\"Done!\", len(remaining_groups))"
   ]
  },
  {
   "cell_type": "code",
   "execution_count": 148,
   "metadata": {},
   "outputs": [
    {
     "data": {
      "text/plain": [
       "1771"
      ]
     },
     "execution_count": 148,
     "metadata": {},
     "output_type": "execute_result"
    }
   ],
   "source": [
    "group0 = in_group_zero\n",
    "group1 = remaining_groups\n",
    "remaining = [x for x in indices if x not in group0 and x not in group1]\n",
    "len(remaining)"
   ]
  },
  {
   "cell_type": "code",
   "execution_count": 149,
   "metadata": {},
   "outputs": [
    {
     "data": {
      "text/plain": [
       "['2', '1614']"
      ]
     },
     "execution_count": 149,
     "metadata": {},
     "output_type": "execute_result"
    }
   ],
   "source": [
    "remaining_groups = [remaining[0]]\n",
    "new_groups = find_groups(remaining[0], groups)\n",
    "for i in new_groups:\n",
    "    if i not in remaining_groups:\n",
    "        remaining_groups.append(i)\n",
    "remaining_groups"
   ]
  },
  {
   "cell_type": "code",
   "execution_count": 156,
   "metadata": {},
   "outputs": [
    {
     "name": "stdout",
     "output_type": "stream",
     "text": [
      "Done! 3\n"
     ]
    }
   ],
   "source": [
    "cur_len = len(remaining_groups)\n",
    "new_groups = []\n",
    "for i in remaining_groups:\n",
    "    new_groups.append(find_groups(i, groups))\n",
    "flat_list = [item for sublist in new_groups for item in sublist]\n",
    "remaining_groups = list(set(flat_list))\n",
    "if len(remaining_groups) > cur_len:\n",
    "    cur_len = len(remaining_groups)\n",
    "else:\n",
    "    print(\"Done!\", len(remaining_groups))"
   ]
  },
  {
   "cell_type": "code",
   "execution_count": 159,
   "metadata": {},
   "outputs": [],
   "source": [
    "group2 = remaining_groups\n",
    "taken_groups = [group0, group1, group2]"
   ]
  },
  {
   "cell_type": "code",
   "execution_count": 160,
   "metadata": {},
   "outputs": [],
   "source": [
    "taken = [item for sublist in taken_groups for item in sublist]\n",
    "remaining = [x for x in indices if x not in taken]"
   ]
  },
  {
   "cell_type": "code",
   "execution_count": 162,
   "metadata": {},
   "outputs": [
    {
     "data": {
      "text/plain": [
       "1768"
      ]
     },
     "execution_count": 162,
     "metadata": {},
     "output_type": "execute_result"
    }
   ],
   "source": [
    "len(remaining)"
   ]
  },
  {
   "cell_type": "code",
   "execution_count": 181,
   "metadata": {},
   "outputs": [],
   "source": [
    "def find_next_group(remaining):\n",
    "    remaining_groups = [remaining[0]]\n",
    "    cur_len = len(remaining_groups)\n",
    "    # init loop\n",
    "    new_groups = find_groups(remaining[0], groups)\n",
    "    for i in new_groups:\n",
    "        if i not in remaining_groups:\n",
    "            remaining_groups.append(i)\n",
    "    # repeat loop\n",
    "    while len(remaining_groups) > cur_len:\n",
    "        cur_len = len(remaining_groups)\n",
    "        new_groups = []\n",
    "        for i in remaining_groups:\n",
    "            new_groups.append(find_groups(i, groups))\n",
    "            flat_list = [item for sublist in new_groups for item in sublist]\n",
    "            remaining_groups = list(set(flat_list))\n",
    "    else:\n",
    "        print(\"Done!\", len(remaining_groups), \"in group\")\n",
    "    return remaining_groups"
   ]
  },
  {
   "cell_type": "code",
   "execution_count": 193,
   "metadata": {},
   "outputs": [
    {
     "name": "stdout",
     "output_type": "stream",
     "text": [
      "Done! 273 in group\n",
      "Done! 32 in group\n",
      "Done! 23 in group\n",
      "Done! 22 in group\n",
      "Done! 47 in group\n",
      "Done! 12 in group\n",
      "Done! 38 in group\n",
      "Done! 2 in group\n",
      "Done! 70 in group\n",
      "Done! 8 in group\n",
      "Done! 59 in group\n",
      "Done! 7 in group\n",
      "Done! 29 in group\n",
      "Done! 26 in group\n",
      "Done! 10 in group\n",
      "Done! 9 in group\n",
      "Done! 44 in group\n",
      "Done! 34 in group\n",
      "Done! 40 in group\n",
      "Done! 47 in group\n",
      "Done! 4 in group\n",
      "Done! 18 in group\n",
      "Done! 48 in group\n",
      "Done! 18 in group\n",
      "Done! 3 in group\n",
      "Done! 1 in group\n",
      "Done! 4 in group\n",
      "Done! 9 in group\n",
      "Done! 11 in group\n",
      "Done! 4 in group\n",
      "Done! 1 in group\n",
      "Done! 21 in group\n",
      "Done! 16 in group\n",
      "Done! 24 in group\n",
      "Done! 14 in group\n",
      "Done! 69 in group\n",
      "Done! 6 in group\n",
      "Done! 9 in group\n",
      "Done! 6 in group\n",
      "Done! 42 in group\n",
      "Done! 1 in group\n",
      "Done! 41 in group\n",
      "Done! 3 in group\n",
      "Done! 1 in group\n",
      "Done! 3 in group\n",
      "Done! 3 in group\n",
      "Done! 16 in group\n",
      "Done! 1 in group\n",
      "Done! 30 in group\n",
      "Done! 24 in group\n",
      "Done! 6 in group\n",
      "Done! 6 in group\n",
      "Done! 2 in group\n",
      "Done! 9 in group\n",
      "Done! 8 in group\n",
      "Done! 6 in group\n",
      "Done! 9 in group\n",
      "Done! 25 in group\n",
      "Done! 3 in group\n",
      "Done! 4 in group\n",
      "Done! 3 in group\n",
      "Done! 17 in group\n",
      "Done! 1 in group\n",
      "Done! 1 in group\n",
      "Done! 1 in group\n",
      "Done! 29 in group\n",
      "Done! 4 in group\n",
      "Done! 8 in group\n",
      "Done! 4 in group\n",
      "Done! 1 in group\n",
      "Done! 27 in group\n",
      "Done! 2 in group\n",
      "Done! 2 in group\n",
      "Done! 6 in group\n",
      "Done! 15 in group\n",
      "Done! 7 in group\n",
      "Done! 6 in group\n",
      "Done! 1 in group\n",
      "Done! 2 in group\n",
      "Done! 27 in group\n",
      "Done! 6 in group\n",
      "Done! 1 in group\n",
      "Done! 1 in group\n",
      "Done! 3 in group\n",
      "Done! 2 in group\n",
      "Done! 4 in group\n",
      "Done! 3 in group\n",
      "Done! 1 in group\n",
      "Done! 5 in group\n",
      "Done! 1 in group\n",
      "Done! 2 in group\n",
      "Done! 3 in group\n",
      "Done! 7 in group\n",
      "Done! 1 in group\n",
      "Done! 6 in group\n",
      "Done! 1 in group\n",
      "Done! 3 in group\n",
      "Done! 2 in group\n",
      "Done! 1 in group\n",
      "Done! 1 in group\n",
      "Done! 7 in group\n",
      "Done! 2 in group\n",
      "Done! 3 in group\n",
      "Done! 1 in group\n",
      "Done! 1 in group\n",
      "Done! 1 in group\n",
      "Done! 1 in group\n",
      "Done! 11 in group\n",
      "Done! 1 in group\n",
      "Done! 9 in group\n",
      "Done! 4 in group\n",
      "Done! 1 in group\n",
      "Done! 2 in group\n",
      "Done! 2 in group\n",
      "Done! 7 in group\n",
      "Done! 1 in group\n",
      "Done! 3 in group\n",
      "Done! 2 in group\n",
      "Done! 1 in group\n",
      "Done! 7 in group\n",
      "Done! 3 in group\n",
      "Done! 1 in group\n",
      "Done! 1 in group\n",
      "Done! 3 in group\n",
      "Done! 2 in group\n",
      "Done! 1 in group\n",
      "Done! 1 in group\n",
      "Done! 2 in group\n",
      "Done! 1 in group\n",
      "Done! 2 in group\n",
      "Done! 1 in group\n",
      "Done! 1 in group\n",
      "Done! 2 in group\n",
      "Done! 1 in group\n",
      "Done! 1 in group\n",
      "Done! 2 in group\n",
      "Done! 3 in group\n",
      "Done! 1 in group\n",
      "Done! 1 in group\n",
      "Done! 4 in group\n",
      "Done! 1 in group\n",
      "Done! 1 in group\n",
      "Done! 1 in group\n",
      "Done! 2 in group\n",
      "Done! 2 in group\n",
      "Done! 1 in group\n",
      "Done! 1 in group\n",
      "Done! 2 in group\n",
      "Done! 2 in group\n",
      "Done! 1 in group\n",
      "Done! 1 in group\n",
      "Done! 1 in group\n",
      "Done! 1 in group\n",
      "Done! 2 in group\n",
      "Done! 1 in group\n",
      "Done! 4 in group\n",
      "Done! 1 in group\n",
      "Done! 2 in group\n",
      "Done! 3 in group\n",
      "Done! 1 in group\n",
      "Done! 1 in group\n",
      "Done! 3 in group\n",
      "Done! 1 in group\n",
      "Done! 1 in group\n",
      "Done! 2 in group\n",
      "Done! 1 in group\n",
      "Done! 1 in group\n",
      "Done! 1 in group\n",
      "Done! 2 in group\n",
      "Done! 1 in group\n",
      "Done! 1 in group\n",
      "Done! 1 in group\n",
      "Done! 1 in group\n",
      "Done! 2 in group\n",
      "Done! 1 in group\n",
      "Done! 1 in group\n",
      "Done! 1 in group\n",
      "Done! 1 in group\n",
      "Done! 1 in group\n",
      "Done! 1 in group\n",
      "Done! 2 in group\n",
      "Done! 4 in group\n",
      "Done! 1 in group\n",
      "Done! 1 in group\n",
      "Done! 1 in group\n",
      "Done! 1 in group\n",
      "Done! 1 in group\n",
      "Done! 2 in group\n",
      "Done! 1 in group\n",
      "Done! 1 in group\n",
      "Done! 1 in group\n",
      "Done! 1 in group\n",
      "Done! 1 in group\n",
      "Done! 1 in group\n",
      "Done! 1 in group\n",
      "Done! 1 in group\n",
      "Done! 1 in group\n",
      "Done! 1 in group\n",
      "Done! 1 in group\n",
      "Done! 1 in group\n",
      "Done! 1 in group\n"
     ]
    }
   ],
   "source": [
    "while len(remaining) > 1:\n",
    "    taken_groups.append(find_next_group(remaining))\n",
    "    taken = [item for sublist in taken_groups for item in sublist]\n",
    "    remaining = [x for x in indices if x not in taken]"
   ]
  },
  {
   "cell_type": "code",
   "execution_count": 195,
   "metadata": {},
   "outputs": [
    {
     "data": {
      "text/plain": [
       "206"
      ]
     },
     "execution_count": 195,
     "metadata": {},
     "output_type": "execute_result"
    }
   ],
   "source": [
    "len(taken_groups)"
   ]
  },
  {
   "cell_type": "code",
   "execution_count": 196,
   "metadata": {},
   "outputs": [
    {
     "data": {
      "text/plain": [
       "1"
      ]
     },
     "execution_count": 196,
     "metadata": {},
     "output_type": "execute_result"
    }
   ],
   "source": [
    "len(remaining)"
   ]
  },
  {
   "cell_type": "code",
   "execution_count": 197,
   "metadata": {},
   "outputs": [
    {
     "data": {
      "text/plain": [
       "['1957']"
      ]
     },
     "execution_count": 197,
     "metadata": {},
     "output_type": "execute_result"
    }
   ],
   "source": [
    "remaining"
   ]
  },
  {
   "cell_type": "code",
   "execution_count": 199,
   "metadata": {},
   "outputs": [
    {
     "data": {
      "text/plain": [
       "['1957', '1957']"
      ]
     },
     "execution_count": 199,
     "metadata": {},
     "output_type": "execute_result"
    }
   ],
   "source": [
    "find_groups('1957', groups)"
   ]
  },
  {
   "cell_type": "markdown",
   "metadata": {},
   "source": [
    "That's the right answer! You are one gold star closer to debugging the printer."
   ]
  },
  {
   "cell_type": "code",
   "execution_count": null,
   "metadata": {},
   "outputs": [],
   "source": []
  }
 ],
 "metadata": {
  "kernelspec": {
   "display_name": "Python 3",
   "language": "python",
   "name": "python3"
  },
  "language_info": {
   "codemirror_mode": {
    "name": "ipython",
    "version": 3
   },
   "file_extension": ".py",
   "mimetype": "text/x-python",
   "name": "python",
   "nbconvert_exporter": "python",
   "pygments_lexer": "ipython3",
   "version": "3.6.3"
  }
 },
 "nbformat": 4,
 "nbformat_minor": 2
}
