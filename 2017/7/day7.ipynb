{
 "cells": [
  {
   "cell_type": "markdown",
   "metadata": {},
   "source": [
    "--- Part Two ---\n",
    "\n",
    "The programs explain the situation: they can't get down. Rather, they could get down, if they weren't expending all of their energy trying to keep the tower balanced. Apparently, one program has the wrong weight, and until it's fixed, they're stuck here.\n",
    "\n",
    "For any program holding a disc, each program standing on that disc forms a sub-tower. Each of those sub-towers are supposed to be the same weight, or the disc itself isn't balanced. The weight of a tower is the sum of the weights of the programs in that tower.\n",
    "\n",
    "In the example above, this means that for ugml's disc to be balanced, gyxo, ebii, and jptl must all have the same weight, and they do: 61.\n",
    "\n",
    "However, for tknk to be balanced, each of the programs standing on its disc and all programs above it must each match. This means that the following sums must all be the same:\n",
    "\n",
    "ugml + (gyxo + ebii + jptl) = 68 + (61 + 61 + 61) = 251\n",
    "padx + (pbga + havc + qoyq) = 45 + (66 + 66 + 66) = 243\n",
    "fwft + (ktlj + cntj + xhth) = 72 + (57 + 57 + 57) = 243\n",
    "As you can see, tknk's disc is unbalanced: ugml's stack is heavier than the other two. Even though the nodes above ugml are balanced, ugml itself is too heavy: it needs to be 8 units lighter for its stack to weigh 243 and keep the towers balanced. If this change were made, its weight would be 60.\n",
    "\n",
    "Given that exactly one program is the wrong weight, what would its weight need to be to balance the entire tower?\n",
    "\n"
   ]
  },
  {
   "cell_type": "code",
   "execution_count": 1,
   "metadata": {},
   "outputs": [],
   "source": [
    "with open(\"day7.txt\") as f:\n",
    "    stack = f.readlines()"
   ]
  },
  {
   "cell_type": "code",
   "execution_count": 2,
   "metadata": {},
   "outputs": [
    {
     "data": {
      "text/plain": [
       "['ctjnwq (22) -> tasqwda, qfybq\\n',\n",
       " 'ibjoxjo (175) -> ubhsnqw, icjmhii, lmvfuql, wrnmwy\\n',\n",
       " 'puxlsjo (26) -> gyveijp, nikvfs\\n',\n",
       " 'aaeeqh (68) -> nmyem, fserz\\n',\n",
       " 'sfxng (33)\\n',\n",
       " 'uvhyl (23)\\n',\n",
       " 'gtkkx (91)\\n',\n",
       " 'ovkpba (352)\\n',\n",
       " 'dkjfjwe (146) -> ehnlfa, sxzwplf\\n',\n",
       " 'fjklelc (83) -> pjkrhl, yshith\\n']"
      ]
     },
     "execution_count": 2,
     "metadata": {},
     "output_type": "execute_result"
    }
   ],
   "source": [
    "stack[10:20]"
   ]
  },
  {
   "cell_type": "code",
   "execution_count": 14,
   "metadata": {},
   "outputs": [],
   "source": [
    "nodes = [x.split(\" \")[0] for x in stack]\n",
    "weights = [int(x.split(\"(\")[1].split(\")\")[0]) for x in stack]\n",
    "children = [x.split(\")\")[1].strip(\" -> \").strip(\"\\n\").split(\", \") for x in stack]"
   ]
  },
  {
   "cell_type": "code",
   "execution_count": 15,
   "metadata": {},
   "outputs": [],
   "source": [
    "data = {}\n",
    "for i in range(len(nodes)):\n",
    "    data[nodes[i]] = {\"weight\": weights[i], \"children\": children[i]}"
   ]
  },
  {
   "cell_type": "code",
   "execution_count": 45,
   "metadata": {},
   "outputs": [],
   "source": [
    "def get_child_weights(parent, dict_of_parents):\n",
    "    '''\n",
    "    parent: name of key\n",
    "    dict_of_parents: a dict of parent-child relationships\n",
    "    example:\n",
    "    get_child_weights('abc') # [1, 2, 3]\n",
    "    '''\n",
    "    children = dict_of_parents.get(parent).get('children')\n",
    "    child_weight = []\n",
    "    for child in children:\n",
    "        child_weight.append(int(data[child.strip(\",\")][\"weight\"]))\n",
    "    return(child_weight)"
   ]
  },
  {
   "cell_type": "code",
   "execution_count": 312,
   "metadata": {},
   "outputs": [
    {
     "data": {
      "text/plain": [
       "[22, 225, 263]"
      ]
     },
     "execution_count": 312,
     "metadata": {},
     "output_type": "execute_result"
    }
   ],
   "source": [
    "get_child_weights('byhatd', data)"
   ]
  },
  {
   "cell_type": "code",
   "execution_count": 48,
   "metadata": {},
   "outputs": [],
   "source": [
    "def find_parent(node, nodes):\n",
    "    for k in nodes:\n",
    "        if node in nodes.get(k).get('children'):\n",
    "            return k"
   ]
  },
  {
   "cell_type": "code",
   "execution_count": 49,
   "metadata": {},
   "outputs": [],
   "source": [
    "child_nodes = {}\n",
    "for k, v in data.items():\n",
    "    if v['children'] == ['']:\n",
    "        child_nodes[k] = v['weight']"
   ]
  },
  {
   "cell_type": "code",
   "execution_count": 52,
   "metadata": {},
   "outputs": [
    {
     "data": {
      "text/plain": [
       "261"
      ]
     },
     "execution_count": 52,
     "metadata": {},
     "output_type": "execute_result"
    }
   ],
   "source": [
    "parents = {}\n",
    "for k, v in child_nodes.items():\n",
    "    parent_node = find_parent(k, data)\n",
    "    if parent_node in parents:\n",
    "        parents[parent_node] += v\n",
    "    else:\n",
    "        parents[parent_node] = v + data.get(parent_node).get('weight')\n",
    "parents['aodkqlr']"
   ]
  },
  {
   "cell_type": "code",
   "execution_count": 313,
   "metadata": {},
   "outputs": [],
   "source": [
    "assert parents['aodkqlr'] == sum(get_child_weights('aodkqlr', data)) + data['aodkqlr']['weight']"
   ]
  },
  {
   "cell_type": "code",
   "execution_count": 75,
   "metadata": {},
   "outputs": [],
   "source": [
    "import pandas as pd"
   ]
  },
  {
   "cell_type": "code",
   "execution_count": 79,
   "metadata": {},
   "outputs": [],
   "source": [
    "df = pd.DataFrame.from_dict(data=data, orient='index')"
   ]
  },
  {
   "cell_type": "code",
   "execution_count": 82,
   "metadata": {},
   "outputs": [],
   "source": [
    "df['parent'] = [find_parent(x, data) for x in data.keys()]"
   ]
  },
  {
   "cell_type": "code",
   "execution_count": 83,
   "metadata": {},
   "outputs": [
    {
     "data": {
      "text/html": [
       "<div>\n",
       "<style scoped>\n",
       "    .dataframe tbody tr th:only-of-type {\n",
       "        vertical-align: middle;\n",
       "    }\n",
       "\n",
       "    .dataframe tbody tr th {\n",
       "        vertical-align: top;\n",
       "    }\n",
       "\n",
       "    .dataframe thead th {\n",
       "        text-align: right;\n",
       "    }\n",
       "</style>\n",
       "<table border=\"1\" class=\"dataframe\">\n",
       "  <thead>\n",
       "    <tr style=\"text-align: right;\">\n",
       "      <th></th>\n",
       "      <th>weight</th>\n",
       "      <th>children</th>\n",
       "      <th>parent</th>\n",
       "    </tr>\n",
       "  </thead>\n",
       "  <tbody>\n",
       "    <tr>\n",
       "      <th>aaeeqh</th>\n",
       "      <td>68</td>\n",
       "      <td>[nmyem, fserz]</td>\n",
       "      <td>ozvtq</td>\n",
       "    </tr>\n",
       "    <tr>\n",
       "      <th>aaroa</th>\n",
       "      <td>121</td>\n",
       "      <td>[]</td>\n",
       "      <td>hgynpc</td>\n",
       "    </tr>\n",
       "    <tr>\n",
       "      <th>acgef</th>\n",
       "      <td>17</td>\n",
       "      <td>[]</td>\n",
       "      <td>fhbjovx</td>\n",
       "    </tr>\n",
       "    <tr>\n",
       "      <th>acrly</th>\n",
       "      <td>75</td>\n",
       "      <td>[]</td>\n",
       "      <td>wlfngqq</td>\n",
       "    </tr>\n",
       "    <tr>\n",
       "      <th>actlu</th>\n",
       "      <td>15</td>\n",
       "      <td>[]</td>\n",
       "      <td>irgkfsa</td>\n",
       "    </tr>\n",
       "  </tbody>\n",
       "</table>\n",
       "</div>"
      ],
      "text/plain": [
       "        weight        children   parent\n",
       "aaeeqh      68  [nmyem, fserz]    ozvtq\n",
       "aaroa      121              []   hgynpc\n",
       "acgef       17              []  fhbjovx\n",
       "acrly       75              []  wlfngqq\n",
       "actlu       15              []  irgkfsa"
      ]
     },
     "execution_count": 83,
     "metadata": {},
     "output_type": "execute_result"
    }
   ],
   "source": [
    "df.head()"
   ]
  },
  {
   "cell_type": "code",
   "execution_count": 89,
   "metadata": {},
   "outputs": [
    {
     "data": {
      "text/html": [
       "<div>\n",
       "<style scoped>\n",
       "    .dataframe tbody tr th:only-of-type {\n",
       "        vertical-align: middle;\n",
       "    }\n",
       "\n",
       "    .dataframe tbody tr th {\n",
       "        vertical-align: top;\n",
       "    }\n",
       "\n",
       "    .dataframe thead th {\n",
       "        text-align: right;\n",
       "    }\n",
       "</style>\n",
       "<table border=\"1\" class=\"dataframe\">\n",
       "  <thead>\n",
       "    <tr style=\"text-align: right;\">\n",
       "      <th></th>\n",
       "      <th>weight</th>\n",
       "    </tr>\n",
       "    <tr>\n",
       "      <th>parent</th>\n",
       "      <th></th>\n",
       "    </tr>\n",
       "  </thead>\n",
       "  <tbody>\n",
       "    <tr>\n",
       "      <th>aaeeqh</th>\n",
       "      <td>724.500000</td>\n",
       "    </tr>\n",
       "    <tr>\n",
       "      <th>adyni</th>\n",
       "      <td>130.666667</td>\n",
       "    </tr>\n",
       "    <tr>\n",
       "      <th>aenvjl</th>\n",
       "      <td>44.666667</td>\n",
       "    </tr>\n",
       "    <tr>\n",
       "      <th>aflzz</th>\n",
       "      <td>47.500000</td>\n",
       "    </tr>\n",
       "    <tr>\n",
       "      <th>aftndu</th>\n",
       "      <td>50.000000</td>\n",
       "    </tr>\n",
       "  </tbody>\n",
       "</table>\n",
       "</div>"
      ],
      "text/plain": [
       "            weight\n",
       "parent            \n",
       "aaeeqh  724.500000\n",
       "adyni   130.666667\n",
       "aenvjl   44.666667\n",
       "aflzz    47.500000\n",
       "aftndu   50.000000"
      ]
     },
     "execution_count": 89,
     "metadata": {},
     "output_type": "execute_result"
    }
   ],
   "source": [
    "df.groupby('parent').mean().head()"
   ]
  },
  {
   "cell_type": "code",
   "execution_count": 309,
   "metadata": {},
   "outputs": [
    {
     "data": {
      "text/plain": [
       "[50, 44, 70]"
      ]
     },
     "execution_count": 309,
     "metadata": {},
     "output_type": "execute_result"
    }
   ],
   "source": [
    "get_child_weights('zuhkp', data)"
   ]
  },
  {
   "cell_type": "code",
   "execution_count": 308,
   "metadata": {},
   "outputs": [
    {
     "name": "stdout",
     "output_type": "stream",
     "text": [
      "420\n"
     ]
    },
    {
     "data": {
      "text/plain": [
       "4308985"
      ]
     },
     "execution_count": 308,
     "metadata": {},
     "output_type": "execute_result"
    }
   ],
   "source": [
    "for k in data.keys():\n",
    "    if k not in parents and k not in child_nodes:\n",
    "        parent_node = find_parent(k, data)\n",
    "        if parent_node in parents:\n",
    "            parents[parent_node] += data.get(k).get('weight')\n",
    "        else:\n",
    "            parents[parent_node] = data.get(k).get('weight') + data.get(parent_node).get('weight')\n",
    "print(len(parents))\n",
    "parents['eugwuhl']"
   ]
  },
  {
   "cell_type": "code",
   "execution_count": 141,
   "metadata": {},
   "outputs": [
    {
     "data": {
      "text/plain": [
       "75435"
      ]
     },
     "execution_count": 141,
     "metadata": {},
     "output_type": "execute_result"
    }
   ],
   "source": [
    "sum(get_child_weights('eugwuhl', data)) + data['eugwuhl'].get('weight')"
   ]
  },
  {
   "cell_type": "code",
   "execution_count": 142,
   "metadata": {},
   "outputs": [],
   "source": [
    "parent_df = pd.DataFrame.from_dict(parents, orient='index')"
   ]
  },
  {
   "cell_type": "code",
   "execution_count": 143,
   "metadata": {},
   "outputs": [
    {
     "data": {
      "text/html": [
       "<div>\n",
       "<style scoped>\n",
       "    .dataframe tbody tr th:only-of-type {\n",
       "        vertical-align: middle;\n",
       "    }\n",
       "\n",
       "    .dataframe tbody tr th {\n",
       "        vertical-align: top;\n",
       "    }\n",
       "\n",
       "    .dataframe thead th {\n",
       "        text-align: right;\n",
       "    }\n",
       "</style>\n",
       "<table border=\"1\" class=\"dataframe\">\n",
       "  <thead>\n",
       "    <tr style=\"text-align: right;\">\n",
       "      <th></th>\n",
       "      <th>0</th>\n",
       "    </tr>\n",
       "  </thead>\n",
       "  <tbody>\n",
       "    <tr>\n",
       "      <th>ozvtq</th>\n",
       "      <td>314</td>\n",
       "    </tr>\n",
       "    <tr>\n",
       "      <th>hgynpc</th>\n",
       "      <td>372</td>\n",
       "    </tr>\n",
       "    <tr>\n",
       "      <th>fhbjovx</th>\n",
       "      <td>1713</td>\n",
       "    </tr>\n",
       "    <tr>\n",
       "      <th>irgkfsa</th>\n",
       "      <td>155</td>\n",
       "    </tr>\n",
       "    <tr>\n",
       "      <th>kqdus</th>\n",
       "      <td>188</td>\n",
       "    </tr>\n",
       "  </tbody>\n",
       "</table>\n",
       "</div>"
      ],
      "text/plain": [
       "            0\n",
       "ozvtq     314\n",
       "hgynpc    372\n",
       "fhbjovx  1713\n",
       "irgkfsa   155\n",
       "kqdus     188"
      ]
     },
     "execution_count": 143,
     "metadata": {},
     "output_type": "execute_result"
    }
   ],
   "source": [
    "parent_df.head()"
   ]
  },
  {
   "cell_type": "code",
   "execution_count": 247,
   "metadata": {},
   "outputs": [
    {
     "name": "stdout",
     "output_type": "stream",
     "text": [
      "{'weight': 1365, 'children': ['bjdlb', 'ihimta', 'ffejzo']}\n"
     ]
    },
    {
     "data": {
      "text/plain": [
       "[50, 44, 70]"
      ]
     },
     "execution_count": 247,
     "metadata": {},
     "output_type": "execute_result"
    }
   ],
   "source": [
    "print(data['zuhkp'])\n",
    "# parents['zuhkp']\n",
    "get_child_weights('zuhkp', data)"
   ]
  },
  {
   "cell_type": "code",
   "execution_count": 249,
   "metadata": {},
   "outputs": [
    {
     "name": "stdout",
     "output_type": "stream",
     "text": [
      "in child_nodes False in parents True\n",
      "in child_nodes False in parents True\n",
      "in child_nodes False in parents True\n"
     ]
    }
   ],
   "source": [
    "for child in data['zuhkp']['children']:\n",
    "    print(\"in child_nodes\", child in child_nodes, \"in parents\", child in parents)"
   ]
  },
  {
   "cell_type": "code",
   "execution_count": 131,
   "metadata": {},
   "outputs": [
    {
     "data": {
      "text/plain": [
       "True"
      ]
     },
     "execution_count": 131,
     "metadata": {},
     "output_type": "execute_result"
    }
   ],
   "source": [
    "'zuhkp' not in parents and 'zuhkp' not in child_nodes"
   ]
  },
  {
   "cell_type": "code",
   "execution_count": 132,
   "metadata": {},
   "outputs": [
    {
     "data": {
      "text/plain": [
       "'qrxso'"
      ]
     },
     "execution_count": 132,
     "metadata": {},
     "output_type": "execute_result"
    }
   ],
   "source": [
    "find_parent('zuhkp', data)"
   ]
  },
  {
   "cell_type": "code",
   "execution_count": 133,
   "metadata": {},
   "outputs": [
    {
     "data": {
      "text/plain": [
       "11226"
      ]
     },
     "execution_count": 133,
     "metadata": {},
     "output_type": "execute_result"
    }
   ],
   "source": [
    "parents['qrxso']"
   ]
  },
  {
   "cell_type": "code",
   "execution_count": 137,
   "metadata": {},
   "outputs": [
    {
     "data": {
      "text/plain": [
       "True"
      ]
     },
     "execution_count": 137,
     "metadata": {},
     "output_type": "execute_result"
    }
   ],
   "source": [
    "'zuhkp' in data.keys()"
   ]
  },
  {
   "cell_type": "code",
   "execution_count": 327,
   "metadata": {},
   "outputs": [
    {
     "data": {
      "text/plain": [
       "True"
      ]
     },
     "execution_count": 327,
     "metadata": {},
     "output_type": "execute_result"
    }
   ],
   "source": [
    "data.get('aaroa').get('children') == ['']"
   ]
  },
  {
   "cell_type": "code",
   "execution_count": 343,
   "metadata": {},
   "outputs": [],
   "source": [
    "def find_all_children(node, dict_of_nodes):\n",
    "    children = []\n",
    "    for child in dict_of_nodes.get(node).get('children'):\n",
    "        if child == '':\n",
    "            continue\n",
    "        else:\n",
    "            children.extend()\n",
    "    return children"
   ]
  },
  {
   "cell_type": "code",
   "execution_count": 361,
   "metadata": {},
   "outputs": [],
   "source": [
    "def node_weight(node, dict_of_nodes):\n",
    "    weight = dict_of_nodes.get(node).get('weight')\n",
    "    for child in dict_of_nodes.get(node).get('children'):\n",
    "        if child == '':\n",
    "            pass\n",
    "        else:\n",
    "            weight += node_weight(child, dict_of_nodes)\n",
    "    return weight"
   ]
  },
  {
   "cell_type": "code",
   "execution_count": 362,
   "metadata": {},
   "outputs": [
    {
     "data": {
      "text/plain": [
       "1833"
      ]
     },
     "execution_count": 362,
     "metadata": {},
     "output_type": "execute_result"
    }
   ],
   "source": [
    "node_weight('zuhkp', data)"
   ]
  },
  {
   "cell_type": "code",
   "execution_count": 369,
   "metadata": {},
   "outputs": [],
   "source": [
    "weights = {}\n",
    "for key in data:\n",
    "    weights[key] = {'weight': node_weight(key, data)}"
   ]
  },
  {
   "cell_type": "code",
   "execution_count": 389,
   "metadata": {},
   "outputs": [
    {
     "data": {
      "text/html": [
       "<div>\n",
       "<style scoped>\n",
       "    .dataframe tbody tr th:only-of-type {\n",
       "        vertical-align: middle;\n",
       "    }\n",
       "\n",
       "    .dataframe tbody tr th {\n",
       "        vertical-align: top;\n",
       "    }\n",
       "\n",
       "    .dataframe thead th {\n",
       "        text-align: right;\n",
       "    }\n",
       "</style>\n",
       "<table border=\"1\" class=\"dataframe\">\n",
       "  <thead>\n",
       "    <tr style=\"text-align: right;\">\n",
       "      <th></th>\n",
       "      <th>weight</th>\n",
       "    </tr>\n",
       "  </thead>\n",
       "  <tbody>\n",
       "    <tr>\n",
       "      <th>aaeeqh</th>\n",
       "      <td>248</td>\n",
       "    </tr>\n",
       "    <tr>\n",
       "      <th>aaroa</th>\n",
       "      <td>121</td>\n",
       "    </tr>\n",
       "    <tr>\n",
       "      <th>acgef</th>\n",
       "      <td>17</td>\n",
       "    </tr>\n",
       "    <tr>\n",
       "      <th>acrly</th>\n",
       "      <td>75</td>\n",
       "    </tr>\n",
       "    <tr>\n",
       "      <th>actlu</th>\n",
       "      <td>15</td>\n",
       "    </tr>\n",
       "  </tbody>\n",
       "</table>\n",
       "</div>"
      ],
      "text/plain": [
       "        weight\n",
       "aaeeqh     248\n",
       "aaroa      121\n",
       "acgef       17\n",
       "acrly       75\n",
       "actlu       15"
      ]
     },
     "execution_count": 389,
     "metadata": {},
     "output_type": "execute_result"
    }
   ],
   "source": [
    "weight_df = pd.DataFrame.from_dict(weights, orient='index')\n",
    "weight_df.head()"
   ]
  },
  {
   "cell_type": "code",
   "execution_count": 390,
   "metadata": {},
   "outputs": [],
   "source": [
    "weight_df['name'] = weight_df.index"
   ]
  },
  {
   "cell_type": "code",
   "execution_count": 391,
   "metadata": {},
   "outputs": [],
   "source": [
    "weight_df['parent'] = weight_df.name.apply(lambda x: find_parent(x, data))"
   ]
  },
  {
   "cell_type": "code",
   "execution_count": 392,
   "metadata": {},
   "outputs": [
    {
     "data": {
      "text/html": [
       "<div>\n",
       "<style scoped>\n",
       "    .dataframe tbody tr th:only-of-type {\n",
       "        vertical-align: middle;\n",
       "    }\n",
       "\n",
       "    .dataframe tbody tr th {\n",
       "        vertical-align: top;\n",
       "    }\n",
       "\n",
       "    .dataframe thead th {\n",
       "        text-align: right;\n",
       "    }\n",
       "</style>\n",
       "<table border=\"1\" class=\"dataframe\">\n",
       "  <thead>\n",
       "    <tr style=\"text-align: right;\">\n",
       "      <th></th>\n",
       "      <th>weight</th>\n",
       "      <th>name</th>\n",
       "      <th>parent</th>\n",
       "    </tr>\n",
       "  </thead>\n",
       "  <tbody>\n",
       "    <tr>\n",
       "      <th>eugwuhl</th>\n",
       "      <td>338014</td>\n",
       "      <td>eugwuhl</td>\n",
       "      <td>None</td>\n",
       "    </tr>\n",
       "  </tbody>\n",
       "</table>\n",
       "</div>"
      ],
      "text/plain": [
       "         weight     name parent\n",
       "eugwuhl  338014  eugwuhl   None"
      ]
     },
     "execution_count": 392,
     "metadata": {},
     "output_type": "execute_result"
    }
   ],
   "source": [
    "weight_df[weight_df.weight == weight_df.weight.max()]"
   ]
  },
  {
   "cell_type": "code",
   "execution_count": 402,
   "metadata": {},
   "outputs": [],
   "source": [
    "same_weights = weight_df[['parent','weight']].groupby('parent').min() == weight_df[['parent', 'weight']].groupby('parent').max()"
   ]
  },
  {
   "cell_type": "code",
   "execution_count": 415,
   "metadata": {},
   "outputs": [
    {
     "data": {
      "text/html": [
       "<div>\n",
       "<style scoped>\n",
       "    .dataframe tbody tr th:only-of-type {\n",
       "        vertical-align: middle;\n",
       "    }\n",
       "\n",
       "    .dataframe tbody tr th {\n",
       "        vertical-align: top;\n",
       "    }\n",
       "\n",
       "    .dataframe thead th {\n",
       "        text-align: right;\n",
       "    }\n",
       "</style>\n",
       "<table border=\"1\" class=\"dataframe\">\n",
       "  <thead>\n",
       "    <tr style=\"text-align: right;\">\n",
       "      <th></th>\n",
       "      <th>weight</th>\n",
       "    </tr>\n",
       "    <tr>\n",
       "      <th>parent</th>\n",
       "      <th></th>\n",
       "    </tr>\n",
       "  </thead>\n",
       "  <tbody>\n",
       "    <tr>\n",
       "      <th>eugwuhl</th>\n",
       "      <td>False</td>\n",
       "    </tr>\n",
       "    <tr>\n",
       "      <th>hmgrlpj</th>\n",
       "      <td>False</td>\n",
       "    </tr>\n",
       "    <tr>\n",
       "      <th>smaygo</th>\n",
       "      <td>False</td>\n",
       "    </tr>\n",
       "  </tbody>\n",
       "</table>\n",
       "</div>"
      ],
      "text/plain": [
       "         weight\n",
       "parent         \n",
       "eugwuhl   False\n",
       "hmgrlpj   False\n",
       "smaygo    False"
      ]
     },
     "execution_count": 415,
     "metadata": {},
     "output_type": "execute_result"
    }
   ],
   "source": [
    "same_weights[same_weights.weight == False]"
   ]
  },
  {
   "cell_type": "code",
   "execution_count": 423,
   "metadata": {},
   "outputs": [],
   "source": [
    "weight_df['node_weight'] = weight_df.name.apply(lambda x: data[x]['weight'])"
   ]
  },
  {
   "cell_type": "code",
   "execution_count": 424,
   "metadata": {},
   "outputs": [
    {
     "data": {
      "text/html": [
       "<div>\n",
       "<style scoped>\n",
       "    .dataframe tbody tr th:only-of-type {\n",
       "        vertical-align: middle;\n",
       "    }\n",
       "\n",
       "    .dataframe tbody tr th {\n",
       "        vertical-align: top;\n",
       "    }\n",
       "\n",
       "    .dataframe thead th {\n",
       "        text-align: right;\n",
       "    }\n",
       "</style>\n",
       "<table border=\"1\" class=\"dataframe\">\n",
       "  <thead>\n",
       "    <tr style=\"text-align: right;\">\n",
       "      <th></th>\n",
       "      <th>weight</th>\n",
       "      <th>name</th>\n",
       "      <th>parent</th>\n",
       "      <th>node_weight</th>\n",
       "    </tr>\n",
       "  </thead>\n",
       "  <tbody>\n",
       "    <tr>\n",
       "      <th>avpklqy</th>\n",
       "      <td>48284</td>\n",
       "      <td>avpklqy</td>\n",
       "      <td>eugwuhl</td>\n",
       "      <td>68</td>\n",
       "    </tr>\n",
       "    <tr>\n",
       "      <th>bdohoaa</th>\n",
       "      <td>48284</td>\n",
       "      <td>bdohoaa</td>\n",
       "      <td>eugwuhl</td>\n",
       "      <td>18440</td>\n",
       "    </tr>\n",
       "    <tr>\n",
       "      <th>hgizeb</th>\n",
       "      <td>48284</td>\n",
       "      <td>hgizeb</td>\n",
       "      <td>eugwuhl</td>\n",
       "      <td>5324</td>\n",
       "    </tr>\n",
       "    <tr>\n",
       "      <th>pvvbn</th>\n",
       "      <td>48284</td>\n",
       "      <td>pvvbn</td>\n",
       "      <td>eugwuhl</td>\n",
       "      <td>8732</td>\n",
       "    </tr>\n",
       "    <tr>\n",
       "      <th>smaygo</th>\n",
       "      <td>48292</td>\n",
       "      <td>smaygo</td>\n",
       "      <td>eugwuhl</td>\n",
       "      <td>4616</td>\n",
       "    </tr>\n",
       "    <tr>\n",
       "      <th>tchfafn</th>\n",
       "      <td>48284</td>\n",
       "      <td>tchfafn</td>\n",
       "      <td>eugwuhl</td>\n",
       "      <td>31649</td>\n",
       "    </tr>\n",
       "    <tr>\n",
       "      <th>tytbgx</th>\n",
       "      <td>48284</td>\n",
       "      <td>tytbgx</td>\n",
       "      <td>eugwuhl</td>\n",
       "      <td>6588</td>\n",
       "    </tr>\n",
       "  </tbody>\n",
       "</table>\n",
       "</div>"
      ],
      "text/plain": [
       "         weight     name   parent  node_weight\n",
       "avpklqy   48284  avpklqy  eugwuhl           68\n",
       "bdohoaa   48284  bdohoaa  eugwuhl        18440\n",
       "hgizeb    48284   hgizeb  eugwuhl         5324\n",
       "pvvbn     48284    pvvbn  eugwuhl         8732\n",
       "smaygo    48292   smaygo  eugwuhl         4616\n",
       "tchfafn   48284  tchfafn  eugwuhl        31649\n",
       "tytbgx    48284   tytbgx  eugwuhl         6588"
      ]
     },
     "execution_count": 424,
     "metadata": {},
     "output_type": "execute_result"
    }
   ],
   "source": [
    "weight_df[weight_df.parent == 'eugwuhl']"
   ]
  },
  {
   "cell_type": "code",
   "execution_count": 425,
   "metadata": {},
   "outputs": [
    {
     "data": {
      "text/html": [
       "<div>\n",
       "<style scoped>\n",
       "    .dataframe tbody tr th:only-of-type {\n",
       "        vertical-align: middle;\n",
       "    }\n",
       "\n",
       "    .dataframe tbody tr th {\n",
       "        vertical-align: top;\n",
       "    }\n",
       "\n",
       "    .dataframe thead th {\n",
       "        text-align: right;\n",
       "    }\n",
       "</style>\n",
       "<table border=\"1\" class=\"dataframe\">\n",
       "  <thead>\n",
       "    <tr style=\"text-align: right;\">\n",
       "      <th></th>\n",
       "      <th>weight</th>\n",
       "      <th>name</th>\n",
       "      <th>parent</th>\n",
       "      <th>node_weight</th>\n",
       "    </tr>\n",
       "  </thead>\n",
       "  <tbody>\n",
       "    <tr>\n",
       "      <th>fbnbt</th>\n",
       "      <td>14556</td>\n",
       "      <td>fbnbt</td>\n",
       "      <td>smaygo</td>\n",
       "      <td>5262</td>\n",
       "    </tr>\n",
       "    <tr>\n",
       "      <th>hmgrlpj</th>\n",
       "      <td>14564</td>\n",
       "      <td>hmgrlpj</td>\n",
       "      <td>smaygo</td>\n",
       "      <td>66</td>\n",
       "    </tr>\n",
       "    <tr>\n",
       "      <th>nfdvsc</th>\n",
       "      <td>14556</td>\n",
       "      <td>nfdvsc</td>\n",
       "      <td>smaygo</td>\n",
       "      <td>4824</td>\n",
       "    </tr>\n",
       "  </tbody>\n",
       "</table>\n",
       "</div>"
      ],
      "text/plain": [
       "         weight     name  parent  node_weight\n",
       "fbnbt     14556    fbnbt  smaygo         5262\n",
       "hmgrlpj   14564  hmgrlpj  smaygo           66\n",
       "nfdvsc    14556   nfdvsc  smaygo         4824"
      ]
     },
     "execution_count": 425,
     "metadata": {},
     "output_type": "execute_result"
    }
   ],
   "source": [
    "weight_df[weight_df.parent == 'smaygo']"
   ]
  },
  {
   "cell_type": "code",
   "execution_count": 428,
   "metadata": {},
   "outputs": [
    {
     "data": {
      "text/html": [
       "<div>\n",
       "<style scoped>\n",
       "    .dataframe tbody tr th:only-of-type {\n",
       "        vertical-align: middle;\n",
       "    }\n",
       "\n",
       "    .dataframe tbody tr th {\n",
       "        vertical-align: top;\n",
       "    }\n",
       "\n",
       "    .dataframe thead th {\n",
       "        text-align: right;\n",
       "    }\n",
       "</style>\n",
       "<table border=\"1\" class=\"dataframe\">\n",
       "  <thead>\n",
       "    <tr style=\"text-align: right;\">\n",
       "      <th></th>\n",
       "      <th>weight</th>\n",
       "      <th>name</th>\n",
       "      <th>parent</th>\n",
       "      <th>node_weight</th>\n",
       "    </tr>\n",
       "  </thead>\n",
       "  <tbody>\n",
       "    <tr>\n",
       "      <th>ahrfh</th>\n",
       "      <td>2070</td>\n",
       "      <td>ahrfh</td>\n",
       "      <td>hmgrlpj</td>\n",
       "      <td>2040</td>\n",
       "    </tr>\n",
       "    <tr>\n",
       "      <th>drjmjug</th>\n",
       "      <td>2078</td>\n",
       "      <td>drjmjug</td>\n",
       "      <td>hmgrlpj</td>\n",
       "      <td>428</td>\n",
       "    </tr>\n",
       "    <tr>\n",
       "      <th>luasrvp</th>\n",
       "      <td>2070</td>\n",
       "      <td>luasrvp</td>\n",
       "      <td>hmgrlpj</td>\n",
       "      <td>1476</td>\n",
       "    </tr>\n",
       "    <tr>\n",
       "      <th>nigdlq</th>\n",
       "      <td>2070</td>\n",
       "      <td>nigdlq</td>\n",
       "      <td>hmgrlpj</td>\n",
       "      <td>846</td>\n",
       "    </tr>\n",
       "    <tr>\n",
       "      <th>omytneg</th>\n",
       "      <td>2070</td>\n",
       "      <td>omytneg</td>\n",
       "      <td>hmgrlpj</td>\n",
       "      <td>1366</td>\n",
       "    </tr>\n",
       "    <tr>\n",
       "      <th>pnqrgfk</th>\n",
       "      <td>2070</td>\n",
       "      <td>pnqrgfk</td>\n",
       "      <td>hmgrlpj</td>\n",
       "      <td>1707</td>\n",
       "    </tr>\n",
       "    <tr>\n",
       "      <th>tbfce</th>\n",
       "      <td>2070</td>\n",
       "      <td>tbfce</td>\n",
       "      <td>hmgrlpj</td>\n",
       "      <td>5</td>\n",
       "    </tr>\n",
       "  </tbody>\n",
       "</table>\n",
       "</div>"
      ],
      "text/plain": [
       "         weight     name   parent  node_weight\n",
       "ahrfh      2070    ahrfh  hmgrlpj         2040\n",
       "drjmjug    2078  drjmjug  hmgrlpj          428\n",
       "luasrvp    2070  luasrvp  hmgrlpj         1476\n",
       "nigdlq     2070   nigdlq  hmgrlpj          846\n",
       "omytneg    2070  omytneg  hmgrlpj         1366\n",
       "pnqrgfk    2070  pnqrgfk  hmgrlpj         1707\n",
       "tbfce      2070    tbfce  hmgrlpj            5"
      ]
     },
     "execution_count": 428,
     "metadata": {},
     "output_type": "execute_result"
    }
   ],
   "source": [
    "weight_df[weight_df.parent == 'hmgrlpj']"
   ]
  },
  {
   "cell_type": "markdown",
   "metadata": {},
   "source": [
    "'drjmjug' needs to be decreased by 8 to 420\n",
    "\n",
    "That's the right answer! You are one gold star closer to debugging the printer."
   ]
  },
  {
   "cell_type": "code",
   "execution_count": null,
   "metadata": {},
   "outputs": [],
   "source": []
  }
 ],
 "metadata": {
  "kernelspec": {
   "display_name": "Python 3",
   "language": "python",
   "name": "python3"
  },
  "language_info": {
   "codemirror_mode": {
    "name": "ipython",
    "version": 3
   },
   "file_extension": ".py",
   "mimetype": "text/x-python",
   "name": "python",
   "nbconvert_exporter": "python",
   "pygments_lexer": "ipython3",
   "version": "3.6.3"
  }
 },
 "nbformat": 4,
 "nbformat_minor": 2
}
