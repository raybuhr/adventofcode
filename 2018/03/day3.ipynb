{
 "cells": [
  {
   "cell_type": "code",
   "execution_count": 1,
   "metadata": {},
   "outputs": [],
   "source": [
    "with open('input.txt') as file:\n",
    "    data = [d.strip('\\n') for d in file.readlines()]"
   ]
  },
  {
   "cell_type": "code",
   "execution_count": 2,
   "metadata": {},
   "outputs": [],
   "source": [
    "data = {int(d[0].replace('#', '')): d[1] for d in [d.split(' @ ') for d in data]}"
   ]
  },
  {
   "cell_type": "code",
   "execution_count": 3,
   "metadata": {},
   "outputs": [
    {
     "data": {
      "text/plain": [
       "'808,550: 12x22'"
      ]
     },
     "execution_count": 3,
     "metadata": {},
     "output_type": "execute_result"
    }
   ],
   "source": [
    "data[1]"
   ]
  },
  {
   "cell_type": "code",
   "execution_count": 4,
   "metadata": {},
   "outputs": [],
   "source": [
    "def value_from_left(instruction: str):\n",
    "    d = instruction.split(',')\n",
    "    return int(d[0])\n",
    "\n",
    "from_left = [value_from_left(d) for d in data.values()]"
   ]
  },
  {
   "cell_type": "code",
   "execution_count": 5,
   "metadata": {},
   "outputs": [],
   "source": [
    "def value_from_top(instruction: str):\n",
    "    first_split = instruction.split(',')\n",
    "    second_split = first_split[1].split(':')\n",
    "    return int(second_split[0])\n",
    "\n",
    "from_top = [value_from_top(d) for d in data.values()]"
   ]
  },
  {
   "cell_type": "code",
   "execution_count": 6,
   "metadata": {},
   "outputs": [],
   "source": [
    "def small_square_size(instruction: str):\n",
    "    first_split = instruction.split(': ')\n",
    "    second_split = first_split[1].split('x')\n",
    "    return int(second_split[0]), int(second_split[1])\n",
    "\n",
    "small_squares = [small_square_size(d) for d in data.values()]"
   ]
  },
  {
   "cell_type": "code",
   "execution_count": 7,
   "metadata": {},
   "outputs": [],
   "source": [
    "def parse_instruction(instruction: str):\n",
    "    small_square = small_square_size(instruction)\n",
    "    return {\n",
    "        'dist_from_left': value_from_left(instruction),\n",
    "        'dist_from_top': value_from_top(instruction),\n",
    "        'num_right': small_square[0],\n",
    "        'num_down': small_square[1],\n",
    "    }"
   ]
  },
  {
   "cell_type": "code",
   "execution_count": 9,
   "metadata": {},
   "outputs": [],
   "source": [
    "def fabric_positions(dist_from_left: int, dist_from_top: int, num_right: int, num_down: int):\n",
    "    '''Assumes top-left corner is (0, 0)'''\n",
    "    positions = set()\n",
    "    for x in range(dist_from_left, dist_from_left + num_right):\n",
    "        for y in range(dist_from_top, dist_from_top + num_down):\n",
    "            positions.add((x, -y))\n",
    "    return positions"
   ]
  },
  {
   "cell_type": "code",
   "execution_count": 17,
   "metadata": {},
   "outputs": [],
   "source": [
    "instructions = dict(zip(data.keys(), [parse_instruction(i) for i in data.values()]))"
   ]
  },
  {
   "cell_type": "code",
   "execution_count": 18,
   "metadata": {},
   "outputs": [],
   "source": [
    "all_positions = {}\n",
    "for k, v in instructions.items():\n",
    "    all_positions[k] = fabric_positions(**v)"
   ]
  },
  {
   "cell_type": "code",
   "execution_count": 19,
   "metadata": {},
   "outputs": [],
   "source": [
    "unique_positions = {}\n",
    "for vals in all_positions.values():\n",
    "    for pos in vals:\n",
    "        if unique_positions.get(pos) is None:\n",
    "            unique_positions[pos] = 1\n",
    "        else:\n",
    "            unique_positions[pos] += 1"
   ]
  },
  {
   "cell_type": "code",
   "execution_count": 20,
   "metadata": {},
   "outputs": [
    {
     "name": "stdout",
     "output_type": "stream",
     "text": [
      "Part One: 105231\n"
     ]
    }
   ],
   "source": [
    "print('Part One:', len([x for x in unique_positions.values() if x > 1]))"
   ]
  },
  {
   "cell_type": "code",
   "execution_count": 21,
   "metadata": {},
   "outputs": [],
   "source": [
    "def claim_overlaps(claim):\n",
    "    claim_pos = all_positions[claim]\n",
    "    overlaps = []\n",
    "    for k, v in all_positions.items():\n",
    "        if k == claim:\n",
    "            continue\n",
    "        if bool(claim_pos & v):\n",
    "            return True\n",
    "    return False"
   ]
  },
  {
   "cell_type": "code",
   "execution_count": 22,
   "metadata": {},
   "outputs": [
    {
     "name": "stdout",
     "output_type": "stream",
     "text": [
      "Part Two: [164]\n"
     ]
    }
   ],
   "source": [
    "print('Part Two:', [claim for claim in data if not claim_overlaps(claim)])"
   ]
  }
 ],
 "metadata": {
  "kernelspec": {
   "display_name": "Python 3",
   "language": "python",
   "name": "python3"
  },
  "language_info": {
   "codemirror_mode": {
    "name": "ipython",
    "version": 3
   },
   "file_extension": ".py",
   "mimetype": "text/x-python",
   "name": "python",
   "nbconvert_exporter": "python",
   "pygments_lexer": "ipython3",
   "version": "3.7.0"
  }
 },
 "nbformat": 4,
 "nbformat_minor": 2
}
