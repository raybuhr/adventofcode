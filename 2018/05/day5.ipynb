{
 "cells": [
  {
   "cell_type": "code",
   "execution_count": 124,
   "metadata": {},
   "outputs": [],
   "source": [
    "with open('data.txt') as raw_data:\n",
    "    data = raw_data.read()"
   ]
  },
  {
   "cell_type": "code",
   "execution_count": 49,
   "metadata": {},
   "outputs": [],
   "source": [
    "test_string = 'dabAcCaCBAcCcaDA'\n",
    "test_pass = 'dabCBAcaDA'"
   ]
  },
  {
   "cell_type": "code",
   "execution_count": 52,
   "metadata": {},
   "outputs": [],
   "source": [
    "# This failed due to max recursion depth\n",
    "def remove_reaction_recursive(string):\n",
    "    for idx, letter in enumerate(string):\n",
    "        if idx == 0:\n",
    "            continue\n",
    "        if letter != string[idx-1] and letter.lower() == string[idx-1].lower():\n",
    "            new_string = string[:idx-1] + string[idx+1:]\n",
    "            return remove_reaction_recursive(new_string)\n",
    "    return string"
   ]
  },
  {
   "cell_type": "code",
   "execution_count": 54,
   "metadata": {},
   "outputs": [],
   "source": [
    "assert remove_reaction_recursive(test_string) == test_pass"
   ]
  },
  {
   "cell_type": "code",
   "execution_count": 55,
   "metadata": {},
   "outputs": [],
   "source": [
    "def remove_reaction(string):\n",
    "    for idx, letter in enumerate(string):\n",
    "        if idx == 0:\n",
    "            continue\n",
    "        if letter != string[idx-1] and letter.lower() == string[idx-1].lower():\n",
    "            new_string = string[:idx-1] + string[idx+1:]\n",
    "            return new_string\n",
    "    return string"
   ]
  },
  {
   "cell_type": "code",
   "execution_count": 92,
   "metadata": {},
   "outputs": [],
   "source": [
    "# this is just way too slow\n",
    "def remove_reaction_repeated(string):\n",
    "    start_length = len(string)\n",
    "    print('start length:', start_length)\n",
    "    is_not_same_length = True\n",
    "    while_string = string\n",
    "    while is_not_same_length:\n",
    "        start_length = len(while_string)\n",
    "        while_string = remove_reaction(while_string)\n",
    "        current_length = len(while_string)\n",
    "        # print('current length:', current_length)\n",
    "        if current_length == start_length:\n",
    "            is_not_same_length = False\n",
    "    return while_string"
   ]
  },
  {
   "cell_type": "code",
   "execution_count": 94,
   "metadata": {},
   "outputs": [
    {
     "name": "stdout",
     "output_type": "stream",
     "text": [
      "start length: 16\n"
     ]
    }
   ],
   "source": [
    "assert remove_reaction_repeated(test_string) == test_pass"
   ]
  },
  {
   "cell_type": "code",
   "execution_count": 96,
   "metadata": {},
   "outputs": [],
   "source": [
    "# len(remove_reaction_repeated(data))"
   ]
  },
  {
   "cell_type": "code",
   "execution_count": 68,
   "metadata": {},
   "outputs": [],
   "source": [
    "def detect_reactions(string):\n",
    "    rxns = set() # indices of where reactions occur\n",
    "    for idx, letter in enumerate(string):\n",
    "        if idx == 0:\n",
    "            continue\n",
    "        if letter != string[idx-1] and letter.lower() == string[idx-1].lower():\n",
    "            rxns.add(idx-1) \n",
    "            rxns.add(idx)\n",
    "    return rxns"
   ]
  },
  {
   "cell_type": "code",
   "execution_count": 69,
   "metadata": {},
   "outputs": [
    {
     "data": {
      "text/plain": [
       "{4, 5, 10, 11, 12}"
      ]
     },
     "execution_count": 69,
     "metadata": {},
     "output_type": "execute_result"
    }
   ],
   "source": [
    "detect_reactions(test_string)"
   ]
  },
  {
   "cell_type": "code",
   "execution_count": 72,
   "metadata": {},
   "outputs": [],
   "source": [
    "def remove_indices(string: str, remove_indices: list):\n",
    "    keep = [i for j, i in enumerate(string) if j not in remove_indices]\n",
    "    return ''.join(keep)"
   ]
  },
  {
   "cell_type": "code",
   "execution_count": 102,
   "metadata": {},
   "outputs": [
    {
     "name": "stdout",
     "output_type": "stream",
     "text": [
      "dabAcCaCBAcCcaDA\n",
      "dabAaCBAaDA\n"
     ]
    },
    {
     "data": {
      "text/plain": [
       "'dabCBDA'"
      ]
     },
     "execution_count": 102,
     "metadata": {},
     "output_type": "execute_result"
    }
   ],
   "source": [
    "print(test_string)\n",
    "step1 = remove_indices(test_string, detect_reactions(test_string))\n",
    "print(step1)\n",
    "remove_indices(step1, detect_reactions(step1))"
   ]
  },
  {
   "cell_type": "code",
   "execution_count": 103,
   "metadata": {},
   "outputs": [],
   "source": [
    "# no good... remove three in a row, when only want two in a row"
   ]
  },
  {
   "cell_type": "code",
   "execution_count": 106,
   "metadata": {},
   "outputs": [],
   "source": [
    "def remove_negating_units(text):\n",
    "    inital_len = len(text)\n",
    "    for c in set(text):\n",
    "        text = text.replace(c.upper() + c.lower(), '').replace(c.lower() + c.upper(), '')\n",
    "    return inital_len != len(text), text"
   ]
  },
  {
   "cell_type": "code",
   "execution_count": 114,
   "metadata": {},
   "outputs": [],
   "source": [
    "def reduce_polymer(text):\n",
    "    while True:\n",
    "        changed, text = remove_negating_units(text)\n",
    "        if not changed:\n",
    "            break\n",
    "    return len(text)"
   ]
  },
  {
   "cell_type": "code",
   "execution_count": 118,
   "metadata": {},
   "outputs": [
    {
     "name": "stdout",
     "output_type": "stream",
     "text": [
      "Part one: 10584\n"
     ]
    }
   ],
   "source": [
    "print('Part one:', reduce_polymer(data))"
   ]
  },
  {
   "cell_type": "code",
   "execution_count": 109,
   "metadata": {},
   "outputs": [],
   "source": [
    "units = set(data.lower())"
   ]
  },
  {
   "cell_type": "code",
   "execution_count": 116,
   "metadata": {},
   "outputs": [],
   "source": [
    "poly_count = {}\n",
    "for c in units:\n",
    "    new_data = data.replace(c, '').replace(c.upper(), '')\n",
    "    poly_count[c] = reduce_polymer(new_data)"
   ]
  },
  {
   "cell_type": "code",
   "execution_count": 120,
   "metadata": {},
   "outputs": [
    {
     "name": "stdout",
     "output_type": "stream",
     "text": [
      "Part Two: 6968\n"
     ]
    }
   ],
   "source": [
    "print('Part Two:', min(poly_count.values()))"
   ]
  },
  {
   "cell_type": "code",
   "execution_count": null,
   "metadata": {},
   "outputs": [],
   "source": []
  }
 ],
 "metadata": {
  "kernelspec": {
   "display_name": "Python 3",
   "language": "python",
   "name": "python3"
  },
  "language_info": {
   "codemirror_mode": {
    "name": "ipython",
    "version": 3
   },
   "file_extension": ".py",
   "mimetype": "text/x-python",
   "name": "python",
   "nbconvert_exporter": "python",
   "pygments_lexer": "ipython3",
   "version": "3.7.0"
  }
 },
 "nbformat": 4,
 "nbformat_minor": 2
}
