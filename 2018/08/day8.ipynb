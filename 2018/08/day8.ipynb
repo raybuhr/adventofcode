{
 "cells": [
  {
   "cell_type": "code",
   "execution_count": 1,
   "metadata": {},
   "outputs": [],
   "source": [
    "with open('data.txt') as f:\n",
    "    data = f.read().split()\n",
    "    data = [int(d) for d in data]"
   ]
  },
  {
   "cell_type": "code",
   "execution_count": 93,
   "metadata": {},
   "outputs": [],
   "source": [
    "test_data = '2 3 0 3 10 11 12 1 1 0 1 99 2 1 1 2'\n",
    "test_data = test_data.split()\n",
    "test_data = [int(d) for d in test_data]"
   ]
  },
  {
   "cell_type": "markdown",
   "metadata": {},
   "source": [
    "The tree is made up of nodes; a single, outermost node forms the tree's root, and it contains all other nodes in the tree (or contains nodes that contain nodes, and so on).\n",
    "\n",
    "Specifically, a node consists of:\n",
    "\n",
    "A header, which is always exactly two numbers:\n",
    "The quantity of child nodes.\n",
    "The quantity of metadata entries.\n",
    "Zero or more child nodes (as specified in the header).\n",
    "One or more metadata entries (as specified in the header).\n",
    "Each child node is itself a node that has its own header, child nodes, and metadata. For example:\n",
    "\n",
    "```\n",
    "2 3 0 3 10 11 12 1 1 0 1 99 2 1 1 2\n",
    "A----------------------------------\n",
    "    B----------- C-----------\n",
    "                     D-----\n",
    "```\n",
    "In this example, each node of the tree is also marked with an underline starting with a letter for easier identification. In it, there are four nodes:\n",
    "```\n",
    "A, which has 2 child nodes (B, C) and 3 metadata entries (1, 1, 2).\n",
    "B, which has 0 child nodes and 3 metadata entries (10, 11, 12).\n",
    "C, which has 1 child node (D) and 1 metadata entry (2).\n",
    "D, which has 0 child nodes and 1 metadata entry (99).\n",
    "```\n",
    "The first check done on the license file is to simply add up all of the metadata entries. In this example, that sum is 1+1+2+10+11+12+2+99=138.\n",
    "\n",
    "What is the sum of all metadata entries?"
   ]
  },
  {
   "cell_type": "code",
   "execution_count": 94,
   "metadata": {},
   "outputs": [],
   "source": [
    "def process_data(data):\n",
    "    nodes = data[0]\n",
    "    num_metadata = data[1]\n",
    "    data = data[2:]\n",
    "    metadata_total = 0\n",
    "    \n",
    "    for i in range(nodes):\n",
    "        metadata, data = process_data(data)\n",
    "        metadata_total += metadata\n",
    "    \n",
    "    metadata_total += sum(data[:num_metadata])\n",
    "    \n",
    "    if nodes == 0:\n",
    "        return metadata_total, data[num_metadata:]\n",
    "    else:\n",
    "        return metadata_total, data[num_metadata:]"
   ]
  },
  {
   "cell_type": "code",
   "execution_count": 95,
   "metadata": {},
   "outputs": [],
   "source": [
    "assert process_data(test_data) == (138, [])"
   ]
  },
  {
   "cell_type": "code",
   "execution_count": 96,
   "metadata": {},
   "outputs": [
    {
     "name": "stdout",
     "output_type": "stream",
     "text": [
      "Part One: 45618\n"
     ]
    }
   ],
   "source": [
    "print('Part One:', process_data(data)[0])"
   ]
  },
  {
   "cell_type": "code",
   "execution_count": 134,
   "metadata": {},
   "outputs": [],
   "source": [
    "def score_root_node(data, debug=False):\n",
    "    nodes = data[0]\n",
    "    num_metadata = data[1]\n",
    "    data = data[2:]\n",
    "    node_values = []\n",
    "    \n",
    "    for i in range(nodes):\n",
    "        node_vals, data = score_root_node(data)\n",
    "        node_values.append(node_vals)\n",
    "        \n",
    "    def _keep_node_values(node_values, data, num_metadata):\n",
    "        vals = []\n",
    "        for meta in data[:num_metadata]:\n",
    "            if meta > 0 and meta <= len(node_values):\n",
    "                vals.append(node_values[meta - 1])\n",
    "        return vals\n",
    "    \n",
    "    if nodes == 0:\n",
    "        node_val = sum(data[:num_metadata])\n",
    "        new_data = data[num_metadata:]\n",
    "        return node_val, new_data\n",
    "    else:\n",
    "        kept_node_values = _keep_node_values(node_values, data, num_metadata)\n",
    "        if debug:\n",
    "            print('node_values:', node_values, '<|> ', data, ', pick', num_metadata, ', kept:', kept_node_values)\n",
    "        return sum(kept_node_values), data[num_metadata:]"
   ]
  },
  {
   "cell_type": "code",
   "execution_count": 135,
   "metadata": {},
   "outputs": [
    {
     "name": "stdout",
     "output_type": "stream",
     "text": [
      "node_values: [33, 0] <|>  [1, 1, 2] , pick 3 , kept: [33, 33, 0]\n"
     ]
    },
    {
     "data": {
      "text/plain": [
       "(66, [])"
      ]
     },
     "execution_count": 135,
     "metadata": {},
     "output_type": "execute_result"
    }
   ],
   "source": [
    "score_root_node(test_data, debug=True)"
   ]
  },
  {
   "cell_type": "code",
   "execution_count": 136,
   "metadata": {},
   "outputs": [
    {
     "name": "stdout",
     "output_type": "stream",
     "text": [
      "Part Two: 22306\n"
     ]
    }
   ],
   "source": [
    "print('Part Two:', score_root_node(data)[0])"
   ]
  },
  {
   "cell_type": "code",
   "execution_count": null,
   "metadata": {},
   "outputs": [],
   "source": []
  }
 ],
 "metadata": {
  "kernelspec": {
   "display_name": "Python 3",
   "language": "python",
   "name": "python3"
  },
  "language_info": {
   "codemirror_mode": {
    "name": "ipython",
    "version": 3
   },
   "file_extension": ".py",
   "mimetype": "text/x-python",
   "name": "python",
   "nbconvert_exporter": "python",
   "pygments_lexer": "ipython3",
   "version": "3.7.0"
  }
 },
 "nbformat": 4,
 "nbformat_minor": 2
}
