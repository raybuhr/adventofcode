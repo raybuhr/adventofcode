{
 "cells": [
  {
   "cell_type": "code",
   "execution_count": 353,
   "metadata": {},
   "outputs": [],
   "source": [
    "from string import ascii_lowercase"
   ]
  },
  {
   "cell_type": "code",
   "execution_count": 327,
   "metadata": {},
   "outputs": [],
   "source": [
    "test_data = [\n",
    "    'Step C must be finished before step A can begin.',\n",
    "    'Step C must be finished before step F can begin.',\n",
    "    'Step A must be finished before step B can begin.',\n",
    "    'Step A must be finished before step D can begin.',\n",
    "    'Step B must be finished before step E can begin.',\n",
    "    'Step D must be finished before step E can begin.',\n",
    "    'Step F must be finished before step E can begin.',\n",
    "]"
   ]
  },
  {
   "cell_type": "code",
   "execution_count": 328,
   "metadata": {},
   "outputs": [],
   "source": [
    "with open('data.txt') as f:\n",
    "    data = f.read().split('\\n')"
   ]
  },
  {
   "cell_type": "code",
   "execution_count": 329,
   "metadata": {},
   "outputs": [],
   "source": [
    "def process_instruction(text: str):\n",
    "    line = text.lower()\n",
    "    steps = line.split('step ')\n",
    "    return steps[1][0], steps[2][0]"
   ]
  },
  {
   "cell_type": "code",
   "execution_count": 330,
   "metadata": {},
   "outputs": [],
   "source": [
    "test_steps = [process_instruction(text) for text in test_data]\n",
    "steps = [process_instruction(text) for text in data]"
   ]
  },
  {
   "cell_type": "code",
   "execution_count": 331,
   "metadata": {},
   "outputs": [],
   "source": [
    "def unique_nodes(steps):\n",
    "    nodes = []\n",
    "    for step in steps:\n",
    "        a, b = step\n",
    "        nodes.append(a)\n",
    "        nodes.append(b)\n",
    "    return set(nodes)"
   ]
  },
  {
   "cell_type": "code",
   "execution_count": 269,
   "metadata": {},
   "outputs": [],
   "source": [
    "def detect_start(steps, nodes):\n",
    "    start = [n for n in nodes if all(n != child for (_, child) in steps)]\n",
    "    return sorted(start)"
   ]
  },
  {
   "cell_type": "code",
   "execution_count": 280,
   "metadata": {},
   "outputs": [],
   "source": [
    "def process_steps(steps):\n",
    "    step_order = ''\n",
    "    nodes = unique_nodes(steps)\n",
    "    while nodes:\n",
    "        start = detect_start(steps, nodes)\n",
    "        n = start.pop(0)\n",
    "        step_order += n\n",
    "        nodes.remove(n)\n",
    "        steps = [(a, b) for (a, b) in steps if a != n]\n",
    "    return step_order.upper()"
   ]
  },
  {
   "cell_type": "code",
   "execution_count": 281,
   "metadata": {},
   "outputs": [],
   "source": [
    "assert process_steps(test_steps) == 'CABDFE'"
   ]
  },
  {
   "cell_type": "code",
   "execution_count": 282,
   "metadata": {},
   "outputs": [
    {
     "name": "stdout",
     "output_type": "stream",
     "text": [
      "Part One: BGKDMJCNEQRSTUZWHYLPAFIVXO\n"
     ]
    }
   ],
   "source": [
    "part_one_answer = process_steps(steps)\n",
    "assert part_one_answer == 'BGKDMJCNEQRSTUZWHYLPAFIVXO'\n",
    "print('Part One:', part_one_answer)"
   ]
  },
  {
   "cell_type": "code",
   "execution_count": 354,
   "metadata": {},
   "outputs": [],
   "source": [
    "def find_processing_time(step_time):\n",
    "    node_values = {}\n",
    "    for k, v in zip(ascii_lowercase, range(1, 27)):\n",
    "        node_values[k] = v + step_time\n",
    "    return node_values"
   ]
  },
  {
   "cell_type": "code",
   "execution_count": 364,
   "metadata": {},
   "outputs": [],
   "source": [
    "def process_steps_workers(steps, workers=5, step_time=60, debug=False):\n",
    "    step_order = ''\n",
    "    nodes = unique_nodes(steps)\n",
    "    node_values = find_processing_time(step_time)\n",
    "    \n",
    "    current_time = 0\n",
    "    workers_busy = [0] * workers\n",
    "    work_queue = [None] * workers\n",
    "    \n",
    "    while nodes or sum(workers_busy) > 0:\n",
    "        start = detect_start(steps, nodes)\n",
    "        for i in range(workers):\n",
    "            \n",
    "            # do one unit of work\n",
    "            if workers_busy[i] > 0:\n",
    "                workers_busy[i] -= 1\n",
    "            \n",
    "            if workers_busy[i] == 0:\n",
    "                \n",
    "                if work_queue[i] is not None:\n",
    "                    # prep the queue for next round\n",
    "                    steps = [(a, b) for (a, b) in steps if a != work_queue[i]]\n",
    "                    # count any letter finished\n",
    "                    if work_queue[i] not in step_order:\n",
    "                        step_order += work_queue[i]\n",
    "                \n",
    "                # assign work if possible\n",
    "                if len(start) > 0:\n",
    "                    n = start.pop(0)\n",
    "                    work_queue[i] = n\n",
    "                    workers_busy[i] = node_values[n] - 1\n",
    "                    nodes.remove(n)\n",
    "            \n",
    "        if debug:\n",
    "            print(current_time, workers_busy, work_queue, step_order)\n",
    "        current_time += 1\n",
    "    return step_order.upper(), current_time"
   ]
  },
  {
   "cell_type": "code",
   "execution_count": 366,
   "metadata": {},
   "outputs": [
    {
     "name": "stdout",
     "output_type": "stream",
     "text": [
      "0 [2, 0] ['c', None] \n",
      "1 [1, 0] ['c', None] \n",
      "2 [0, 0] ['c', None] c\n",
      "3 [0, 5] ['a', 'f'] c\n",
      "4 [0, 4] ['a', 'f'] ca\n",
      "5 [1, 3] ['b', 'f'] ca\n",
      "6 [3, 2] ['d', 'f'] cab\n",
      "7 [2, 1] ['d', 'f'] cab\n",
      "8 [1, 0] ['d', 'f'] cabf\n",
      "9 [0, 0] ['d', 'f'] cabfd\n",
      "10 [4, 0] ['e', 'f'] cabfd\n",
      "11 [3, 0] ['e', 'f'] cabfd\n",
      "12 [2, 0] ['e', 'f'] cabfd\n",
      "13 [1, 0] ['e', 'f'] cabfd\n",
      "14 [0, 0] ['e', 'f'] cabfde\n"
     ]
    }
   ],
   "source": [
    "assert process_steps_workers(test_steps, workers=2, step_time=0, debug=True) == ('CABFDE', 15)"
   ]
  },
  {
   "cell_type": "code",
   "execution_count": 367,
   "metadata": {},
   "outputs": [
    {
     "data": {
      "text/plain": [
       "('BQRGMKJSZDCNWYETHULPAFIVXO', 941)"
      ]
     },
     "execution_count": 367,
     "metadata": {},
     "output_type": "execute_result"
    }
   ],
   "source": [
    "process_steps_workers(steps, workers=5, step_time=60)"
   ]
  },
  {
   "cell_type": "code",
   "execution_count": null,
   "metadata": {},
   "outputs": [],
   "source": []
  }
 ],
 "metadata": {
  "kernelspec": {
   "display_name": "Python 3",
   "language": "python",
   "name": "python3"
  },
  "language_info": {
   "codemirror_mode": {
    "name": "ipython",
    "version": 3
   },
   "file_extension": ".py",
   "mimetype": "text/x-python",
   "name": "python",
   "nbconvert_exporter": "python",
   "pygments_lexer": "ipython3",
   "version": "3.7.0"
  }
 },
 "nbformat": 4,
 "nbformat_minor": 2
}
