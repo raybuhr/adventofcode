{
 "cells": [
  {
   "cell_type": "code",
   "execution_count": 1,
   "metadata": {},
   "outputs": [],
   "source": [
    "with open('data.txt') as f:\n",
    "    data_all = f.read().split('\\n\\n')"
   ]
  },
  {
   "cell_type": "code",
   "execution_count": 2,
   "metadata": {},
   "outputs": [
    {
     "data": {
      "text/plain": [
       "813"
      ]
     },
     "execution_count": 2,
     "metadata": {},
     "output_type": "execute_result"
    }
   ],
   "source": [
    "len(data_all)"
   ]
  },
  {
   "cell_type": "code",
   "execution_count": 76,
   "metadata": {},
   "outputs": [],
   "source": [
    "def parse_sample(sample: str):\n",
    "    data = sample.split('\\n')\n",
    "    before = data[0].replace('Before: [', '').replace(']', '').split(', ')\n",
    "    instruction = data[1].split()\n",
    "    after = data[2].replace('After:  [', '').replace(']', '').split(', ')\n",
    "    return {\n",
    "        \"register\": [int(b) for b in before], \n",
    "        \"instruction\": [int(i) for i in instruction], \n",
    "        \"result\": [int(a) for a in after]\n",
    "    }"
   ]
  },
  {
   "cell_type": "code",
   "execution_count": 77,
   "metadata": {},
   "outputs": [],
   "source": [
    "class opcode:\n",
    "    def __init__(self, register, instruction):\n",
    "        self.register = register\n",
    "        self.instruction = instruction\n",
    "        \n",
    "    def addr(self):\n",
    "        a = self.register[self.instruction[1]]\n",
    "        b = self.register[self.instruction[2]]\n",
    "        out = self.register.copy()\n",
    "        out[self.instruction[3]] = a + b\n",
    "        return out\n",
    "    \n",
    "    def addi(self):\n",
    "        a = self.register[self.instruction[1]]\n",
    "        b = self.instruction[2]\n",
    "        out = self.register.copy()\n",
    "        out[self.instruction[3]] = a + b\n",
    "        return out\n",
    "    \n",
    "    def mulr(self):\n",
    "        a = self.register[self.instruction[1]]\n",
    "        b = self.register[self.instruction[2]]\n",
    "        out = self.register.copy()\n",
    "        out[self.instruction[3]] = a * b\n",
    "        return out\n",
    "        \n",
    "    def muli(self):\n",
    "        a = self.register[self.instruction[1]]\n",
    "        b = self.instruction[2]\n",
    "        out = self.register.copy()\n",
    "        out[self.instruction[3]] = a * b\n",
    "        return out\n",
    "    \n",
    "    def banr(self):\n",
    "        a = self.register[self.instruction[1]]\n",
    "        b = self.register[self.instruction[2]]\n",
    "        out = self.register.copy()\n",
    "        out[self.instruction[3]] = a & b\n",
    "        return out\n",
    "        \n",
    "    def bani(self):\n",
    "        a = self.register[self.instruction[1]]\n",
    "        b = self.instruction[2]\n",
    "        out = self.register.copy()\n",
    "        out[self.instruction[3]] = a & b\n",
    "        return out\n",
    "    \n",
    "    def borr(self):\n",
    "        a = self.register[self.instruction[1]]\n",
    "        b = self.register[self.instruction[2]]\n",
    "        out = self.register.copy()\n",
    "        out[self.instruction[3]] = a | b\n",
    "        return out\n",
    "        \n",
    "    def bori(self):\n",
    "        a = self.register[self.instruction[1]]\n",
    "        b = self.instruction[2]\n",
    "        out = self.register.copy()\n",
    "        out[self.instruction[3]] = a | b\n",
    "        return out\n",
    "    \n",
    "    def setr(self):\n",
    "        a = self.register[self.instruction[1]]\n",
    "        out = self.register.copy()\n",
    "        out[self.instruction[3]] = a\n",
    "        return out\n",
    "    \n",
    "    def seti(self):\n",
    "        a = self.instruction[1]\n",
    "        out = self.register.copy()\n",
    "        out[self.instruction[3]] = a\n",
    "        return out\n",
    "    \n",
    "    def gtir(self):\n",
    "        a = self.instruction[1]\n",
    "        b = self.register[self.instruction[2]]\n",
    "        out = self.register.copy()\n",
    "        if a > b:\n",
    "            out[self.instruction[3]] = 1\n",
    "        else:\n",
    "            out[self.instruction[3]] = 0\n",
    "        return out\n",
    "    \n",
    "    def gtri(self):\n",
    "        a = self.register[self.instruction[1]]\n",
    "        b = self.instruction[2]\n",
    "        out = self.register.copy()\n",
    "        if a > b:\n",
    "            out[self.instruction[3]] = 1\n",
    "        else:\n",
    "            out[self.instruction[3]] = 0\n",
    "        return out\n",
    "    \n",
    "    def gtrr(self):\n",
    "        a = self.register[self.instruction[1]]\n",
    "        b = self.register[self.instruction[2]]\n",
    "        out = self.register.copy()\n",
    "        if a > b:\n",
    "            out[self.instruction[3]] = 1\n",
    "        else:\n",
    "            out[self.instruction[3]] = 0\n",
    "        return out\n",
    "    \n",
    "    def eqir(self):\n",
    "        a = self.instruction[1]\n",
    "        b = self.register[self.instruction[2]]\n",
    "        out = self.register.copy()\n",
    "        if a == b:\n",
    "            out[self.instruction[3]] = 1\n",
    "        else:\n",
    "            out[self.instruction[3]] = 0\n",
    "        return out\n",
    "    \n",
    "    def eqri(self):\n",
    "        a = self.register[self.instruction[1]]\n",
    "        b = self.instruction[2]\n",
    "        out = self.register.copy()\n",
    "        if a == b:\n",
    "            out[self.instruction[3]] = 1\n",
    "        else:\n",
    "            out[self.instruction[3]] = 0\n",
    "        return out\n",
    "    \n",
    "    def eqrr(self):\n",
    "        a = self.register[self.instruction[1]]\n",
    "        b = self.register[self.instruction[2]]\n",
    "        out = self.register.copy()\n",
    "        if a == b:\n",
    "            out[self.instruction[3]] = 1\n",
    "        else:\n",
    "            out[self.instruction[3]] = 0\n",
    "        return out"
   ]
  },
  {
   "cell_type": "code",
   "execution_count": 80,
   "metadata": {},
   "outputs": [
    {
     "data": {
      "text/plain": [
       "{'register': [3, 2, 1, 1], 'instruction': [9, 2, 1, 2], 'result': [3, 2, 2, 1]}"
      ]
     },
     "execution_count": 80,
     "metadata": {},
     "output_type": "execute_result"
    }
   ],
   "source": [
    "test_case = parse_sample(\"\"\"Before: [3, 2, 1, 1]\n",
    "9 2 1 2\n",
    "After:  [3, 2, 2, 1]\"\"\")\n",
    "test_case"
   ]
  },
  {
   "cell_type": "code",
   "execution_count": 82,
   "metadata": {},
   "outputs": [],
   "source": [
    "t = opcode(register=test_case.get('register'), instruction=test_case.get('instruction'))"
   ]
  },
  {
   "cell_type": "code",
   "execution_count": 84,
   "metadata": {},
   "outputs": [],
   "source": [
    "assert t.addi() == test_case.get('result')\n",
    "assert t.mulr() == test_case.get('result')\n",
    "assert t.seti() == test_case.get('result')"
   ]
  },
  {
   "cell_type": "code",
   "execution_count": 85,
   "metadata": {},
   "outputs": [],
   "source": [
    "def test_all_opcodes(register, instruction, result):\n",
    "    oc = opcode(register=register, instruction=instruction)\n",
    "    same = []\n",
    "    for meth in ['addi', 'addr', 'bani', 'banr', \n",
    "                 'bori', 'borr', 'eqir', 'eqri', \n",
    "                 'eqrr', 'gtir', 'gtri', 'gtrr', \n",
    "                 'muli','mulr', 'seti', 'setr']:\n",
    "        if eval(\"oc.\" + meth + \"()\") == result:\n",
    "            same.append(meth)\n",
    "    return same"
   ]
  },
  {
   "cell_type": "code",
   "execution_count": 86,
   "metadata": {},
   "outputs": [
    {
     "data": {
      "text/plain": [
       "['addi', 'mulr', 'seti']"
      ]
     },
     "execution_count": 86,
     "metadata": {},
     "output_type": "execute_result"
    }
   ],
   "source": [
    "test_all_opcodes(**test_case)"
   ]
  },
  {
   "cell_type": "code",
   "execution_count": 87,
   "metadata": {},
   "outputs": [],
   "source": [
    "samples = data_all[:-2]"
   ]
  },
  {
   "cell_type": "code",
   "execution_count": 88,
   "metadata": {},
   "outputs": [
    {
     "name": "stdout",
     "output_type": "stream",
     "text": [
      "Part One: 560\n"
     ]
    }
   ],
   "source": [
    "parsed_samples = [parse_sample(s) for s in samples]\n",
    "sample_codes = [test_all_opcodes(**s) for s in parsed_samples]\n",
    "print(\"Part One:\", len([s for s in sample_codes if len(s) >= 3]))"
   ]
  },
  {
   "cell_type": "code",
   "execution_count": 151,
   "metadata": {},
   "outputs": [],
   "source": [
    "only_one_option = [(s, parsed_samples[i]) for i, s in enumerate(sample_codes) if len(s) == 1]"
   ]
  },
  {
   "cell_type": "code",
   "execution_count": 152,
   "metadata": {},
   "outputs": [
    {
     "data": {
      "text/plain": [
       "{'muli': 8}"
      ]
     },
     "execution_count": 152,
     "metadata": {},
     "output_type": "execute_result"
    }
   ],
   "source": [
    "solved = [{o[0][0]: o[1]['instruction'][0]} for o in only_one_option[:1]][0]\n",
    "solved"
   ]
  },
  {
   "cell_type": "code",
   "execution_count": 153,
   "metadata": {},
   "outputs": [],
   "source": [
    "codes = ['addi', 'addr', 'bani', 'banr', 'bori', 'borr', 'eqir', 'eqri', \n",
    "         'eqrr', 'gtir', 'gtri', 'gtrr', 'muli','mulr', 'seti', 'setr']"
   ]
  },
  {
   "cell_type": "code",
   "execution_count": 154,
   "metadata": {},
   "outputs": [],
   "source": [
    "only_two_options = [(s, parsed_samples[i]) for i, s in enumerate(sample_codes) if len(s) == 2]"
   ]
  },
  {
   "cell_type": "code",
   "execution_count": 155,
   "metadata": {},
   "outputs": [],
   "source": [
    "rd2 = [(o[0], o[1]['instruction'][0]) for o in only_two_options if 'muli' in o[0]]\n",
    "\n",
    "for c, k in rd2:\n",
    "    for o in c:\n",
    "        if o in solved.keys():\n",
    "            continue\n",
    "        solved[o] = k"
   ]
  },
  {
   "cell_type": "code",
   "execution_count": 156,
   "metadata": {},
   "outputs": [
    {
     "data": {
      "text/plain": [
       "{'muli': 8, 'addi': 15, 'bori': 6}"
      ]
     },
     "execution_count": 156,
     "metadata": {},
     "output_type": "execute_result"
    }
   ],
   "source": [
    "solved"
   ]
  },
  {
   "cell_type": "code",
   "execution_count": 157,
   "metadata": {},
   "outputs": [],
   "source": [
    "remaining = [(sample_codes[i], p) for i, p in enumerate(parsed_samples) \n",
    "             if p['instruction'][0] not in solved.values()]"
   ]
  },
  {
   "cell_type": "code",
   "execution_count": 159,
   "metadata": {},
   "outputs": [
    {
     "data": {
      "text/plain": [
       "656"
      ]
     },
     "execution_count": 159,
     "metadata": {},
     "output_type": "execute_result"
    }
   ],
   "source": [
    "len(remaining)"
   ]
  },
  {
   "cell_type": "code",
   "execution_count": 160,
   "metadata": {},
   "outputs": [],
   "source": [
    "only_three_options = [(s, parsed_samples[i]) for i, s in enumerate(sample_codes) if len(s) == 3]"
   ]
  },
  {
   "cell_type": "code",
   "execution_count": 161,
   "metadata": {},
   "outputs": [],
   "source": [
    "rd3 = [(o[0], o[1]['instruction'][0]) for o in only_three_options]"
   ]
  },
  {
   "cell_type": "code",
   "execution_count": 162,
   "metadata": {},
   "outputs": [],
   "source": [
    "for c, k in rd3:\n",
    "    counter = 0\n",
    "    for o in c:\n",
    "        if o in solved.keys():\n",
    "            counter += 1\n",
    "        if counter >= 2 and o not in solved.keys():\n",
    "            solved[o] = k"
   ]
  },
  {
   "cell_type": "code",
   "execution_count": 163,
   "metadata": {},
   "outputs": [
    {
     "data": {
      "text/plain": [
       "{'muli': 8, 'addi': 15, 'bori': 6, 'borr': 5}"
      ]
     },
     "execution_count": 163,
     "metadata": {},
     "output_type": "execute_result"
    }
   ],
   "source": [
    "solved"
   ]
  },
  {
   "cell_type": "code",
   "execution_count": 176,
   "metadata": {},
   "outputs": [
    {
     "data": {
      "text/plain": [
       "597"
      ]
     },
     "execution_count": 176,
     "metadata": {},
     "output_type": "execute_result"
    }
   ],
   "source": [
    "def get_remaining(sample_codes, parsed_samples):\n",
    "    return [\n",
    "        (sample_codes[i], p) for i, p in enumerate(parsed_samples)\n",
    "        if p['instruction'][0] not in solved.values()\n",
    "    ]\n",
    "len(get_remaining(sample_codes, parsed_samples))"
   ]
  },
  {
   "cell_type": "code",
   "execution_count": 181,
   "metadata": {},
   "outputs": [],
   "source": [
    "def solve_one_option(option, solved):\n",
    "    possible = [x for x in option[0] if x not in solved.keys()]\n",
    "    if len(possible) == 1:\n",
    "        if possible[0] not in solved.keys():\n",
    "            solved[possible[0]] = option[1]['instruction'][0]\n",
    "    return solved"
   ]
  },
  {
   "cell_type": "code",
   "execution_count": 182,
   "metadata": {},
   "outputs": [],
   "source": [
    "remaining = get_remaining(sample_codes, parsed_samples)\n",
    "for option in remaining:\n",
    "    solve_one_option(option, solved)"
   ]
  },
  {
   "cell_type": "code",
   "execution_count": 184,
   "metadata": {},
   "outputs": [
    {
     "data": {
      "text/plain": [
       "16"
      ]
     },
     "execution_count": 184,
     "metadata": {},
     "output_type": "execute_result"
    }
   ],
   "source": [
    "len(solved)"
   ]
  },
  {
   "cell_type": "code",
   "execution_count": 185,
   "metadata": {},
   "outputs": [
    {
     "data": {
      "text/plain": [
       "{'muli': 8,\n",
       " 'addi': 15,\n",
       " 'bori': 6,\n",
       " 'borr': 5,\n",
       " 'addr': 13,\n",
       " 'gtir': 14,\n",
       " 'mulr': 10,\n",
       " 'seti': 2,\n",
       " 'banr': 7,\n",
       " 'setr': 12,\n",
       " 'bani': 0,\n",
       " 'eqri': 9,\n",
       " 'eqir': 3,\n",
       " 'gtrr': 11,\n",
       " 'gtri': 1,\n",
       " 'eqrr': 4}"
      ]
     },
     "execution_count": 185,
     "metadata": {},
     "output_type": "execute_result"
    }
   ],
   "source": [
    "solved"
   ]
  },
  {
   "cell_type": "code",
   "execution_count": 188,
   "metadata": {},
   "outputs": [],
   "source": [
    "assert list(set(solved.values())) == list(range(16))"
   ]
  },
  {
   "cell_type": "code",
   "execution_count": 193,
   "metadata": {},
   "outputs": [
    {
     "data": {
      "text/plain": [
       "{8: 'muli',\n",
       " 15: 'addi',\n",
       " 6: 'bori',\n",
       " 5: 'borr',\n",
       " 13: 'addr',\n",
       " 14: 'gtir',\n",
       " 10: 'mulr',\n",
       " 2: 'seti',\n",
       " 7: 'banr',\n",
       " 12: 'setr',\n",
       " 0: 'bani',\n",
       " 9: 'eqri',\n",
       " 3: 'eqir',\n",
       " 11: 'gtrr',\n",
       " 1: 'gtri',\n",
       " 4: 'eqrr'}"
      ]
     },
     "execution_count": 193,
     "metadata": {},
     "output_type": "execute_result"
    }
   ],
   "source": [
    "lookup = {}\n",
    "for k, v in solved.items():\n",
    "    lookup[v] = k\n",
    "lookup"
   ]
  },
  {
   "cell_type": "code",
   "execution_count": 194,
   "metadata": {},
   "outputs": [],
   "source": [
    "registers = [0, 0, 0, 0]"
   ]
  },
  {
   "cell_type": "code",
   "execution_count": 210,
   "metadata": {},
   "outputs": [
    {
     "data": {
      "text/plain": [
       "1020"
      ]
     },
     "execution_count": 210,
     "metadata": {},
     "output_type": "execute_result"
    }
   ],
   "source": [
    "test_program = [s.split() for s in data_all[-1].split('\\n')]\n",
    "test_program = [[int(x) for x in sublist] for sublist in test_program]\n",
    "len(test_program)"
   ]
  },
  {
   "cell_type": "code",
   "execution_count": 211,
   "metadata": {},
   "outputs": [
    {
     "data": {
      "text/plain": [
       "[[2, 0, 1, 1], [2, 2, 2, 3], [2, 0, 0, 2]]"
      ]
     },
     "execution_count": 211,
     "metadata": {},
     "output_type": "execute_result"
    }
   ],
   "source": [
    "test_program[:3]"
   ]
  },
  {
   "cell_type": "code",
   "execution_count": 201,
   "metadata": {},
   "outputs": [],
   "source": [
    "def run_test_program(registers, test_program):\n",
    "    m = lookup[test_program[0]]\n",
    "    oc = opcode(register=registers, instruction=test_program)\n",
    "    new_register = eval(\"oc.\" + m + \"()\")\n",
    "    return new_register"
   ]
  },
  {
   "cell_type": "code",
   "execution_count": 205,
   "metadata": {},
   "outputs": [
    {
     "data": {
      "text/plain": [
       "[3, 2, 1, 1]"
      ]
     },
     "execution_count": 205,
     "metadata": {},
     "output_type": "execute_result"
    }
   ],
   "source": [
    "run_test_program(registers=test_case['register'], test_program=test_case['instruction'])"
   ]
  },
  {
   "cell_type": "code",
   "execution_count": 212,
   "metadata": {},
   "outputs": [],
   "source": [
    "for tp in test_program:\n",
    "    registers = run_test_program(registers, tp)"
   ]
  },
  {
   "cell_type": "code",
   "execution_count": 213,
   "metadata": {},
   "outputs": [
    {
     "data": {
      "text/plain": [
       "[622, 0, 622, 1]"
      ]
     },
     "execution_count": 213,
     "metadata": {},
     "output_type": "execute_result"
    }
   ],
   "source": [
    "registers"
   ]
  },
  {
   "cell_type": "code",
   "execution_count": null,
   "metadata": {},
   "outputs": [],
   "source": []
  }
 ],
 "metadata": {
  "kernelspec": {
   "display_name": "Python 3",
   "language": "python",
   "name": "python3"
  },
  "language_info": {
   "codemirror_mode": {
    "name": "ipython",
    "version": 3
   },
   "file_extension": ".py",
   "mimetype": "text/x-python",
   "name": "python",
   "nbconvert_exporter": "python",
   "pygments_lexer": "ipython3",
   "version": "3.7.0"
  }
 },
 "nbformat": 4,
 "nbformat_minor": 2
}
