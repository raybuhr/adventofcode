{
 "cells": [
  {
   "cell_type": "code",
   "execution_count": 63,
   "metadata": {},
   "outputs": [],
   "source": [
    "data = 6548"
   ]
  },
  {
   "cell_type": "code",
   "execution_count": 7,
   "metadata": {},
   "outputs": [],
   "source": [
    "test_cases = [\n",
    "#     \"Fuel cell at  122,79, grid serial number 57: power level -5.\"\n",
    "    [(122, 79, 57), -5],\n",
    "#     \"Fuel cell at 217,196, grid serial number 39: power level  0.\"\n",
    "    [(217, 196, 39), 0],\n",
    "#     \"Fuel cell at 101,153, grid serial number 71: power level  4.\"\n",
    "    [(101, 153, 71), 4],\n",
    "\n",
    "]"
   ]
  },
  {
   "cell_type": "markdown",
   "metadata": {},
   "source": [
    "- Find the fuel cell's rack ID, which is its X coordinate plus 10.\n",
    "- Begin with a power level of the rack ID times the Y coordinate.\n",
    "- Increase the power level by the value of the grid serial number (your puzzle input).\n",
    "- Set the power level to itself multiplied by the rack ID.\n",
    "- Keep only the hundreds digit of the power level (so 12345 becomes 3; numbers with no hundreds digit become 0).\n",
    "- Subtract 5 from the power level."
   ]
  },
  {
   "cell_type": "code",
   "execution_count": 21,
   "metadata": {},
   "outputs": [],
   "source": [
    "def determine_power(x, y, serial_number):\n",
    "    rack_id = x + 10\n",
    "    power = rack_id * y + serial_number\n",
    "    power = power * rack_id\n",
    "    power = str(power)\n",
    "    if len(power) < 3:\n",
    "        return -5\n",
    "    return int(power[-3]) - 5"
   ]
  },
  {
   "cell_type": "code",
   "execution_count": 24,
   "metadata": {},
   "outputs": [],
   "source": [
    "for test in test_cases:\n",
    "    inputs, ans = test\n",
    "    x, y, serial_number = inputs\n",
    "    assert ans == determine_power(x, y, serial_number)"
   ]
  },
  {
   "cell_type": "code",
   "execution_count": 25,
   "metadata": {},
   "outputs": [],
   "source": [
    "import numpy as np"
   ]
  },
  {
   "cell_type": "code",
   "execution_count": 27,
   "metadata": {},
   "outputs": [],
   "source": [
    "grid = np.zeros((300, 300))"
   ]
  },
  {
   "cell_type": "code",
   "execution_count": 58,
   "metadata": {},
   "outputs": [],
   "source": [
    "def compute_power_grid(serial_number):\n",
    "    grid = np.zeros((300, 300))\n",
    "    for i in range(300):\n",
    "        for j in range(300):\n",
    "            grid[i, j] = determine_power(i+1, j+1, serial_number)\n",
    "    return grid"
   ]
  },
  {
   "cell_type": "code",
   "execution_count": 129,
   "metadata": {},
   "outputs": [],
   "source": [
    "def max_power(power_grid, size=3):\n",
    "    current_max = -999999999\n",
    "    best_cell = (0, 0)\n",
    "    for i in range(power_grid.shape[0] - size + 1):\n",
    "        for j in range(power_grid.shape[1] - size + 1):\n",
    "            new_max = power_grid[i:i+size, j:j+size].sum()\n",
    "            if new_max > current_max:\n",
    "                current_max = new_max\n",
    "                best_cell = (i+1, j+1)\n",
    "    return best_cell, current_max"
   ]
  },
  {
   "cell_type": "code",
   "execution_count": 130,
   "metadata": {},
   "outputs": [
    {
     "data": {
      "text/plain": [
       "((33, 45), 29.0)"
      ]
     },
     "execution_count": 130,
     "metadata": {},
     "output_type": "execute_result"
    }
   ],
   "source": [
    "max_power(compute_power_grid(18))"
   ]
  },
  {
   "cell_type": "code",
   "execution_count": 131,
   "metadata": {},
   "outputs": [
    {
     "data": {
      "text/plain": [
       "((21, 61), 30.0)"
      ]
     },
     "execution_count": 131,
     "metadata": {},
     "output_type": "execute_result"
    }
   ],
   "source": [
    "max_power(compute_power_grid(42))"
   ]
  },
  {
   "cell_type": "code",
   "execution_count": 132,
   "metadata": {},
   "outputs": [
    {
     "data": {
      "text/plain": [
       "((21, 53), 29.0)"
      ]
     },
     "execution_count": 132,
     "metadata": {},
     "output_type": "execute_result"
    }
   ],
   "source": [
    "max_power(compute_power_grid(data))"
   ]
  },
  {
   "cell_type": "code",
   "execution_count": 133,
   "metadata": {},
   "outputs": [
    {
     "data": {
      "text/plain": [
       "((90, 269), 113.0)"
      ]
     },
     "execution_count": 133,
     "metadata": {},
     "output_type": "execute_result"
    }
   ],
   "source": [
    "max_power(compute_power_grid(18), size=16)"
   ]
  },
  {
   "cell_type": "code",
   "execution_count": 134,
   "metadata": {},
   "outputs": [
    {
     "data": {
      "text/plain": [
       "((232, 251), 119.0)"
      ]
     },
     "execution_count": 134,
     "metadata": {},
     "output_type": "execute_result"
    }
   ],
   "source": [
    "max_power(compute_power_grid(42), size=12)"
   ]
  },
  {
   "cell_type": "code",
   "execution_count": 136,
   "metadata": {},
   "outputs": [],
   "source": [
    "from tqdm import tqdm"
   ]
  },
  {
   "cell_type": "code",
   "execution_count": 137,
   "metadata": {},
   "outputs": [
    {
     "name": "stderr",
     "output_type": "stream",
     "text": [
      "100%|██████████| 300/300 [09:19<00:00,  2.67it/s]\n"
     ]
    }
   ],
   "source": [
    "power_level_map = {}\n",
    "power_levels = np.zeros((300))\n",
    "for s in tqdm(range(1, 300+1)):\n",
    "    pos, mp = max_power(compute_power_grid(data), size=s)\n",
    "    power_level_map[s] = {'cell': pos, 'power': mp}\n",
    "    power_levels[s-1] = mp"
   ]
  },
  {
   "cell_type": "code",
   "execution_count": 138,
   "metadata": {},
   "outputs": [],
   "source": [
    "best_size = power_levels.argmax() + 1"
   ]
  },
  {
   "cell_type": "code",
   "execution_count": 144,
   "metadata": {},
   "outputs": [
    {
     "data": {
      "text/plain": [
       "((233, 250), 12)"
      ]
     },
     "execution_count": 144,
     "metadata": {},
     "output_type": "execute_result"
    }
   ],
   "source": [
    "power_level_map[best_size]['cell'], best_size"
   ]
  },
  {
   "cell_type": "code",
   "execution_count": null,
   "metadata": {},
   "outputs": [],
   "source": []
  }
 ],
 "metadata": {
  "kernelspec": {
   "display_name": "Python 3",
   "language": "python",
   "name": "python3"
  },
  "language_info": {
   "codemirror_mode": {
    "name": "ipython",
    "version": 3
   },
   "file_extension": ".py",
   "mimetype": "text/x-python",
   "name": "python",
   "nbconvert_exporter": "python",
   "pygments_lexer": "ipython3",
   "version": "3.7.0"
  }
 },
 "nbformat": 4,
 "nbformat_minor": 2
}
