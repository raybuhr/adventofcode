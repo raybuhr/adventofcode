{
 "cells": [
  {
   "cell_type": "code",
   "execution_count": 3,
   "metadata": {},
   "outputs": [],
   "source": [
    "with open('data.txt') as f:\n",
    "    data = f.read().split('\\n')"
   ]
  },
  {
   "cell_type": "code",
   "execution_count": 4,
   "metadata": {},
   "outputs": [
    {
     "data": {
      "text/plain": [
       "['################################',\n",
       " '###########################..###',\n",
       " '##########################...###',\n",
       " '#########################..#####',\n",
       " '####...##################.######',\n",
       " '#####..################...#.####',\n",
       " '#..G...G#########.####G.....####',\n",
       " '#.......########.....G.......###',\n",
       " '#.....G....###G....#....E.....##',\n",
       " '####...##......##.............##',\n",
       " '####G...#.G...###.G...........##',\n",
       " '####G.......................####',\n",
       " '####.........G#####.........####',\n",
       " '####...GG#...#######.......#####',\n",
       " '###.........#########G....######',\n",
       " '###.G.......#########G...#######',\n",
       " '###.G.......#########......#####',\n",
       " '####.....G..#########....E..####',\n",
       " '#####.......#########..E....####',\n",
       " '######...##G.#######........####',\n",
       " '######.#.#.G..#####.....##..####',\n",
       " '########....E...........##..####',\n",
       " '########....E#######........####',\n",
       " '########......######E....##..E.#',\n",
       " '########......#####.....#......#',\n",
       " '########.....######............#',\n",
       " '##################...#.E...E...#',\n",
       " '##################.............#',\n",
       " '###################.......E#####',\n",
       " '####################....#...####',\n",
       " '####################.###########',\n",
       " '################################']"
      ]
     },
     "execution_count": 4,
     "metadata": {},
     "output_type": "execute_result"
    }
   ],
   "source": [
    "data"
   ]
  },
  {
   "cell_type": "code",
   "execution_count": 8,
   "metadata": {},
   "outputs": [],
   "source": [
    "def manhattan_dist(x1, y1, x2, y2):\n",
    "    return abs(x2 - x1) + abs(y2 - y1)"
   ]
  },
  {
   "cell_type": "code",
   "execution_count": 35,
   "metadata": {},
   "outputs": [],
   "source": [
    "def find_nearest_enemy(position, board):\n",
    "    px, py = position\n",
    "    whoami = board[py][px]\n",
    "    rows = len(board)\n",
    "    cols = len(board[0])\n",
    "    min_dist = rows + cols + 1\n",
    "    closest_enemy = (0, 0)\n",
    "    for y in range(rows):\n",
    "        for x in range(cols):\n",
    "            if board[y][x] not in ['#', '.', whoami]:\n",
    "                dist = manhattan_dist(x, y, px, py)\n",
    "                if dist < min_dist:\n",
    "                    min_dist = dist\n",
    "                    closest_enemy = (x, y)\n",
    "    return closest_enemy, min_dist"
   ]
  },
  {
   "cell_type": "code",
   "execution_count": 40,
   "metadata": {},
   "outputs": [],
   "source": [
    "def find_next_position(position, board):\n",
    "    closest_enemy, distance = find_nearest_enemy(position, board)\n",
    "    x, y = position\n",
    "    if distance == 1:\n",
    "        return position\n",
    "    # move right\n",
    "    if (closest_enemy[0] > x) and (board[y][x+1] == '.'):\n",
    "        return (x+1, y)\n",
    "    # move down\n",
    "    if (closest_enemy[1] > y) and (board[y+1][x] == '.'):\n",
    "        return (x, y+1)\n",
    "    # move up\n",
    "    if (closest_enemy[1] < y) and (board[y-1][x] == '.'):\n",
    "        return (x, y-1)\n",
    "    # move left\n",
    "    if (closest_enemy[0] < x) and (board[y][x-1] == '.'):\n",
    "        return (x-1, y)\n",
    "    return position"
   ]
  },
  {
   "cell_type": "code",
   "execution_count": 44,
   "metadata": {},
   "outputs": [],
   "source": [
    "def update_board(position, board):\n",
    "    next_pos = find_next_position(position, board)\n",
    "    if next_pos == position:\n",
    "        return board\n",
    "    old_x, old_y = position\n",
    "    new_x, new_y = next_pos\n",
    "    whoami = board[old_y][old_x]\n",
    "    board[old_y][old_x] = '.'\n",
    "    board[new_y][new_x] = whoami\n",
    "    return board"
   ]
  },
  {
   "cell_type": "code",
   "execution_count": null,
   "metadata": {},
   "outputs": [],
   "source": []
  },
  {
   "cell_type": "code",
   "execution_count": null,
   "metadata": {},
   "outputs": [],
   "source": [
    "players = []\n",
    "for i in range(len(data)):\n",
    "    for j in range(len(data[0])):\n",
    "        if data[i][j] in ['G', 'E']:\n",
    "            players"
   ]
  },
  {
   "cell_type": "code",
   "execution_count": 37,
   "metadata": {},
   "outputs": [
    {
     "name": "stdout",
     "output_type": "stream",
     "text": [
      "G | pos: (3, 6) | ce: (24, 8) | e: E | d: 23\n",
      "G | pos: (7, 6) | ce: (24, 8) | e: E | d: 19\n",
      "G | pos: (22, 6) | ce: (24, 8) | e: E | d: 4\n",
      "G | pos: (21, 7) | ce: (24, 8) | e: E | d: 4\n",
      "G | pos: (6, 8) | ce: (24, 8) | e: E | d: 18\n",
      "G | pos: (14, 8) | ce: (24, 8) | e: E | d: 10\n",
      "E | pos: (24, 8) | ce: (22, 6) | e: G | d: 4\n",
      "G | pos: (4, 10) | ce: (12, 21) | e: E | d: 19\n",
      "G | pos: (10, 10) | ce: (12, 21) | e: E | d: 13\n",
      "G | pos: (18, 10) | ce: (24, 8) | e: E | d: 8\n",
      "G | pos: (4, 11) | ce: (12, 21) | e: E | d: 18\n",
      "G | pos: (13, 12) | ce: (12, 21) | e: E | d: 10\n",
      "G | pos: (7, 13) | ce: (12, 21) | e: E | d: 13\n",
      "G | pos: (8, 13) | ce: (12, 21) | e: E | d: 12\n",
      "G | pos: (21, 14) | ce: (23, 18) | e: E | d: 6\n",
      "G | pos: (4, 15) | ce: (12, 21) | e: E | d: 14\n",
      "G | pos: (21, 15) | ce: (23, 18) | e: E | d: 5\n",
      "G | pos: (4, 16) | ce: (12, 21) | e: E | d: 13\n",
      "G | pos: (9, 17) | ce: (12, 21) | e: E | d: 7\n",
      "E | pos: (25, 17) | ce: (21, 15) | e: G | d: 6\n",
      "E | pos: (23, 18) | ce: (21, 15) | e: G | d: 5\n",
      "G | pos: (11, 19) | ce: (12, 21) | e: E | d: 3\n",
      "G | pos: (11, 20) | ce: (12, 21) | e: E | d: 2\n",
      "E | pos: (12, 21) | ce: (11, 20) | e: G | d: 2\n",
      "E | pos: (12, 22) | ce: (11, 20) | e: G | d: 3\n",
      "E | pos: (20, 23) | ce: (21, 15) | e: G | d: 9\n",
      "E | pos: (29, 23) | ce: (21, 15) | e: G | d: 16\n",
      "E | pos: (23, 26) | ce: (21, 15) | e: G | d: 13\n",
      "E | pos: (27, 26) | ce: (21, 15) | e: G | d: 17\n",
      "E | pos: (26, 28) | ce: (21, 15) | e: G | d: 18\n"
     ]
    }
   ],
   "source": [
    "# def \n",
    "for i in range(len(data)):\n",
    "    for j in range(len(data[0])):\n",
    "        if data[i][j] in ['G', 'E']:\n",
    "            pos = (j, i)\n",
    "            ce, dist = find_nearest_enemy(pos, data)\n",
    "            print(data[i][j], '| pos:', pos, '| ce:', ce, '| e:', data[ce[1]][ce[0]], '| d:', dist)"
   ]
  },
  {
   "cell_type": "code",
   "execution_count": null,
   "metadata": {},
   "outputs": [],
   "source": []
  }
 ],
 "metadata": {
  "kernelspec": {
   "display_name": "Python 3",
   "language": "python",
   "name": "python3"
  },
  "language_info": {
   "codemirror_mode": {
    "name": "ipython",
    "version": 3
   },
   "file_extension": ".py",
   "mimetype": "text/x-python",
   "name": "python",
   "nbconvert_exporter": "python",
   "pygments_lexer": "ipython3",
   "version": "3.7.0"
  }
 },
 "nbformat": 4,
 "nbformat_minor": 2
}
