{
 "cells": [
  {
   "cell_type": "code",
   "execution_count": 1,
   "metadata": {},
   "outputs": [],
   "source": [
    "data = '320851'"
   ]
  },
  {
   "cell_type": "code",
   "execution_count": 2,
   "metadata": {},
   "outputs": [],
   "source": [
    "def create_recipes(scores, num_recipes):\n",
    "    elf_one = 0\n",
    "    elf_two = 1\n",
    "    recipes = [int(r) for r in str(scores)]\n",
    "    while num_recipes > 0:\n",
    "        next_recipe = str(recipes[elf_one] + recipes[elf_two])\n",
    "        recipes += [int(r) for r in next_recipe]\n",
    "        elf_one_steps = recipes[elf_one] + 1\n",
    "        elf_two_steps = recipes[elf_two] + 1\n",
    "        elf_one = (elf_one + elf_one_steps) % len(recipes)\n",
    "        elf_two = (elf_two + elf_two_steps) % len(recipes)\n",
    "        num_recipes -= 1\n",
    "    return ''.join([str(r) for r in recipes])"
   ]
  },
  {
   "cell_type": "code",
   "execution_count": 3,
   "metadata": {},
   "outputs": [],
   "source": [
    "test_cases = [\n",
    "    (9, '5158916779'),\n",
    "    (5, '0124515891'),\n",
    "    (18, '9251071085'),\n",
    "    (2018, '5941429882')\n",
    "]"
   ]
  },
  {
   "cell_type": "code",
   "execution_count": 4,
   "metadata": {},
   "outputs": [],
   "source": [
    "for tc in test_cases:\n",
    "    ans = create_recipes('37', tc[0]+10)\n",
    "    assert tc[1] == ans[tc[0]:tc[0]+10]"
   ]
  },
  {
   "cell_type": "code",
   "execution_count": 5,
   "metadata": {},
   "outputs": [
    {
     "name": "stdout",
     "output_type": "stream",
     "text": [
      "Part One: 7116398711\n",
      "CPU times: user 1.81 s, sys: 41 ms, total: 1.85 s\n",
      "Wall time: 1.97 s\n"
     ]
    }
   ],
   "source": [
    "%%time\n",
    "pt1 = create_recipes('37', int(data)+10)\n",
    "print(\"Part One:\", pt1[int(data):int(data)+10])"
   ]
  },
  {
   "cell_type": "code",
   "execution_count": 23,
   "metadata": {},
   "outputs": [],
   "source": [
    "def find_recipe(scores, recipe):\n",
    "    elf_one = 0\n",
    "    elf_two = 1\n",
    "    while recipe not in scores[-(len(recipe)+1):]:\n",
    "        scores += str(int(scores[elf_one]) + int(scores[elf_two]))\n",
    "        elf_one = (elf_one + int(scores[elf_one]) + 1) % len(scores)\n",
    "        elf_two = (elf_two + int(scores[elf_two]) + 1) % len(scores)\n",
    "    return scores"
   ]
  },
  {
   "cell_type": "code",
   "execution_count": 24,
   "metadata": {},
   "outputs": [],
   "source": [
    "test_cases2 = [\n",
    "    ('51589', 9),\n",
    "    ('01245', 5),\n",
    "    ('92510', 18),\n",
    "    ('59414', 2018)\n",
    "]"
   ]
  },
  {
   "cell_type": "code",
   "execution_count": 25,
   "metadata": {},
   "outputs": [
    {
     "name": "stdout",
     "output_type": "stream",
     "text": [
      "Expected 9 and got 9\n",
      "Expected 5 and got 5\n",
      "Expected 18 and got 18\n",
      "Expected 2018 and got 2018\n",
      "CPU times: user 13 ms, sys: 0 ns, total: 13 ms\n",
      "Wall time: 17.4 ms\n"
     ]
    }
   ],
   "source": [
    "%%time\n",
    "for tc in test_cases2:\n",
    "    ans = find_recipe('37', tc[0])\n",
    "    print('Expected', tc[1], 'and got', ans.index(tc[0]))\n",
    "    assert ans.index(tc[0]) == tc[1]"
   ]
  },
  {
   "cell_type": "code",
   "execution_count": 26,
   "metadata": {},
   "outputs": [
    {
     "name": "stdout",
     "output_type": "stream",
     "text": [
      "CPU times: user 1min 31s, sys: 54 ms, total: 1min 31s\n",
      "Wall time: 1min 32s\n"
     ]
    }
   ],
   "source": [
    "%%time\n",
    "pt2 = find_recipe('37', data)"
   ]
  },
  {
   "cell_type": "code",
   "execution_count": 27,
   "metadata": {},
   "outputs": [
    {
     "name": "stdout",
     "output_type": "stream",
     "text": [
      "Part Two: 20316365\n"
     ]
    }
   ],
   "source": [
    "print(\"Part Two:\", pt2.index(data))"
   ]
  },
  {
   "cell_type": "code",
   "execution_count": null,
   "metadata": {},
   "outputs": [],
   "source": []
  }
 ],
 "metadata": {
  "kernelspec": {
   "display_name": "Python 3",
   "language": "python",
   "name": "python3"
  },
  "language_info": {
   "codemirror_mode": {
    "name": "ipython",
    "version": 3
   },
   "file_extension": ".py",
   "mimetype": "text/x-python",
   "name": "python",
   "nbconvert_exporter": "python",
   "pygments_lexer": "ipython3",
   "version": "3.7.0"
  }
 },
 "nbformat": 4,
 "nbformat_minor": 2
}
