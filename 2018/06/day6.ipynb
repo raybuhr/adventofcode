{
 "cells": [
  {
   "cell_type": "code",
   "execution_count": 207,
   "metadata": {},
   "outputs": [],
   "source": [
    "from collections import defaultdict, Counter\n",
    "from typing import List, Set, Tuple\n",
    "# from scipy.spatial.distance import cityblock as manhattan_dist # this is SLOW AF"
   ]
  },
  {
   "cell_type": "code",
   "execution_count": 2,
   "metadata": {},
   "outputs": [],
   "source": [
    "with open('data.txt') as datafile:\n",
    "    data = datafile.read().split('\\n')"
   ]
  },
  {
   "cell_type": "code",
   "execution_count": 3,
   "metadata": {},
   "outputs": [],
   "source": [
    "test_case = [\n",
    "    '1, 1',\n",
    "    '1, 6',\n",
    "    '8, 3',\n",
    "    '3, 4',\n",
    "    '5, 5',\n",
    "    '8, 9',\n",
    "]"
   ]
  },
  {
   "cell_type": "code",
   "execution_count": 4,
   "metadata": {},
   "outputs": [],
   "source": [
    "def convert_text_to_coordiates(coord_text):\n",
    "    '''\n",
    "    convert list of something like \"1, 1\" to set of (1, 1)\n",
    "    \n",
    "    return: \n",
    "    set of tupule x, y points\n",
    "    max x\n",
    "    max y\n",
    "    '''\n",
    "    coords = set()\n",
    "    max_x, max_y = 0, 0\n",
    "    for text in coord_text:\n",
    "        x, y = map(int, text.split(','))\n",
    "        coords.add((x, y))\n",
    "        if x > max_x: max_x = x\n",
    "        if y > max_y: max_y = y\n",
    "    return {'coordinates': coords, 'max_x': max_x, 'max_y': max_y}"
   ]
  },
  {
   "cell_type": "code",
   "execution_count": 208,
   "metadata": {},
   "outputs": [],
   "source": [
    "def manhattan_dist(p1: Tuple[int, int], p2: Tuple[int, int]) -> int:\n",
    "    x1, y1 = p1\n",
    "    x2, y2 = p2\n",
    "    return abs(x2 - x1) + abs(y2 - y1)"
   ]
  },
  {
   "cell_type": "code",
   "execution_count": 210,
   "metadata": {},
   "outputs": [],
   "source": [
    "def find_closest_points(point: tuple, coordinates: set) -> list :\n",
    "    points = []\n",
    "    min_dist = 99999999\n",
    "    for coord in coordinates:\n",
    "        pt_dist = manhattan_dist(point, coord)\n",
    "        # add tied min distance points\n",
    "        if pt_dist == min_dist:\n",
    "            min_dist = pt_dist\n",
    "            points.append(coord)\n",
    "        # new min distance\n",
    "        if pt_dist < min_dist:\n",
    "            min_dist = pt_dist\n",
    "            points.clear()\n",
    "            points.append(coord)\n",
    "    if len(points) == 1:\n",
    "        point = points[0]\n",
    "        return point\n",
    "    return None"
   ]
  },
  {
   "cell_type": "code",
   "execution_count": 146,
   "metadata": {},
   "outputs": [],
   "source": [
    "def define_edges(max_x: int, max_y: int):\n",
    "    bottom_edge = [(x, 0) for x in range(max_x+1)]\n",
    "    top_edge = [(x, max_y) for x in range(max_x+1)]\n",
    "    left_edge = [(0, y) for y in range(max_y+1)]\n",
    "    right_edge = [(max_x, y) for y in range(max_y+1)]\n",
    "    edges = bottom_edge + top_edge + left_edge + right_edge\n",
    "    return set(edges)"
   ]
  },
  {
   "cell_type": "code",
   "execution_count": 211,
   "metadata": {},
   "outputs": [],
   "source": [
    "def count_areas(coordinates):\n",
    "    coords = coordinates.get('coordinates')\n",
    "    max_x = coordinates.get('max_x')\n",
    "    max_y = coordinates.get('max_y')\n",
    "    area_counts = defaultdict(float)\n",
    "    edges = define_edges(max_x, max_y)\n",
    "    for x in range(max_x+1):\n",
    "        for y in range(max_y+1):\n",
    "            closest_point = (find_closest_points((x, y), coords))\n",
    "            if (x, y) in edges:\n",
    "                area_counts[closest_point] += float('inf')\n",
    "            else:\n",
    "                area_counts[closest_point] += 1\n",
    "    return area_counts"
   ]
  },
  {
   "cell_type": "code",
   "execution_count": 212,
   "metadata": {},
   "outputs": [],
   "source": [
    "def part_one_answer(raw_data):\n",
    "    coords = convert_text_to_coordiates(raw_data)\n",
    "    area_counts = count_areas(coords)\n",
    "    max_area = max([a for a in area_counts.values() if a != float('inf')])\n",
    "    return {'area_counts': area_counts, 'max_area': max_area}"
   ]
  },
  {
   "cell_type": "code",
   "execution_count": 221,
   "metadata": {},
   "outputs": [
    {
     "data": {
      "text/plain": [
       "{'area_counts': defaultdict(float,\n",
       "             {(1, 1): inf,\n",
       "              None: inf,\n",
       "              (1, 6): inf,\n",
       "              (3, 4): 9.0,\n",
       "              (5, 5): 17.0,\n",
       "              (8, 9): inf,\n",
       "              (8, 3): inf}),\n",
       " 'max_area': 17.0}"
      ]
     },
     "execution_count": 221,
     "metadata": {},
     "output_type": "execute_result"
    }
   ],
   "source": [
    "part_one_answer(test_case)"
   ]
  },
  {
   "cell_type": "code",
   "execution_count": 222,
   "metadata": {},
   "outputs": [
    {
     "name": "stdout",
     "output_type": "stream",
     "text": [
      "CPU times: user 5.78 s, sys: 5 ms, total: 5.78 s\n",
      "Wall time: 5.89 s\n"
     ]
    },
    {
     "data": {
      "text/plain": [
       "{'area_counts': defaultdict(float,\n",
       "             {(132, 74): inf,\n",
       "              (99, 112): inf,\n",
       "              (60, 188): inf,\n",
       "              None: inf,\n",
       "              (43, 223): inf,\n",
       "              (40, 321): inf,\n",
       "              (58, 334): inf,\n",
       "              (84, 243): 1788.0,\n",
       "              (85, 305): 1864.0,\n",
       "              (86, 343): inf,\n",
       "              (92, 185): 1436.0,\n",
       "              (97, 254): 424.0,\n",
       "              (109, 228): 1473.0,\n",
       "              (110, 292): 2491.0,\n",
       "              (106, 199): 552.0,\n",
       "              (102, 257): 1439.0,\n",
       "              (134, 144): 1692.0,\n",
       "              (140, 168): 335.0,\n",
       "              (125, 199): 1016.0,\n",
       "              (153, 188): 933.0,\n",
       "              (158, 95): 2395.0,\n",
       "              (176, 307): inf,\n",
       "              (141, 167): 330.0,\n",
       "              (174, 212): 1760.0,\n",
       "              (172, 131): 1501.0,\n",
       "              (201, 50): inf,\n",
       "              (182, 151): 1259.0,\n",
       "              (189, 188): 1356.0,\n",
       "              (183, 205): 242.0,\n",
       "              (219, 266): 2906.0,\n",
       "              (188, 212): 549.0,\n",
       "              (255, 353): inf,\n",
       "              (204, 218): 2252.0,\n",
       "              (227, 133): 1902.0,\n",
       "              (247, 320): 2666.0,\n",
       "              (231, 150): 1338.0,\n",
       "              (255, 73): inf,\n",
       "              (259, 275): 1649.0,\n",
       "              (245, 144): 2092.0,\n",
       "              (292, 229): 1964.0,\n",
       "              (303, 216): 2270.0,\n",
       "              (279, 97): 1334.0,\n",
       "              (285, 124): 997.0,\n",
       "              (285, 136): 2302.0,\n",
       "              (276, 278): 1462.0,\n",
       "              (306, 301): 2762.0,\n",
       "              (318, 95): inf,\n",
       "              (337, 117): inf,\n",
       "              (338, 323): inf,\n",
       "              (334, 203): inf,\n",
       "              (330, 223): inf}),\n",
       " 'max_area': 2906.0}"
      ]
     },
     "execution_count": 222,
     "metadata": {},
     "output_type": "execute_result"
    }
   ],
   "source": [
    "%time part_one_answer(data)"
   ]
  },
  {
   "cell_type": "code",
   "execution_count": 217,
   "metadata": {},
   "outputs": [],
   "source": [
    "def part_two_answer(raw_data, min_dist):\n",
    "    coordinates = convert_text_to_coordiates(raw_data)\n",
    "    coords = coordinates.get('coordinates')\n",
    "    max_x = coordinates.get('max_x')\n",
    "    max_y = coordinates.get('max_y')\n",
    "    keep = set()\n",
    "    for x in range(max_x+1):\n",
    "        for y in range(max_y+1):\n",
    "            point_dist = []\n",
    "            for c in coords:\n",
    "                point_dist.append(manhattan_dist((x, y), c))\n",
    "            if sum(point_dist) < min_dist:\n",
    "                keep.add((x, y))\n",
    "    return len(keep)"
   ]
  },
  {
   "cell_type": "code",
   "execution_count": 218,
   "metadata": {},
   "outputs": [
    {
     "data": {
      "text/plain": [
       "16"
      ]
     },
     "execution_count": 218,
     "metadata": {},
     "output_type": "execute_result"
    }
   ],
   "source": [
    "part_two_answer(test_case, 32)"
   ]
  },
  {
   "cell_type": "code",
   "execution_count": 220,
   "metadata": {},
   "outputs": [
    {
     "name": "stdout",
     "output_type": "stream",
     "text": [
      "CPU times: user 6.28 s, sys: 9 ms, total: 6.29 s\n",
      "Wall time: 6.56 s\n"
     ]
    },
    {
     "data": {
      "text/plain": [
       "50530"
      ]
     },
     "execution_count": 220,
     "metadata": {},
     "output_type": "execute_result"
    }
   ],
   "source": [
    "%time part_two_answer(data, 10000)"
   ]
  }
 ],
 "metadata": {
  "kernelspec": {
   "display_name": "Python 3",
   "language": "python",
   "name": "python3"
  },
  "language_info": {
   "codemirror_mode": {
    "name": "ipython",
    "version": 3
   },
   "file_extension": ".py",
   "mimetype": "text/x-python",
   "name": "python",
   "nbconvert_exporter": "python",
   "pygments_lexer": "ipython3",
   "version": "3.7.0"
  }
 },
 "nbformat": 4,
 "nbformat_minor": 2
}
