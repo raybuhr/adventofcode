{
 "cells": [
  {
   "cell_type": "code",
   "execution_count": 3,
   "metadata": {},
   "outputs": [],
   "source": [
    "data = \"491 players; last marble is worth 71058 points\""
   ]
  },
  {
   "cell_type": "code",
   "execution_count": 4,
   "metadata": {},
   "outputs": [],
   "source": [
    "test_cases = [\n",
    "    \"10 players; last marble is worth 1618 points: high score is 8317\",\n",
    "    \"13 players; last marble is worth 7999 points: high score is 146373\",\n",
    "    \"17 players; last marble is worth 1104 points: high score is 2764\",\n",
    "    \"21 players; last marble is worth 6111 points: high score is 54718\",\n",
    "    \"30 players; last marble is worth 5807 points: high score is 37305\",\n",
    "]"
   ]
  },
  {
   "cell_type": "code",
   "execution_count": 44,
   "metadata": {},
   "outputs": [],
   "source": [
    "from itertools import cycle"
   ]
  },
  {
   "cell_type": "code",
   "execution_count": 47,
   "metadata": {},
   "outputs": [],
   "source": [
    "def play_game(num_players: int, last_marble: int):\n",
    "    \"\"\"\n",
    "    play_game: iterate through placing marbles in a circle and give points to every 23rd play.\n",
    "    num_players: the number of players in the game\n",
    "    last_marble: how many rounds the game will be played\n",
    "    \n",
    "    return:\n",
    "    max_score: int - the highest score achieved\n",
    "    \"\"\"\n",
    "    circle = [0]\n",
    "    current_marble = 0\n",
    "    scores = [0] * num_players\n",
    "    players = cycle(range(num_players))\n",
    "    rounds = range(1, last_marble + 1)\n",
    "    for player, rd in zip(players, rounds):\n",
    "        if rd % 23 == 0:\n",
    "            scores[player] += rd\n",
    "            bonus = (current_marble - 7) % len(circle)\n",
    "            scores[player] += circle[bonus]\n",
    "            circle = circle[:bonus] + circle[bonus+1:]\n",
    "            current_marble = bonus\n",
    "        else:\n",
    "            position = (current_marble + 2) % len(circle)\n",
    "            if position == 0:\n",
    "                position = len(circle)\n",
    "            circle.insert(position, rd)\n",
    "            current_marble = position\n",
    "    return max(scores)"
   ]
  },
  {
   "cell_type": "code",
   "execution_count": 48,
   "metadata": {},
   "outputs": [
    {
     "name": "stdout",
     "output_type": "stream",
     "text": [
      "10 Players and 1618 Rounds. Expected: 8317 and Received: 8317\n",
      "13 Players and 7999 Rounds. Expected: 146373 and Received: 146373\n",
      "17 Players and 1104 Rounds. Expected: 2764 and Received: 2764\n",
      "21 Players and 6111 Rounds. Expected: 54718 and Received: 54718\n",
      "30 Players and 5807 Rounds. Expected: 37305 and Received: 37305\n"
     ]
    }
   ],
   "source": [
    "for test in test_cases:\n",
    "    players, rounds, high_score = [int(s) for s in test.split() if s.isdigit()]\n",
    "    print(players, \"Players and\", rounds, \"Rounds.\", \"Expected:\", high_score,\n",
    "          \"and Received:\", play_game(players, rounds))"
   ]
  },
  {
   "cell_type": "code",
   "execution_count": 50,
   "metadata": {},
   "outputs": [
    {
     "name": "stdout",
     "output_type": "stream",
     "text": [
      "Part One: 361466\n"
     ]
    }
   ],
   "source": [
    "players, rounds = [int(s) for s in data.split() if s.isdigit()]\n",
    "print(\"Part One:\", play_game(players, rounds))"
   ]
  },
  {
   "cell_type": "code",
   "execution_count": 52,
   "metadata": {},
   "outputs": [],
   "source": [
    "# Don't run this, it didn't even finish after 3 hours...\n",
    "# print(\"Part Two:\", play_game(players, 100*rounds))"
   ]
  },
  {
   "cell_type": "code",
   "execution_count": 53,
   "metadata": {},
   "outputs": [],
   "source": [
    "from collections import deque, defaultdict"
   ]
  },
  {
   "cell_type": "code",
   "execution_count": 54,
   "metadata": {},
   "outputs": [],
   "source": [
    "def play_game(max_players, last_marble):\n",
    "    scores = defaultdict(int)\n",
    "    circle = deque([0])\n",
    "\n",
    "    for marble in range(1, last_marble + 1):\n",
    "        if marble % 23 == 0:\n",
    "            # rotate is a convenient way to move the current item to the right (+) or left (-)\n",
    "            # https://docs.python.org/3/library/collections.html#collections.deque.rotate\n",
    "            circle.rotate(7)\n",
    "            # marble % max_players will always return the current player's number - 1\n",
    "            scores[marble % max_players] += marble + circle.pop()\n",
    "            circle.rotate(-1)\n",
    "        else:\n",
    "            circle.rotate(-1)\n",
    "            circle.append(marble)\n",
    "\n",
    "    return max(scores.values()) if scores else 0"
   ]
  },
  {
   "cell_type": "code",
   "execution_count": 56,
   "metadata": {},
   "outputs": [
    {
     "data": {
      "text/plain": [
       "2945918550"
      ]
     },
     "execution_count": 56,
     "metadata": {},
     "output_type": "execute_result"
    }
   ],
   "source": [
    "play_game(players, 100*rounds)"
   ]
  },
  {
   "cell_type": "code",
   "execution_count": null,
   "metadata": {},
   "outputs": [],
   "source": []
  }
 ],
 "metadata": {
  "kernelspec": {
   "display_name": "Python 3",
   "language": "python",
   "name": "python3"
  },
  "language_info": {
   "codemirror_mode": {
    "name": "ipython",
    "version": 3
   },
   "file_extension": ".py",
   "mimetype": "text/x-python",
   "name": "python",
   "nbconvert_exporter": "python",
   "pygments_lexer": "ipython3",
   "version": "3.7.0"
  }
 },
 "nbformat": 4,
 "nbformat_minor": 2
}
