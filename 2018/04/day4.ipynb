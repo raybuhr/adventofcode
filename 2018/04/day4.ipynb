{
 "cells": [
  {
   "cell_type": "code",
   "execution_count": 95,
   "metadata": {},
   "outputs": [],
   "source": [
    "with open('input.txt') as file:\n",
    "    event = sorted(file.read().split('\\n'))"
   ]
  },
  {
   "cell_type": "code",
   "execution_count": 96,
   "metadata": {},
   "outputs": [],
   "source": [
    "from collections import defaultdict, Counter"
   ]
  },
  {
   "cell_type": "code",
   "execution_count": 97,
   "metadata": {},
   "outputs": [],
   "source": [
    "import re"
   ]
  },
  {
   "cell_type": "code",
   "execution_count": 98,
   "metadata": {},
   "outputs": [],
   "source": [
    "guards = defaultdict(Counter)"
   ]
  },
  {
   "cell_type": "code",
   "execution_count": 99,
   "metadata": {},
   "outputs": [],
   "source": [
    "def find_guard(string):\n",
    "    match = re.search(string=string, pattern='Guard #\\d+')\n",
    "    if match is None:\n",
    "        return None\n",
    "    return match.group(0)"
   ]
  },
  {
   "cell_type": "code",
   "execution_count": 100,
   "metadata": {},
   "outputs": [],
   "source": [
    "for e in event:\n",
    "    minute, status = e.split(']')\n",
    "    # parse minute\n",
    "    m = int(minute[-2:])\n",
    "    # set guard the first time seen and leave until change\n",
    "    if \"Guard #\" in status:\n",
    "        guard = find_guard(status)\n",
    "    if 'asleep' in status:\n",
    "        start = m\n",
    "    if 'wakes' in status:\n",
    "        mins_asleep = m - start\n",
    "        guards[guard].update(Counter(start + i for i in range(mins_asleep)))"
   ]
  },
  {
   "cell_type": "code",
   "execution_count": 101,
   "metadata": {},
   "outputs": [],
   "source": [
    "def total_time_asleep(guard):\n",
    "    return sum(guards[guard].values())"
   ]
  },
  {
   "cell_type": "code",
   "execution_count": 102,
   "metadata": {},
   "outputs": [],
   "source": [
    "def guard_id(guard):\n",
    "    return int(guard.split('#')[1])"
   ]
  },
  {
   "cell_type": "code",
   "execution_count": 114,
   "metadata": {},
   "outputs": [],
   "source": [
    "def most_sleepy_minute(guard):\n",
    "    return guards[guard].most_common()[0]"
   ]
  },
  {
   "cell_type": "code",
   "execution_count": 103,
   "metadata": {},
   "outputs": [],
   "source": [
    "current_max = 0\n",
    "sleepy_guard = ''\n",
    "for guard in guards:\n",
    "    time_asleep = total_time_asleep(guard)\n",
    "    if time_asleep > current_max:\n",
    "        current_max = time_asleep\n",
    "        sleepy_guard = guard"
   ]
  },
  {
   "cell_type": "code",
   "execution_count": 115,
   "metadata": {},
   "outputs": [],
   "source": [
    "sleepy_minute = most_sleepy_minute(sleepy_guard)[0]"
   ]
  },
  {
   "cell_type": "code",
   "execution_count": 121,
   "metadata": {},
   "outputs": [
    {
     "name": "stdout",
     "output_type": "stream",
     "text": [
      "Part One: 131469\n"
     ]
    }
   ],
   "source": [
    "print('Part One:', sleepy_minute * guard_id(sleepy_guard))"
   ]
  },
  {
   "cell_type": "code",
   "execution_count": 127,
   "metadata": {},
   "outputs": [],
   "source": [
    "current_max = 0\n",
    "common_napper = ''\n",
    "for guard in guards:\n",
    "    sleepy_min = most_sleepy_minute(guard)\n",
    "    if sleepy_min[1] > current_max:\n",
    "        common_napper = guard\n",
    "        current_max = sleepy_min[1]\n",
    "        max_minute = sleepy_min[0]"
   ]
  },
  {
   "cell_type": "code",
   "execution_count": 129,
   "metadata": {},
   "outputs": [
    {
     "name": "stdout",
     "output_type": "stream",
     "text": [
      "Part Two: 96951\n"
     ]
    }
   ],
   "source": [
    "print('Part Two:', guard_id(common_napper) * max_minute)"
   ]
  },
  {
   "cell_type": "code",
   "execution_count": null,
   "metadata": {},
   "outputs": [],
   "source": []
  }
 ],
 "metadata": {
  "kernelspec": {
   "display_name": "Python 3",
   "language": "python",
   "name": "python3"
  },
  "language_info": {
   "codemirror_mode": {
    "name": "ipython",
    "version": 3
   },
   "file_extension": ".py",
   "mimetype": "text/x-python",
   "name": "python",
   "nbconvert_exporter": "python",
   "pygments_lexer": "ipython3",
   "version": "3.7.0"
  }
 },
 "nbformat": 4,
 "nbformat_minor": 2
}
