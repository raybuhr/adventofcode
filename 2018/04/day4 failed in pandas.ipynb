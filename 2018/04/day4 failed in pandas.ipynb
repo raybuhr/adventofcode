{
 "cells": [
  {
   "cell_type": "code",
   "execution_count": 3,
   "metadata": {},
   "outputs": [],
   "source": [
    "with open('input.txt') as file:\n",
    "    data = [x.strip('\\n') for x in file.readlines()]"
   ]
  },
  {
   "cell_type": "code",
   "execution_count": 4,
   "metadata": {},
   "outputs": [
    {
     "data": {
      "text/plain": [
       "'[1518-11-22 00:00] Guard #1231 begins shift'"
      ]
     },
     "execution_count": 4,
     "metadata": {},
     "output_type": "execute_result"
    }
   ],
   "source": [
    "data[0]"
   ]
  },
  {
   "cell_type": "code",
   "execution_count": 5,
   "metadata": {},
   "outputs": [],
   "source": [
    "import pandas as pd"
   ]
  },
  {
   "cell_type": "code",
   "execution_count": 6,
   "metadata": {},
   "outputs": [],
   "source": [
    "timestamp = [x.split(']')[0].strip('[') for x in data]"
   ]
  },
  {
   "cell_type": "code",
   "execution_count": 10,
   "metadata": {},
   "outputs": [],
   "source": [
    "import re"
   ]
  },
  {
   "cell_type": "code",
   "execution_count": 30,
   "metadata": {},
   "outputs": [],
   "source": [
    "def find_guard(string):\n",
    "    match = re.search(string=string, pattern='Guard #\\d+')\n",
    "    if match is not None:\n",
    "        return match.group(0)\n",
    "    return None"
   ]
  },
  {
   "cell_type": "code",
   "execution_count": 31,
   "metadata": {},
   "outputs": [],
   "source": [
    "guard = [find_guard(x.split(']')[1]) for x in data]"
   ]
  },
  {
   "cell_type": "code",
   "execution_count": 33,
   "metadata": {},
   "outputs": [],
   "source": [
    "def find_status(string):\n",
    "    s = string.split(']')[1]\n",
    "    if 'begins shift' in s:\n",
    "        return 'begins shift'\n",
    "    if 'falls asleep' in s:\n",
    "        return 'falls asleep'\n",
    "    if 'wakes up' in s:\n",
    "        return 'wakes up'\n",
    "    return None"
   ]
  },
  {
   "cell_type": "code",
   "execution_count": 34,
   "metadata": {},
   "outputs": [],
   "source": [
    "status = [find_status(x) for x in data]"
   ]
  },
  {
   "cell_type": "code",
   "execution_count": 193,
   "metadata": {},
   "outputs": [],
   "source": [
    "df = pd.DataFrame({'time': timestamp, 'guard': guard, 'status': status})\n",
    "df['useful_time'] = df['time'].apply(lambda x: '2018-' + x[5:])\n",
    "df['useful_time'] = pd.to_datetime(df['useful_time'])\n",
    "df.sort_values(by='useful_time', ascending=True, inplace=True)\n",
    "df['guard'] = df.guard.fillna(method='ffill')"
   ]
  },
  {
   "cell_type": "code",
   "execution_count": 194,
   "metadata": {},
   "outputs": [],
   "source": [
    "df['time_since_last'] = df['useful_time'].diff().dt.seconds.div(60, fill_value=0)"
   ]
  },
  {
   "cell_type": "code",
   "execution_count": 195,
   "metadata": {},
   "outputs": [],
   "source": [
    "df['time_asleep'] = df.time_since_last * (df.status == 'wakes up')"
   ]
  },
  {
   "cell_type": "code",
   "execution_count": 197,
   "metadata": {},
   "outputs": [
    {
     "data": {
      "text/html": [
       "<div>\n",
       "<style scoped>\n",
       "    .dataframe tbody tr th:only-of-type {\n",
       "        vertical-align: middle;\n",
       "    }\n",
       "\n",
       "    .dataframe tbody tr th {\n",
       "        vertical-align: top;\n",
       "    }\n",
       "\n",
       "    .dataframe thead th {\n",
       "        text-align: right;\n",
       "    }\n",
       "</style>\n",
       "<table border=\"1\" class=\"dataframe\">\n",
       "  <thead>\n",
       "    <tr style=\"text-align: right;\">\n",
       "      <th></th>\n",
       "      <th>time_asleep</th>\n",
       "    </tr>\n",
       "    <tr>\n",
       "      <th>guard</th>\n",
       "      <th></th>\n",
       "    </tr>\n",
       "  </thead>\n",
       "  <tbody>\n",
       "    <tr>\n",
       "      <th>Guard #3371</th>\n",
       "      <td>526.0</td>\n",
       "    </tr>\n",
       "  </tbody>\n",
       "</table>\n",
       "</div>"
      ],
      "text/plain": [
       "             time_asleep\n",
       "guard                   \n",
       "Guard #3371        526.0"
      ]
     },
     "execution_count": 197,
     "metadata": {},
     "output_type": "execute_result"
    }
   ],
   "source": [
    "most_asleep = df.groupby(['guard']).agg({'time_asleep': sum}).sort_values('time_asleep', ascending=False).head(1)\n",
    "most_asleep_guard = most_asleep.iloc[0].name\n",
    "most_asleep"
   ]
  },
  {
   "cell_type": "code",
   "execution_count": 208,
   "metadata": {},
   "outputs": [],
   "source": [
    "df['prev_time'] = df.useful_time.shift()\n",
    "df['prev_status'] = df.status.shift()\n",
    "df['prev_minute'] = df.prev_time.dt.minute"
   ]
  },
  {
   "cell_type": "code",
   "execution_count": 210,
   "metadata": {},
   "outputs": [
    {
     "data": {
      "text/html": [
       "<div>\n",
       "<style scoped>\n",
       "    .dataframe tbody tr th:only-of-type {\n",
       "        vertical-align: middle;\n",
       "    }\n",
       "\n",
       "    .dataframe tbody tr th {\n",
       "        vertical-align: top;\n",
       "    }\n",
       "\n",
       "    .dataframe thead th {\n",
       "        text-align: right;\n",
       "    }\n",
       "</style>\n",
       "<table border=\"1\" class=\"dataframe\">\n",
       "  <thead>\n",
       "    <tr style=\"text-align: right;\">\n",
       "      <th></th>\n",
       "      <th>time</th>\n",
       "      <th>guard</th>\n",
       "      <th>status</th>\n",
       "      <th>useful_time</th>\n",
       "      <th>time_since_last</th>\n",
       "      <th>time_asleep</th>\n",
       "      <th>prev_time</th>\n",
       "      <th>prev_status</th>\n",
       "      <th>prev_minute</th>\n",
       "    </tr>\n",
       "  </thead>\n",
       "  <tbody>\n",
       "    <tr>\n",
       "      <th>1022</th>\n",
       "      <td>1518-02-10 23:47</td>\n",
       "      <td>Guard #1033</td>\n",
       "      <td>begins shift</td>\n",
       "      <td>2018-02-10 23:47:00</td>\n",
       "      <td>0.0</td>\n",
       "      <td>0.0</td>\n",
       "      <td>NaT</td>\n",
       "      <td>NaN</td>\n",
       "      <td>NaN</td>\n",
       "    </tr>\n",
       "    <tr>\n",
       "      <th>335</th>\n",
       "      <td>1518-02-11 00:05</td>\n",
       "      <td>Guard #1033</td>\n",
       "      <td>falls asleep</td>\n",
       "      <td>2018-02-11 00:05:00</td>\n",
       "      <td>18.0</td>\n",
       "      <td>0.0</td>\n",
       "      <td>2018-02-10 23:47:00</td>\n",
       "      <td>begins shift</td>\n",
       "      <td>47.0</td>\n",
       "    </tr>\n",
       "    <tr>\n",
       "      <th>901</th>\n",
       "      <td>1518-02-11 00:28</td>\n",
       "      <td>Guard #1033</td>\n",
       "      <td>wakes up</td>\n",
       "      <td>2018-02-11 00:28:00</td>\n",
       "      <td>23.0</td>\n",
       "      <td>23.0</td>\n",
       "      <td>2018-02-11 00:05:00</td>\n",
       "      <td>falls asleep</td>\n",
       "      <td>5.0</td>\n",
       "    </tr>\n",
       "    <tr>\n",
       "      <th>696</th>\n",
       "      <td>1518-02-11 00:43</td>\n",
       "      <td>Guard #1033</td>\n",
       "      <td>falls asleep</td>\n",
       "      <td>2018-02-11 00:43:00</td>\n",
       "      <td>15.0</td>\n",
       "      <td>0.0</td>\n",
       "      <td>2018-02-11 00:28:00</td>\n",
       "      <td>wakes up</td>\n",
       "      <td>28.0</td>\n",
       "    </tr>\n",
       "    <tr>\n",
       "      <th>918</th>\n",
       "      <td>1518-02-11 00:52</td>\n",
       "      <td>Guard #1033</td>\n",
       "      <td>wakes up</td>\n",
       "      <td>2018-02-11 00:52:00</td>\n",
       "      <td>9.0</td>\n",
       "      <td>9.0</td>\n",
       "      <td>2018-02-11 00:43:00</td>\n",
       "      <td>falls asleep</td>\n",
       "      <td>43.0</td>\n",
       "    </tr>\n",
       "  </tbody>\n",
       "</table>\n",
       "</div>"
      ],
      "text/plain": [
       "                  time        guard        status         useful_time  \\\n",
       "1022  1518-02-10 23:47  Guard #1033  begins shift 2018-02-10 23:47:00   \n",
       "335   1518-02-11 00:05  Guard #1033  falls asleep 2018-02-11 00:05:00   \n",
       "901   1518-02-11 00:28  Guard #1033      wakes up 2018-02-11 00:28:00   \n",
       "696   1518-02-11 00:43  Guard #1033  falls asleep 2018-02-11 00:43:00   \n",
       "918   1518-02-11 00:52  Guard #1033      wakes up 2018-02-11 00:52:00   \n",
       "\n",
       "      time_since_last  time_asleep           prev_time   prev_status  \\\n",
       "1022              0.0          0.0                 NaT           NaN   \n",
       "335              18.0          0.0 2018-02-10 23:47:00  begins shift   \n",
       "901              23.0         23.0 2018-02-11 00:05:00  falls asleep   \n",
       "696              15.0          0.0 2018-02-11 00:28:00      wakes up   \n",
       "918               9.0          9.0 2018-02-11 00:43:00  falls asleep   \n",
       "\n",
       "      prev_minute  \n",
       "1022          NaN  \n",
       "335          47.0  \n",
       "901           5.0  \n",
       "696          28.0  \n",
       "918          43.0  "
      ]
     },
     "execution_count": 210,
     "metadata": {},
     "output_type": "execute_result"
    }
   ],
   "source": [
    "df.head()"
   ]
  },
  {
   "cell_type": "code",
   "execution_count": 211,
   "metadata": {},
   "outputs": [],
   "source": [
    "most_asleep_df = df[(df.status == 'wakes up') & (df.guard == most_asleep.iloc[0,].name)]"
   ]
  },
  {
   "cell_type": "code",
   "execution_count": 212,
   "metadata": {},
   "outputs": [],
   "source": [
    "most_asleep_minutes = most_asleep_df[['prev_minute', 'time_asleep']].reset_index().to_dict('records')"
   ]
  },
  {
   "cell_type": "code",
   "execution_count": 215,
   "metadata": {},
   "outputs": [],
   "source": [
    "def find_minutes_asleep(record):\n",
    "    time_asleep = int(record['time_asleep'])\n",
    "    minute = int(record['prev_minute'])\n",
    "    if time_asleep + minute >= 60:\n",
    "        time_asleep = 60 - minute\n",
    "    return list(range(minute, minute + time_asleep))"
   ]
  },
  {
   "cell_type": "code",
   "execution_count": 219,
   "metadata": {},
   "outputs": [],
   "source": [
    "mins_where_asleep = [find_minutes_asleep(r) for r in most_asleep_minutes]"
   ]
  },
  {
   "cell_type": "code",
   "execution_count": 220,
   "metadata": {},
   "outputs": [],
   "source": [
    "count_mins_where_asleep = {}\n",
    "for mins in mins_where_asleep:\n",
    "    for m in mins:\n",
    "        if count_mins_where_asleep.get(m) is None:\n",
    "            count_mins_where_asleep[m] = 1\n",
    "        else:\n",
    "            count_mins_where_asleep[m] += 1"
   ]
  },
  {
   "cell_type": "code",
   "execution_count": 221,
   "metadata": {},
   "outputs": [
    {
     "name": "stdout",
     "output_type": "stream",
     "text": [
      "Part One: 47194\n"
     ]
    }
   ],
   "source": [
    "print(\"Part One:\", max(count_mins_where_asleep.values()) * int(most_asleep.iloc[0].name[-4:]))"
   ]
  },
  {
   "cell_type": "code",
   "execution_count": 223,
   "metadata": {},
   "outputs": [
    {
     "data": {
      "text/plain": [
       "526"
      ]
     },
     "execution_count": 223,
     "metadata": {},
     "output_type": "execute_result"
    }
   ],
   "source": [
    "sum(count_mins_where_asleep.values())"
   ]
  }
 ],
 "metadata": {
  "kernelspec": {
   "display_name": "Python 3",
   "language": "python",
   "name": "python3"
  },
  "language_info": {
   "codemirror_mode": {
    "name": "ipython",
    "version": 3
   },
   "file_extension": ".py",
   "mimetype": "text/x-python",
   "name": "python",
   "nbconvert_exporter": "python",
   "pygments_lexer": "ipython3",
   "version": "3.7.0"
  }
 },
 "nbformat": 4,
 "nbformat_minor": 2
}
