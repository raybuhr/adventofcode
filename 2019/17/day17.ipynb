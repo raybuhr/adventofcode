{
 "cells": [
  {
   "cell_type": "code",
   "execution_count": 1,
   "metadata": {},
   "outputs": [],
   "source": [
    "import os\n",
    "from aocd import get_data\n",
    "os.environ['AOC_SESSION'] = '53616c7465645f5f2390b1a2a8981260b4addfea3af95b32f034711559bdec07664fba46dcaafbd454968913573814f5'"
   ]
  },
  {
   "cell_type": "code",
   "execution_count": 2,
   "metadata": {},
   "outputs": [],
   "source": [
    "data = get_data(year=2019,day=17)"
   ]
  },
  {
   "cell_type": "code",
   "execution_count": 3,
   "metadata": {},
   "outputs": [],
   "source": [
    "os.chdir(\"..\")\n",
    "os.path.abspath(\".\")\n",
    "\n",
    "from intcode import Intcode"
   ]
  },
  {
   "cell_type": "code",
   "execution_count": 64,
   "metadata": {},
   "outputs": [],
   "source": [
    "ic = Intcode(data, input_queue=[])\n",
    "ic.run()\n",
    "\n",
    "def parse_scaffold(ic):\n",
    "    new_lines = [i for i, v in enumerate(ic.output_queue) if v == 10]\n",
    "    scaffold = []\n",
    "    start = 0\n",
    "    while new_lines:\n",
    "        ix = new_lines.pop(0)\n",
    "        row = [chr(i) for i in ic.output_queue[start:ix]]\n",
    "        scaffold.append(row)\n",
    "        start = ix + 1\n",
    "    return [row for row in scaffold if len(row) > 0]"
   ]
  },
  {
   "cell_type": "code",
   "execution_count": 66,
   "metadata": {},
   "outputs": [],
   "source": [
    "scaffold = parse_scaffold(ic)"
   ]
  },
  {
   "cell_type": "code",
   "execution_count": 7,
   "metadata": {},
   "outputs": [],
   "source": [
    "import matplotlib.pyplot as plt\n",
    "%matplotlib inline"
   ]
  },
  {
   "cell_type": "code",
   "execution_count": 8,
   "metadata": {},
   "outputs": [],
   "source": [
    "plt.rcParams[\"figure.figsize\"] = [12, 9]"
   ]
  },
  {
   "cell_type": "code",
   "execution_count": 67,
   "metadata": {},
   "outputs": [],
   "source": [
    "dot_x, dot_y = [], []\n",
    "hash_x, hash_y = [], []\n",
    "robot_x, robot_y = [], []\n",
    "for y, row in enumerate(scaffold):\n",
    "    for x, col in enumerate(row):\n",
    "        if col == \".\":\n",
    "            dot_x.append(x)\n",
    "            dot_y.append(-1*y)\n",
    "        elif col == \"#\":\n",
    "            hash_x.append(x)\n",
    "            hash_y.append(-1*y)\n",
    "        else:\n",
    "            robot_x.append(x)\n",
    "            robot_y.append(-1*y)"
   ]
  },
  {
   "cell_type": "code",
   "execution_count": 68,
   "metadata": {},
   "outputs": [
    {
     "data": {
      "text/plain": [
       "<matplotlib.collections.PathCollection at 0x1190e69b0>"
      ]
     },
     "execution_count": 68,
     "metadata": {},
     "output_type": "execute_result"
    },
    {
     "data": {
      "image/png": "[encoded data removed]",
      "text/plain": [
       "<Figure size 864x648 with 1 Axes>"
      ]
     },
     "metadata": {
      "needs_background": "light"
     },
     "output_type": "display_data"
    }
   ],
   "source": [
    "plt.scatter(dot_x, dot_y, marker=\".\", color=\"grey\")\n",
    "plt.scatter(hash_x, hash_y, marker=\"s\")\n",
    "plt.scatter(robot_x, robot_y, marker=\"^\")"
   ]
  },
  {
   "cell_type": "code",
   "execution_count": 60,
   "metadata": {},
   "outputs": [],
   "source": [
    "intersections = []\n",
    "hashes = {}\n",
    "for y, row in enumerate(scaffold):\n",
    "    for x, col in enumerate(row):\n",
    "        if col == \"#\":\n",
    "            hashes[(x, y)] = col\n",
    "\n",
    "for x, y in hashes:\n",
    "    if hashes.get((x+1, y)) and hashes.get((x-1, y)) and hashes.get((x, y-1)) and hashes.get((x, y+1)):\n",
    "        intersections.append((x,y))"
   ]
  },
  {
   "cell_type": "code",
   "execution_count": 40,
   "metadata": {},
   "outputs": [
    {
     "data": {
      "text/plain": [
       "[(16, 2),\n",
       " (40, 6),\n",
       " (16, 10),\n",
       " (30, 10),\n",
       " (32, 10),\n",
       " (14, 12),\n",
       " (24, 12),\n",
       " (36, 16),\n",
       " (14, 20),\n",
       " (20, 22)]"
      ]
     },
     "execution_count": 40,
     "metadata": {},
     "output_type": "execute_result"
    }
   ],
   "source": [
    "intersections"
   ]
  },
  {
   "cell_type": "markdown",
   "metadata": {},
   "source": [
    "## Solve Part 1"
   ]
  },
  {
   "cell_type": "code",
   "execution_count": 41,
   "metadata": {},
   "outputs": [
    {
     "data": {
      "text/plain": [
       "2804"
      ]
     },
     "execution_count": 41,
     "metadata": {},
     "output_type": "execute_result"
    }
   ],
   "source": [
    "total = 0\n",
    "for x, y in intersections:\n",
    "    total += x*y\n",
    "total"
   ]
  },
  {
   "cell_type": "markdown",
   "metadata": {},
   "source": [
    "## Part 2"
   ]
  },
  {
   "cell_type": "code",
   "execution_count": 710,
   "metadata": {},
   "outputs": [],
   "source": [
    "ic = Intcode(\"2\" + data[1:], input_queue=[])\n",
    "ic.run()\n",
    "scaffold = parse_scaffold(ic)"
   ]
  },
  {
   "cell_type": "code",
   "execution_count": 279,
   "metadata": {},
   "outputs": [],
   "source": [
    "dot_x, dot_y = [], []\n",
    "hash_x, hash_y = [], []\n",
    "robot_x, robot_y = [], []\n",
    "for y, row in enumerate(scaffold):\n",
    "    for x, col in enumerate(row):\n",
    "        if col == \".\":\n",
    "            dot_x.append(x)\n",
    "            dot_y.append(-1*y)\n",
    "        elif col == \"#\":\n",
    "            hash_x.append(x)\n",
    "            hash_y.append(-1*y)\n",
    "        elif col == \"^\":\n",
    "            robot_x.append(x)\n",
    "            robot_y.append(-1*y)"
   ]
  },
  {
   "cell_type": "code",
   "execution_count": 280,
   "metadata": {},
   "outputs": [
    {
     "data": {
      "text/plain": [
       "<matplotlib.collections.PathCollection at 0x11a031860>"
      ]
     },
     "execution_count": 280,
     "metadata": {},
     "output_type": "execute_result"
    },
    {
     "data": {
      "image/png": "[encoded data removed]",
      "text/plain": [
       "<Figure size 864x648 with 1 Axes>"
      ]
     },
     "metadata": {
      "needs_background": "light"
     },
     "output_type": "display_data"
    }
   ],
   "source": [
    "plt.scatter(dot_x, dot_y, marker=\".\", color=\"grey\")\n",
    "plt.scatter(hash_x, hash_y, marker=\"s\")\n",
    "plt.scatter(robot_x, robot_y, marker=\"^\")"
   ]
  },
  {
   "cell_type": "code",
   "execution_count": 282,
   "metadata": {},
   "outputs": [],
   "source": [
    "def find_next_step(hashes, position, direction):\n",
    "    x, y = position\n",
    "    if direction == \"^\":\n",
    "        if hashes.get((x, y-1)):\n",
    "            return (x, y-1), \"^\"\n",
    "        # check right\n",
    "        elif hashes.get((x+1, y)):\n",
    "            return (x+1, y), \">\"\n",
    "        # check left\n",
    "        elif hashes.get((x-1, y)):\n",
    "            return (x-1, y), \"<\"\n",
    "    if direction == \"v\":\n",
    "        if hashes.get((x, y+1)):\n",
    "            return (x, y+1), \"v\"\n",
    "        # check right\n",
    "        elif hashes.get((x+1, y)):\n",
    "            return (x+1, y), \">\"\n",
    "        # check left\n",
    "        elif hashes.get((x-1, y)):\n",
    "            return (x-1, y), \"<\"\n",
    "    if direction == \">\":\n",
    "        if hashes.get((x+1, y)):\n",
    "            return (x+1, y), \">\"\n",
    "        # check up\n",
    "        elif hashes.get((x, y+1)):\n",
    "            return (x, y+1), \"v\"\n",
    "        # check down\n",
    "        elif hashes.get((x, y-1)):\n",
    "            return (x, y-1), \"^\"\n",
    "    if direction == \"<\":\n",
    "        if hashes.get((x-1, y)):\n",
    "            return (x-1, y), \"<\"\n",
    "        # check up\n",
    "        elif hashes.get((x, y+1)):\n",
    "            return (x, y+1), \"v\"\n",
    "        # check down\n",
    "        elif hashes.get((x, y-1)):\n",
    "            return (x, y-1), \"^\""
   ]
  },
  {
   "cell_type": "code",
   "execution_count": 283,
   "metadata": {},
   "outputs": [],
   "source": [
    "hashes = {}\n",
    "for y, row in enumerate(scaffold):\n",
    "    for x, col in enumerate(row):\n",
    "        if col == \"#\":\n",
    "            hashes[(x, y)] = col"
   ]
  },
  {
   "cell_type": "code",
   "execution_count": 284,
   "metadata": {},
   "outputs": [],
   "source": [
    "trail = []\n",
    "position = (0, 10)\n",
    "direction = \"^\""
   ]
  },
  {
   "cell_type": "code",
   "execution_count": 285,
   "metadata": {},
   "outputs": [],
   "source": [
    "while True:\n",
    "    try:\n",
    "        position, direction = find_next_step(hashes, position, direction)\n",
    "        trail.append((position, direction))\n",
    "    except:\n",
    "        break"
   ]
  },
  {
   "cell_type": "code",
   "execution_count": 660,
   "metadata": {},
   "outputs": [],
   "source": [
    "instructions = []\n",
    "directions = [t[1] for t in trail]"
   ]
  },
  {
   "cell_type": "code",
   "execution_count": 674,
   "metadata": {},
   "outputs": [],
   "source": [
    "direction_changes = [i for i, d in enumerate(directions) if d != directions[i-1]]"
   ]
  },
  {
   "cell_type": "code",
   "execution_count": 681,
   "metadata": {},
   "outputs": [],
   "source": [
    "instructions = []\n",
    "for start, stop in zip(direction_changes, direction_changes[1:] + [len(directions)]):\n",
    "    dirs = directions[start:stop]\n",
    "    d = dirs[0]\n",
    "    c = len(dirs)\n",
    "    instructions.append((d, c))"
   ]
  },
  {
   "cell_type": "code",
   "execution_count": 683,
   "metadata": {},
   "outputs": [],
   "source": [
    "better_instructions = []\n",
    "for i, inst in enumerate(instructions):\n",
    "    d, c = inst\n",
    "    if i == 0:\n",
    "        pd = \"^\"\n",
    "    else:\n",
    "        pd = instructions[i-1][0]\n",
    "    if pd == \"^\" and d == \">\":\n",
    "        turn = \"R\"\n",
    "    elif pd == \"^\" and d == \"<\":\n",
    "        turn = \"L\"\n",
    "    elif pd == \"v\" and d == \"<\":\n",
    "        turn = \"R\"\n",
    "    elif pd == \"v\" and d == \">\":\n",
    "        turn = \"L\"\n",
    "    elif pd == \">\" and d == \"^\":\n",
    "        turn = \"L\"\n",
    "    elif pd == \">\" and d == \"v\":\n",
    "        turn = \"R\"\n",
    "    elif pd == \"<\" and d == \"^\":\n",
    "        turn = \"R\"\n",
    "    elif pd == \"<\" and d == \"v\":\n",
    "        turn = \"L\"\n",
    "    better_instructions.append(f\"{turn}{c}\")"
   ]
  },
  {
   "cell_type": "code",
   "execution_count": 686,
   "metadata": {},
   "outputs": [
    {
     "name": "stdout",
     "output_type": "stream",
     "text": [
      "['R8', 'L10', 'R8', 'R12', 'R8', 'L8', 'L12', 'R8']\n",
      "['L10', 'R8', 'L12', 'L10', 'L8', 'R8', 'L10', 'R8']\n",
      "['R12', 'R8', 'L8', 'L12', 'L12', 'L10', 'L8', 'L12']\n",
      "['L10', 'L8', 'R8', 'L10', 'R8', 'R12', 'R8', 'L8']\n",
      "['L12']\n"
     ]
    }
   ],
   "source": [
    "steps = [b for b in better_instructions]\n",
    "for i in range(0, len(better_instructions), 8):\n",
    "    print(steps[i:i+8])"
   ]
  },
  {
   "cell_type": "code",
   "execution_count": 289,
   "metadata": {},
   "outputs": [
    {
     "name": "stdout",
     "output_type": "stream",
     "text": [
      "........#########............................\n",
      "........#.......#............................\n",
      "........#.#############......................\n",
      "........#.......#.....#......................\n",
      "........#.......#.....#.......###########....\n",
      "........#.......#.....#.......#.........#....\n",
      "........#.......#.....#.......#.#############\n",
      "........#.......#.....#.......#.#.......#...#\n",
      "........#.......#.....#.......#.#.......#...#\n",
      "........#.......#.....#.......#.#.......#...#\n",
      "^########.....#########.#############...#...#\n",
      "..............#.#.......#.....#.#...#...#...#\n",
      "........#########.....#########.#...#...#...#\n",
      "........#.....#.......#.#.......#...#...#...#\n",
      "........#.....#.......#.#.......#...#...#...#\n",
      "........#.....#.......#.#.......#...#...#...#\n",
      "........#.....#.......#.#.......#########...#\n",
      "........#.....#.......#.#...........#.......#\n",
      "........#.....#.......#.###########.#########\n",
      "........#.....#.......#...........#..........\n",
      "........#############.#...........#..........\n",
      "..............#.....#.#...........#..........\n",
      "..............#########...........#..........\n",
      "....................#.............#..........\n",
      "....................#.............#..........\n",
      "....................#.............#..........\n",
      "....................#.............#########..\n",
      "....................#.....................#..\n",
      "....................###########...........#..\n",
      "..............................#...........#..\n",
      "..............................#...........#..\n",
      "..............................#...........#..\n",
      "..............................#...........#..\n",
      "..............................#...........#..\n",
      "..............................#...........#..\n",
      "..............................#...........#..\n",
      "..............................#############..\n",
      "Main:\n"
     ]
    }
   ],
   "source": [
    "for row in scaffold:\n",
    "    print(\"\".join(row))"
   ]
  },
  {
   "cell_type": "code",
   "execution_count": 600,
   "metadata": {},
   "outputs": [],
   "source": [
    "import re\n",
    "\n",
    "def generate_ngrams(s, n):\n",
    "    # Break sentence in the token, remove empty tokens\n",
    "    tokens = [token for token in s.split(\" \") if token != \"\"]\n",
    "    \n",
    "    # Use the zip function to help us generate n-grams\n",
    "    # Concatentate the tokens into ngrams and return\n",
    "    ngrams = zip(*[tokens[i:] for i in range(n)])\n",
    "    return [\" \".join(ngram) for ngram in ngrams]"
   ]
  },
  {
   "cell_type": "code",
   "execution_count": 691,
   "metadata": {},
   "outputs": [],
   "source": [
    "instructions = \" \".join(better_instructions)"
   ]
  },
  {
   "cell_type": "code",
   "execution_count": 695,
   "metadata": {},
   "outputs": [
    {
     "data": {
      "text/plain": [
       "[('R8 L10 R8 R12', 3),\n",
       " ('L10 R8 R12 R8', 3),\n",
       " ('R8 R12 R8 L8', 3),\n",
       " ('R12 R8 L8 L12', 3),\n",
       " ('L12 L10 L8 R8', 2)]"
      ]
     },
     "execution_count": 695,
     "metadata": {},
     "output_type": "execute_result"
    }
   ],
   "source": [
    "Counter(generate_ngrams(instructions, 4)).most_common(5)"
   ]
  },
  {
   "cell_type": "code",
   "execution_count": 705,
   "metadata": {},
   "outputs": [
    {
     "data": {
      "text/plain": [
       "'A,B,A,C,A,B,C,C,A,B\\n'"
      ]
     },
     "execution_count": 705,
     "metadata": {},
     "output_type": "execute_result"
    }
   ],
   "source": [
    "main_prog = (\n",
    "    instructions\n",
    "    .replace(\"R8 L10 R8\", \"A\")\n",
    "    .replace(\"R12 R8 L8 L12\", \"B\")\n",
    "    .replace(\"L12 L10 L8\", \"C\")\n",
    "    .replace(\" \", \",\")\n",
    ") + \"\\n\"\n",
    "main_prog"
   ]
  },
  {
   "cell_type": "code",
   "execution_count": 706,
   "metadata": {},
   "outputs": [],
   "source": [
    "def string_to_ascii_list(string):\n",
    "    return list(map(ord, list(string)))"
   ]
  },
  {
   "cell_type": "code",
   "execution_count": 711,
   "metadata": {},
   "outputs": [],
   "source": [
    "main = string_to_ascii_list(main_prog)"
   ]
  },
  {
   "cell_type": "code",
   "execution_count": 712,
   "metadata": {},
   "outputs": [],
   "source": [
    "ic.input_queue.extend(main)\n",
    "ic.run()"
   ]
  },
  {
   "cell_type": "code",
   "execution_count": 725,
   "metadata": {},
   "outputs": [],
   "source": [
    "A = string_to_ascii_list(\"R,8,L,10,R,8\\n\")\n",
    "B = string_to_ascii_list(\"R,12,R,8,L,8,L,12\\n\")\n",
    "C = string_to_ascii_list(\"L,12,L,10,L,8\\n\")\n",
    "video_feed = string_to_ascii_list(\"n\\n\")"
   ]
  },
  {
   "cell_type": "code",
   "execution_count": 718,
   "metadata": {},
   "outputs": [],
   "source": [
    "ic.input_queue.extend(A)\n",
    "ic.run()"
   ]
  },
  {
   "cell_type": "code",
   "execution_count": 720,
   "metadata": {},
   "outputs": [],
   "source": [
    "ic.input_queue.extend(B)\n",
    "ic.run()"
   ]
  },
  {
   "cell_type": "code",
   "execution_count": 722,
   "metadata": {},
   "outputs": [],
   "source": [
    "ic.input_queue.extend(C)\n",
    "ic.run()"
   ]
  },
  {
   "cell_type": "code",
   "execution_count": 726,
   "metadata": {},
   "outputs": [],
   "source": [
    "ic.input_queue.extend(video_feed)\n",
    "ic.run()"
   ]
  },
  {
   "cell_type": "code",
   "execution_count": 729,
   "metadata": {},
   "outputs": [
    {
     "data": {
      "text/plain": [
       "833429"
      ]
     },
     "execution_count": 729,
     "metadata": {},
     "output_type": "execute_result"
    }
   ],
   "source": [
    "ic.output_queue[-1]"
   ]
  }
 ],
 "metadata": {
  "kernelspec": {
   "display_name": "aoc37",
   "language": "python",
   "name": "aoc37"
  },
  "language_info": {
   "codemirror_mode": {
    "name": "ipython",
    "version": 3
   },
   "file_extension": ".py",
   "mimetype": "text/x-python",
   "name": "python",
   "nbconvert_exporter": "python",
   "pygments_lexer": "ipython3",
   "version": "3.7.3"
  }
 },
 "nbformat": 4,
 "nbformat_minor": 4
}
