{
 "cells": [
  {
   "cell_type": "code",
   "execution_count": 1,
   "metadata": {},
   "outputs": [],
   "source": [
    "import os"
   ]
  },
  {
   "cell_type": "code",
   "execution_count": 2,
   "metadata": {},
   "outputs": [],
   "source": [
    "os.environ['AOC_SESSION'] = '53616c7465645f5f2390b1a2a8981260b4addfea3af95b32f034711559bdec07664fba46dcaafbd454968913573814f5'"
   ]
  },
  {
   "cell_type": "code",
   "execution_count": 3,
   "metadata": {
    "collapsed": false,
    "jupyter": {
     "outputs_hidden": false
    }
   },
   "outputs": [
    {
     "data": {
      "text/plain": [
       "'/Users/rbuhr/projects/adventofcode/2019'"
      ]
     },
     "execution_count": 3,
     "metadata": {},
     "output_type": "execute_result"
    }
   ],
   "source": [
    "os.chdir(\"..\")\n",
    "os.path.abspath(\".\")"
   ]
  },
  {
   "cell_type": "code",
   "execution_count": 4,
   "metadata": {},
   "outputs": [],
   "source": [
    "from aocd import get_data\n",
    "from collections import defaultdict\n",
    "import random"
   ]
  },
  {
   "cell_type": "code",
   "execution_count": 5,
   "metadata": {},
   "outputs": [],
   "source": [
    "import dijkstar"
   ]
  },
  {
   "cell_type": "code",
   "execution_count": 6,
   "metadata": {},
   "outputs": [],
   "source": [
    "import matplotlib.pyplot as plt\n",
    "%matplotlib inline\n",
    "\n",
    "plt.rcParams['figure.figsize'] = [12, 9]"
   ]
  },
  {
   "cell_type": "code",
   "execution_count": 7,
   "metadata": {},
   "outputs": [],
   "source": [
    "from intcode import Intcode"
   ]
  },
  {
   "cell_type": "code",
   "execution_count": 8,
   "metadata": {},
   "outputs": [],
   "source": [
    "data = get_data(year=2019, day=15)"
   ]
  },
  {
   "cell_type": "code",
   "execution_count": 9,
   "metadata": {},
   "outputs": [],
   "source": [
    "NORTH = 1\n",
    "SOUTH = 2\n",
    "WEST = 3 \n",
    "EAST= 4\n",
    "\n",
    "WALL = 0\n",
    "OK = 1\n",
    "STOP = 2"
   ]
  },
  {
   "cell_type": "code",
   "execution_count": 10,
   "metadata": {},
   "outputs": [],
   "source": [
    "def get_next_position(direction, x, y):\n",
    "    if direction == NORTH:\n",
    "        return x, y+1\n",
    "    elif direction == SOUTH:\n",
    "        return x, y-1\n",
    "    elif direction == WEST:\n",
    "        return x-1, y\n",
    "    elif direction == EAST:\n",
    "        return x+1, y"
   ]
  },
  {
   "cell_type": "code",
   "execution_count": 123,
   "metadata": {},
   "outputs": [],
   "source": [
    "def turn_right(direction):\n",
    "    if direction == NORTH:\n",
    "        return EAST\n",
    "    elif direction == SOUTH:\n",
    "        return WEST\n",
    "    elif direction == EAST:\n",
    "        return SOUTH\n",
    "    elif direction == WEST:\n",
    "        return NORTH\n",
    "\n",
    "\n",
    "def turn_around(direction):\n",
    "    return turn_right(turn_right(direction))\n",
    "\n",
    "\n",
    "def turn_left(direction):\n",
    "    return turn_right(turn_around(direction))\n",
    "\n",
    "\n",
    "def turn_random(direction):\n",
    "    while True:\n",
    "        d = random.choice(range(1, 5))\n",
    "        if d != direction:\n",
    "            return d"
   ]
  },
  {
   "cell_type": "code",
   "execution_count": 142,
   "metadata": {},
   "outputs": [],
   "source": [
    "def run(data, limit=float('inf')):\n",
    "    counter = 0\n",
    "    positions = defaultdict(int)\n",
    "    walls = {}\n",
    "    # starting condition\n",
    "    x, y = (0, 0)\n",
    "    test_positions = {}\n",
    "    positions = {(x, y)}\n",
    "    ic = Intcode(data, input_queue=[])\n",
    "    direction = EAST\n",
    "    oxygen = {}\n",
    "    \n",
    "    def test_step(ic, direction):\n",
    "        ic.input_queue.append(direction)\n",
    "        ic.run()\n",
    "        result = ic.output_queue.pop()\n",
    "        # reverse that step if successful\n",
    "        if result != WALL:\n",
    "            ic.input_queue.append(turn_around(direction))\n",
    "            ic.run()\n",
    "        return result\n",
    "    \n",
    "    while counter < limit:\n",
    "        # test each direction for map\n",
    "        for d in [NORTH, EAST, SOUTH, WEST]:\n",
    "            r = test_step(ic, d)\n",
    "            next_pos = get_next_position(d, x, y)\n",
    "            if r == 1:\n",
    "                test_positions[next_pos] = \"-\"\n",
    "            elif r == 2:\n",
    "                test_positions[next_pos] = \"$\"\n",
    "            elif r == 0:\n",
    "                test_positions[next_pos] = \"#\"\n",
    "        \n",
    "        # decide where to go\n",
    "        if test_step(ic, turn_left(direction)):\n",
    "            direction = turn_left(direction)\n",
    "        elif not test_step(ic, direction):\n",
    "            direction = turn_right(direction)\n",
    "        \n",
    "        ic.input_queue.append(direction)\n",
    "        ic.run()\n",
    "        result = ic.output_queue.pop()\n",
    "        if result == 0:\n",
    "            walls[(x, y)] = \"#\"\n",
    "            continue\n",
    "        \n",
    "        x, y = get_next_position(direction, x, y)\n",
    "        positions.add((x, y))\n",
    "        \n",
    "        if result == 2:\n",
    "            oxygen[(x, y)] = \"$\"\n",
    "        if (x, y) == (0, 0):\n",
    "            break\n",
    "        counter += 1\n",
    "    oxygen = [k for k, v in oxygen.items() if v == \"$\"]\n",
    "    return positions, oxygen, ic, x, y, walls, test_positions"
   ]
  },
  {
   "cell_type": "code",
   "execution_count": 171,
   "metadata": {},
   "outputs": [],
   "source": [
    "def display(positions, start=(0, 0), stop=None, walls=None):\n",
    "    ok_x, ok_y = zip(*positions)\n",
    "    ok_x, ok_y = list(ok_x), list(ok_y)\n",
    "    if walls:\n",
    "        wall_x, wall_y = zip(*[k for k, v in walls.items() if v == \"#\"])\n",
    "        wall_x, wall_y = list(wall_x), list(wall_y)\n",
    "    else:\n",
    "        wall_x, wall_y = 0, 0\n",
    "    min_x, max_x = min(ok_x + wall_x), max(ok_x + wall_x)\n",
    "    min_y, max_y = min(ok_y + wall_y), max(ok_y + wall_y)\n",
    "    plt.scatter(ok_x, ok_y, c='orange', marker=\".\")\n",
    "    if walls:\n",
    "        plt.scatter(wall_x, wall_y, c='black', marker=\"s\")\n",
    "    plt.xticks(list(range(min_x, max_x + 1)))\n",
    "    plt.yticks(list(range(min_y, max_y + 1)))\n",
    "    plt.scatter(start[0], start[1], c='blue', marker=\"o\")\n",
    "    if stop:\n",
    "        plt.scatter(stop[0], stop[1], c='blue', marker=\"*\")"
   ]
  },
  {
   "cell_type": "code",
   "execution_count": 205,
   "metadata": {
    "collapsed": false,
    "jupyter": {
     "outputs_hidden": false
    }
   },
   "outputs": [],
   "source": [
    "positions, oxygen, ic, x, y, walls, path  = run(data, 50000)"
   ]
  },
  {
   "cell_type": "code",
   "execution_count": 206,
   "metadata": {},
   "outputs": [
    {
     "data": {
      "text/plain": [
       "[(-12, -18)]"
      ]
     },
     "execution_count": 206,
     "metadata": {},
     "output_type": "execute_result"
    }
   ],
   "source": [
    "oxygen"
   ]
  },
  {
   "cell_type": "code",
   "execution_count": 208,
   "metadata": {},
   "outputs": [
    {
     "data": {
      "text/plain": [
       "799"
      ]
     },
     "execution_count": 208,
     "metadata": {},
     "output_type": "execute_result"
    }
   ],
   "source": [
    "len(positions)"
   ]
  },
  {
   "cell_type": "code",
   "execution_count": 207,
   "metadata": {
    "collapsed": false,
    "jupyter": {
     "outputs_hidden": false
    }
   },
   "outputs": [
    {
     "data": {
      "image/png": "[encoded data removed]",
      "text/plain": [
       "<Figure size 864x648 with 1 Axes>"
      ]
     },
     "metadata": {
      "needs_background": "light"
     },
     "output_type": "display_data"
    }
   ],
   "source": [
    "display(positions, walls=path, stop=oxygen[0])"
   ]
  },
  {
   "cell_type": "code",
   "execution_count": 209,
   "metadata": {},
   "outputs": [],
   "source": [
    "def find_neighbors(point, points):\n",
    "    adj = [(1, 0), (-1, 0), (0, 1), (0, -1)]\n",
    "    neighbors = []\n",
    "    for p in adj:\n",
    "        neighbors.append((point[0]+p[0], point[1]+p[1]))\n",
    "    return {n: 1 for n in neighbors if n in points}"
   ]
  },
  {
   "cell_type": "code",
   "execution_count": 210,
   "metadata": {},
   "outputs": [],
   "source": [
    "graph = dijkstar.Graph()"
   ]
  },
  {
   "cell_type": "code",
   "execution_count": 211,
   "metadata": {},
   "outputs": [
    {
     "data": {
      "text/plain": [
       "True"
      ]
     },
     "execution_count": 211,
     "metadata": {},
     "output_type": "execute_result"
    }
   ],
   "source": [
    "oxygen[0] in positions"
   ]
  },
  {
   "cell_type": "code",
   "execution_count": 212,
   "metadata": {},
   "outputs": [],
   "source": [
    "for p in positions:\n",
    "    graph.add_node(p, neighbors=find_neighbors(p, positions))"
   ]
  },
  {
   "cell_type": "code",
   "execution_count": 213,
   "metadata": {},
   "outputs": [
    {
     "data": {
      "text/plain": [
       "799"
      ]
     },
     "execution_count": 213,
     "metadata": {},
     "output_type": "execute_result"
    }
   ],
   "source": [
    "graph.node_count"
   ]
  },
  {
   "cell_type": "code",
   "execution_count": 214,
   "metadata": {},
   "outputs": [],
   "source": [
    "happy_path = dijkstar.find_path(graph, (0,0), oxygen[0])"
   ]
  },
  {
   "cell_type": "code",
   "execution_count": 219,
   "metadata": {},
   "outputs": [
    {
     "data": {
      "text/plain": [
       "(True, True)"
      ]
     },
     "execution_count": 219,
     "metadata": {},
     "output_type": "execute_result"
    }
   ],
   "source": [
    "oxygen[0] in happy_path.nodes, (0, 0) in happy_path.nodes"
   ]
  },
  {
   "cell_type": "code",
   "execution_count": 218,
   "metadata": {},
   "outputs": [
    {
     "data": {
      "text/plain": [
       "226"
      ]
     },
     "execution_count": 218,
     "metadata": {},
     "output_type": "execute_result"
    }
   ],
   "source": [
    "len(happy_path.nodes) - 1 # ignore starting point"
   ]
  },
  {
   "cell_type": "code",
   "execution_count": 197,
   "metadata": {},
   "outputs": [],
   "source": [
    "# Part 2 is just finding the shortest path to each point from the oxygen systen, then whatever one has the longest path is time it will take"
   ]
  },
  {
   "cell_type": "code",
   "execution_count": 221,
   "metadata": {},
   "outputs": [
    {
     "data": {
      "text/plain": [
       "342"
      ]
     },
     "execution_count": 221,
     "metadata": {},
     "output_type": "execute_result"
    }
   ],
   "source": [
    "max([\n",
    "    len(dijkstar.find_path(graph, pt, oxygen[0]).nodes) - 1\n",
    "    for pt in positions\n",
    "])"
   ]
  },
  {
   "cell_type": "code",
   "execution_count": null,
   "metadata": {},
   "outputs": [],
   "source": []
  }
 ],
 "metadata": {
  "kernelspec": {
   "display_name": "aoc37",
   "language": "python",
   "name": "aoc37"
  },
  "language_info": {
   "codemirror_mode": {
    "name": "ipython",
    "version": 3
   },
   "file_extension": ".py",
   "mimetype": "text/x-python",
   "name": "python",
   "nbconvert_exporter": "python",
   "pygments_lexer": "ipython3",
   "version": "3.7.3"
  }
 },
 "nbformat": 4,
 "nbformat_minor": 4
}
