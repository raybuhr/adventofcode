{
 "cells": [
  {
   "cell_type": "code",
   "execution_count": 1,
   "metadata": {
    "collapsed": true
   },
   "outputs": [],
   "source": [
    "import os"
   ]
  },
  {
   "cell_type": "code",
   "execution_count": 2,
   "metadata": {
    "collapsed": true
   },
   "outputs": [],
   "source": [
    "os.environ['AOC_SESSION'] = '53616c7465645f5f2390b1a2a8981260b4addfea3af95b32f034711559bdec07664fba46dcaafbd454968913573814f5'"
   ]
  },
  {
   "cell_type": "code",
   "execution_count": 4,
   "metadata": {
    "collapsed": false
   },
   "outputs": [
    {
     "data": {
      "text/plain": [
       "'/home/rayb/projects/adventofcode/2019'"
      ]
     },
     "execution_count": 4,
     "metadata": {},
     "output_type": "execute_result"
    }
   ],
   "source": [
    "os.chdir(\"..\")\n",
    "os.path.abspath(\".\")"
   ]
  },
  {
   "cell_type": "code",
   "execution_count": 5,
   "metadata": {
    "collapsed": true
   },
   "outputs": [],
   "source": [
    "from aocd import get_data\n",
    "from collections import defaultdict\n",
    "import random"
   ]
  },
  {
   "cell_type": "code",
   "execution_count": 13,
   "metadata": {
    "collapsed": true
   },
   "outputs": [],
   "source": [
    "import matplotlib.pyplot as plt\n",
    "%matplotlib inline\n",
    "\n",
    "plt.rcParams['figure.figsize'] = [9, 6]"
   ]
  },
  {
   "cell_type": "code",
   "execution_count": 6,
   "metadata": {
    "collapsed": true
   },
   "outputs": [],
   "source": [
    "from intcode import Intcode"
   ]
  },
  {
   "cell_type": "code",
   "execution_count": 7,
   "metadata": {
    "collapsed": true
   },
   "outputs": [],
   "source": [
    "data = get_data(year=2019, day=15)"
   ]
  },
  {
   "cell_type": "code",
   "execution_count": 8,
   "metadata": {
    "collapsed": true
   },
   "outputs": [],
   "source": [
    "NORTH = 1\n",
    "SOUTH = 2\n",
    "WEST = 3 \n",
    "EAST= 4\n",
    "\n",
    "WALL = 0\n",
    "OK = 1\n",
    "STOP = 2"
   ]
  },
  {
   "cell_type": "code",
   "execution_count": 9,
   "metadata": {
    "collapsed": true
   },
   "outputs": [],
   "source": [
    "def get_next_position(direction, x, y):\n",
    "    if direction == NORTH:\n",
    "        return x, y+1\n",
    "    elif direction == SOUTH:\n",
    "        return x, y-1\n",
    "    elif direction == WEST:\n",
    "        return x-1, y\n",
    "    elif direction == EAST:\n",
    "        return x+1, y"
   ]
  },
  {
   "cell_type": "code",
   "execution_count": 10,
   "metadata": {
    "collapsed": true
   },
   "outputs": [],
   "source": [
    "def turn(direction):\n",
    "    if direction == NORTH:\n",
    "        return EAST\n",
    "    elif direction == SOUTH:\n",
    "        return WEST\n",
    "    elif direction == EAST:\n",
    "        return SOUTH\n",
    "    elif direction == WEST:\n",
    "        return NORTH"
   ]
  },
  {
   "cell_type": "code",
   "execution_count": 11,
   "metadata": {
    "collapsed": true
   },
   "outputs": [],
   "source": [
    "def turn_random(direction):\n",
    "    while True:\n",
    "        d = random.choice(range(1, 5))\n",
    "        if d != direction:\n",
    "            return d"
   ]
  },
  {
   "cell_type": "code",
   "execution_count": 75,
   "metadata": {
    "collapsed": true
   },
   "outputs": [],
   "source": [
    "def run(data, limit=float('inf'), debug=False, print_steps=10):\n",
    "    counter = 0\n",
    "    positions = defaultdict(int)\n",
    "    x, y = 0, 0\n",
    "    # starting condition\n",
    "    positions[(x, y)] = '-'\n",
    "    direction = EAST\n",
    "    turns = 0\n",
    "    ic = Intcode(data, input_queue=[])\n",
    "    path = [(x, y)]\n",
    "    while counter < limit:\n",
    "        ic.input_queue.append(direction)\n",
    "        ic.run()\n",
    "        result = ic.output_queue.pop()\n",
    "        if result == OK:\n",
    "            x, y = get_next_position(direction, x, y)\n",
    "            positions[(x,y)] = \"-\"\n",
    "            path.append((x,y))\n",
    "        elif result == WALL:\n",
    "            positions[get_next_position(direction, x, y)] = \"#\"\n",
    "            # check to right\n",
    "            right = turn(direction)\n",
    "            ic.input_queue.append(right)\n",
    "            ic.run()\n",
    "            check_right = ic.output_queue.pop()\n",
    "            if check_right == OK:\n",
    "                direction = right\n",
    "                x, y = get_next_position(direction, x, y)\n",
    "                positions[(x,y)] = \"-\"\n",
    "                path.append((x,y))\n",
    "            elif check_right == WALL:\n",
    "                positions[get_next_position(right, x, y)] = \"#\"\n",
    "                left = turn(turn(turn(direction)))\n",
    "                ic.input_queue.append(left)\n",
    "                ic.run()\n",
    "                check_left = ic.output_queue.pop()\n",
    "                if check_left == OK:\n",
    "                    direction = left\n",
    "                    x, y = get_next_position(direction, x, y)\n",
    "                    positions[(x,y)] = \"-\"\n",
    "                    path.append((x,y))\n",
    "            else: # go back a space and try to turn\n",
    "                direction = turn(turn(direction))\n",
    "                ic.input_queue.append(direction)\n",
    "                ic.run()\n",
    "                # already know this is ok\n",
    "                ic.output_queue.pop()\n",
    "                # check to right\n",
    "                right = turn(direction)\n",
    "                ic.input_queue.append(right)\n",
    "                ic.run()\n",
    "                check_right = ic.output_queue.pop()\n",
    "                if check_right == OK:\n",
    "                    direction = right\n",
    "                    x, y = get_next_position(direction, x, y)\n",
    "                    positions[(x,y)] = \"-\"\n",
    "                    path.append((x,y))\n",
    "                elif check_right == WALL:\n",
    "                    positions[get_next_position(direction, x, y)] = \"#\"\n",
    "                    left = turn(turn(turn(direction)))\n",
    "                    ic.input_queue.append(left)\n",
    "                    ic.run()\n",
    "                    check_left = ic.output_queue.pop()\n",
    "                    if check_left == OK:\n",
    "                        direction = left\n",
    "                        x, y = get_next_position(direction, x, y)\n",
    "                        positions[(x,y)] = \"-\"\n",
    "                        path.append((x,y))\n",
    "        elif result == STOP:\n",
    "            positions[(x,y)] = \"-\"\n",
    "            x, y = get_next_position(direction, x, y)\n",
    "            path.append((x,y))\n",
    "            positions[(x,y)] = \"$\"\n",
    "            print(\"$$$$\")\n",
    "            return positions\n",
    "        counter += 1\n",
    "    return positions, path, ic"
   ]
  },
  {
   "cell_type": "code",
   "execution_count": 76,
   "metadata": {
    "collapsed": true
   },
   "outputs": [],
   "source": [
    "def display(positions):\n",
    "    ok_x, ok_y = zip(*[k for k, v in positions.items() if v == \"-\"])\n",
    "    wall_x, wall_y = zip(*[k for k, v in positions.items() if v == \"#\"])\n",
    "    plt.scatter(ok_x, ok_y, c='red', marker=\".\")\n",
    "    plt.scatter(wall_x, wall_y, c='black', marker=\"s\")"
   ]
  },
  {
   "cell_type": "code",
   "execution_count": 78,
   "metadata": {
    "collapsed": false
   },
   "outputs": [],
   "source": [
    "positions, path, ic  = run(data, 5000)"
   ]
  },
  {
   "cell_type": "code",
   "execution_count": 79,
   "metadata": {
    "collapsed": false
   },
   "outputs": [
    {
     "data": {
      "text/plain": [
       "{}"
      ]
     },
     "execution_count": 79,
     "metadata": {},
     "output_type": "execute_result"
    }
   ],
   "source": [
    "{k: v for k, v in positions.items() if v == \"$\"}"
   ]
  },
  {
   "cell_type": "code",
   "execution_count": 80,
   "metadata": {
    "collapsed": false
   },
   "outputs": [
    {
     "data": {
      "image/png": "[encoded data removed]",
      "text/plain": [
       "<Figure size 648x432 with 1 Axes>"
      ]
     },
     "metadata": {
      "needs_background": "light"
     },
     "output_type": "display_data"
    }
   ],
   "source": [
    "display(positions)"
   ]
  },
  {
   "cell_type": "code",
   "execution_count": 81,
   "metadata": {
    "collapsed": false
   },
   "outputs": [
    {
     "data": {
      "text/plain": [
       "[(0, -18),\n",
       " (0, -17),\n",
       " (0, -16),\n",
       " (0, -15),\n",
       " (0, -14),\n",
       " (1, -14),\n",
       " (2, -14),\n",
       " (3, -14),\n",
       " (4, -14),\n",
       " (4, -15),\n",
       " (4, -16),\n",
       " (3, -16),\n",
       " (2, -16)]"
      ]
     },
     "execution_count": 81,
     "metadata": {},
     "output_type": "execute_result"
    }
   ],
   "source": [
    "path[90:]"
   ]
  },
  {
   "cell_type": "code",
   "execution_count": null,
   "metadata": {
    "collapsed": true
   },
   "outputs": [],
   "source": []
  }
 ],
 "metadata": {
  "kernelspec": {
   "display_name": "aoc37",
   "language": "python",
   "name": "aoc37"
  },
  "language_info": {
   "codemirror_mode": {
    "name": "ipython",
    "version": 3
   },
   "file_extension": ".py",
   "mimetype": "text/x-python",
   "name": "python",
   "nbconvert_exporter": "python",
   "pygments_lexer": "ipython3",
   "version": "3.7.3"
  }
 },
 "nbformat": 4,
 "nbformat_minor": 0
}
