{
 "cells": [
  {
   "cell_type": "markdown",
   "metadata": {},
   "source": [
    "--- Day 10: Knot Hash ---\n",
    "\n",
    "You come across some programs that are trying to implement a software emulation of a hash based on knot-tying. The hash these programs are implementing isn't very strong, but you decide to help them anyway. You make a mental note to remind the Elves later not to invent their own cryptographic functions.\n",
    "\n",
    "This hash function simulates tying a knot in a circle of string with 256 marks on it. Based on the input to be hashed, the function repeatedly selects a span of string, brings the ends together, and gives the span a half-twist to reverse the order of the marks within it. After doing this many times, the order of the marks is used to build the resulting hash.\n",
    "\n",
    "```\n",
    "  4--5   pinch   4  5           4   1\n",
    " /    \\  5,0,1  / \\/ \\  twist  / \\ / \\\n",
    "3      0  -->  3      0  -->  3   X   0\n",
    " \\    /         \\ /\\ /         \\ / \\ /\n",
    "  2--1           2  1           2   5\n",
    "```\n",
    "\n",
    "To achieve this, begin with a list of numbers from 0 to 255, a current position which begins at 0 (the first element in the list), a skip size (which starts at 0), and a sequence of lengths (your puzzle input). Then, for each length:\n",
    "\n",
    "- Reverse the order of that length of elements in the list, starting with the element at the current position.\n",
    "- Move the current position forward by that length plus the skip size.\n",
    "- Increase the skip size by one.\n",
    "\n",
    "The list is circular; if the current position and the length try to reverse elements beyond the end of the list, the operation reverses using as many extra elements as it needs from the front of the list. If the current position moves past the end of the list, it wraps around to the front. Lengths larger than the size of the list are invalid.\n",
    "\n",
    "Here's an example using a smaller list:\n",
    "\n",
    "Suppose we instead only had a circular list containing five elements, 0, 1, 2, 3, 4, and were given input lengths of 3, 4, 1, 5.\n",
    "\n",
    "- The list begins as [0] 1 2 3 4 (where square brackets indicate the current position).\n",
    "- The first length, 3, selects ([0] 1 2) 3 4 (where parentheses indicate the sublist to be reversed).\n",
    "- After reversing that section (0 1 2 into 2 1 0), we get ([2] 1 0) 3 4.\n",
    "- Then, the current position moves forward by the length, 3, plus the skip size, 0: 2 1 0 [3] 4. Finally, the skip size increases to 1.\n",
    "- The second length, 4, selects a section which wraps: 2 1) 0 ([3] 4.\n",
    "- The sublist 3 4 2 1 is reversed to form 1 2 4 3: 4 3) 0 ([1] 2.\n",
    "- The current position moves forward by the length plus the skip size, a total of 5, causing it not to move because it wraps around: 4 3 0 [1] 2. The skip size increases to 2.\n",
    "- The third length, 1, selects a sublist of a single element, and so reversing it has no effect.\n",
    "- The current position moves forward by the length (1) plus the skip size (2): 4 [3] 0 1 2. The skip size increases to 3.\n",
    "- The fourth length, 5, selects every element starting with the second: 4) ([3] 0 1 2. Reversing this sublist (3 0 1 2 4 into 4 2 1 0 3) produces: 3) ([4] 2 1 0.\n",
    "- Finally, the current position moves forward by 8: 3 4 2 1 [0]. The skip size increases to 4.\n",
    "\n",
    "In this example, the first two numbers in the list end up being 3 and 4; to check the process, you can multiply them together to produce 12.\n",
    "\n",
    "However, you should instead use the standard list size of 256 (with values 0 to 255) and the sequence of lengths in your puzzle input. Once this process is complete, what is the result of multiplying the first two numbers in the list?\n",
    "\n"
   ]
  },
  {
   "cell_type": "code",
   "execution_count": 1,
   "metadata": {},
   "outputs": [],
   "source": [
    "import itertools"
   ]
  },
  {
   "cell_type": "code",
   "execution_count": 2,
   "metadata": {},
   "outputs": [],
   "source": [
    "numbers = [x for x in range(256)]"
   ]
  },
  {
   "cell_type": "code",
   "execution_count": 3,
   "metadata": {},
   "outputs": [],
   "source": [
    "day10 = [14,58,0,116,179,16,1,104,2,254,167,86,255,55,122,244]"
   ]
  },
  {
   "cell_type": "code",
   "execution_count": 4,
   "metadata": {},
   "outputs": [],
   "source": [
    "day10_test = [3, 4, 1, 5]"
   ]
  },
  {
   "cell_type": "code",
   "execution_count": 5,
   "metadata": {},
   "outputs": [],
   "source": [
    "day10_circle = [x for x in range(5)]"
   ]
  },
  {
   "cell_type": "code",
   "execution_count": 27,
   "metadata": {},
   "outputs": [],
   "source": [
    "# perform a single knot hash\n",
    "def knot_hash(current_position, length, circle):\n",
    "    if (current_position + length) >= len(circle):\n",
    "        subslice = [x for x in itertools.islice((circle + circle), current_position, current_position + length)]\n",
    "    else:\n",
    "        subslice = [x for x in itertools.islice(circle, current_position, current_position + length)]\n",
    "    subslice.reverse()\n",
    "    return subslice"
   ]
  },
  {
   "cell_type": "code",
   "execution_count": 29,
   "metadata": {},
   "outputs": [
    {
     "name": "stdout",
     "output_type": "stream",
     "text": [
      "[0, 1, 2, 3, 4]\n",
      "[2, 1, 0]\n",
      "[0, 1, 2]\n",
      "[]\n"
     ]
    }
   ],
   "source": [
    "current = 0\n",
    "skip = 0\n",
    "for l in day10_test:\n",
    "    print(day10_circle)\n",
    "    day10_circle = knot_hash(current, l, day10_circle)\n",
    "    current += (l + skip)\n",
    "    skip += 1"
   ]
  },
  {
   "cell_type": "code",
   "execution_count": null,
   "metadata": {},
   "outputs": [],
   "source": []
  }
 ],
 "metadata": {
  "kernelspec": {
   "display_name": "Python 3",
   "language": "python",
   "name": "python3"
  },
  "language_info": {
   "codemirror_mode": {
    "name": "ipython",
    "version": 3
   },
   "file_extension": ".py",
   "mimetype": "text/x-python",
   "name": "python",
   "nbconvert_exporter": "python",
   "pygments_lexer": "ipython3",
   "version": "3.6.3"
  }
 },
 "nbformat": 4,
 "nbformat_minor": 2
}
