{
 "cells": [
  {
   "cell_type": "markdown",
   "metadata": {},
   "source": [
    "--- Day 1: No Time for a Taxicab ---\n",
    "\n",
    "Santa's sleigh uses a very high-precision clock to guide its movements, and the clock's oscillator is regulated by stars. Unfortunately, the stars have been stolen... by the Easter Bunny. To save Christmas, Santa needs you to retrieve all fifty stars by December 25th.\n",
    "\n",
    "Collect stars by solving puzzles. Two puzzles will be made available on each day in the advent calendar; the second puzzle is unlocked when you complete the first. Each puzzle grants one star. Good luck!\n",
    "\n",
    "You're airdropped near Easter Bunny Headquarters in a city somewhere. \"Near\", unfortunately, is as close as you can get - the instructions on the Easter Bunny Recruiting Document the Elves intercepted start here, and nobody had time to work them out further.\n",
    "\n",
    "The Document indicates that you should start at the given coordinates (where you just landed) and face North. Then, follow the provided sequence: either turn left (L) or right (R) 90 degrees, then walk forward the given number of blocks, ending at a new intersection.\n",
    "\n",
    "There's no time to follow such ridiculous instructions on foot, though, so you take a moment and work out the destination. Given that you can only walk on the street grid of the city, how far is the shortest path to the destination?\n",
    "\n",
    "For example:\n",
    "```\n",
    "Following R2, L3 leaves you 2 blocks East and 3 blocks North, or 5 blocks away.\n",
    "R2, R2, R2 leaves you 2 blocks due South of your starting position, which is 2 blocks away.\n",
    "R5, L5, R5, R3 leaves you 12 blocks away.\n",
    "```\n",
    "How many blocks away is Easter Bunny HQ?"
   ]
  },
  {
   "cell_type": "code",
   "execution_count": 1,
   "metadata": {},
   "outputs": [],
   "source": [
    "with open('input.txt') as f:\n",
    "    instructions = f.read().strip(\"\\n\")"
   ]
  },
  {
   "cell_type": "code",
   "execution_count": 4,
   "metadata": {},
   "outputs": [],
   "source": [
    "steps = instructions.split(\", \")"
   ]
  },
  {
   "cell_type": "code",
   "execution_count": 5,
   "metadata": {},
   "outputs": [],
   "source": [
    "def turn(step, current_direction):\n",
    "    step_direction = step[0]\n",
    "    if current_direction == \"N\":\n",
    "        if step_direction == \"L\":\n",
    "            new_direction = \"W\"\n",
    "        elif step_direction == \"R\":\n",
    "            new_direction = \"E\"\n",
    "    elif current_direction == \"S\":\n",
    "        if step_direction == \"L\":\n",
    "            new_direction = \"E\"\n",
    "        elif step_direction == \"R\":\n",
    "             new_direction = \"W\"\n",
    "    elif current_direction == \"E\":\n",
    "        if step_direction == \"L\":\n",
    "            new_direction = \"N\"\n",
    "        elif step_direction == \"R\":\n",
    "            new_direction = \"S\"\n",
    "    elif current_direction == \"W\":\n",
    "        if step_direction == \"L\":\n",
    "            new_direction = \"S\"\n",
    "        elif step_direction == \"R\":\n",
    "            new_direction = \"N\"\n",
    "    return new_direction"
   ]
  },
  {
   "cell_type": "code",
   "execution_count": 6,
   "metadata": {},
   "outputs": [],
   "source": [
    "def move(step, current_direction):\n",
    "    dist = int(step[1:])\n",
    "    new_direction = turn(step, current_direction)\n",
    "    if new_direction == \"W\":\n",
    "        coord = (-dist, 0)\n",
    "    if new_direction == \"S\":\n",
    "        coord = (0, -dist)\n",
    "    if new_direction == \"E\":\n",
    "        coord = (dist, 0)\n",
    "    if new_direction == \"N\":\n",
    "        coord = (0, dist)\n",
    "    return coord"
   ]
  },
  {
   "cell_type": "code",
   "execution_count": 10,
   "metadata": {},
   "outputs": [],
   "source": [
    "def add_coords(coord1, coord2):\n",
    "    coord = (coord1[0]+coord2[0], coord1[1]+coord2[1])\n",
    "    return coord"
   ]
  },
  {
   "cell_type": "code",
   "execution_count": 17,
   "metadata": {},
   "outputs": [],
   "source": [
    "current = \"N\"\n",
    "coord = (0, 0)"
   ]
  },
  {
   "cell_type": "code",
   "execution_count": 18,
   "metadata": {},
   "outputs": [
    {
     "name": "stdout",
     "output_type": "stream",
     "text": [
      "(107, 146)\n"
     ]
    }
   ],
   "source": [
    "for step in steps:\n",
    "    change = move(step, current)\n",
    "    current = turn(step, current)\n",
    "    coord = add_coords(coord, change)\n",
    "\n",
    "print(coord)"
   ]
  },
  {
   "cell_type": "code",
   "execution_count": 19,
   "metadata": {},
   "outputs": [
    {
     "data": {
      "text/plain": [
       "253"
      ]
     },
     "execution_count": 19,
     "metadata": {},
     "output_type": "execute_result"
    }
   ],
   "source": [
    "107+146"
   ]
  },
  {
   "cell_type": "markdown",
   "metadata": {},
   "source": [
    "The first half of this puzzle is complete! It provides one gold star: *"
   ]
  },
  {
   "cell_type": "markdown",
   "metadata": {},
   "source": [
    "--- Part Two ---\n",
    "\n",
    "Then, you notice the instructions continue on the back of the Recruiting Document. Easter Bunny HQ is actually at the first location you visit twice.\n",
    "\n",
    "For example, if your instructions are `R8, R4, R4, R8`, the first location you visit twice is 4 blocks away, due East.\n",
    "\n",
    "How many blocks away is the first location you visit twice?"
   ]
  },
  {
   "cell_type": "code",
   "execution_count": 20,
   "metadata": {},
   "outputs": [],
   "source": [
    "coords_visited = []"
   ]
  },
  {
   "cell_type": "code",
   "execution_count": 21,
   "metadata": {},
   "outputs": [],
   "source": [
    "current = \"N\"\n",
    "coord = (0, 0)\n",
    "coords_visited.append(coord)\n",
    "for step in steps:\n",
    "    change = move(step, current)\n",
    "    current = turn(step, current)\n",
    "    coord = add_coords(coord, change)\n",
    "    coords_visited.append(coord)"
   ]
  },
  {
   "cell_type": "code",
   "execution_count": 23,
   "metadata": {},
   "outputs": [
    {
     "data": {
      "text/plain": [
       "[(0, 0), (-1, 0), (-1, -5)]"
      ]
     },
     "execution_count": 23,
     "metadata": {},
     "output_type": "execute_result"
    }
   ],
   "source": [
    "coords_visited[0:3]"
   ]
  },
  {
   "cell_type": "code",
   "execution_count": 35,
   "metadata": {},
   "outputs": [],
   "source": [
    "def find_coords_between(coord1, coord2):\n",
    "    visited = []\n",
    "    if coord1[0] == coord2[0]:\n",
    "        if coord2[1] < 0:\n",
    "            dist = range(coord1[1], coord2[1], -1)\n",
    "        elif coord2[1] >= 0:\n",
    "            dist = range(coord1[1], coord2[1])\n",
    "        for i in dist:\n",
    "            new_coord = (coord1[0], i)\n",
    "            if new_coord not in visited:\n",
    "                visited.append(new_coord)\n",
    "    if coord1[1] == coord2[1]:\n",
    "        if coord1[0] < 0:\n",
    "            dist = range(coord1[0], coord2[0], -1)\n",
    "        elif coord1[0] >= 0:\n",
    "            dist = range(coord1[0], coord2[0])\n",
    "        for i in dist:\n",
    "            new_coord = (i, coord1[1])\n",
    "            if new_coord not in visited:\n",
    "                visited.append(new_coord)\n",
    "    return visited"
   ]
  },
  {
   "cell_type": "code",
   "execution_count": 36,
   "metadata": {},
   "outputs": [
    {
     "data": {
      "text/plain": [
       "[]"
      ]
     },
     "execution_count": 36,
     "metadata": {},
     "output_type": "execute_result"
    }
   ],
   "source": [
    "find_coords_between(coords_visited[0], coords_visited[1])"
   ]
  },
  {
   "cell_type": "code",
   "execution_count": 38,
   "metadata": {},
   "outputs": [
    {
     "name": "stdout",
     "output_type": "stream",
     "text": [
      "(123, 3)\n",
      "(109, 127)\n",
      "(115, 136)\n",
      "(105, 145)\n",
      "(107, 141)\n"
     ]
    },
    {
     "ename": "IndexError",
     "evalue": "list index out of range",
     "output_type": "error",
     "traceback": [
      "\u001b[0;31m---------------------------------------------------------------------------\u001b[0m",
      "\u001b[0;31mIndexError\u001b[0m                                Traceback (most recent call last)",
      "\u001b[0;32m<ipython-input-38-4dfc1daca106>\u001b[0m in \u001b[0;36m<module>\u001b[0;34m()\u001b[0m\n\u001b[1;32m      2\u001b[0m \u001b[0;32mfor\u001b[0m \u001b[0mi\u001b[0m \u001b[0;32min\u001b[0m \u001b[0mrange\u001b[0m\u001b[0;34m(\u001b[0m\u001b[0mlen\u001b[0m\u001b[0;34m(\u001b[0m\u001b[0mcoords_visited\u001b[0m\u001b[0;34m)\u001b[0m\u001b[0;34m)\u001b[0m\u001b[0;34m:\u001b[0m\u001b[0;34m\u001b[0m\u001b[0m\n\u001b[1;32m      3\u001b[0m \u001b[0;31m#     print(\"All:\\n\", all_coords)\u001b[0m\u001b[0;34m\u001b[0m\u001b[0;34m\u001b[0m\u001b[0m\n\u001b[0;32m----> 4\u001b[0;31m     \u001b[0mnew_visits\u001b[0m \u001b[0;34m=\u001b[0m \u001b[0mfind_coords_between\u001b[0m\u001b[0;34m(\u001b[0m\u001b[0mcoords_visited\u001b[0m\u001b[0;34m[\u001b[0m\u001b[0mi\u001b[0m\u001b[0;34m]\u001b[0m\u001b[0;34m,\u001b[0m \u001b[0mcoords_visited\u001b[0m\u001b[0;34m[\u001b[0m\u001b[0mi\u001b[0m\u001b[0;34m+\u001b[0m\u001b[0;36m1\u001b[0m\u001b[0;34m]\u001b[0m\u001b[0;34m)\u001b[0m\u001b[0;34m\u001b[0m\u001b[0m\n\u001b[0m\u001b[1;32m      5\u001b[0m \u001b[0;31m#     print(\"New:\\n\", new_visits)\u001b[0m\u001b[0;34m\u001b[0m\u001b[0;34m\u001b[0m\u001b[0m\n\u001b[1;32m      6\u001b[0m     \u001b[0;32mfor\u001b[0m \u001b[0mv\u001b[0m \u001b[0;32min\u001b[0m \u001b[0mnew_visits\u001b[0m\u001b[0;34m:\u001b[0m\u001b[0;34m\u001b[0m\u001b[0m\n",
      "\u001b[0;31mIndexError\u001b[0m: list index out of range"
     ]
    }
   ],
   "source": [
    "all_coords = []\n",
    "for i in range(len(coords_visited)):\n",
    "#     print(\"All:\\n\", all_coords)\n",
    "    new_visits = find_coords_between(coords_visited[i], coords_visited[i+1])\n",
    "#     print(\"New:\\n\", new_visits)\n",
    "    for v in new_visits:\n",
    "        if v in all_coords:\n",
    "            print(v)\n",
    "            break\n",
    "        elif v not in all_coords:\n",
    "            all_coords.append(v)"
   ]
  },
  {
   "cell_type": "code",
   "execution_count": 39,
   "metadata": {},
   "outputs": [
    {
     "data": {
      "text/plain": [
       "126"
      ]
     },
     "execution_count": 39,
     "metadata": {},
     "output_type": "execute_result"
    }
   ],
   "source": [
    "123 + 3"
   ]
  },
  {
   "cell_type": "markdown",
   "metadata": {},
   "source": [
    "That's the right answer! You are one gold star closer to fixing the sleigh.\n",
    "\n",
    "You have completed Day 1!"
   ]
  },
  {
   "cell_type": "code",
   "execution_count": null,
   "metadata": {},
   "outputs": [],
   "source": []
  }
 ],
 "metadata": {
  "kernelspec": {
   "display_name": "Python 3",
   "language": "python",
   "name": "python3"
  },
  "language_info": {
   "codemirror_mode": {
    "name": "ipython",
    "version": 3
   },
   "file_extension": ".py",
   "mimetype": "text/x-python",
   "name": "python",
   "nbconvert_exporter": "python",
   "pygments_lexer": "ipython3",
   "version": "3.6.2"
  }
 },
 "nbformat": 4,
 "nbformat_minor": 2
}
